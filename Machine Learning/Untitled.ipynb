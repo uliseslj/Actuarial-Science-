{
 "cells": [
  {
   "cell_type": "code",
   "execution_count": 154,
   "id": "249760fb",
   "metadata": {},
   "outputs": [],
   "source": [
    "import pandas as pd\n",
    "import pandas_alive\n",
    "import bar_chart_race as bcr\n",
    "import matplotlib.pyplot as plt\n",
    "from IPython.display import Video\n",
    "%matplotlib inline\n",
    "import seaborn as sns\n",
    "\n",
    "plt.style.use(\"seaborn-white\") #seaborn-dark "
   ]
  },
  {
   "cell_type": "code",
   "execution_count": 140,
   "id": "e55f1c43",
   "metadata": {},
   "outputs": [],
   "source": [
    "df = pd.read_csv('Dataset\\population.csv')\n",
    "df.index = df.Time\n",
    "df.set_index('Time', inplace = True)\n",
    "df.index = pd.to_datetime(df.index, format = '%Y')\n",
    "obj = df.select_dtypes(include = ['object']).columns.to_list()\n",
    "df.drop(obj, inplace = True, axis = 1)"
   ]
  },
  {
   "cell_type": "code",
   "execution_count": 141,
   "id": "7961f064",
   "metadata": {},
   "outputs": [],
   "source": [
    "covid_df = pandas_alive.load_dataset()"
   ]
  },
  {
   "cell_type": "code",
   "execution_count": null,
   "id": "4283e0e2",
   "metadata": {},
   "outputs": [],
   "source": [
    "dpi = 144\n",
    "figsize = (5, 3)\n",
    "fontsize = \"small\"\n",
    "\n",
    "\n",
    "fig = plt.Figure()\n",
    "fig.set_tight_layout(True)\n",
    "ax = fig.add_subplot()\n",
    "fig.set_size_inches(figsize)\n",
    "ax.set_title(\"World Population\", fontsize=14)\n",
    "ax.set_xlabel(\"Country\", color='dimgray', fontsize=10)\n",
    "ax.set_ylabel(\"Date\", color='dimgray', fontsize=10, labelpad = 30)\n",
    "ax.tick_params(colors='#525252', labelsize = 10)\n",
    "\n",
    "\n",
    "covid_df.plot_animated(filename='example-barh-chart.mp4', n_visible = 5, fig = fig, dpi = dpi,\n",
    "                      enable_progress_bar=True,tick_label_size = 7, bar_label_size = 7)\n",
    "\n",
    "\n",
    "\n",
    "plt.close()\n",
    "\n",
    "Video('example-barh-chart.mp4', html_attributes=\"controls muted autoplay\")"
   ]
  },
  {
   "cell_type": "code",
   "execution_count": null,
   "id": "f8d9c394",
   "metadata": {},
   "outputs": [],
   "source": [
    "Video('./pend-race.mp4', html_attributes=\"controls muted autoplay\")"
   ]
  },
  {
   "cell_type": "code",
   "execution_count": 25,
   "id": "cd8030b0",
   "metadata": {},
   "outputs": [],
   "source": [
    "def millions(x, pos):\n",
    "    'The two args are the value and tick position'\n",
    "    return f'{x * 1e-6:,} M'\n",
    "\n",
    "formatter = FuncFormatter(millions)"
   ]
  },
  {
   "cell_type": "code",
   "execution_count": 166,
   "id": "6242702c",
   "metadata": {
    "scrolled": true
   },
   "outputs": [
    {
     "name": "stdout",
     "output_type": "stream",
     "text": [
      "Generating BarChartRace, plotting ['Afghanistan [AFG]', 'Albania [ALB]', 'Algeria [DZA]', 'American Samoa [ASM]', 'Andorra [AND]', 'Angola [AGO]', 'Antigua and Barbuda [ATG]', 'Argentina [ARG]', 'Armenia [ARM]', 'Aruba [ABW]', 'Australia [AUS]', 'Austria [AUT]', 'Azerbaijan [AZE]', 'Bahamas, The [BHS]', 'Bahrain [BHR]', 'Bangladesh [BGD]', 'Barbados [BRB]', 'Belarus [BLR]', 'Belgium [BEL]', 'Belize [BLZ]', 'Benin [BEN]', 'Bermuda [BMU]', 'Bhutan [BTN]', 'Bolivia [BOL]', 'Bosnia and Herzegovina [BIH]', 'Botswana [BWA]', 'Brazil [BRA]', 'British Virgin Islands [VGB]', 'Brunei Darussalam [BRN]', 'Bulgaria [BGR]', 'Burkina Faso [BFA]', 'Burundi [BDI]', 'Cabo Verde [CPV]', 'Cambodia [KHM]', 'Cameroon [CMR]', 'Canada [CAN]', 'Cayman Islands [CYM]', 'Central African Republic [CAF]', 'Chad [TCD]', 'Channel Islands [CHI]', 'Chile [CHL]', 'China [CHN]', 'Colombia [COL]', 'Comoros [COM]', 'Congo, Dem. Rep. [COD]', 'Congo, Rep. [COG]', 'Costa Rica [CRI]', \"Cote d'Ivoire [CIV]\", 'Croatia [HRV]', 'Cuba [CUB]', 'Curacao [CUW]', 'Cyprus [CYP]', 'Czech Republic [CZE]', 'Denmark [DNK]', 'Djibouti [DJI]', 'Dominica [DMA]', 'Dominican Republic [DOM]', 'Ecuador [ECU]', 'Egypt, Arab Rep. [EGY]', 'El Salvador [SLV]', 'Equatorial Guinea [GNQ]', 'Estonia [EST]', 'Eswatini [SWZ]', 'Ethiopia [ETH]', 'Faroe Islands [FRO]', 'Fiji [FJI]', 'Finland [FIN]', 'France [FRA]', 'French Polynesia [PYF]', 'Gabon [GAB]', 'Gambia, The [GMB]', 'Georgia [GEO]', 'Germany [DEU]', 'Ghana [GHA]', 'Gibraltar [GIB]', 'Greece [GRC]', 'Greenland [GRL]', 'Grenada [GRD]', 'Guam [GUM]', 'Guatemala [GTM]', 'Guinea [GIN]', 'Guinea-Bissau [GNB]', 'Guyana [GUY]', 'Haiti [HTI]', 'Honduras [HND]', 'Hong Kong SAR, China [HKG]', 'Hungary [HUN]', 'Iceland [ISL]', 'India [IND]', 'Indonesia [IDN]', 'Iran, Islamic Rep. [IRN]', 'Iraq [IRQ]', 'Ireland [IRL]', 'Isle of Man [IMN]', 'Israel [ISR]', 'Italy [ITA]', 'Jamaica [JAM]', 'Japan [JPN]', 'Jordan [JOR]', 'Kazakhstan [KAZ]', 'Kenya [KEN]', 'Kiribati [KIR]', \"Korea, Dem. People's Rep. [PRK]\", 'Korea, Rep. [KOR]', 'Kosovo [XKX]', 'Kyrgyz Republic [KGZ]', 'Lao PDR [LAO]', 'Latvia [LVA]', 'Lebanon [LBN]', 'Lesotho [LSO]', 'Liberia [LBR]', 'Libya [LBY]', 'Liechtenstein [LIE]', 'Lithuania [LTU]', 'Luxembourg [LUX]', 'Macao SAR, China [MAC]', 'Madagascar [MDG]', 'Malawi [MWI]', 'Malaysia [MYS]', 'Maldives [MDV]', 'Mali [MLI]', 'Malta [MLT]', 'Marshall Islands [MHL]', 'Mauritania [MRT]', 'Mauritius [MUS]', 'Mexico [MEX]', 'Micronesia, Fed. Sts. [FSM]', 'Moldova [MDA]', 'Monaco [MCO]', 'Mongolia [MNG]', 'Montenegro [MNE]', 'Morocco [MAR]', 'Mozambique [MOZ]', 'Myanmar [MMR]', 'Namibia [NAM]', 'Nauru [NRU]', 'Nepal [NPL]', 'Netherlands [NLD]', 'New Caledonia [NCL]', 'New Zealand [NZL]', 'Nicaragua [NIC]', 'Niger [NER]', 'Nigeria [NGA]', 'North Macedonia [MKD]', 'Northern Mariana Islands [MNP]', 'Norway [NOR]', 'Oman [OMN]', 'Pakistan [PAK]', 'Palau [PLW]', 'Panama [PAN]', 'Papua New Guinea [PNG]', 'Paraguay [PRY]', 'Peru [PER]', 'Philippines [PHL]', 'Poland [POL]', 'Portugal [PRT]', 'Puerto Rico [PRI]', 'Qatar [QAT]', 'Romania [ROU]', 'Russian Federation [RUS]', 'Rwanda [RWA]', 'Samoa [WSM]', 'San Marino [SMR]', 'Sao Tome and Principe [STP]', 'Saudi Arabia [SAU]', 'Senegal [SEN]', 'Serbia [SRB]', 'Seychelles [SYC]', 'Sierra Leone [SLE]', 'Singapore [SGP]', 'Sint Maarten (Dutch part) [SXM]', 'Slovak Republic [SVK]', 'Slovenia [SVN]', 'Solomon Islands [SLB]', 'Somalia [SOM]', 'South Africa [ZAF]', 'South Sudan [SSD]', 'Spain [ESP]', 'Sri Lanka [LKA]', 'St. Kitts and Nevis [KNA]', 'St. Lucia [LCA]', 'St. Martin (French part) [MAF]', 'St. Vincent and the Grenadines [VCT]', 'Sudan [SDN]', 'Suriname [SUR]', 'Sweden [SWE]', 'Switzerland [CHE]', 'Syrian Arab Republic [SYR]', 'Tajikistan [TJK]', 'Tanzania [TZA]', 'Thailand [THA]', 'Timor-Leste [TLS]', 'Togo [TGO]', 'Tonga [TON]', 'Trinidad and Tobago [TTO]', 'Tunisia [TUN]', 'Turkey [TUR]', 'Turkmenistan [TKM]', 'Turks and Caicos Islands [TCA]', 'Tuvalu [TUV]', 'Uganda [UGA]', 'Ukraine [UKR]', 'United Arab Emirates [ARE]', 'United Kingdom [GBR]', 'United States [USA]', 'Uruguay [URY]', 'Uzbekistan [UZB]', 'Vanuatu [VUT]', 'Venezuela, RB [VEN]', 'Vietnam [VNM]', 'Virgin Islands (U.S.) [VIR]', 'Yemen, Rep. [YEM]', 'Zambia [ZMB]', 'Zimbabwe [ZWE]']\n"
     ]
    },
    {
     "data": {
      "application/vnd.jupyter.widget-view+json": {
       "model_id": "b43bd31f058a498a9792c0b6fc7cd845",
       "version_major": 2,
       "version_minor": 0
      },
      "text/plain": [
       "  0%|          | 0/301 [00:00<?, ?it/s]"
      ]
     },
     "metadata": {},
     "output_type": "display_data"
    }
   ],
   "source": [
    "from matplotlib.ticker import (MultipleLocator,\n",
    "                               FormatStrFormatter,\n",
    "                               AutoMinorLocator,\n",
    "                              FuncFormatter)\n",
    "\n",
    "fig = plt.Figure(figsize = (1,6), dpi = 140, tight_layout = True)\n",
    "ax = fig.add_subplot()\n",
    "\n",
    "ax.xaxis.set_major_formatter(formatter)\n",
    "\n",
    "ax.set_title(\"World Population 1960 - 2020\", fontsize=14, pad = 30,\n",
    "            fontfamily = 'serif', color = '#525252', loc = 'left')\n",
    "ax.set_ylabel(' ', labelpad = 15)\n",
    "\n",
    "ax.tick_params(colors='#777777', labelsize=12)\n",
    "\n",
    "#ax.margins(0, 0.01)\n",
    "\n",
    "ax.xaxis.set_ticks_position('top')\n",
    "ax.set_frame_on(False)\n",
    "ax.set_axisbelow(True)\n",
    "#ax.set_ylim([1,10.5])\n",
    "ax.grid(which='major', axis='x', linestyle='-', color = '#777777', lw = 1, alpha = 0.4)\n",
    "\n",
    "df.plot_animated(filename = 'Population 1960 - 2020 _ 0 .gif', n_visible = 5, enable_progress_bar=True,\n",
    "                 period_fmt ='%Y', fig = fig, line_width = 0, period_length = 200,\n",
    "                 period_label={'x':0.75,'y':0.1, 'size' : 35, 'color' : '#777777'})\n",
    "\n",
    "\n",
    "plt.show()"
   ]
  },
  {
   "cell_type": "code",
   "execution_count": null,
   "id": "5497ccfa",
   "metadata": {},
   "outputs": [],
   "source": []
  }
 ],
 "metadata": {
  "kernelspec": {
   "display_name": "Python 3 (ipykernel)",
   "language": "python",
   "name": "python3"
  },
  "language_info": {
   "codemirror_mode": {
    "name": "ipython",
    "version": 3
   },
   "file_extension": ".py",
   "mimetype": "text/x-python",
   "name": "python",
   "nbconvert_exporter": "python",
   "pygments_lexer": "ipython3",
   "version": "3.9.7"
  }
 },
 "nbformat": 4,
 "nbformat_minor": 5
}
