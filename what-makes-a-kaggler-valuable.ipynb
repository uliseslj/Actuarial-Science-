{
 "cells": [
  {
   "cell_type": "markdown",
   "metadata": {
    "_uuid": "f654fe2ac18dd51776da93b40cdcd889926e938a"
   },
   "source": [
    "# What Makes a Kaggler Valuable? \n",
    "Ever wondered what you should do to add some weight to your Data Science resume? Many of us already have a good notion of what is important to build a strong data science career. Of what is relevant to increase our compensation. But I personally, have never seen a systematic, data based, approach to this problem. That was the motivation of building a model to explain what makes a data scientist valuable to the market. Some results are pretty obvious, but many others might really help you boost your earnings.\n",
    "\n",
    "* [See the article published on **Towards Data Science** that was written from this Kernel](https://towardsdatascience.com/what-makes-a-data-scientist-valuable-b723e6e814aa) \n",
    "\n",
    "* [We also deployed a model at AWS Lambda to predict the probability of earning more than U$100k per year. Check the code.](https://github.com/andresionek91/kaggle-top20-predictor)\n",
    "\n",
    "* [Finally we deployed a Flask App so you can predict your own probability.](http://www.data-scientist-value.com/)\n",
    "\n",
    "[![website](https://i.imgur.com/8ahkF2J.png)](http://www.data-scientist-value.com/)\n",
    "\n",
    "## Learning how to increase your own compensation\n",
    "We only could do this study because Kaggle has released the data from its [second annual Machine Learning and Data Science Survey](https://www.kaggle.com/kaggle/kaggle-survey-2018). The survey was live for one week in October 2018 and got a total of 23,859 responses. The results include raw numbers about who is working with data, what’s happening with machine learning in different industries, and the best ways for new data scientists to break into the field.\n",
    "\n",
    "With access to that data, we wanted to understand what affects a Kaggler’s compensation (we are calling Kaggler anyone that answered the survey). Our idea was to give you precise insights of what is more valuable to the market, so you can stop spending time on things that won’t have a good ROI (return on investment) and speed up towards higher compensation. Following those insights, extracted from data, I hope one day you might find yourself laying down on a pile of money like Mr. Babineaux down here.\n",
    "\n",
    "![](https://media.giphy.com/media/w1z2ilkWZagRG/giphy.gif)\n",
    "\n",
    "## Considerations\n",
    "1. We are assuming that respondents were honest and sincere in their answers.\n",
    "2. This may not represent the whole universe of data professionals (it only has answers from Kaggle users), but it's a good proxy.\n",
    "\n",
    "# Basic Cleaning\n",
    "Survey answers are messy... Most survey softwares dont deliver the data on tidy format, and it is exactly the case of this survey. So we are going to have some really hard work to clean it. First lets just look at some personal data and clean it while we do our EDA."
   ]
  },
  {
   "cell_type": "code",
   "execution_count": 1,
   "metadata": {
    "_cell_guid": "b1076dfc-b9ad-4769-8c92-a6c4dae69d19",
    "_kg_hide-input": false,
    "_kg_hide-output": false,
    "_uuid": "8f2839f25d086af736a60e9eeb907d3b93b6e0e5"
   },
   "outputs": [],
   "source": [
    "import numpy as np \n",
    "import pandas as pd\n",
    "\n",
    "# Loading the multiple choices dataset, we will not look to the free form data on this study\n",
    "mc = pd.read_csv('multipleChoiceResponses.csv', low_memory=False)\n",
    "\n",
    "# Separating questions from answers\n",
    "# This Series stores all questions\n",
    "mcQ = mc.iloc[0,:]\n",
    "# This DataFrame stores all answers\n",
    "mcA = mc.iloc[1:,:]"
   ]
  },
  {
   "cell_type": "code",
   "execution_count": 2,
   "metadata": {
    "_kg_hide-input": true,
    "_uuid": "82439ae25f1c969f7b355b6829e619a2ab4f116e"
   },
   "outputs": [],
   "source": [
    "# removing everyone that took less than 4 minutes or more than 600 minutes to answer the survey\n",
    "less3 = mcA[round(mcA.iloc[:,0].astype(int) / 60) <= 4].index\n",
    "mcA = mcA.drop(less3, axis=0)\n",
    "more300 = mcA[round(mcA.iloc[:,0].astype(int) / 60) >= 600].index\n",
    "mcA = mcA.drop(more300, axis=0)\n",
    "\n",
    "# removing gender trolls, because we noticed from other kernels thata there are some ouliers here\n",
    "gender_trolls = mcA[(mcA.Q1 == 'Prefer to self-describe') | (mcA.Q1 == 'Prefer not to say')].index\n",
    "mcA = mcA.drop(list(gender_trolls), axis=0)\n",
    "\n",
    "# removing student trolls, because a student won't make more than 250k a year.\n",
    "student_trolls = mcA[((mcA.Q6 == 'Student') & (mcA.Q9 > '500,000+')) | \\\n",
    "                     ((mcA.Q6 == 'Student') & (mcA.Q9 > '400-500,000')) | \\\n",
    "                     ((mcA.Q6 == 'Student') & (mcA.Q9 > '300-400,000')) | \\\n",
    "                     ((mcA.Q6 == 'Student') & (mcA.Q9 > '250-300,000'))].index\n",
    "mcA = mcA.drop(list(student_trolls), axis=0)\n",
    "\n",
    "# dropping all NaN and I do not wish to disclose my approximate yearly compensation, because we are only interested in respondents that revealed their earnings\n",
    "mcA = mcA[~mcA.Q9.isnull()].copy()\n",
    "not_disclosed = mcA[mcA.Q9 == 'I do not wish to disclose my approximate yearly compensation'].index\n",
    "mcA = mcA.drop(list(not_disclosed), axis=0)"
   ]
  },
  {
   "cell_type": "markdown",
   "metadata": {
    "_uuid": "6e34bd79b1c58cf9b09a6775017baa39484f35b1"
   },
   "source": [
    "We noticed that questions 1 through 9 are all about personal information of data scientists. So we are first focusing on them."
   ]
  },
  {
   "cell_type": "code",
   "execution_count": 3,
   "metadata": {
    "_kg_hide-input": true,
    "_kg_hide-output": false,
    "_uuid": "6e0f577cd2b33afa98527ee66e553d1734e87242",
    "scrolled": false
   },
   "outputs": [
    {
     "data": {
      "text/html": [
       "<div>\n",
       "<style scoped>\n",
       "    .dataframe tbody tr th:only-of-type {\n",
       "        vertical-align: middle;\n",
       "    }\n",
       "\n",
       "    .dataframe tbody tr th {\n",
       "        vertical-align: top;\n",
       "    }\n",
       "\n",
       "    .dataframe thead th {\n",
       "        text-align: right;\n",
       "    }\n",
       "</style>\n",
       "<table border=\"1\" class=\"dataframe\">\n",
       "  <thead>\n",
       "    <tr style=\"text-align: right;\">\n",
       "      <th></th>\n",
       "      <th>gender</th>\n",
       "      <th>age</th>\n",
       "      <th>country</th>\n",
       "      <th>education_level</th>\n",
       "      <th>undergrad_major</th>\n",
       "      <th>role</th>\n",
       "      <th>employer_industry</th>\n",
       "      <th>years_experience</th>\n",
       "      <th>yearly_compensation</th>\n",
       "    </tr>\n",
       "  </thead>\n",
       "  <tbody>\n",
       "    <tr>\n",
       "      <th>2</th>\n",
       "      <td>Male</td>\n",
       "      <td>30-34</td>\n",
       "      <td>Indonesia</td>\n",
       "      <td>Bachelor’s degree</td>\n",
       "      <td>Engineering (non-computer focused)</td>\n",
       "      <td>Other</td>\n",
       "      <td>Manufacturing/Fabrication</td>\n",
       "      <td>5-10</td>\n",
       "      <td>10-20,000</td>\n",
       "    </tr>\n",
       "    <tr>\n",
       "      <th>3</th>\n",
       "      <td>Female</td>\n",
       "      <td>30-34</td>\n",
       "      <td>United States of America</td>\n",
       "      <td>Master’s degree</td>\n",
       "      <td>Computer science (software engineering, etc.)</td>\n",
       "      <td>Data Scientist</td>\n",
       "      <td>I am a student</td>\n",
       "      <td>0-1</td>\n",
       "      <td>0-10,000</td>\n",
       "    </tr>\n",
       "    <tr>\n",
       "      <th>5</th>\n",
       "      <td>Male</td>\n",
       "      <td>22-24</td>\n",
       "      <td>India</td>\n",
       "      <td>Master’s degree</td>\n",
       "      <td>Mathematics or statistics</td>\n",
       "      <td>Data Analyst</td>\n",
       "      <td>I am a student</td>\n",
       "      <td>0-1</td>\n",
       "      <td>0-10,000</td>\n",
       "    </tr>\n",
       "  </tbody>\n",
       "</table>\n",
       "</div>"
      ],
      "text/plain": [
       "   gender    age                   country    education_level  \\\n",
       "2    Male  30-34                 Indonesia  Bachelor’s degree   \n",
       "3  Female  30-34  United States of America    Master’s degree   \n",
       "5    Male  22-24                     India    Master’s degree   \n",
       "\n",
       "                                 undergrad_major            role  \\\n",
       "2             Engineering (non-computer focused)           Other   \n",
       "3  Computer science (software engineering, etc.)  Data Scientist   \n",
       "5                      Mathematics or statistics    Data Analyst   \n",
       "\n",
       "           employer_industry years_experience yearly_compensation  \n",
       "2  Manufacturing/Fabrication             5-10           10-20,000  \n",
       "3             I am a student              0-1            0-10,000  \n",
       "5             I am a student              0-1            0-10,000  "
      ]
     },
     "execution_count": 3,
     "metadata": {},
     "output_type": "execute_result"
    }
   ],
   "source": [
    "# Creating a table with personal data\n",
    "personal_data = mcA.iloc[:,:13].copy()\n",
    "\n",
    "# renaming columns\n",
    "cols = ['survey_duration', 'gender', 'gender_text', 'age', 'country', 'education_level', 'undergrad_major', 'role', 'role_text',\n",
    "        'employer_industry', 'employer_industry_text', 'years_experience', 'yearly_compensation']\n",
    "personal_data.columns = cols\n",
    "\n",
    "# Drop text and survey_duration columns \n",
    "personal_data.drop(['survey_duration', 'gender_text', 'role_text', 'employer_industry_text'], axis=1, inplace=True)\n",
    "\n",
    "personal_data.head(3)"
   ]
  },
  {
   "cell_type": "code",
   "execution_count": 4,
   "metadata": {
    "_kg_hide-input": true,
    "_kg_hide-output": true,
    "_uuid": "5c4b7065d9a9fe39a4819ce3be74491af6dc9770"
   },
   "outputs": [],
   "source": [
    "from pandas.api.types import CategoricalDtype\n",
    "\n",
    "# transforming compensation into category type and ordening the values\n",
    "categ = ['0-10,000', '10-20,000', '20-30,000', '30-40,000', '40-50,000',\n",
    "         '50-60,000', '60-70,000', '70-80,000', '80-90,000', '90-100,000',\n",
    "         '100-125,000', '125-150,000', '150-200,000', '200-250,000', '250-300,000',\n",
    "         '300-400,000', '400-500,000', '500,000+']\n",
    "cat_type = CategoricalDtype(categories=categ, ordered=True)\n",
    "personal_data.yearly_compensation = personal_data.yearly_compensation.astype(cat_type)\n",
    "# Doing this we are transforming the category \"I do not wish to disclose my approximate yearly compensation\" into NaN\n",
    "\n",
    "# transforming age into category type and sorting the values\n",
    "categ = ['18-21', '22-24', '25-29', '30-34', '35-39', '40-44', \n",
    "         '45-49', '50-54', '55-59', '60-69', '70-79', '80+']\n",
    "cat_type = CategoricalDtype(categories=categ, ordered=True)\n",
    "personal_data.age = personal_data.age.astype(cat_type)\n",
    "\n",
    "# transforming years of experience into category type and sorting the values\n",
    "categ = ['0-1', '1-2', '2-3', '3-4', '4-5', '5-10',\n",
    "         '10-15', '15-20', '20-25', '25-30', '30+']\n",
    "cat_type = CategoricalDtype(categories=categ, ordered=True)\n",
    "personal_data.years_experience = personal_data.years_experience.astype(cat_type)\n",
    "\n",
    "# transforming education level into category type and sorting the values\n",
    "categ = ['No formal education past high school', 'Some college/university study without earning a bachelor’s degree',\n",
    "         'Professional degree', 'Bachelor’s degree', 'Master’s degree', 'Doctoral degree', 'I prefer not to answer']\n",
    "cat_type = CategoricalDtype(categories=categ, ordered=True)\n",
    "personal_data.education_level = personal_data.education_level.astype(cat_type)"
   ]
  },
  {
   "cell_type": "markdown",
   "metadata": {
    "_uuid": "47683af39eb52ce6d04a930498fb5a20c4d839c9"
   },
   "source": [
    "We have already dropped all participants that did not disclose their compensation. Let's see how many answers we have at each compensation, including NaNs (we expect to see none)."
   ]
  },
  {
   "cell_type": "code",
   "execution_count": 5,
   "metadata": {
    "_kg_hide-input": false,
    "_uuid": "a89c0a5b4686b2e753111db40d4ac4e5ee28d943"
   },
   "outputs": [
    {
     "data": {
      "text/plain": [
       "0-10,000       3652\n",
       "10-20,000      1633\n",
       "20-30,000      1177\n",
       "30-40,000       886\n",
       "40-50,000       796\n",
       "50-60,000       767\n",
       "60-70,000       631\n",
       "70-80,000       587\n",
       "80-90,000       429\n",
       "90-100,000      486\n",
       "100-125,000     728\n",
       "125-150,000     473\n",
       "150-200,000     404\n",
       "200-250,000     152\n",
       "250-300,000      64\n",
       "300-400,000      39\n",
       "400-500,000      16\n",
       "500,000+         36\n",
       "Name: yearly_compensation, dtype: int64"
      ]
     },
     "execution_count": 5,
     "metadata": {},
     "output_type": "execute_result"
    }
   ],
   "source": [
    "personal_data.yearly_compensation.value_counts(dropna=False, sort=False)"
   ]
  },
  {
   "cell_type": "markdown",
   "metadata": {
    "_uuid": "ac6e289a38c9ebfd02402685fc68819631176b90"
   },
   "source": [
    "Now we want to create a numerical feature that describes compensation. I'm doing that by summing the lower and upper bound and then dividing by 2.  The highest range (500,000+) is summed with itself."
   ]
  },
  {
   "cell_type": "code",
   "execution_count": 6,
   "metadata": {
    "_kg_hide-input": true,
    "_uuid": "b162f513fb2bad326de759eda491b6cc0fc18196"
   },
   "outputs": [
    {
     "name": "stdout",
     "output_type": "stream",
     "text": [
      "Dataset Shape:  (12956, 10)\n"
     ]
    },
    {
     "data": {
      "text/html": [
       "<div>\n",
       "<style scoped>\n",
       "    .dataframe tbody tr th:only-of-type {\n",
       "        vertical-align: middle;\n",
       "    }\n",
       "\n",
       "    .dataframe tbody tr th {\n",
       "        vertical-align: top;\n",
       "    }\n",
       "\n",
       "    .dataframe thead th {\n",
       "        text-align: right;\n",
       "    }\n",
       "</style>\n",
       "<table border=\"1\" class=\"dataframe\">\n",
       "  <thead>\n",
       "    <tr style=\"text-align: right;\">\n",
       "      <th></th>\n",
       "      <th>gender</th>\n",
       "      <th>age</th>\n",
       "      <th>country</th>\n",
       "      <th>education_level</th>\n",
       "      <th>undergrad_major</th>\n",
       "      <th>role</th>\n",
       "      <th>employer_industry</th>\n",
       "      <th>years_experience</th>\n",
       "      <th>yearly_compensation</th>\n",
       "      <th>yearly_compensation_numerical</th>\n",
       "    </tr>\n",
       "  </thead>\n",
       "  <tbody>\n",
       "    <tr>\n",
       "      <th>2</th>\n",
       "      <td>Male</td>\n",
       "      <td>30-34</td>\n",
       "      <td>Indonesia</td>\n",
       "      <td>Bachelor’s degree</td>\n",
       "      <td>Engineering (non-computer focused)</td>\n",
       "      <td>Other</td>\n",
       "      <td>Manufacturing/Fabrication</td>\n",
       "      <td>5-10</td>\n",
       "      <td>10-20,000</td>\n",
       "      <td>15.0</td>\n",
       "    </tr>\n",
       "    <tr>\n",
       "      <th>3</th>\n",
       "      <td>Female</td>\n",
       "      <td>30-34</td>\n",
       "      <td>United States of America</td>\n",
       "      <td>Master’s degree</td>\n",
       "      <td>Computer science (software engineering, etc.)</td>\n",
       "      <td>Data Scientist</td>\n",
       "      <td>I am a student</td>\n",
       "      <td>0-1</td>\n",
       "      <td>0-10,000</td>\n",
       "      <td>5.0</td>\n",
       "    </tr>\n",
       "    <tr>\n",
       "      <th>5</th>\n",
       "      <td>Male</td>\n",
       "      <td>22-24</td>\n",
       "      <td>India</td>\n",
       "      <td>Master’s degree</td>\n",
       "      <td>Mathematics or statistics</td>\n",
       "      <td>Data Analyst</td>\n",
       "      <td>I am a student</td>\n",
       "      <td>0-1</td>\n",
       "      <td>0-10,000</td>\n",
       "      <td>5.0</td>\n",
       "    </tr>\n",
       "  </tbody>\n",
       "</table>\n",
       "</div>"
      ],
      "text/plain": [
       "   gender    age                   country    education_level  \\\n",
       "2    Male  30-34                 Indonesia  Bachelor’s degree   \n",
       "3  Female  30-34  United States of America    Master’s degree   \n",
       "5    Male  22-24                     India    Master’s degree   \n",
       "\n",
       "                                 undergrad_major            role  \\\n",
       "2             Engineering (non-computer focused)           Other   \n",
       "3  Computer science (software engineering, etc.)  Data Scientist   \n",
       "5                      Mathematics or statistics    Data Analyst   \n",
       "\n",
       "           employer_industry years_experience yearly_compensation  \\\n",
       "2  Manufacturing/Fabrication             5-10           10-20,000   \n",
       "3             I am a student              0-1            0-10,000   \n",
       "5             I am a student              0-1            0-10,000   \n",
       "\n",
       "   yearly_compensation_numerical  \n",
       "2                           15.0  \n",
       "3                            5.0  \n",
       "5                            5.0  "
      ]
     },
     "execution_count": 6,
     "metadata": {},
     "output_type": "execute_result"
    }
   ],
   "source": [
    "compensation = personal_data.yearly_compensation.str.replace(',', '', regex=False).str.replace('500000\\+', '500-500000', regex=True).str.split('-')\n",
    "personal_data['yearly_compensation_numerical'] = compensation.apply(lambda x: (int(x[0]) * 1000 + int(x[1]))/ 2) / 1000 # it is calculated in thousand dollars\n",
    "print('Dataset Shape: ', personal_data.shape)\n",
    "personal_data.head(3)"
   ]
  },
  {
   "cell_type": "markdown",
   "metadata": {
    "_uuid": "9028626ee08f688e28f04cc990997f5bde54a75d"
   },
   "source": [
    "---\n",
    "# EDA - Studying the problem: How personal data affects compensation?\n",
    "\n",
    "Now that we have done a basic data cleaning, we are able to do some in depth EDA and ultimately build a model to predict the earnings of data scientists and find the most important features that affect compensation. Because we had 50 multiple choice questions, many of them with multiple answers, we will do an EDA only to analyse how personal data correlates to compensation. Other features will be used later on this study, on the modeling step.\n",
    "\n",
    "**Note about splitting the data into train and test sets:** \n",
    "1. Ideally we would split the data into train and test sets before doing the Exploratory Data Analysis. This is good practice to avoid cognitive bias and overfitting the data. I'm not doing it here because I have already studied many of this dataset's kernels before start working on the data, so I'm probably already biased. \n",
    "2. We also have static data, I mean we are not getting any new answers from this survey. If we do the EDA and impute NaNs with the whole dataset, instead of just the training set, we shouldn't have any problem, because we are working with the full universe of data available. \n",
    "\n",
    "### Finding the Top 20% most well paid"
   ]
  },
  {
   "cell_type": "code",
   "execution_count": 7,
   "metadata": {
    "_kg_hide-input": false,
    "_uuid": "3e437982121d689fac74ae7e66ef6b87aee6629c"
   },
   "outputs": [
    {
     "data": {
      "text/plain": [
       "85.0"
      ]
     },
     "execution_count": 7,
     "metadata": {},
     "output_type": "execute_result"
    }
   ],
   "source": [
    "# Finding the compensation that separates the Top 20% most welll paid from the Bottom 80%\n",
    "top20flag = personal_data.yearly_compensation_numerical.quantile(0.8)\n",
    "top20flag"
   ]
  },
  {
   "cell_type": "code",
   "execution_count": 8,
   "metadata": {
    "_kg_hide-input": true,
    "_kg_hide-output": true,
    "_uuid": "4ce7c90131248de35125a13d548b8eeb33d55dd8"
   },
   "outputs": [],
   "source": [
    "# Creating a flag to identify who belongs to the Top 20%\n",
    "personal_data['top20'] = personal_data.yearly_compensation_numerical > top20flag\n",
    "\n",
    "# creating data for future mapping of values\n",
    "top20 = personal_data.groupby('yearly_compensation', as_index=False)['top20'].min()"
   ]
  },
  {
   "cell_type": "code",
   "execution_count": 9,
   "metadata": {
    "_kg_hide-input": true,
    "_kg_hide-output": true,
    "_uuid": "eb4e55f89756410284871491145d68ac17140d5a"
   },
   "outputs": [
    {
     "data": {
      "text/html": [
       "        <script type=\"text/javascript\">\n",
       "        window.PlotlyConfig = {MathJaxConfig: 'local'};\n",
       "        if (window.MathJax) {MathJax.Hub.Config({SVG: {font: \"STIX-Web\"}});}\n",
       "        if (typeof require !== 'undefined') {\n",
       "        require.undef(\"plotly\");\n",
       "        requirejs.config({\n",
       "            paths: {\n",
       "                'plotly': ['https://cdn.plot.ly/plotly-2.8.3.min']\n",
       "            }\n",
       "        });\n",
       "        require(['plotly'], function(Plotly) {\n",
       "            window._Plotly = Plotly;\n",
       "        });\n",
       "        }\n",
       "        </script>\n",
       "        "
      ]
     },
     "metadata": {},
     "output_type": "display_data"
    }
   ],
   "source": [
    "# Some helper functions to make our plots cleaner with Plotly\n",
    "from plotly.offline import init_notebook_mode, iplot\n",
    "import plotly.graph_objs as go\n",
    "from plotly import tools\n",
    "\n",
    "import plotly.io as pio\n",
    "pio.templates.default = \"none\"\n",
    "\n",
    "\n",
    "init_notebook_mode(connected=True)\n",
    "\n",
    "\n",
    "def gen_xaxis(title):\n",
    "    \"\"\"\n",
    "    Creates the X Axis layout and title\n",
    "    \"\"\"\n",
    "    xaxis = dict(\n",
    "            title=title,\n",
    "            titlefont=dict(\n",
    "                color='#AAAAAA'\n",
    "            ),\n",
    "            showgrid=False,\n",
    "            color='#AAAAAA',\n",
    "            )\n",
    "    return xaxis\n",
    "\n",
    "\n",
    "def gen_yaxis(title):\n",
    "    \"\"\"\n",
    "    Creates the Y Axis layout and title\n",
    "    \"\"\"\n",
    "    yaxis=dict(\n",
    "            title=title,\n",
    "            titlefont=dict(\n",
    "                color='#AAAAAA'\n",
    "            ),\n",
    "            showgrid=False,\n",
    "            color='#AAAAAA',\n",
    "            )\n",
    "    return yaxis\n",
    "\n",
    "\n",
    "def gen_layout(charttitle, xtitle, ytitle, lmarg, h, annotations=None):  \n",
    "    \"\"\"\n",
    "    Creates whole layout, with both axis, annotations, size and margin\n",
    "    \"\"\"\n",
    "    return go.Layout(title=charttitle, \n",
    "                     height=h, \n",
    "                     width=800,\n",
    "                     showlegend=False,\n",
    "                     xaxis=gen_xaxis(xtitle), \n",
    "                     yaxis=gen_yaxis(ytitle),\n",
    "                     annotations = annotations,\n",
    "                     margin=dict(l=lmarg),\n",
    "                    )\n",
    "\n",
    "\n",
    "def gen_bars(data, color, orient):\n",
    "    \"\"\"\n",
    "    Generates the bars for plotting, with their color and orient\n",
    "    \"\"\"\n",
    "    bars = []\n",
    "    for label, label_df in data.groupby(color):\n",
    "        if orient == 'h':\n",
    "            label_df = label_df.sort_values(by='x', ascending=True)\n",
    "        if label == 'a':\n",
    "            label = 'lightgray'\n",
    "        bars.append(go.Bar(x=label_df.x,\n",
    "                           y=label_df.y,\n",
    "                           name=label,\n",
    "                           marker={'color': label},\n",
    "                           orientation = orient\n",
    "                          )\n",
    "                   )\n",
    "    return bars\n",
    "\n",
    "\n",
    "def gen_annotations(annot):\n",
    "    \"\"\"\n",
    "    Generates annotations to insert in the chart\n",
    "    \"\"\"\n",
    "    if annot is None:\n",
    "        return []\n",
    "    \n",
    "    annotations = []\n",
    "    # Adding labels\n",
    "    for d in annot:\n",
    "        annotations.append(dict(xref='paper', x=d['x'], y=d['y'],\n",
    "                           xanchor='left', yanchor='bottom',\n",
    "                           text= d['text'],\n",
    "                           font=dict(size=13,\n",
    "                           color=d['color']),\n",
    "                           showarrow=False))\n",
    "    return annotations\n",
    "\n",
    "\n",
    "def generate_barplot(text, annot_dict, orient='v', lmarg=120, h=400):\n",
    "    \"\"\"\n",
    "    Generate the barplot with all data, using previous helper functions\n",
    "    \"\"\"\n",
    "    layout = gen_layout(text[0], text[1], text[2], lmarg, h, gen_annotations(annot_dict))\n",
    "    fig = go.Figure(data=gen_bars(barplot, 'color', orient=orient), layout=layout)\n",
    "    return iplot(fig)"
   ]
  },
  {
   "cell_type": "code",
   "execution_count": 10,
   "metadata": {
    "_kg_hide-input": true,
    "_uuid": "e8a3c57630f124a0b802f2ac455cadca88706ed8"
   },
   "outputs": [
    {
     "data": {
      "application/vnd.plotly.v1+json": {
       "config": {
        "linkText": "Export to plot.ly",
        "plotlyServerURL": "https://plot.ly",
        "showLink": false
       },
       "data": [
        {
         "marker": {
          "color": "lightgray"
         },
         "name": "lightgray",
         "orientation": "v",
         "type": "bar",
         "x": [
          "0-10,000",
          "10-20,000",
          "20-30,000",
          "30-40,000",
          "40-50,000",
          "50-60,000",
          "60-70,000",
          "70-80,000",
          "80-90,000"
         ],
         "y": [
          3652,
          1633,
          1177,
          886,
          796,
          767,
          631,
          587,
          429
         ]
        },
        {
         "marker": {
          "color": "mediumaquamarine"
         },
         "name": "mediumaquamarine",
         "orientation": "v",
         "type": "bar",
         "x": [
          "90-100,000",
          "100-125,000",
          "125-150,000",
          "150-200,000",
          "200-250,000",
          "250-300,000",
          "300-400,000",
          "400-500,000",
          "500,000+"
         ],
         "y": [
          486,
          728,
          473,
          404,
          152,
          64,
          39,
          16,
          36
         ]
        }
       ],
       "layout": {
        "annotations": [
         {
          "font": {
           "color": "gray",
           "size": 13
          },
          "showarrow": false,
          "text": "80% of respondents earn up to USD 90k",
          "x": 0.06,
          "xanchor": "left",
          "xref": "paper",
          "y": 2200,
          "yanchor": "bottom"
         },
         {
          "font": {
           "color": "mediumaquamarine",
           "size": 13
          },
          "showarrow": false,
          "text": "20% of respondents earn more than USD 90k",
          "x": 0.51,
          "xanchor": "left",
          "xref": "paper",
          "y": 1100,
          "yanchor": "bottom"
         }
        ],
        "height": 400,
        "margin": {
         "l": 120
        },
        "showlegend": false,
        "template": {
         "data": {
          "scatter": [
           {
            "type": "scatter"
           }
          ]
         }
        },
        "title": {
         "text": "<b>How Much Does Kagglers Get Paid?</b>"
        },
        "width": 800,
        "xaxis": {
         "color": "#AAAAAA",
         "showgrid": false,
         "title": {
          "font": {
           "color": "#AAAAAA"
          },
          "text": "Yearly Compensation (USD)"
         }
        },
        "yaxis": {
         "color": "#AAAAAA",
         "showgrid": false,
         "title": {
          "font": {
           "color": "#AAAAAA"
          },
          "text": "Quantity of Respondents"
         }
        }
       }
      },
      "text/html": [
       "<div>                            <div id=\"3bd939ad-2efe-4e71-892d-fb994041c8b9\" class=\"plotly-graph-div\" style=\"height:400px; width:800px;\"></div>            <script type=\"text/javascript\">                require([\"plotly\"], function(Plotly) {                    window.PLOTLYENV=window.PLOTLYENV || {};                                    if (document.getElementById(\"3bd939ad-2efe-4e71-892d-fb994041c8b9\")) {                    Plotly.newPlot(                        \"3bd939ad-2efe-4e71-892d-fb994041c8b9\",                        [{\"marker\":{\"color\":\"lightgray\"},\"name\":\"lightgray\",\"orientation\":\"v\",\"x\":[\"0-10,000\",\"10-20,000\",\"20-30,000\",\"30-40,000\",\"40-50,000\",\"50-60,000\",\"60-70,000\",\"70-80,000\",\"80-90,000\"],\"y\":[3652,1633,1177,886,796,767,631,587,429],\"type\":\"bar\"},{\"marker\":{\"color\":\"mediumaquamarine\"},\"name\":\"mediumaquamarine\",\"orientation\":\"v\",\"x\":[\"90-100,000\",\"100-125,000\",\"125-150,000\",\"150-200,000\",\"200-250,000\",\"250-300,000\",\"300-400,000\",\"400-500,000\",\"500,000+\"],\"y\":[486,728,473,404,152,64,39,16,36],\"type\":\"bar\"}],                        {\"annotations\":[{\"font\":{\"color\":\"gray\",\"size\":13},\"showarrow\":false,\"text\":\"80% of respondents earn up to USD 90k\",\"x\":0.06,\"xanchor\":\"left\",\"xref\":\"paper\",\"y\":2200,\"yanchor\":\"bottom\"},{\"font\":{\"color\":\"mediumaquamarine\",\"size\":13},\"showarrow\":false,\"text\":\"20% of respondents earn more than USD 90k\",\"x\":0.51,\"xanchor\":\"left\",\"xref\":\"paper\",\"y\":1100,\"yanchor\":\"bottom\"}],\"height\":400,\"margin\":{\"l\":120},\"showlegend\":false,\"template\":{\"data\":{\"scatter\":[{\"type\":\"scatter\"}]}},\"title\":{\"text\":\"<b>How Much Does Kagglers Get Paid?</b>\"},\"width\":800,\"xaxis\":{\"color\":\"#AAAAAA\",\"showgrid\":false,\"title\":{\"font\":{\"color\":\"#AAAAAA\"},\"text\":\"Yearly Compensation (USD)\"}},\"yaxis\":{\"color\":\"#AAAAAA\",\"showgrid\":false,\"title\":{\"font\":{\"color\":\"#AAAAAA\"},\"text\":\"Quantity of Respondents\"}}},                        {\"responsive\": true}                    ).then(function(){\n",
       "                            \n",
       "var gd = document.getElementById('3bd939ad-2efe-4e71-892d-fb994041c8b9');\n",
       "var x = new MutationObserver(function (mutations, observer) {{\n",
       "        var display = window.getComputedStyle(gd).display;\n",
       "        if (!display || display === 'none') {{\n",
       "            console.log([gd, 'removed!']);\n",
       "            Plotly.purge(gd);\n",
       "            observer.disconnect();\n",
       "        }}\n",
       "}});\n",
       "\n",
       "// Listen for the removal of the full notebook cells\n",
       "var notebookContainer = gd.closest('#notebook-container');\n",
       "if (notebookContainer) {{\n",
       "    x.observe(notebookContainer, {childList: true});\n",
       "}}\n",
       "\n",
       "// Listen for the clearing of the current output cell\n",
       "var outputEl = gd.closest('.output');\n",
       "if (outputEl) {{\n",
       "    x.observe(outputEl, {childList: true});\n",
       "}}\n",
       "\n",
       "                        })                };                });            </script>        </div>"
      ]
     },
     "metadata": {},
     "output_type": "display_data"
    }
   ],
   "source": [
    "# Counting the quantity of respondents per compensation\n",
    "barplot = personal_data.yearly_compensation.value_counts(sort=False).to_frame().reset_index()\n",
    "barplot.columns = ['yearly_compensation', 'qty']\n",
    "\n",
    "# mapping back to get top 20% label\n",
    "barplot = barplot.merge(top20, on='yearly_compensation')\n",
    "barplot.columns = ['x', 'y', 'top20']\n",
    "\n",
    "# apply color for top 20% and bottom 80%\n",
    "barplot['color'] = barplot.top20.apply(lambda x: 'mediumaquamarine' if x else 'lightgray') \n",
    "\n",
    "# Create title and annotations\n",
    "title_text = ['<b>How Much Does Kagglers Get Paid?</b>', 'Yearly Compensation (USD)', 'Quantity of Respondents']\n",
    "annotations = [{'x': 0.06, 'y': 2200, 'text': '80% of respondents earn up to USD 90k','color': 'gray'},\n",
    "              {'x': 0.51, 'y': 1100, 'text': '20% of respondents earn more than USD 90k','color': 'mediumaquamarine'}]\n",
    "\n",
    "# call function for plotting\n",
    "generate_barplot(title_text, annotations)"
   ]
  },
  {
   "cell_type": "code",
   "execution_count": 11,
   "metadata": {
    "_kg_hide-input": true,
    "_kg_hide-output": false,
    "_uuid": "83d077c1ad8b535e6d49942b47a577b47420e132"
   },
   "outputs": [
    {
     "data": {
      "application/vnd.plotly.v1+json": {
       "config": {
        "linkText": "Export to plot.ly",
        "plotlyServerURL": "https://plot.ly",
        "showLink": false
       },
       "data": [
        {
         "marker": {
          "color": "crimson"
         },
         "name": "crimson",
         "orientation": "v",
         "type": "bar",
         "x": [
          "0-10,000"
         ],
         "y": [
          1808
         ]
        },
        {
         "marker": {
          "color": "lightgray"
         },
         "name": "lightgray",
         "orientation": "v",
         "type": "bar",
         "x": [
          "10-20,000",
          "20-30,000",
          "30-40,000",
          "40-50,000",
          "50-60,000",
          "60-70,000",
          "70-80,000",
          "80-90,000",
          "90-100,000",
          "100-125,000",
          "125-150,000",
          "150-200,000",
          "200-250,000",
          "250-300,000",
          "300-400,000",
          "400-500,000",
          "500,000+"
         ],
         "y": [
          249,
          144,
          14,
          3,
          5,
          4,
          4,
          3,
          2,
          12,
          6,
          3,
          2,
          0,
          2,
          0,
          0
         ]
        }
       ],
       "layout": {
        "annotations": [
         {
          "font": {
           "color": "crimson",
           "size": 13
          },
          "showarrow": false,
          "text": "75% of students earn up to USD 10k",
          "x": 0.06,
          "xanchor": "left",
          "xref": "paper",
          "y": 1650,
          "yanchor": "bottom"
         }
        ],
        "height": 400,
        "margin": {
         "l": 120
        },
        "showlegend": false,
        "template": {
         "data": {
          "scatter": [
           {
            "type": "scatter"
           }
          ]
         }
        },
        "title": {
         "text": "<b>Do Students Get Paid at All?</b><br><i>only students</i>"
        },
        "width": 800,
        "xaxis": {
         "color": "#AAAAAA",
         "showgrid": false,
         "title": {
          "font": {
           "color": "#AAAAAA"
          },
          "text": "Yearly Compensation (USD)"
         }
        },
        "yaxis": {
         "color": "#AAAAAA",
         "showgrid": false,
         "title": {
          "font": {
           "color": "#AAAAAA"
          },
          "text": "Quantity of Respondents"
         }
        }
       }
      },
      "text/html": [
       "<div>                            <div id=\"b488d76a-2026-4ebd-8133-a510c27702fc\" class=\"plotly-graph-div\" style=\"height:400px; width:800px;\"></div>            <script type=\"text/javascript\">                require([\"plotly\"], function(Plotly) {                    window.PLOTLYENV=window.PLOTLYENV || {};                                    if (document.getElementById(\"b488d76a-2026-4ebd-8133-a510c27702fc\")) {                    Plotly.newPlot(                        \"b488d76a-2026-4ebd-8133-a510c27702fc\",                        [{\"marker\":{\"color\":\"crimson\"},\"name\":\"crimson\",\"orientation\":\"v\",\"x\":[\"0-10,000\"],\"y\":[1808],\"type\":\"bar\"},{\"marker\":{\"color\":\"lightgray\"},\"name\":\"lightgray\",\"orientation\":\"v\",\"x\":[\"10-20,000\",\"20-30,000\",\"30-40,000\",\"40-50,000\",\"50-60,000\",\"60-70,000\",\"70-80,000\",\"80-90,000\",\"90-100,000\",\"100-125,000\",\"125-150,000\",\"150-200,000\",\"200-250,000\",\"250-300,000\",\"300-400,000\",\"400-500,000\",\"500,000+\"],\"y\":[249,144,14,3,5,4,4,3,2,12,6,3,2,0,2,0,0],\"type\":\"bar\"}],                        {\"annotations\":[{\"font\":{\"color\":\"crimson\",\"size\":13},\"showarrow\":false,\"text\":\"75% of students earn up to USD 10k\",\"x\":0.06,\"xanchor\":\"left\",\"xref\":\"paper\",\"y\":1650,\"yanchor\":\"bottom\"}],\"height\":400,\"margin\":{\"l\":120},\"showlegend\":false,\"template\":{\"data\":{\"scatter\":[{\"type\":\"scatter\"}]}},\"title\":{\"text\":\"<b>Do Students Get Paid at All?</b><br><i>only students</i>\"},\"width\":800,\"xaxis\":{\"color\":\"#AAAAAA\",\"showgrid\":false,\"title\":{\"font\":{\"color\":\"#AAAAAA\"},\"text\":\"Yearly Compensation (USD)\"}},\"yaxis\":{\"color\":\"#AAAAAA\",\"showgrid\":false,\"title\":{\"font\":{\"color\":\"#AAAAAA\"},\"text\":\"Quantity of Respondents\"}}},                        {\"responsive\": true}                    ).then(function(){\n",
       "                            \n",
       "var gd = document.getElementById('b488d76a-2026-4ebd-8133-a510c27702fc');\n",
       "var x = new MutationObserver(function (mutations, observer) {{\n",
       "        var display = window.getComputedStyle(gd).display;\n",
       "        if (!display || display === 'none') {{\n",
       "            console.log([gd, 'removed!']);\n",
       "            Plotly.purge(gd);\n",
       "            observer.disconnect();\n",
       "        }}\n",
       "}});\n",
       "\n",
       "// Listen for the removal of the full notebook cells\n",
       "var notebookContainer = gd.closest('#notebook-container');\n",
       "if (notebookContainer) {{\n",
       "    x.observe(notebookContainer, {childList: true});\n",
       "}}\n",
       "\n",
       "// Listen for the clearing of the current output cell\n",
       "var outputEl = gd.closest('.output');\n",
       "if (outputEl) {{\n",
       "    x.observe(outputEl, {childList: true});\n",
       "}}\n",
       "\n",
       "                        })                };                });            </script>        </div>"
      ]
     },
     "metadata": {},
     "output_type": "display_data"
    }
   ],
   "source": [
    "# creating masks to identify students and not students\n",
    "is_student_mask = (personal_data['role'] == 'Student') | (personal_data['employer_industry'] == 'I am a student')\n",
    "not_student_mask = (personal_data['role'] != 'Student') & (personal_data['employer_industry'] != 'I am a student')\n",
    "\n",
    "# Counting the quantity of respondents per compensation (where is student)\n",
    "barplot = personal_data[is_student_mask].yearly_compensation.value_counts(sort=False).to_frame().reset_index()\n",
    "barplot.columns = ['yearly_compensation', 'qty']\n",
    "\n",
    "# mapping back to get top 20%\n",
    "barplot.columns = ['x', 'y',]\n",
    "barplot['highlight'] = barplot.x != '0-10,000'\n",
    "\n",
    "# applying color\n",
    "barplot['color'] = barplot.highlight.apply(lambda x: 'lightgray' if x else 'crimson')\n",
    "\n",
    "# title and annotations\n",
    "title_text = ['<b>Do Students Get Paid at All?</b><br><i>only students</i>', 'Yearly Compensation (USD)', 'Quantity of Respondents']\n",
    "annotations = [{'x': 0.06, 'y': 1650, 'text': '75% of students earn up to USD 10k','color': 'crimson'}]\n",
    "\n",
    "# ploting\n",
    "generate_barplot(title_text, annotations)"
   ]
  },
  {
   "cell_type": "markdown",
   "metadata": {
    "_uuid": "1b817a8b9d50f715d5df09966001554f181ae0a2"
   },
   "source": [
    "--- \n",
    "# What If We Remove Students From Our Data?\n",
    "We have seen that students aren't usually remunerated: 76% of them earn up to USD 10k. Because they have very low compensation (and aren't actually working), they are probably biasing the data towards lower compensation. That is why we are removing them from the rest of EDA."
   ]
  },
  {
   "cell_type": "code",
   "execution_count": 12,
   "metadata": {
    "_kg_hide-input": false,
    "_uuid": "45160cf280ca10576cf0d6c8fd572dfc882ee6a0"
   },
   "outputs": [
    {
     "data": {
      "text/plain": [
       "95.0"
      ]
     },
     "execution_count": 12,
     "metadata": {},
     "output_type": "execute_result"
    }
   ],
   "source": [
    "# Finding the compensation that separates the Top 20% most welll paid from the Bottom 80% (without students)\n",
    "top20flag_no_students = personal_data[not_student_mask].yearly_compensation_numerical.quantile(0.8)\n",
    "top20flag_no_students"
   ]
  },
  {
   "cell_type": "code",
   "execution_count": 13,
   "metadata": {
    "_kg_hide-input": true,
    "_uuid": "4d87836d999c9102abdd6015b9544081263a244c"
   },
   "outputs": [
    {
     "data": {
      "application/vnd.plotly.v1+json": {
       "config": {
        "linkText": "Export to plot.ly",
        "plotlyServerURL": "https://plot.ly",
        "showLink": false
       },
       "data": [
        {
         "marker": {
          "color": "lightgray"
         },
         "name": "lightgray",
         "orientation": "v",
         "type": "bar",
         "x": [
          "0-10,000",
          "10-20,000",
          "20-30,000",
          "30-40,000",
          "40-50,000",
          "50-60,000",
          "60-70,000",
          "70-80,000",
          "80-90,000",
          "90-100,000"
         ],
         "y": [
          1844,
          1384,
          1033,
          872,
          793,
          762,
          627,
          583,
          426,
          484
         ]
        },
        {
         "marker": {
          "color": "mediumaquamarine"
         },
         "name": "mediumaquamarine",
         "orientation": "v",
         "type": "bar",
         "x": [
          "100-125,000",
          "125-150,000",
          "150-200,000",
          "200-250,000",
          "250-300,000",
          "300-400,000",
          "400-500,000",
          "500,000+"
         ],
         "y": [
          716,
          467,
          401,
          150,
          64,
          37,
          16,
          36
         ]
        }
       ],
       "layout": {
        "annotations": [
         {
          "font": {
           "color": "gray",
           "size": 13
          },
          "showarrow": false,
          "text": "80% of earn up to USD 100k",
          "x": 0.06,
          "xanchor": "left",
          "xref": "paper",
          "y": 1600,
          "yanchor": "bottom"
         },
         {
          "font": {
           "color": "mediumaquamarine",
           "size": 13
          },
          "showarrow": false,
          "text": "20% of earn more than USD 100k",
          "x": 0.56,
          "xanchor": "left",
          "xref": "paper",
          "y": 800,
          "yanchor": "bottom"
         }
        ],
        "height": 400,
        "margin": {
         "l": 120
        },
        "showlegend": false,
        "template": {
         "data": {
          "scatter": [
           {
            "type": "scatter"
           }
          ]
         }
        },
        "title": {
         "text": "<b>How Much Does Kagglers Get Paid?</b><br><i>without students</i>"
        },
        "width": 800,
        "xaxis": {
         "color": "#AAAAAA",
         "showgrid": false,
         "title": {
          "font": {
           "color": "#AAAAAA"
          },
          "text": "Yearly Compensation (USD)"
         }
        },
        "yaxis": {
         "color": "#AAAAAA",
         "showgrid": false,
         "title": {
          "font": {
           "color": "#AAAAAA"
          },
          "text": "Quantity of Respondents"
         }
        }
       }
      },
      "text/html": [
       "<div>                            <div id=\"9e774915-e4c6-4278-a9a1-b50f3ca5b3a2\" class=\"plotly-graph-div\" style=\"height:400px; width:800px;\"></div>            <script type=\"text/javascript\">                require([\"plotly\"], function(Plotly) {                    window.PLOTLYENV=window.PLOTLYENV || {};                                    if (document.getElementById(\"9e774915-e4c6-4278-a9a1-b50f3ca5b3a2\")) {                    Plotly.newPlot(                        \"9e774915-e4c6-4278-a9a1-b50f3ca5b3a2\",                        [{\"marker\":{\"color\":\"lightgray\"},\"name\":\"lightgray\",\"orientation\":\"v\",\"x\":[\"0-10,000\",\"10-20,000\",\"20-30,000\",\"30-40,000\",\"40-50,000\",\"50-60,000\",\"60-70,000\",\"70-80,000\",\"80-90,000\",\"90-100,000\"],\"y\":[1844,1384,1033,872,793,762,627,583,426,484],\"type\":\"bar\"},{\"marker\":{\"color\":\"mediumaquamarine\"},\"name\":\"mediumaquamarine\",\"orientation\":\"v\",\"x\":[\"100-125,000\",\"125-150,000\",\"150-200,000\",\"200-250,000\",\"250-300,000\",\"300-400,000\",\"400-500,000\",\"500,000+\"],\"y\":[716,467,401,150,64,37,16,36],\"type\":\"bar\"}],                        {\"annotations\":[{\"font\":{\"color\":\"gray\",\"size\":13},\"showarrow\":false,\"text\":\"80% of earn up to USD 100k\",\"x\":0.06,\"xanchor\":\"left\",\"xref\":\"paper\",\"y\":1600,\"yanchor\":\"bottom\"},{\"font\":{\"color\":\"mediumaquamarine\",\"size\":13},\"showarrow\":false,\"text\":\"20% of earn more than USD 100k\",\"x\":0.56,\"xanchor\":\"left\",\"xref\":\"paper\",\"y\":800,\"yanchor\":\"bottom\"}],\"height\":400,\"margin\":{\"l\":120},\"showlegend\":false,\"template\":{\"data\":{\"scatter\":[{\"type\":\"scatter\"}]}},\"title\":{\"text\":\"<b>How Much Does Kagglers Get Paid?</b><br><i>without students</i>\"},\"width\":800,\"xaxis\":{\"color\":\"#AAAAAA\",\"showgrid\":false,\"title\":{\"font\":{\"color\":\"#AAAAAA\"},\"text\":\"Yearly Compensation (USD)\"}},\"yaxis\":{\"color\":\"#AAAAAA\",\"showgrid\":false,\"title\":{\"font\":{\"color\":\"#AAAAAA\"},\"text\":\"Quantity of Respondents\"}}},                        {\"responsive\": true}                    ).then(function(){\n",
       "                            \n",
       "var gd = document.getElementById('9e774915-e4c6-4278-a9a1-b50f3ca5b3a2');\n",
       "var x = new MutationObserver(function (mutations, observer) {{\n",
       "        var display = window.getComputedStyle(gd).display;\n",
       "        if (!display || display === 'none') {{\n",
       "            console.log([gd, 'removed!']);\n",
       "            Plotly.purge(gd);\n",
       "            observer.disconnect();\n",
       "        }}\n",
       "}});\n",
       "\n",
       "// Listen for the removal of the full notebook cells\n",
       "var notebookContainer = gd.closest('#notebook-container');\n",
       "if (notebookContainer) {{\n",
       "    x.observe(notebookContainer, {childList: true});\n",
       "}}\n",
       "\n",
       "// Listen for the clearing of the current output cell\n",
       "var outputEl = gd.closest('.output');\n",
       "if (outputEl) {{\n",
       "    x.observe(outputEl, {childList: true});\n",
       "}}\n",
       "\n",
       "                        })                };                });            </script>        </div>"
      ]
     },
     "metadata": {},
     "output_type": "display_data"
    }
   ],
   "source": [
    "# Creating a flag for Top 20% when there are no students in the dataset\n",
    "personal_data['top20_no_students'] = personal_data.yearly_compensation_numerical > top20flag_no_students\n",
    "\n",
    "# creating data for future mapping of values\n",
    "top20 = personal_data[not_student_mask].groupby('yearly_compensation', as_index=False)['top20_no_students'].min()\n",
    "\n",
    "# Counting the quantity of respondents per compensation (where is not student)\n",
    "barplot = personal_data[not_student_mask].yearly_compensation.value_counts(sort=False).to_frame().reset_index()\n",
    "barplot.columns = ['yearly_compensation', 'qty']\n",
    "\n",
    "# mapping back to get top 20%\n",
    "barplot = barplot.merge(top20, on='yearly_compensation')\n",
    "barplot.columns = ['x', 'y', 'top20']\n",
    "barplot['color'] = barplot.top20.apply(lambda x: 'mediumaquamarine' if x else 'lightgray')\n",
    "\n",
    "title_text = ['<b>How Much Does Kagglers Get Paid?</b><br><i>without students</i>', 'Yearly Compensation (USD)', 'Quantity of Respondents']\n",
    "annotations = [{'x': 0.06, 'y': 1600, 'text': '80% of earn up to USD 100k','color': 'gray'},\n",
    "              {'x': 0.56, 'y': 800, 'text': '20% of earn more than USD 100k','color': 'mediumaquamarine'}]\n",
    "\n",
    "generate_barplot(title_text, annotations)"
   ]
  },
  {
   "cell_type": "markdown",
   "metadata": {
    "_uuid": "42476d0a060a72601de29ef4307b70a187128fc9"
   },
   "source": [
    "### Are there any gender difference between the top 20% most well paid?\n",
    "Unfortunatelly we still have differences in payment due to gender. This gets very noticeable when we compare the top 20% most well paid men and women."
   ]
  },
  {
   "cell_type": "code",
   "execution_count": 14,
   "metadata": {
    "_kg_hide-input": true,
    "_kg_hide-output": true,
    "_uuid": "ba7bdd8e0d36708694d92aa05c4c0d0b852e4b90"
   },
   "outputs": [],
   "source": [
    "# Creating a helper function to generate lineplot\n",
    "def gen_lines(data, colorby):\n",
    "    \"\"\"\n",
    "    Generate the lineplot with data\n",
    "    \"\"\"\n",
    "    if colorby == 'top20': \n",
    "        colors = {False: 'lightgray',\n",
    "                  True: 'mediumaquamarine'}\n",
    "    else:\n",
    "        colors = {False: 'lightgray',\n",
    "                  True: 'deepskyblue'}\n",
    "\n",
    "    traces = []\n",
    "    for label, label_df in data.groupby(colorby):\n",
    "        traces.append(go.Scatter(\n",
    "                    x=label_df.x,\n",
    "                    y=label_df.y,\n",
    "                    mode='lines+markers+text',\n",
    "                    line={'color': colors[label], 'width':2},\n",
    "                    connectgaps=True,\n",
    "                    text=label_df.y.round(),\n",
    "                    hoverinfo='none',\n",
    "                    textposition='top center',\n",
    "                    textfont=dict(size=12, color=colors[label]),\n",
    "                    marker={'color': colors[label], 'size':8},\n",
    "                   )\n",
    "                   )\n",
    "    return traces"
   ]
  },
  {
   "cell_type": "code",
   "execution_count": 15,
   "metadata": {
    "_kg_hide-input": true,
    "_uuid": "b275e656a441ab8f5c73fb75d2491643bf279b85"
   },
   "outputs": [
    {
     "data": {
      "application/vnd.plotly.v1+json": {
       "config": {
        "linkText": "Export to plot.ly",
        "plotlyServerURL": "https://plot.ly",
        "showLink": false
       },
       "data": [
        {
         "connectgaps": true,
         "hoverinfo": "none",
         "line": {
          "color": "lightgray",
          "width": 2
         },
         "marker": {
          "color": "lightgray",
          "size": 8
         },
         "mode": "lines+markers+text",
         "text": [
          38,
          37
         ],
         "textfont": {
          "color": "lightgray",
          "size": 12
         },
         "textposition": "top center",
         "type": "scatter",
         "x": [
          "Female",
          "Male"
         ],
         "y": [
          38.04606240713225,
          37.44036451353524
         ]
        },
        {
         "connectgaps": true,
         "hoverinfo": "none",
         "line": {
          "color": "deepskyblue",
          "width": 2
         },
         "marker": {
          "color": "deepskyblue",
          "size": 8
         },
         "mode": "lines+markers+text",
         "text": [
          145,
          164
         ],
         "textfont": {
          "color": "deepskyblue",
          "size": 12
         },
         "textposition": "top center",
         "type": "scatter",
         "x": [
          "Female",
          "Male"
         ],
         "y": [
          145.47413793103448,
          163.55740181268882
         ]
        }
       ],
       "layout": {
        "annotations": [
         {
          "font": {
           "color": "deepskyblue",
           "size": 13
          },
          "showarrow": false,
          "text": "The top 20% men are almost 12% better paid than the top 20% woman",
          "x": 0.05,
          "xanchor": "left",
          "xref": "paper",
          "y": 180,
          "yanchor": "bottom"
         },
         {
          "font": {
           "color": "gray",
           "size": 13
          },
          "showarrow": false,
          "text": "At the bottom 80% there is almost no difference in payment",
          "x": 0.05,
          "xanchor": "left",
          "xref": "paper",
          "y": 60,
          "yanchor": "bottom"
         }
        ],
        "height": 400,
        "margin": {
         "l": 120
        },
        "showlegend": false,
        "template": {
         "data": {
          "scatter": [
           {
            "type": "scatter"
           }
          ]
         }
        },
        "title": {
         "text": "<b>What is the gender difference in compensation at the top 20%?</b><br><i>without students</i>"
        },
        "width": 800,
        "xaxis": {
         "color": "#AAAAAA",
         "showgrid": false,
         "title": {
          "font": {
           "color": "#AAAAAA"
          },
          "text": "Gender"
         }
        },
        "yaxis": {
         "color": "#AAAAAA",
         "showgrid": false,
         "title": {
          "font": {
           "color": "#AAAAAA"
          },
          "text": "Average Yearly Compensation (USD)"
         }
        }
       }
      },
      "text/html": [
       "<div>                            <div id=\"a6254e1a-8b84-49e6-b86f-8dcbe2fc5470\" class=\"plotly-graph-div\" style=\"height:400px; width:800px;\"></div>            <script type=\"text/javascript\">                require([\"plotly\"], function(Plotly) {                    window.PLOTLYENV=window.PLOTLYENV || {};                                    if (document.getElementById(\"a6254e1a-8b84-49e6-b86f-8dcbe2fc5470\")) {                    Plotly.newPlot(                        \"a6254e1a-8b84-49e6-b86f-8dcbe2fc5470\",                        [{\"connectgaps\":true,\"hoverinfo\":\"none\",\"line\":{\"color\":\"lightgray\",\"width\":2},\"marker\":{\"color\":\"lightgray\",\"size\":8},\"mode\":\"lines+markers+text\",\"text\":[38.0,37.0],\"textfont\":{\"color\":\"lightgray\",\"size\":12},\"textposition\":\"top center\",\"x\":[\"Female\",\"Male\"],\"y\":[38.04606240713225,37.44036451353524],\"type\":\"scatter\"},{\"connectgaps\":true,\"hoverinfo\":\"none\",\"line\":{\"color\":\"deepskyblue\",\"width\":2},\"marker\":{\"color\":\"deepskyblue\",\"size\":8},\"mode\":\"lines+markers+text\",\"text\":[145.0,164.0],\"textfont\":{\"color\":\"deepskyblue\",\"size\":12},\"textposition\":\"top center\",\"x\":[\"Female\",\"Male\"],\"y\":[145.47413793103448,163.55740181268882],\"type\":\"scatter\"}],                        {\"annotations\":[{\"font\":{\"color\":\"deepskyblue\",\"size\":13},\"showarrow\":false,\"text\":\"The top 20% men are almost 12% better paid than the top 20% woman\",\"x\":0.05,\"xanchor\":\"left\",\"xref\":\"paper\",\"y\":180,\"yanchor\":\"bottom\"},{\"font\":{\"color\":\"gray\",\"size\":13},\"showarrow\":false,\"text\":\"At the bottom 80% there is almost no difference in payment\",\"x\":0.05,\"xanchor\":\"left\",\"xref\":\"paper\",\"y\":60,\"yanchor\":\"bottom\"}],\"height\":400,\"margin\":{\"l\":120},\"showlegend\":false,\"template\":{\"data\":{\"scatter\":[{\"type\":\"scatter\"}]}},\"title\":{\"text\":\"<b>What is the gender difference in compensation at the top 20%?</b><br><i>without students</i>\"},\"width\":800,\"xaxis\":{\"color\":\"#AAAAAA\",\"showgrid\":false,\"title\":{\"font\":{\"color\":\"#AAAAAA\"},\"text\":\"Gender\"}},\"yaxis\":{\"color\":\"#AAAAAA\",\"showgrid\":false,\"title\":{\"font\":{\"color\":\"#AAAAAA\"},\"text\":\"Average Yearly Compensation (USD)\"}}},                        {\"responsive\": true}                    ).then(function(){\n",
       "                            \n",
       "var gd = document.getElementById('a6254e1a-8b84-49e6-b86f-8dcbe2fc5470');\n",
       "var x = new MutationObserver(function (mutations, observer) {{\n",
       "        var display = window.getComputedStyle(gd).display;\n",
       "        if (!display || display === 'none') {{\n",
       "            console.log([gd, 'removed!']);\n",
       "            Plotly.purge(gd);\n",
       "            observer.disconnect();\n",
       "        }}\n",
       "}});\n",
       "\n",
       "// Listen for the removal of the full notebook cells\n",
       "var notebookContainer = gd.closest('#notebook-container');\n",
       "if (notebookContainer) {{\n",
       "    x.observe(notebookContainer, {childList: true});\n",
       "}}\n",
       "\n",
       "// Listen for the clearing of the current output cell\n",
       "var outputEl = gd.closest('.output');\n",
       "if (outputEl) {{\n",
       "    x.observe(outputEl, {childList: true});\n",
       "}}\n",
       "\n",
       "                        })                };                });            </script>        </div>"
      ]
     },
     "metadata": {},
     "output_type": "display_data"
    }
   ],
   "source": [
    "# Grouping data to get compensation per gender of Top20% and Bottom 80%\n",
    "barplot = personal_data[not_student_mask].groupby(['gender', 'top20_no_students'], as_index=False)['yearly_compensation_numerical'].mean()\n",
    "barplot = barplot[(barplot['gender'] == 'Female') | (barplot['gender'] == 'Male')]\n",
    "barplot.columns = ['x', 'gender', 'y']\n",
    "\n",
    "# Creates annotations\n",
    "annot_dict = [{'x': 0.05, 'y': 180, 'text': 'The top 20% men are almost 12% better paid than the top 20% woman','color': 'deepskyblue'},\n",
    "              {'x': 0.05, 'y': 60, 'text': 'At the bottom 80% there is almost no difference in payment','color': 'gray'}]\n",
    "\n",
    "# Creates layout\n",
    "layout = gen_layout('<b>What is the gender difference in compensation at the top 20%?</b><br><i>without students</i>', \n",
    "                    'Gender', \n",
    "                    'Average Yearly Compensation (USD)',\n",
    "                    120, \n",
    "                    400,\n",
    "                    gen_annotations(annot_dict)\n",
    "                    )\n",
    "# Make plot\n",
    "fig = go.Figure(data=gen_lines(barplot, 'gender'), \n",
    "                layout=layout)\n",
    "iplot(fig, filename='color-bar')"
   ]
  },
  {
   "cell_type": "markdown",
   "metadata": {
    "_uuid": "c37256ea834789bf2a8db3691df94dd73ae46b1f"
   },
   "source": [
    "### Should you get formal education?\n",
    "To earn more in this field you have either to go all the way up the formal education and get a Doctoral Degree, or you just don't get any formal education at all. It obviously doesn't mean that you should quit college, but that you are problable better off studying by yourself than attending a post-gratuation program."
   ]
  },
  {
   "cell_type": "code",
   "execution_count": 16,
   "metadata": {
    "_kg_hide-input": true,
    "_uuid": "4f44884750eab14730676cd85e7f75fbe09ba726"
   },
   "outputs": [
    {
     "data": {
      "application/vnd.plotly.v1+json": {
       "config": {
        "linkText": "Export to plot.ly",
        "plotlyServerURL": "https://plot.ly",
        "showLink": false
       },
       "data": [
        {
         "marker": {
          "color": "lightgray"
         },
         "name": "lightgray",
         "orientation": "h",
         "type": "bar",
         "x": [
          36.47435897435897,
          43.758445945945944,
          49.68243972652033,
          58.02839116719243,
          60.183416125334354
         ],
         "y": [
          "I prefer not to answer",
          "Professional degree",
          "Bachelor’s degree",
          "Some college/university study <br> without earning a bachelor’s degree",
          "Master’s degree"
         ]
        },
        {
         "marker": {
          "color": "coral"
         },
         "name": "coral",
         "orientation": "h",
         "type": "bar",
         "x": [
          56.44117647058823,
          75.01049317943337
         ],
         "y": [
          "No formal education past high school",
          "Doctoral degree"
         ]
        }
       ],
       "layout": {
        "height": 400,
        "margin": {
         "l": 300
        },
        "showlegend": false,
        "template": {
         "data": {
          "scatter": [
           {
            "type": "scatter"
           }
          ]
         }
        },
        "title": {
         "text": "<b>Impact of Formal Education on Compenstaion</b><br><i>without students</i>"
        },
        "width": 800,
        "xaxis": {
         "color": "#AAAAAA",
         "showgrid": false,
         "title": {
          "font": {
           "color": "#AAAAAA"
          },
          "text": "Average Yearly Compensation (USD)"
         }
        },
        "yaxis": {
         "color": "#AAAAAA",
         "showgrid": false,
         "title": {
          "font": {
           "color": "#AAAAAA"
          },
          "text": "Level of Education"
         }
        }
       }
      },
      "text/html": [
       "<div>                            <div id=\"7affb1f9-67b6-44ba-a867-72c907fc70f6\" class=\"plotly-graph-div\" style=\"height:400px; width:800px;\"></div>            <script type=\"text/javascript\">                require([\"plotly\"], function(Plotly) {                    window.PLOTLYENV=window.PLOTLYENV || {};                                    if (document.getElementById(\"7affb1f9-67b6-44ba-a867-72c907fc70f6\")) {                    Plotly.newPlot(                        \"7affb1f9-67b6-44ba-a867-72c907fc70f6\",                        [{\"marker\":{\"color\":\"lightgray\"},\"name\":\"lightgray\",\"orientation\":\"h\",\"x\":[36.47435897435897,43.758445945945944,49.68243972652033,58.02839116719243,60.183416125334354],\"y\":[\"I prefer not to answer\",\"Professional degree\",\"Bachelor\\u2019s degree\",\"Some college/university study <br> without earning a bachelor\\u2019s degree\",\"Master\\u2019s degree\"],\"type\":\"bar\"},{\"marker\":{\"color\":\"coral\"},\"name\":\"coral\",\"orientation\":\"h\",\"x\":[56.44117647058823,75.01049317943337],\"y\":[\"No formal education past high school\",\"Doctoral degree\"],\"type\":\"bar\"}],                        {\"height\":400,\"margin\":{\"l\":300},\"showlegend\":false,\"template\":{\"data\":{\"scatter\":[{\"type\":\"scatter\"}]}},\"title\":{\"text\":\"<b>Impact of Formal Education on Compenstaion</b><br><i>without students</i>\"},\"width\":800,\"xaxis\":{\"color\":\"#AAAAAA\",\"showgrid\":false,\"title\":{\"font\":{\"color\":\"#AAAAAA\"},\"text\":\"Average Yearly Compensation (USD)\"}},\"yaxis\":{\"color\":\"#AAAAAA\",\"showgrid\":false,\"title\":{\"font\":{\"color\":\"#AAAAAA\"},\"text\":\"Level of Education\"}}},                        {\"responsive\": true}                    ).then(function(){\n",
       "                            \n",
       "var gd = document.getElementById('7affb1f9-67b6-44ba-a867-72c907fc70f6');\n",
       "var x = new MutationObserver(function (mutations, observer) {{\n",
       "        var display = window.getComputedStyle(gd).display;\n",
       "        if (!display || display === 'none') {{\n",
       "            console.log([gd, 'removed!']);\n",
       "            Plotly.purge(gd);\n",
       "            observer.disconnect();\n",
       "        }}\n",
       "}});\n",
       "\n",
       "// Listen for the removal of the full notebook cells\n",
       "var notebookContainer = gd.closest('#notebook-container');\n",
       "if (notebookContainer) {{\n",
       "    x.observe(notebookContainer, {childList: true});\n",
       "}}\n",
       "\n",
       "// Listen for the clearing of the current output cell\n",
       "var outputEl = gd.closest('.output');\n",
       "if (outputEl) {{\n",
       "    x.observe(outputEl, {childList: true});\n",
       "}}\n",
       "\n",
       "                        })                };                });            </script>        </div>"
      ]
     },
     "metadata": {},
     "output_type": "display_data"
    }
   ],
   "source": [
    "# Calculates compensation per education level\n",
    "barplot = personal_data[not_student_mask].groupby(['education_level'], as_index=False)['yearly_compensation_numerical'].mean()\n",
    "barplot['no_college'] = (barplot.education_level == 'No formal education past high school') | \\\n",
    "                        (barplot.education_level == 'Doctoral degree')\n",
    "\n",
    "# creates a line break for better visualisation\n",
    "barplot.education_level = barplot.education_level.str.replace('study without', 'study <br> without')\n",
    "\n",
    "barplot.columns = ['y', 'x', 'no_college']\n",
    "barplot = barplot.sort_values(by='x', ascending=True)\n",
    "barplot['color'] = barplot.no_college.apply(lambda x: 'coral' if x else 'a')\n",
    "\n",
    "# Add title and annotations\n",
    "title_text = ['<b>Impact of Formal Education on Compenstaion</b><br><i>without students</i>', 'Average Yearly Compensation (USD)', 'Level of Education']\n",
    "annotations = []\n",
    "\n",
    "generate_barplot(title_text, annotations, orient='h', lmarg=300)"
   ]
  },
  {
   "cell_type": "markdown",
   "metadata": {
    "_uuid": "7c2985d1cb480e9d0f2ee50829ac421ff7904991"
   },
   "source": [
    "### Which industry should you target?\n",
    "If you concentrate your efforts on some industry specific problems you'll eventually get hired by them. Bellow we show the top 5 industries, and their average yearly compensation, compared to all others sectors. Choose wisely!"
   ]
  },
  {
   "cell_type": "code",
   "execution_count": 17,
   "metadata": {
    "_kg_hide-input": true,
    "_uuid": "7b233028a4effc68debfddc249c7da4226eaa180"
   },
   "outputs": [
    {
     "data": {
      "application/vnd.plotly.v1+json": {
       "config": {
        "linkText": "Export to plot.ly",
        "plotlyServerURL": "https://plot.ly",
        "showLink": false
       },
       "data": [
        {
         "marker": {
          "color": "lightgray"
         },
         "name": "lightgray",
         "orientation": "h",
         "type": "bar",
         "x": [
          40.566247224278314,
          47.156488549618324,
          55.549828178694156,
          57.640086206896555,
          58.107969528274246,
          58.50931677018634,
          60.10223048327138,
          60.46367851622875,
          62.48861047835991,
          62.76056338028169,
          65.21844660194175,
          65.52721088435374,
          66.6540404040404
         ],
         "y": [
          "Academics/Education",
          "Non-profit/Service",
          "Retail/Sales",
          "Online Business/Internet-based Sales",
          "Computers/Technology",
          "Marketing/CRM",
          "Broadcasting/Communications",
          "Other",
          "Government/Public Service",
          "Manufacturing/Fabrication",
          "Shipping/Transportation",
          "Energy/Mining",
          "Online Service/Internet-based Services"
         ]
        },
        {
         "marker": {
          "color": "darkgoldenrod"
         },
         "name": "darkgoldenrod",
         "orientation": "h",
         "type": "bar",
         "x": [
          66.8069556451613,
          71.425,
          71.93359375,
          72.35756385068763,
          75.18442622950819
         ],
         "y": [
          "Accounting/Finance",
          "Insurance/Risk Assessment",
          "Military/Security/Defense",
          "Medical/Pharmaceutical",
          "Hospitality/Entertainment/Sports"
         ]
        }
       ],
       "layout": {
        "height": 600,
        "margin": {
         "l": 300
        },
        "showlegend": false,
        "template": {
         "data": {
          "scatter": [
           {
            "type": "scatter"
           }
          ]
         }
        },
        "title": {
         "text": "<b>Average Compensation per Industry | Top 5 in Color</b><br><i>without students</i>"
        },
        "width": 800,
        "xaxis": {
         "color": "#AAAAAA",
         "showgrid": false,
         "title": {
          "font": {
           "color": "#AAAAAA"
          },
          "text": "Average Yearly Compensation (USD)"
         }
        },
        "yaxis": {
         "color": "#AAAAAA",
         "showgrid": false,
         "title": {
          "font": {
           "color": "#AAAAAA"
          },
          "text": "Industry"
         }
        }
       }
      },
      "text/html": [
       "<div>                            <div id=\"18af5f16-b9ca-4be5-999c-5923b8a4c130\" class=\"plotly-graph-div\" style=\"height:600px; width:800px;\"></div>            <script type=\"text/javascript\">                require([\"plotly\"], function(Plotly) {                    window.PLOTLYENV=window.PLOTLYENV || {};                                    if (document.getElementById(\"18af5f16-b9ca-4be5-999c-5923b8a4c130\")) {                    Plotly.newPlot(                        \"18af5f16-b9ca-4be5-999c-5923b8a4c130\",                        [{\"marker\":{\"color\":\"lightgray\"},\"name\":\"lightgray\",\"orientation\":\"h\",\"x\":[40.566247224278314,47.156488549618324,55.549828178694156,57.640086206896555,58.107969528274246,58.50931677018634,60.10223048327138,60.46367851622875,62.48861047835991,62.76056338028169,65.21844660194175,65.52721088435374,66.6540404040404],\"y\":[\"Academics/Education\",\"Non-profit/Service\",\"Retail/Sales\",\"Online Business/Internet-based Sales\",\"Computers/Technology\",\"Marketing/CRM\",\"Broadcasting/Communications\",\"Other\",\"Government/Public Service\",\"Manufacturing/Fabrication\",\"Shipping/Transportation\",\"Energy/Mining\",\"Online Service/Internet-based Services\"],\"type\":\"bar\"},{\"marker\":{\"color\":\"darkgoldenrod\"},\"name\":\"darkgoldenrod\",\"orientation\":\"h\",\"x\":[66.8069556451613,71.425,71.93359375,72.35756385068763,75.18442622950819],\"y\":[\"Accounting/Finance\",\"Insurance/Risk Assessment\",\"Military/Security/Defense\",\"Medical/Pharmaceutical\",\"Hospitality/Entertainment/Sports\"],\"type\":\"bar\"}],                        {\"height\":600,\"margin\":{\"l\":300},\"showlegend\":false,\"template\":{\"data\":{\"scatter\":[{\"type\":\"scatter\"}]}},\"title\":{\"text\":\"<b>Average Compensation per Industry | Top 5 in Color</b><br><i>without students</i>\"},\"width\":800,\"xaxis\":{\"color\":\"#AAAAAA\",\"showgrid\":false,\"title\":{\"font\":{\"color\":\"#AAAAAA\"},\"text\":\"Average Yearly Compensation (USD)\"}},\"yaxis\":{\"color\":\"#AAAAAA\",\"showgrid\":false,\"title\":{\"font\":{\"color\":\"#AAAAAA\"},\"text\":\"Industry\"}}},                        {\"responsive\": true}                    ).then(function(){\n",
       "                            \n",
       "var gd = document.getElementById('18af5f16-b9ca-4be5-999c-5923b8a4c130');\n",
       "var x = new MutationObserver(function (mutations, observer) {{\n",
       "        var display = window.getComputedStyle(gd).display;\n",
       "        if (!display || display === 'none') {{\n",
       "            console.log([gd, 'removed!']);\n",
       "            Plotly.purge(gd);\n",
       "            observer.disconnect();\n",
       "        }}\n",
       "}});\n",
       "\n",
       "// Listen for the removal of the full notebook cells\n",
       "var notebookContainer = gd.closest('#notebook-container');\n",
       "if (notebookContainer) {{\n",
       "    x.observe(notebookContainer, {childList: true});\n",
       "}}\n",
       "\n",
       "// Listen for the clearing of the current output cell\n",
       "var outputEl = gd.closest('.output');\n",
       "if (outputEl) {{\n",
       "    x.observe(outputEl, {childList: true});\n",
       "}}\n",
       "\n",
       "                        })                };                });            </script>        </div>"
      ]
     },
     "metadata": {},
     "output_type": "display_data"
    }
   ],
   "source": [
    "# Calculates compensation per industry\n",
    "barplot = personal_data[not_student_mask].groupby(['employer_industry'], as_index=False)['yearly_compensation_numerical'].mean()\n",
    "\n",
    "# Flags the top 5 industries to add color\n",
    "barplot['best_industries'] = (barplot.employer_industry == 'Medical/Pharmaceutical') | \\\n",
    "                             (barplot.employer_industry == 'Insurance/Risk Assessment') | \\\n",
    "                             (barplot.employer_industry == 'Military/Security/Defense') | \\\n",
    "                             (barplot.employer_industry == 'Hospitality/Entertainment/Sports') | \\\n",
    "                             (barplot.employer_industry == 'Accounting/Finance')\n",
    "\n",
    "barplot.columns = ['y', 'x', 'best_industries']\n",
    "barplot = barplot.sort_values(by='x', ascending=True)\n",
    "barplot['color'] = barplot.best_industries.apply(lambda x: 'darkgoldenrod' if x else 'a')\n",
    "\n",
    "title_text = ['<b>Average Compensation per Industry | Top 5 in Color</b><br><i>without students</i>', 'Average Yearly Compensation (USD)', 'Industry']\n",
    "annotations = []\n",
    "\n",
    "generate_barplot(title_text, annotations, orient='h', lmarg=300, h=600)"
   ]
  },
  {
   "cell_type": "markdown",
   "metadata": {
    "_uuid": "cac639ce4ac2b477a7ad29d1cc5d6b0ef517f103"
   },
   "source": [
    "### Should You Aim at the C-level?\n",
    "It's obvious that a C-level compensation is much higher than an analyst's. But how much? Almost 3x. Also, managerial levels have better compensation. Makes sense, no?"
   ]
  },
  {
   "cell_type": "code",
   "execution_count": 18,
   "metadata": {
    "_kg_hide-input": true,
    "_uuid": "f463b453be7a77acd97ab4ffc3356e8abcbfdecf"
   },
   "outputs": [
    {
     "data": {
      "application/vnd.plotly.v1+json": {
       "config": {
        "linkText": "Export to plot.ly",
        "plotlyServerURL": "https://plot.ly",
        "showLink": false
       },
       "data": [
        {
         "marker": {
          "color": "lightgray"
         },
         "name": "lightgray",
         "orientation": "h",
         "type": "bar",
         "x": [
          26.25,
          43.42672413793103,
          43.898305084745765,
          47.775,
          48.298611111111114,
          48.83561643835616,
          49.701550387596896,
          50.656565656565654,
          54.26767676767677,
          57.24315068493151,
          57.315668202764975,
          58.07142857142857
         ],
         "y": [
          "Research Assistant",
          "Data Analyst",
          "Salesperson",
          "Business Analyst",
          "Developer Advocate",
          "Marketing Analyst",
          "Software Engineer",
          "DBA/Database Engineer",
          "Research Scientist",
          "Statistician",
          "Other",
          "Data Engineer"
         ]
        },
        {
         "marker": {
          "color": "mediumvioletred"
         },
         "name": "mediumvioletred",
         "orientation": "h",
         "type": "bar",
         "x": [
          67.94395116537181,
          68.88888888888889,
          70.51393728222996,
          72.0611439842209,
          94.8375,
          96.73611111111111,
          127.37268518518519
         ],
         "y": [
          "Data Scientist",
          "Data Journalist",
          "Product/Project Manager",
          "Consultant",
          "Manager",
          "Principal Investigator",
          "Chief Officer"
         ]
        }
       ],
       "layout": {
        "annotations": [
         {
          "font": {
           "color": "mediumvioletred",
           "size": 13
          },
          "showarrow": false,
          "text": "The first step into the ladder<br>of better compensation is<br>becoming a Data Scientist",
          "x": 0.6,
          "xanchor": "left",
          "xref": "paper",
          "y": 11.5,
          "yanchor": "bottom"
         }
        ],
        "height": 600,
        "margin": {
         "l": 300
        },
        "showlegend": false,
        "template": {
         "data": {
          "scatter": [
           {
            "type": "scatter"
           }
          ]
         }
        },
        "title": {
         "text": "<b>Average Compensation per Role | Top 7 in Color</b><br><i>without students</i>"
        },
        "width": 800,
        "xaxis": {
         "color": "#AAAAAA",
         "showgrid": false,
         "title": {
          "font": {
           "color": "#AAAAAA"
          },
          "text": "Average Yearly Compensation (USD)"
         }
        },
        "yaxis": {
         "color": "#AAAAAA",
         "showgrid": false,
         "title": {
          "font": {
           "color": "#AAAAAA"
          },
          "text": "Job Title"
         }
        }
       }
      },
      "text/html": [
       "<div>                            <div id=\"2d8b76bb-e5e7-4d24-a37c-1c5b0956438b\" class=\"plotly-graph-div\" style=\"height:600px; width:800px;\"></div>            <script type=\"text/javascript\">                require([\"plotly\"], function(Plotly) {                    window.PLOTLYENV=window.PLOTLYENV || {};                                    if (document.getElementById(\"2d8b76bb-e5e7-4d24-a37c-1c5b0956438b\")) {                    Plotly.newPlot(                        \"2d8b76bb-e5e7-4d24-a37c-1c5b0956438b\",                        [{\"marker\":{\"color\":\"lightgray\"},\"name\":\"lightgray\",\"orientation\":\"h\",\"x\":[26.25,43.42672413793103,43.898305084745765,47.775,48.298611111111114,48.83561643835616,49.701550387596896,50.656565656565654,54.26767676767677,57.24315068493151,57.315668202764975,58.07142857142857],\"y\":[\"Research Assistant\",\"Data Analyst\",\"Salesperson\",\"Business Analyst\",\"Developer Advocate\",\"Marketing Analyst\",\"Software Engineer\",\"DBA/Database Engineer\",\"Research Scientist\",\"Statistician\",\"Other\",\"Data Engineer\"],\"type\":\"bar\"},{\"marker\":{\"color\":\"mediumvioletred\"},\"name\":\"mediumvioletred\",\"orientation\":\"h\",\"x\":[67.94395116537181,68.88888888888889,70.51393728222996,72.0611439842209,94.8375,96.73611111111111,127.37268518518519],\"y\":[\"Data Scientist\",\"Data Journalist\",\"Product/Project Manager\",\"Consultant\",\"Manager\",\"Principal Investigator\",\"Chief Officer\"],\"type\":\"bar\"}],                        {\"annotations\":[{\"font\":{\"color\":\"mediumvioletred\",\"size\":13},\"showarrow\":false,\"text\":\"The first step into the ladder<br>of better compensation is<br>becoming a Data Scientist\",\"x\":0.6,\"xanchor\":\"left\",\"xref\":\"paper\",\"y\":11.5,\"yanchor\":\"bottom\"}],\"height\":600,\"margin\":{\"l\":300},\"showlegend\":false,\"template\":{\"data\":{\"scatter\":[{\"type\":\"scatter\"}]}},\"title\":{\"text\":\"<b>Average Compensation per Role | Top 7 in Color</b><br><i>without students</i>\"},\"width\":800,\"xaxis\":{\"color\":\"#AAAAAA\",\"showgrid\":false,\"title\":{\"font\":{\"color\":\"#AAAAAA\"},\"text\":\"Average Yearly Compensation (USD)\"}},\"yaxis\":{\"color\":\"#AAAAAA\",\"showgrid\":false,\"title\":{\"font\":{\"color\":\"#AAAAAA\"},\"text\":\"Job Title\"}}},                        {\"responsive\": true}                    ).then(function(){\n",
       "                            \n",
       "var gd = document.getElementById('2d8b76bb-e5e7-4d24-a37c-1c5b0956438b');\n",
       "var x = new MutationObserver(function (mutations, observer) {{\n",
       "        var display = window.getComputedStyle(gd).display;\n",
       "        if (!display || display === 'none') {{\n",
       "            console.log([gd, 'removed!']);\n",
       "            Plotly.purge(gd);\n",
       "            observer.disconnect();\n",
       "        }}\n",
       "}});\n",
       "\n",
       "// Listen for the removal of the full notebook cells\n",
       "var notebookContainer = gd.closest('#notebook-container');\n",
       "if (notebookContainer) {{\n",
       "    x.observe(notebookContainer, {childList: true});\n",
       "}}\n",
       "\n",
       "// Listen for the clearing of the current output cell\n",
       "var outputEl = gd.closest('.output');\n",
       "if (outputEl) {{\n",
       "    x.observe(outputEl, {childList: true});\n",
       "}}\n",
       "\n",
       "                        })                };                });            </script>        </div>"
      ]
     },
     "metadata": {},
     "output_type": "display_data"
    }
   ],
   "source": [
    "# Calculates compensation per role\n",
    "barplot = personal_data[not_student_mask].groupby(['role'], as_index=False)['yearly_compensation_numerical'].mean()\n",
    "\n",
    "# Flags the top 5 roles to add color\n",
    "barplot['role_highlight'] = (barplot.role == 'Data Scientist') | \\\n",
    "                        (barplot.role == 'Product/Project Manager') | \\\n",
    "                        (barplot.role == 'Consultant') | \\\n",
    "                        (barplot.role == 'Data Journalist') | \\\n",
    "                        (barplot.role == 'Manager') | \\\n",
    "                        (barplot.role == 'Principal Investigator') | \\\n",
    "                        (barplot.role == 'Chief Officer')\n",
    "\n",
    "barplot.columns = ['y', 'x', 'role_highlight']\n",
    "barplot = barplot.sort_values(by='x', ascending=True)\n",
    "barplot['color'] = barplot.role_highlight.apply(lambda x: 'mediumvioletred' if x else 'lightgray')\n",
    "\n",
    "title_text = ['<b>Average Compensation per Role | Top 7 in Color</b><br><i>without students</i>', 'Average Yearly Compensation (USD)', 'Job Title']\n",
    "annotations = [{'x': 0.6, 'y': 11.5, 'text': 'The first step into the ladder<br>of better compensation is<br>becoming a Data Scientist','color': 'mediumvioletred'}]\n",
    "\n",
    "generate_barplot(title_text, annotations, orient='h', lmarg=300, h=600)"
   ]
  },
  {
   "cell_type": "markdown",
   "metadata": {
    "_kg_hide-input": false,
    "_uuid": "f0fc64d311e409826f80769b20fb51e332740ec0"
   },
   "source": [
    "### Which countries pay more?\n",
    "Does living on certain contries impact the average compensation you get? Below we show how much, on average, you should expect to earn in each country."
   ]
  },
  {
   "cell_type": "code",
   "execution_count": 19,
   "metadata": {
    "_kg_hide-input": true,
    "_uuid": "aaa6ec885f7a7d5aaa3efe859d9954ff6dfcd966"
   },
   "outputs": [
    {
     "data": {
      "application/vnd.plotly.v1+json": {
       "config": {
        "linkText": "Export to plot.ly",
        "plotlyServerURL": "https://plot.ly",
        "showLink": false
       },
       "data": [
        {
         "marker": {
          "color": "lightgray"
         },
         "name": "lightgray",
         "orientation": "h",
         "type": "bar",
         "x": [
          9.938271604938272,
          13.55072463768116,
          15.071428571428571,
          15.214285714285714,
          17.17241379310345,
          18.333333333333332,
          19.193548387096776,
          19.39516129032258,
          21.25,
          22.833333333333332,
          23.13953488372093,
          23.75,
          24.67391304347826,
          25.05,
          25.490762124711317,
          25.632911392405063,
          25.73170731707317,
          25.93686354378819,
          26.923076923076923,
          27.59090909090909,
          28.42948717948718,
          29.127789046653145,
          30.238095238095237,
          30.333333333333332,
          30.33625730994152,
          30.405405405405407,
          30.89430894308943,
          31.812339331619537,
          33.91891891891892,
          35.1619170984456,
          36.02564102564103,
          40.54469273743017,
          43.094795539033456,
          46.59090909090909,
          47.9746835443038,
          49.65625,
          53.44827586206897,
          55.35087719298246,
          55.51282051282051,
          57.70695364238411,
          60.0625,
          61.921052631578945,
          64.13366336633663,
          65.89285714285714,
          67.28187919463087,
          67.51385041551247,
          67.74647887323944,
          84.66666666666667
         ],
         "y": [
          "Nigeria",
          "Vietnam",
          "Egypt",
          "Iran",
          "Turkey",
          "Morocco",
          "Bangladesh",
          "Pakistan",
          "Peru",
          "Greece",
          "Belarus",
          "Romania",
          "Indonesia",
          "Malaysia",
          "Russia",
          "Argentina",
          "Ukraine",
          "India",
          "Philippines",
          "Hungary",
          "Portugal",
          "Other",
          "Kenya",
          "Tunisia",
          "Poland",
          "Thailand",
          "Mexico",
          "Brazil",
          "Czech Republic",
          "China",
          "Colombia",
          "Italy",
          "Spain",
          "Chile",
          "South Africa",
          "Not Disclosed",
          "Austria",
          "Belgium",
          "Finland",
          "France",
          "New Zealand",
          "South Korea",
          "Sweden",
          "Singapore",
          "Netherlands",
          "Germany",
          "Japan",
          "Hong Kong (S.A.R.)"
         ]
        },
        {
         "marker": {
          "color": "mediumseagreen"
         },
         "name": "mediumseagreen",
         "orientation": "h",
         "type": "bar",
         "x": [
          70.98026315789474,
          72.9326923076923,
          75.93023255813954,
          81.21753246753246,
          84.57627118644068,
          90.76530612244898,
          98.9327485380117,
          112.67608517608518,
          122.1875
         ],
         "y": [
          "United Kingdom",
          "Ireland",
          "Norway",
          "Canada",
          "Denmark",
          "Israel",
          "Australia",
          "United States",
          "Switzerland"
         ]
        }
       ],
       "layout": {
        "height": 1200,
        "margin": {
         "l": 300
        },
        "showlegend": false,
        "template": {
         "data": {
          "scatter": [
           {
            "type": "scatter"
           }
          ]
         }
        },
        "title": {
         "text": "<b>Average Compensation per Country - Top 10 in Color</b><br><i>without students</i>"
        },
        "width": 800,
        "xaxis": {
         "color": "#AAAAAA",
         "showgrid": false,
         "title": {
          "font": {
           "color": "#AAAAAA"
          },
          "text": "Average Yearly Compensation (USD)"
         }
        },
        "yaxis": {
         "color": "#AAAAAA",
         "showgrid": false,
         "title": {
          "font": {
           "color": "#AAAAAA"
          },
          "text": "Country"
         }
        }
       }
      },
      "text/html": [
       "<div>                            <div id=\"e6b5fbd9-586c-4307-9f3b-225a49cd0899\" class=\"plotly-graph-div\" style=\"height:1200px; width:800px;\"></div>            <script type=\"text/javascript\">                require([\"plotly\"], function(Plotly) {                    window.PLOTLYENV=window.PLOTLYENV || {};                                    if (document.getElementById(\"e6b5fbd9-586c-4307-9f3b-225a49cd0899\")) {                    Plotly.newPlot(                        \"e6b5fbd9-586c-4307-9f3b-225a49cd0899\",                        [{\"marker\":{\"color\":\"lightgray\"},\"name\":\"lightgray\",\"orientation\":\"h\",\"x\":[9.938271604938272,13.55072463768116,15.071428571428571,15.214285714285714,17.17241379310345,18.333333333333332,19.193548387096776,19.39516129032258,21.25,22.833333333333332,23.13953488372093,23.75,24.67391304347826,25.05,25.490762124711317,25.632911392405063,25.73170731707317,25.93686354378819,26.923076923076923,27.59090909090909,28.42948717948718,29.127789046653145,30.238095238095237,30.333333333333332,30.33625730994152,30.405405405405407,30.89430894308943,31.812339331619537,33.91891891891892,35.1619170984456,36.02564102564103,40.54469273743017,43.094795539033456,46.59090909090909,47.9746835443038,49.65625,53.44827586206897,55.35087719298246,55.51282051282051,57.70695364238411,60.0625,61.921052631578945,64.13366336633663,65.89285714285714,67.28187919463087,67.51385041551247,67.74647887323944,84.66666666666667],\"y\":[\"Nigeria\",\"Vietnam\",\"Egypt\",\"Iran\",\"Turkey\",\"Morocco\",\"Bangladesh\",\"Pakistan\",\"Peru\",\"Greece\",\"Belarus\",\"Romania\",\"Indonesia\",\"Malaysia\",\"Russia\",\"Argentina\",\"Ukraine\",\"India\",\"Philippines\",\"Hungary\",\"Portugal\",\"Other\",\"Kenya\",\"Tunisia\",\"Poland\",\"Thailand\",\"Mexico\",\"Brazil\",\"Czech Republic\",\"China\",\"Colombia\",\"Italy\",\"Spain\",\"Chile\",\"South Africa\",\"Not Disclosed\",\"Austria\",\"Belgium\",\"Finland\",\"France\",\"New Zealand\",\"South Korea\",\"Sweden\",\"Singapore\",\"Netherlands\",\"Germany\",\"Japan\",\"Hong Kong (S.A.R.)\"],\"type\":\"bar\"},{\"marker\":{\"color\":\"mediumseagreen\"},\"name\":\"mediumseagreen\",\"orientation\":\"h\",\"x\":[70.98026315789474,72.9326923076923,75.93023255813954,81.21753246753246,84.57627118644068,90.76530612244898,98.9327485380117,112.67608517608518,122.1875],\"y\":[\"United Kingdom\",\"Ireland\",\"Norway\",\"Canada\",\"Denmark\",\"Israel\",\"Australia\",\"United States\",\"Switzerland\"],\"type\":\"bar\"}],                        {\"height\":1200,\"margin\":{\"l\":300},\"showlegend\":false,\"template\":{\"data\":{\"scatter\":[{\"type\":\"scatter\"}]}},\"title\":{\"text\":\"<b>Average Compensation per Country - Top 10 in Color</b><br><i>without students</i>\"},\"width\":800,\"xaxis\":{\"color\":\"#AAAAAA\",\"showgrid\":false,\"title\":{\"font\":{\"color\":\"#AAAAAA\"},\"text\":\"Average Yearly Compensation (USD)\"}},\"yaxis\":{\"color\":\"#AAAAAA\",\"showgrid\":false,\"title\":{\"font\":{\"color\":\"#AAAAAA\"},\"text\":\"Country\"}}},                        {\"responsive\": true}                    ).then(function(){\n",
       "                            \n",
       "var gd = document.getElementById('e6b5fbd9-586c-4307-9f3b-225a49cd0899');\n",
       "var x = new MutationObserver(function (mutations, observer) {{\n",
       "        var display = window.getComputedStyle(gd).display;\n",
       "        if (!display || display === 'none') {{\n",
       "            console.log([gd, 'removed!']);\n",
       "            Plotly.purge(gd);\n",
       "            observer.disconnect();\n",
       "        }}\n",
       "}});\n",
       "\n",
       "// Listen for the removal of the full notebook cells\n",
       "var notebookContainer = gd.closest('#notebook-container');\n",
       "if (notebookContainer) {{\n",
       "    x.observe(notebookContainer, {childList: true});\n",
       "}}\n",
       "\n",
       "// Listen for the clearing of the current output cell\n",
       "var outputEl = gd.closest('.output');\n",
       "if (outputEl) {{\n",
       "    x.observe(outputEl, {childList: true});\n",
       "}}\n",
       "\n",
       "                        })                };                });            </script>        </div>"
      ]
     },
     "metadata": {},
     "output_type": "display_data"
    }
   ],
   "source": [
    "# Replacing long country names\n",
    "personal_data.country = personal_data.country.str.replace('United Kingdom of Great Britain and Northern Ireland', 'United Kingdom', regex = False)\n",
    "personal_data.country = personal_data.country.str.replace('United States of America', 'United States', regex = False)\n",
    "personal_data.country = personal_data.country.str.replace('I do not wish to disclose my location', 'Not Disclosed', regex = False)\n",
    "personal_data.country = personal_data.country.str.replace('Iran, Islamic Republic of...', 'Iran', regex = False)\n",
    "personal_data.country = personal_data.country.str.replace('Hong Kong \\(S.A.R.\\)', 'Hong Kong', regex = False)\n",
    "personal_data.country = personal_data.country.str.replace('Viet Nam', 'Vietnam', regex = False)\n",
    "personal_data.country = personal_data.country.str.replace('Republic of Korea', 'South Korea', regex = False)\n",
    "\n",
    "# Calculates compensation per country\n",
    "barplot = personal_data[not_student_mask].groupby(['country'], as_index=False)['yearly_compensation_numerical'].mean()\n",
    "\n",
    "# Flags the top 10 countries to add color\n",
    "barplot['country_highlight'] = (barplot.country == 'United States') | \\\n",
    "                               (barplot.country == 'Switzerland') | \\\n",
    "                               (barplot.country == 'Australia') | \\\n",
    "                               (barplot.country == 'Israel') | \\\n",
    "                               (barplot.country == 'Denmark') | \\\n",
    "                               (barplot.country == 'Canada') | \\\n",
    "                               (barplot.country == 'Hong Kong') | \\\n",
    "                               (barplot.country == 'Norway') | \\\n",
    "                               (barplot.country == 'Ireland') | \\\n",
    "                               (barplot.country == 'United Kingdom')\n",
    "\n",
    "barplot.columns = ['y', 'x', 'country_highlight']\n",
    "barplot = barplot.sort_values(by='x', ascending=True)\n",
    "barplot['color'] = barplot.country_highlight.apply(lambda x: 'mediumseagreen' if x else 'lightgray')\n",
    "\n",
    "title_text = ['<b>Average Compensation per Country - Top 10 in Color</b><br><i>without students</i>', 'Average Yearly Compensation (USD)', 'Country']\n",
    "annotations = []\n",
    "\n",
    "generate_barplot(title_text, annotations, orient='h', lmarg=300, h=1200)"
   ]
  },
  {
   "cell_type": "markdown",
   "metadata": {
    "_uuid": "0b6ec7d7b1813924a4f6471eb71ccfa23441e10d"
   },
   "source": [
    "We see that countries that have a higher cost of living are showing up at the top, paying more. Let's try to divide the average compensation by the cost of living to normalize this feature? We found a ranking of cost of living per country at [Expatistan.com](https://www.expatistan.com/cost-of-living/country/ranking) on Nov. 15th 2018. This source also provide a price index for each country, that is calculated as described below: \n",
    "\n",
    "> To calculate each country's Price Index value, we start by assigning a value of 100 to a central reference country (that happens to be the Czech Republic). Once the reference point has been established, the Price Index value of every other country in the database is calculated by comparing their cost of living to the cost of living in the Czech Republic.\n",
    "Therefore, if a country has a Price Index of 134, that means that living there is 34% more expensive than living in the Czech Republic. Source: [Expatistan.com](https://www.expatistan.com/cost-of-living/country/ranking)"
   ]
  },
  {
   "cell_type": "code",
   "execution_count": 20,
   "metadata": {
    "_kg_hide-input": true,
    "_uuid": "d49c1f95007f08e69d5ba8aa4c5a2ea81da4c08a"
   },
   "outputs": [
    {
     "data": {
      "text/html": [
       "<div>\n",
       "<style scoped>\n",
       "    .dataframe tbody tr th:only-of-type {\n",
       "        vertical-align: middle;\n",
       "    }\n",
       "\n",
       "    .dataframe tbody tr th {\n",
       "        vertical-align: top;\n",
       "    }\n",
       "\n",
       "    .dataframe thead th {\n",
       "        text-align: right;\n",
       "    }\n",
       "</style>\n",
       "<table border=\"1\" class=\"dataframe\">\n",
       "  <thead>\n",
       "    <tr style=\"text-align: right;\">\n",
       "      <th></th>\n",
       "      <th>ranking</th>\n",
       "      <th>country</th>\n",
       "      <th>price_index</th>\n",
       "    </tr>\n",
       "  </thead>\n",
       "  <tbody>\n",
       "    <tr>\n",
       "      <th>0</th>\n",
       "      <td>1st</td>\n",
       "      <td>Cayman Islands</td>\n",
       "      <td>262</td>\n",
       "    </tr>\n",
       "    <tr>\n",
       "      <th>1</th>\n",
       "      <td>2nd</td>\n",
       "      <td>Switzerland</td>\n",
       "      <td>246</td>\n",
       "    </tr>\n",
       "    <tr>\n",
       "      <th>2</th>\n",
       "      <td>3rd</td>\n",
       "      <td>Hong Kong</td>\n",
       "      <td>246</td>\n",
       "    </tr>\n",
       "    <tr>\n",
       "      <th>3</th>\n",
       "      <td>4th</td>\n",
       "      <td>Iceland</td>\n",
       "      <td>214</td>\n",
       "    </tr>\n",
       "    <tr>\n",
       "      <th>4</th>\n",
       "      <td>5th</td>\n",
       "      <td>Singapore</td>\n",
       "      <td>209</td>\n",
       "    </tr>\n",
       "  </tbody>\n",
       "</table>\n",
       "</div>"
      ],
      "text/plain": [
       "  ranking         country  price_index\n",
       "0     1st  Cayman Islands          262\n",
       "1     2nd     Switzerland          246\n",
       "2     3rd       Hong Kong          246\n",
       "3     4th         Iceland          214\n",
       "4     5th       Singapore          209"
      ]
     },
     "execution_count": 20,
     "metadata": {},
     "output_type": "execute_result"
    }
   ],
   "source": [
    "# Loading the cost of living\n",
    "cost_living = pd.read_csv('cost_of_living.csv')\n",
    "cost_living.columns = ['ranking', 'country', 'price_index']\n",
    "cost_living.head()"
   ]
  },
  {
   "cell_type": "code",
   "execution_count": 21,
   "metadata": {},
   "outputs": [
    {
     "data": {
      "text/html": [
       "<div>\n",
       "<style scoped>\n",
       "    .dataframe tbody tr th:only-of-type {\n",
       "        vertical-align: middle;\n",
       "    }\n",
       "\n",
       "    .dataframe tbody tr th {\n",
       "        vertical-align: top;\n",
       "    }\n",
       "\n",
       "    .dataframe thead th {\n",
       "        text-align: right;\n",
       "    }\n",
       "</style>\n",
       "<table border=\"1\" class=\"dataframe\">\n",
       "  <thead>\n",
       "    <tr style=\"text-align: right;\">\n",
       "      <th></th>\n",
       "      <th>gender</th>\n",
       "      <th>age</th>\n",
       "      <th>country</th>\n",
       "      <th>education_level</th>\n",
       "      <th>undergrad_major</th>\n",
       "      <th>role</th>\n",
       "      <th>employer_industry</th>\n",
       "      <th>years_experience</th>\n",
       "      <th>yearly_compensation</th>\n",
       "      <th>yearly_compensation_numerical</th>\n",
       "      <th>top20</th>\n",
       "      <th>top20_no_students</th>\n",
       "    </tr>\n",
       "  </thead>\n",
       "  <tbody>\n",
       "    <tr>\n",
       "      <th>2</th>\n",
       "      <td>Male</td>\n",
       "      <td>30-34</td>\n",
       "      <td>Indonesia</td>\n",
       "      <td>Bachelor’s degree</td>\n",
       "      <td>Engineering (non-computer focused)</td>\n",
       "      <td>Other</td>\n",
       "      <td>Manufacturing/Fabrication</td>\n",
       "      <td>5-10</td>\n",
       "      <td>10-20,000</td>\n",
       "      <td>15.0</td>\n",
       "      <td>False</td>\n",
       "      <td>False</td>\n",
       "    </tr>\n",
       "    <tr>\n",
       "      <th>3</th>\n",
       "      <td>Female</td>\n",
       "      <td>30-34</td>\n",
       "      <td>United States</td>\n",
       "      <td>Master’s degree</td>\n",
       "      <td>Computer science (software engineering, etc.)</td>\n",
       "      <td>Data Scientist</td>\n",
       "      <td>I am a student</td>\n",
       "      <td>0-1</td>\n",
       "      <td>0-10,000</td>\n",
       "      <td>5.0</td>\n",
       "      <td>False</td>\n",
       "      <td>False</td>\n",
       "    </tr>\n",
       "    <tr>\n",
       "      <th>5</th>\n",
       "      <td>Male</td>\n",
       "      <td>22-24</td>\n",
       "      <td>India</td>\n",
       "      <td>Master’s degree</td>\n",
       "      <td>Mathematics or statistics</td>\n",
       "      <td>Data Analyst</td>\n",
       "      <td>I am a student</td>\n",
       "      <td>0-1</td>\n",
       "      <td>0-10,000</td>\n",
       "      <td>5.0</td>\n",
       "      <td>False</td>\n",
       "      <td>False</td>\n",
       "    </tr>\n",
       "    <tr>\n",
       "      <th>7</th>\n",
       "      <td>Male</td>\n",
       "      <td>35-39</td>\n",
       "      <td>Chile</td>\n",
       "      <td>Doctoral degree</td>\n",
       "      <td>Information technology, networking, or system ...</td>\n",
       "      <td>Other</td>\n",
       "      <td>Academics/Education</td>\n",
       "      <td>10-15</td>\n",
       "      <td>10-20,000</td>\n",
       "      <td>15.0</td>\n",
       "      <td>False</td>\n",
       "      <td>False</td>\n",
       "    </tr>\n",
       "    <tr>\n",
       "      <th>8</th>\n",
       "      <td>Male</td>\n",
       "      <td>18-21</td>\n",
       "      <td>India</td>\n",
       "      <td>Master’s degree</td>\n",
       "      <td>Information technology, networking, or system ...</td>\n",
       "      <td>Other</td>\n",
       "      <td>Other</td>\n",
       "      <td>0-1</td>\n",
       "      <td>0-10,000</td>\n",
       "      <td>5.0</td>\n",
       "      <td>False</td>\n",
       "      <td>False</td>\n",
       "    </tr>\n",
       "  </tbody>\n",
       "</table>\n",
       "</div>"
      ],
      "text/plain": [
       "   gender    age        country    education_level  \\\n",
       "2    Male  30-34      Indonesia  Bachelor’s degree   \n",
       "3  Female  30-34  United States    Master’s degree   \n",
       "5    Male  22-24          India    Master’s degree   \n",
       "7    Male  35-39          Chile    Doctoral degree   \n",
       "8    Male  18-21          India    Master’s degree   \n",
       "\n",
       "                                     undergrad_major            role  \\\n",
       "2                 Engineering (non-computer focused)           Other   \n",
       "3      Computer science (software engineering, etc.)  Data Scientist   \n",
       "5                          Mathematics or statistics    Data Analyst   \n",
       "7  Information technology, networking, or system ...           Other   \n",
       "8  Information technology, networking, or system ...           Other   \n",
       "\n",
       "           employer_industry years_experience yearly_compensation  \\\n",
       "2  Manufacturing/Fabrication             5-10           10-20,000   \n",
       "3             I am a student              0-1            0-10,000   \n",
       "5             I am a student              0-1            0-10,000   \n",
       "7        Academics/Education            10-15           10-20,000   \n",
       "8                      Other              0-1            0-10,000   \n",
       "\n",
       "   yearly_compensation_numerical  top20  top20_no_students  \n",
       "2                           15.0  False              False  \n",
       "3                            5.0  False              False  \n",
       "5                            5.0  False              False  \n",
       "7                           15.0  False              False  \n",
       "8                            5.0  False              False  "
      ]
     },
     "execution_count": 21,
     "metadata": {},
     "output_type": "execute_result"
    }
   ],
   "source": [
    "personal_data.head()"
   ]
  },
  {
   "cell_type": "code",
   "execution_count": 22,
   "metadata": {
    "_kg_hide-input": true,
    "_kg_hide-output": true,
    "_uuid": "ce30573a4c2f49c7a84d90bf0c2ee4e4fb7846c2"
   },
   "outputs": [],
   "source": [
    "# joining both tables\n",
    "personal_data = personal_data.merge(cost_living, on='country') # doing an inner join to avoid nans on normalized compensation\n",
    "\n",
    "# calculating the normalized compensation\n",
    "personal_data['normalized_compensation'] = personal_data.yearly_compensation_numerical / personal_data.price_index * 10\n",
    "personal_data['normalized_compensation'] = personal_data['normalized_compensation'].round() * 10"
   ]
  },
  {
   "cell_type": "code",
   "execution_count": 23,
   "metadata": {
    "_kg_hide-input": true,
    "_kg_hide-output": true,
    "_uuid": "96cbd3bdfc5fe23e50794b015cf86f8e23e445d0"
   },
   "outputs": [],
   "source": [
    "# recreating masks\n",
    "is_student_mask = (personal_data['role'] == 'Student') | (personal_data['employer_industry'] == 'I am a student')\n",
    "not_student_mask = (personal_data['role'] != 'Student') & (personal_data['employer_industry'] != 'I am a student')"
   ]
  },
  {
   "cell_type": "code",
   "execution_count": 24,
   "metadata": {
    "_kg_hide-input": true,
    "_uuid": "4a4291b760f12ee285015bcd8247f19da80ae191"
   },
   "outputs": [
    {
     "data": {
      "application/vnd.plotly.v1+json": {
       "config": {
        "linkText": "Export to plot.ly",
        "plotlyServerURL": "https://plot.ly",
        "showLink": false
       },
       "data": [
        {
         "marker": {
          "color": "lightgray"
         },
         "name": "lightgray",
         "orientation": "h",
         "type": "bar",
         "x": [
          17.833333333333332,
          19.420289855072465,
          23.076923076923077,
          24,
          25.238095238095237,
          29.041450777202073,
          30,
          31.08108108108108,
          31.176470588235293,
          31.25,
          31.4,
          32.04081632653061,
          32.513966480446925,
          32.972972972972975,
          33.09090909090909,
          34.1025641025641,
          34.492753623188406,
          34.91916859122402,
          36.61710037174721,
          36.8421052631579,
          37.310344827586206,
          37.5609756097561,
          37.69230769230769,
          38.421052631578945,
          38.83720930232558,
          39.0728476821192,
          39.26829268292683,
          39.285714285714285,
          39.59731543624161,
          42.95629820051414,
          42.97029702970297,
          43.73684210526316,
          44.014084507042256,
          46.8499660556687,
          52.04545454545455,
          53.037974683544306
         ],
         "y": [
          "Greece",
          "Vietnam",
          "Portugal",
          "Egypt",
          "Morocco",
          "China",
          "Romania",
          "Thailand",
          "Peru",
          "New Zealand",
          "Malaysia",
          "Singapore",
          "Italy",
          "Czech Republic",
          "Hungary",
          "Finland",
          "Indonesia",
          "Russia",
          "Spain",
          "Poland",
          "Turkey",
          "Ukraine",
          "Ireland",
          "Belgium",
          "Norway",
          "France",
          "Mexico",
          "Kenya",
          "Netherlands",
          "Brazil",
          "Sweden",
          "United Kingdom",
          "Japan",
          "India",
          "Chile",
          "South Africa"
         ]
        },
        {
         "marker": {
          "color": "mediumseagreen"
         },
         "name": "mediumseagreen",
         "orientation": "h",
         "type": "bar",
         "x": [
          45.23545706371191,
          50.125,
          50.50847457627118,
          50.816326530612244,
          52.6948051948052,
          55.256410256410255,
          55.84795321637427,
          66.4086814086814
         ],
         "y": [
          "Germany",
          "Switzerland",
          "Denmark",
          "Israel",
          "Canada",
          "Colombia",
          "Australia",
          "United States"
         ]
        }
       ],
       "layout": {
        "height": 1200,
        "margin": {
         "l": 300
        },
        "showlegend": false,
        "template": {
         "data": {
          "scatter": [
           {
            "type": "scatter"
           }
          ]
         }
        },
        "title": {
         "text": "<b>Normalized Average Compensation per Country - Top 10 in Color</b><br><i>without students</i>"
        },
        "width": 800,
        "xaxis": {
         "color": "#AAAAAA",
         "showgrid": false,
         "title": {
          "font": {
           "color": "#AAAAAA"
          },
          "text": "Normalized Average Yearly Compensation (USD)"
         }
        },
        "yaxis": {
         "color": "#AAAAAA",
         "showgrid": false,
         "title": {
          "font": {
           "color": "#AAAAAA"
          },
          "text": "Country"
         }
        }
       }
      },
      "text/html": [
       "<div>                            <div id=\"6315e89c-2165-435e-ae4e-762c6b9c8533\" class=\"plotly-graph-div\" style=\"height:1200px; width:800px;\"></div>            <script type=\"text/javascript\">                require([\"plotly\"], function(Plotly) {                    window.PLOTLYENV=window.PLOTLYENV || {};                                    if (document.getElementById(\"6315e89c-2165-435e-ae4e-762c6b9c8533\")) {                    Plotly.newPlot(                        \"6315e89c-2165-435e-ae4e-762c6b9c8533\",                        [{\"marker\":{\"color\":\"lightgray\"},\"name\":\"lightgray\",\"orientation\":\"h\",\"x\":[17.833333333333332,19.420289855072465,23.076923076923077,24.0,25.238095238095237,29.041450777202073,30.0,31.08108108108108,31.176470588235293,31.25,31.4,32.04081632653061,32.513966480446925,32.972972972972975,33.09090909090909,34.1025641025641,34.492753623188406,34.91916859122402,36.61710037174721,36.8421052631579,37.310344827586206,37.5609756097561,37.69230769230769,38.421052631578945,38.83720930232558,39.0728476821192,39.26829268292683,39.285714285714285,39.59731543624161,42.95629820051414,42.97029702970297,43.73684210526316,44.014084507042256,46.8499660556687,52.04545454545455,53.037974683544306],\"y\":[\"Greece\",\"Vietnam\",\"Portugal\",\"Egypt\",\"Morocco\",\"China\",\"Romania\",\"Thailand\",\"Peru\",\"New Zealand\",\"Malaysia\",\"Singapore\",\"Italy\",\"Czech Republic\",\"Hungary\",\"Finland\",\"Indonesia\",\"Russia\",\"Spain\",\"Poland\",\"Turkey\",\"Ukraine\",\"Ireland\",\"Belgium\",\"Norway\",\"France\",\"Mexico\",\"Kenya\",\"Netherlands\",\"Brazil\",\"Sweden\",\"United Kingdom\",\"Japan\",\"India\",\"Chile\",\"South Africa\"],\"type\":\"bar\"},{\"marker\":{\"color\":\"mediumseagreen\"},\"name\":\"mediumseagreen\",\"orientation\":\"h\",\"x\":[45.23545706371191,50.125,50.50847457627118,50.816326530612244,52.6948051948052,55.256410256410255,55.84795321637427,66.4086814086814],\"y\":[\"Germany\",\"Switzerland\",\"Denmark\",\"Israel\",\"Canada\",\"Colombia\",\"Australia\",\"United States\"],\"type\":\"bar\"}],                        {\"height\":1200,\"margin\":{\"l\":300},\"showlegend\":false,\"template\":{\"data\":{\"scatter\":[{\"type\":\"scatter\"}]}},\"title\":{\"text\":\"<b>Normalized Average Compensation per Country - Top 10 in Color</b><br><i>without students</i>\"},\"width\":800,\"xaxis\":{\"color\":\"#AAAAAA\",\"showgrid\":false,\"title\":{\"font\":{\"color\":\"#AAAAAA\"},\"text\":\"Normalized Average Yearly Compensation (USD)\"}},\"yaxis\":{\"color\":\"#AAAAAA\",\"showgrid\":false,\"title\":{\"font\":{\"color\":\"#AAAAAA\"},\"text\":\"Country\"}}},                        {\"responsive\": true}                    ).then(function(){\n",
       "                            \n",
       "var gd = document.getElementById('6315e89c-2165-435e-ae4e-762c6b9c8533');\n",
       "var x = new MutationObserver(function (mutations, observer) {{\n",
       "        var display = window.getComputedStyle(gd).display;\n",
       "        if (!display || display === 'none') {{\n",
       "            console.log([gd, 'removed!']);\n",
       "            Plotly.purge(gd);\n",
       "            observer.disconnect();\n",
       "        }}\n",
       "}});\n",
       "\n",
       "// Listen for the removal of the full notebook cells\n",
       "var notebookContainer = gd.closest('#notebook-container');\n",
       "if (notebookContainer) {{\n",
       "    x.observe(notebookContainer, {childList: true});\n",
       "}}\n",
       "\n",
       "// Listen for the clearing of the current output cell\n",
       "var outputEl = gd.closest('.output');\n",
       "if (outputEl) {{\n",
       "    x.observe(outputEl, {childList: true});\n",
       "}}\n",
       "\n",
       "                        })                };                });            </script>        </div>"
      ]
     },
     "metadata": {},
     "output_type": "display_data"
    }
   ],
   "source": [
    "# Calculates compensation per country\n",
    "barplot = personal_data[not_student_mask].groupby(['country'], as_index=False)['normalized_compensation'].mean()\n",
    "\n",
    "# Flags the top 10 countries to add color\n",
    "barplot['country_highlight'] = (barplot.country == 'United States') | \\\n",
    "                               (barplot.country == 'Australia') | \\\n",
    "                               (barplot.country == 'Israel') | \\\n",
    "                               (barplot.country == 'Switzerland') | \\\n",
    "                               (barplot.country == 'Canada') | \\\n",
    "                               (barplot.country == 'Tunisia') | \\\n",
    "                               (barplot.country == 'Germany') | \\\n",
    "                               (barplot.country == 'Denmark') | \\\n",
    "                               (barplot.country == 'Colombia') | \\\n",
    "                               (barplot.country == 'South Korea')\n",
    "\n",
    "barplot.columns = ['y', 'x', 'country_highlight']\n",
    "barplot = barplot.sort_values(by='x', ascending=True)\n",
    "barplot['color'] = barplot.country_highlight.apply(lambda x: 'mediumseagreen' if x else 'lightgray')\n",
    "\n",
    "title_text = ['<b>Normalized Average Compensation per Country - Top 10 in Color</b><br><i>without students</i>', \n",
    "              'Normalized Average Yearly Compensation (USD)', 'Country']\n",
    "annotations = []\n",
    "\n",
    "generate_barplot(title_text, annotations, orient='h', lmarg=300, h=1200)"
   ]
  },
  {
   "cell_type": "markdown",
   "metadata": {
    "_uuid": "fe30076afb489d320687d64d6348eb88829b40c3"
   },
   "source": [
    "We see that compensation is much smoother when we divide it by the cost of living. By livinng in most countries around the world, you should get almost the same compensation on average (between USD 30k and 40k per year). A few countries pay above the average (United States pays better than any other country), and other few countries pay below the average. \n",
    "\n",
    "## Top 20% by considering each country cost of living\n",
    "Let's define the top 20% again, now based on the normalized compensation to see it in a chart. "
   ]
  },
  {
   "cell_type": "code",
   "execution_count": 25,
   "metadata": {
    "_kg_hide-input": true,
    "_uuid": "4246abdf54220e323ec36875ef6b7c8a0a289c28"
   },
   "outputs": [
    {
     "data": {
      "application/vnd.plotly.v1+json": {
       "config": {
        "linkText": "Export to plot.ly",
        "plotlyServerURL": "https://plot.ly",
        "showLink": false
       },
       "data": [
        {
         "marker": {
          "color": "lightgray"
         },
         "name": "lightgray",
         "orientation": "v",
         "type": "bar",
         "x": [
          20,
          10,
          50,
          60,
          0,
          40,
          30
         ],
         "y": [
          1201,
          2607,
          751,
          702,
          1065,
          1443,
          1626
         ]
        },
        {
         "marker": {
          "color": "mediumaquamarine"
         },
         "name": "mediumaquamarine",
         "orientation": "v",
         "type": "bar",
         "x": [
          120,
          360,
          80,
          180,
          650,
          70,
          270,
          100,
          130,
          160,
          210,
          300,
          310,
          150,
          200,
          170,
          250,
          620,
          400,
          890,
          490,
          800,
          240,
          320,
          110,
          90,
          220,
          290,
          780,
          190,
          140,
          440,
          280,
          340,
          380,
          230,
          470,
          370,
          460
         ],
         "y": [
          54,
          1,
          532,
          9,
          1,
          642,
          6,
          393,
          148,
          47,
          30,
          16,
          11,
          29,
          25,
          20,
          11,
          5,
          5,
          6,
          8,
          4,
          4,
          4,
          52,
          86,
          2,
          2,
          2,
          6,
          14,
          3,
          1,
          1,
          1,
          3,
          1,
          1,
          1
         ]
        }
       ],
       "layout": {
        "annotations": [
         {
          "font": {
           "color": "mediumaquamarine",
           "size": 13
          },
          "showarrow": false,
          "text": "20% Most well paid",
          "x": 0.1,
          "xanchor": "left",
          "xref": "paper",
          "y": 1000,
          "yanchor": "bottom"
         }
        ],
        "height": 400,
        "margin": {
         "l": 120
        },
        "showlegend": false,
        "template": {
         "data": {
          "scatter": [
           {
            "type": "scatter"
           }
          ]
         }
        },
        "title": {
         "text": "<b>How Much Does Kagglers Get Paid?<br></b><i>normalized by cost of living</i>"
        },
        "width": 800,
        "xaxis": {
         "color": "#AAAAAA",
         "showgrid": false,
         "title": {
          "font": {
           "color": "#AAAAAA"
          },
          "text": "Normalized Yearly Compensation"
         }
        },
        "yaxis": {
         "color": "#AAAAAA",
         "showgrid": false,
         "title": {
          "font": {
           "color": "#AAAAAA"
          },
          "text": "Quantity of Respondents"
         }
        }
       }
      },
      "text/html": [
       "<div>                            <div id=\"b0a4360f-440a-4f9f-b392-6b7d149bf6f4\" class=\"plotly-graph-div\" style=\"height:400px; width:800px;\"></div>            <script type=\"text/javascript\">                require([\"plotly\"], function(Plotly) {                    window.PLOTLYENV=window.PLOTLYENV || {};                                    if (document.getElementById(\"b0a4360f-440a-4f9f-b392-6b7d149bf6f4\")) {                    Plotly.newPlot(                        \"b0a4360f-440a-4f9f-b392-6b7d149bf6f4\",                        [{\"marker\":{\"color\":\"lightgray\"},\"name\":\"lightgray\",\"orientation\":\"v\",\"x\":[20.0,10.0,50.0,60.0,0.0,40.0,30.0],\"y\":[1201,2607,751,702,1065,1443,1626],\"type\":\"bar\"},{\"marker\":{\"color\":\"mediumaquamarine\"},\"name\":\"mediumaquamarine\",\"orientation\":\"v\",\"x\":[120.0,360.0,80.0,180.0,650.0,70.0,270.0,100.0,130.0,160.0,210.0,300.0,310.0,150.0,200.0,170.0,250.0,620.0,400.0,890.0,490.0,800.0,240.0,320.0,110.0,90.0,220.0,290.0,780.0,190.0,140.0,440.0,280.0,340.0,380.0,230.0,470.0,370.0,460.0],\"y\":[54,1,532,9,1,642,6,393,148,47,30,16,11,29,25,20,11,5,5,6,8,4,4,4,52,86,2,2,2,6,14,3,1,1,1,3,1,1,1],\"type\":\"bar\"}],                        {\"annotations\":[{\"font\":{\"color\":\"mediumaquamarine\",\"size\":13},\"showarrow\":false,\"text\":\"20% Most well paid\",\"x\":0.1,\"xanchor\":\"left\",\"xref\":\"paper\",\"y\":1000,\"yanchor\":\"bottom\"}],\"height\":400,\"margin\":{\"l\":120},\"showlegend\":false,\"template\":{\"data\":{\"scatter\":[{\"type\":\"scatter\"}]}},\"title\":{\"text\":\"<b>How Much Does Kagglers Get Paid?<br></b><i>normalized by cost of living</i>\"},\"width\":800,\"xaxis\":{\"color\":\"#AAAAAA\",\"showgrid\":false,\"title\":{\"font\":{\"color\":\"#AAAAAA\"},\"text\":\"Normalized Yearly Compensation\"}},\"yaxis\":{\"color\":\"#AAAAAA\",\"showgrid\":false,\"title\":{\"font\":{\"color\":\"#AAAAAA\"},\"text\":\"Quantity of Respondents\"}}},                        {\"responsive\": true}                    ).then(function(){\n",
       "                            \n",
       "var gd = document.getElementById('b0a4360f-440a-4f9f-b392-6b7d149bf6f4');\n",
       "var x = new MutationObserver(function (mutations, observer) {{\n",
       "        var display = window.getComputedStyle(gd).display;\n",
       "        if (!display || display === 'none') {{\n",
       "            console.log([gd, 'removed!']);\n",
       "            Plotly.purge(gd);\n",
       "            observer.disconnect();\n",
       "        }}\n",
       "}});\n",
       "\n",
       "// Listen for the removal of the full notebook cells\n",
       "var notebookContainer = gd.closest('#notebook-container');\n",
       "if (notebookContainer) {{\n",
       "    x.observe(notebookContainer, {childList: true});\n",
       "}}\n",
       "\n",
       "// Listen for the clearing of the current output cell\n",
       "var outputEl = gd.closest('.output');\n",
       "if (outputEl) {{\n",
       "    x.observe(outputEl, {childList: true});\n",
       "}}\n",
       "\n",
       "                        })                };                });            </script>        </div>"
      ]
     },
     "metadata": {},
     "output_type": "display_data"
    }
   ],
   "source": [
    "# Defining the threshold for top 20% most paid\n",
    "top20_tresh = personal_data.normalized_compensation.quantile(0.8)\n",
    "personal_data['top20'] = personal_data.normalized_compensation > top20_tresh\n",
    "\n",
    "# creating data for future mapping of values\n",
    "top20 = personal_data.groupby('normalized_compensation', as_index=False)['top20'].min()\n",
    "\n",
    "# Calculates respondents per compensation\n",
    "barplot = personal_data.normalized_compensation.value_counts(sort=False).to_frame().reset_index()\n",
    "barplot.columns = ['normalized_compensation', 'qty']\n",
    "\n",
    "# mapping back to get top 20% and 50%\n",
    "barplot = barplot.merge(top20, on='normalized_compensation')\n",
    "barplot.columns = ['x', 'y', 'top20']\n",
    "barplot['color'] = barplot.top20.apply(lambda x: 'mediumaquamarine' if x else 'lightgray')\n",
    "\n",
    "title_text = ['<b>How Much Does Kagglers Get Paid?<br></b><i>normalized by cost of living</i>', 'Normalized Yearly Compensation', 'Quantity of Respondents']\n",
    "annotations = [{'x': 0.1, 'y': 1000, 'text': '20% Most well paid','color': 'mediumaquamarine'}]\n",
    "\n",
    "generate_barplot(title_text, annotations)"
   ]
  },
  {
   "cell_type": "markdown",
   "metadata": {
    "_uuid": "82c45080490a94dbbb991574ba9f0b3da1fe1adb"
   },
   "source": [
    "# Predicting if a Kaggler Earns More than USD 100k (Top 20% - without students)\n",
    "After doing this initial EDA, we see that there are a ton of different features to explore one by one (there were 50 question on the survey). So we propose creating a model to show wich features makes a Kaggler be in the top 20%. After that we may look at them more carefully and draw some conclusions."
   ]
  },
  {
   "cell_type": "markdown",
   "metadata": {
    "_uuid": "2152df1eb86e0d4d7178d6bd51f931b941f34ae0"
   },
   "source": [
    "## Advanced Data Cleaning\n",
    "The data is really, really messy... We are going to clean it and transform all questions in dummies.  For the purpose of modelling, we are just selecting some questions that we believe might explain higher salaries. All other questions were left here, but were not treated, so you can use this kernel for other purposes."
   ]
  },
  {
   "cell_type": "code",
   "execution_count": 26,
   "metadata": {
    "_kg_hide-input": true,
    "_kg_hide-output": true,
    "_uuid": "76f8d81b40d06e063cf3a633165fa0f30e817bf3"
   },
   "outputs": [],
   "source": [
    "# First we store all answers in a dict\n",
    "answers = {'Q1': mcA.iloc[:,1],\n",
    "           'Q2': mcA.iloc[:,3],\n",
    "           'Q3': mcA.iloc[:,4],\n",
    "           'Q4': mcA.iloc[:,5],\n",
    "           'Q5': mcA.iloc[:,6],\n",
    "           'Q6': mcA.iloc[:,7],\n",
    "           'Q7': mcA.iloc[:,9],\n",
    "           'Q8': mcA.iloc[:,11],\n",
    "           'Q9': mcA.iloc[:,12],\n",
    "           'Q10': mcA.iloc[:,13],\n",
    "           'Q11': mcA.iloc[:,14:21],\n",
    "           'Q12': mcA.iloc[:,22],\n",
    "           'Q13': mcA.iloc[:,29:44],\n",
    "           'Q14': mcA.iloc[:,45:56],\n",
    "           'Q15': mcA.iloc[:,57:64],\n",
    "           'Q16': mcA.iloc[:,65:83],\n",
    "           'Q17': mcA.iloc[:,84],\n",
    "           'Q18': mcA.iloc[:,86],\n",
    "           'Q19': mcA.iloc[:,88:107],\n",
    "           'Q20': mcA.iloc[:,108],\n",
    "           'Q21': mcA.iloc[:,110:123],\n",
    "           'Q22': mcA.iloc[:,124],\n",
    "           'Q23': mcA.iloc[:,126],\n",
    "           'Q24': mcA.iloc[:,127],\n",
    "           'Q25': mcA.iloc[:,128],\n",
    "           'Q26': mcA.iloc[:,129],\n",
    "           'Q27': mcA.iloc[:,130:150],\n",
    "           'Q28': mcA.iloc[:,151:194],\n",
    "           'Q29': mcA.iloc[:,195:223],\n",
    "           'Q30': mcA.iloc[:,224:249],\n",
    "           'Q31': mcA.iloc[:,250:262],\n",
    "           'Q32': mcA.iloc[:,263],\n",
    "           'Q33': mcA.iloc[:,265:276],\n",
    "           'Q34': mcA.iloc[:, 277:283],\n",
    "           'Q35': mcA.iloc[:, 284:290],\n",
    "           'Q36': mcA.iloc[:,291:304],\n",
    "           'Q37': mcA.iloc[:,305],\n",
    "           'Q38': mcA.iloc[:,307:329],\n",
    "           'Q39': mcA.iloc[:,330:332],\n",
    "           'Q40': mcA.iloc[:,332],\n",
    "           'Q41': mcA.iloc[:,333:336],\n",
    "           'Q42': mcA.iloc[:,336:341],\n",
    "           'Q43': mcA.iloc[:,342],\n",
    "           'Q44': mcA.iloc[:,343:348],\n",
    "           'Q45': mcA.iloc[:,349:355],\n",
    "           'Q46': mcA.iloc[:,355],\n",
    "           'Q47': mcA.iloc[:,356:371],\n",
    "           'Q48': mcA.iloc[:,372],\n",
    "           'Q49': mcA.iloc[:,373:385],\n",
    "           'Q50': mcA.iloc[:,386:394]}"
   ]
  },
  {
   "cell_type": "code",
   "execution_count": 27,
   "metadata": {
    "_kg_hide-input": true,
    "_kg_hide-output": true,
    "_uuid": "6e02a784e500962e267dfc41ee8490aa6664dfb7"
   },
   "outputs": [],
   "source": [
    "# Then we store all questions in another dict\n",
    "questions = {\n",
    "'Q1': 'What is your gender?',\n",
    "'Q2': 'What is your age (# years)?',\n",
    "'Q3': 'In which country do you currently reside?',\n",
    "'Q4': 'What is the highest level of formal education that you have attained or plan to attain within the next 2 years?',\n",
    "'Q5': 'Which best describes your undergraduate major?',\n",
    "'Q6': 'Select the title most similar to your current role (or most recent title if retired)',\n",
    "'Q7': 'In what industry is your current employer/contract (or your most recent employer if retired)?',\n",
    "'Q8': 'How many years of experience do you have in your current role?',\n",
    "'Q9': 'What is your current yearly compensation (approximate $USD)?',\n",
    "'Q10': 'Does your current employer incorporate machine learning methods into their business?',\n",
    "'Q11': 'Select any activities that make up an important part of your role at work',\n",
    "'Q12': 'What is the primary tool that you use at work or school to analyze data?',\n",
    "'Q13': 'Which of the following integrated development environments (IDEs) have you used at work or school in the last 5 years?',\n",
    "'Q14': 'Which of the following hosted notebooks have you used at work or school in the last 5 years?',\n",
    "'Q15': 'Which of the following cloud computing services have you used at work or school in the last 5 years?',\n",
    "'Q16': 'What programming languages do you use on a regular basis?',\n",
    "'Q17': 'What specific programming language do you use most often?',\n",
    "'Q18': 'What programming language would you recommend an aspiring data scientist to learn first?',\n",
    "'Q19': 'What machine learning frameworks have you used in the past 5 years?',\n",
    "'Q20': 'Of the choices that you selected in the previous question, which ML library have you used the most?',\n",
    "'Q21': 'What data visualization libraries or tools have you used in the past 5 years?',\n",
    "'Q22': 'Of the choices that you selected in the previous question, which specific data visualization library or tool have you used the most?',\n",
    "'Q23': 'Approximately what percent of your time at work or school is spent actively coding?',\n",
    "'Q24': 'How long have you been writing code to analyze data?',\n",
    "'Q25': 'For how many years have you used machine learning methods (at work or in school)?',\n",
    "'Q26': 'Do you consider yourself to be a data scientist?',\n",
    "'Q27': 'Which of the following cloud computing products have you used at work or school in the last 5 years?',\n",
    "'Q28': 'Which of the following machine learning products have you used at work or school in the last 5 years?',\n",
    "'Q29': 'Which of the following relational database products have you used at work or school in the last 5 years?',\n",
    "'Q30': 'Which of the following big data and analytics products have you used at work or school in the last 5 years?',\n",
    "'Q31': 'Which types of data do you currently interact with most often at work or school?',\n",
    "'Q32': 'What is the type of data that you currently interact with most often at work or school? ',\n",
    "'Q33': 'Where do you find public datasets?',\n",
    "'Q34': 'During a typical data science project at work or school, approximately what proportion of your time is devoted to the following?',\n",
    "'Q35': 'What percentage of your current machine learning/data science training falls under each category?',\n",
    "'Q36': 'On which online platforms have you begun or completed data science courses?',\n",
    "'Q37': 'On which online platform have you spent the most amount of time?',\n",
    "'Q38': 'Who/what are your favorite media sources that report on data science topics?',\n",
    "'Q39': 'How do you perceive the quality of online learning platforms and in-person bootcamps as compared to the quality of the education provided by traditional brick and mortar institutions?',\n",
    "'Q40': 'Which better demonstrates expertise in data science: academic achievements or independent projects? ',\n",
    "'Q41': 'How do you perceive the importance of the following topics?',\n",
    "'Q42': 'What metrics do you or your organization use to determine whether or not your models were successful?',\n",
    "'Q43': 'Approximately what percent of your data projects involved exploring unfair bias in the dataset and/or algorithm?',\n",
    "'Q44': 'What do you find most difficult about ensuring that your algorithms are fair and unbiased? ',\n",
    "'Q45': 'In what circumstances would you explore model insights and interpret your models predictions?',\n",
    "'Q46': 'Approximately what percent of your data projects involve exploring model insights?',\n",
    "'Q47': 'What methods do you prefer for explaining and/or interpreting decisions that are made by ML models?',\n",
    "'Q48': 'Do you consider ML models to be \"black boxes\" with outputs that are difficult or impossible to explain?',\n",
    "'Q49': 'What tools and methods do you use to make your work easy to reproduce?',\n",
    "'Q50': 'What barriers prevent you from making your work even easier to reuse and reproduce?',\n",
    "'top7_job_title': 'Select the title most similar to your current role (or most recent title if retired)',\n",
    "'job_title_student': 'Select the title most similar to your current role (or most recent title if retired)',\n",
    "'top10_country': 'In which country do you currently reside?',\n",
    "'age': 'What is your age (# years)?',\n",
    "'gender-Male': 'What is your gender?',\n",
    "'top2_education_level': 'What is the highest level of formal education that you have attained or plan to attain within the next 2 years?',\n",
    "'top5_industries': 'In what industry is your current employer/contract (or your most recent employer if retired)?',\n",
    "'industry_student': 'In what industry is your current employer/contract (or your most recent employer if retired)?',\n",
    "'years_experience': 'How many years of experience do you have in your current role?'}"
   ]
  },
  {
   "cell_type": "markdown",
   "metadata": {
    "_uuid": "4d018105aff8ae232fd5d1532fd96980041a1e13"
   },
   "source": [
    "## The selected questions are:\n",
    "* Q1. What is your gender?\n",
    "* Q2. What is your age (# years)?\n",
    "* Q3. In which country do you currently reside?\n",
    "* Q4. What is the highest level of formal education that you have attained or plan to attain within the next 2 years?\n",
    "* Q6. Select the title most similar to your current role (or most recent title if retired)\n",
    "* Q7. In what industry is your current employer/contract (or your most recent employer if retired)?\n",
    "* Q8. How many years of experience do you have in your current role?\n",
    "* Q10. Does your current employer incorporate machine learning methods into their business?\n",
    "* Q11. Select any activities that make up an important part of your role at work\n",
    "* Q15. Which of the following cloud computing services have you used at work or school in the last 5 years?\n",
    "* Q16. What programming languages do you use on a regular basis?\n",
    "* Q17. What specific programming language do you use most often?\n",
    "* Q18. What programming language would you recommend an aspiring data scientist to learn first?\n",
    "* Q19. What machine learning frameworks have you used in the past 5 years?\n",
    "* Q21 What data visualization libraries or tools have you used in the past 5 years?\n",
    "* Q23. Approximately what percent of your time at work or school is spent actively coding?\n",
    "* Q24. How long have you been writing code to analyze data?\n",
    "* Q26. Do you consider yourself to be a data scientist?\n",
    "* Q29. Which of the following relational database products have you used at work or school in the last 5 years?\n",
    "* Q30. Which of the following big data and analytics products have you used at work or school in the last 5 years?\n",
    "* Q31. Which types of data do you currently interact with most often at work or school?\n",
    "* Q36. On which online platforms have you begun or completed data science courses?\n",
    "* Q38. Who/what are your favorite media sources that report on data science topics?\n",
    "* Q40. Which better demonstrates expertise in data science: academic achievements or independent projects? \n",
    "* Q42. What metrics do you or your organization use to determine whether or not your models were successful?\n",
    "* Q47. What methods do you prefer for explaining and/or interpreting decisions that are made by ML models?\n",
    "* Q48. Do you consider ML models to be \"black boxes\" with outputs that are difficult or impossible to explain?\n",
    "* Q49. What tools and methods do you use to make your work easy to reproduce?"
   ]
  },
  {
   "cell_type": "markdown",
   "metadata": {
    "_kg_hide-input": true,
    "_uuid": "9c40cf946d59f1116a84cb7c2a08a6f8548f77b4"
   },
   "source": [
    "## Reducing Answers Dimensions\n",
    "Some answers have multiple choices, to avoid overfitting we will drop all answers that had less than 5% of respondents. I'm doing this because we could have some answers with just a few respondents biasing the model towards the Top20%. One example below:\n",
    "\n",
    "1. On average we expect each answer to have around 80% of the respondents from the Bottom 80% and the rest from the Top 20%. \n",
    "2. Let's say we get an answer that has only 10 respondents, and 4 of them are in the Top 20%. This makes this answer very strong towards the top 20%.\n",
    "3. Our model will probably consider this feature very important (because the odds of belonging to the Top 20% is much greater to who ansered that question, odds are 40% in fact).\n",
    "4. But... A question with only 10 respondents is not representative of the whole population, so our model will be overfitted.\n",
    "5. Dropping answers that have less than 5% of respondents will avoid this kind of overfitting, because we know that each answer represents at least 5% of our population. \n",
    "6. It's better to have a slightly underfitted than a overfitted model.\n",
    "\n",
    "*Why 5%? Because it's round and because I want it to be 5%. Could be 10%, 15%, 20%... Try it out and see how the results change.*"
   ]
  },
  {
   "cell_type": "code",
   "execution_count": 28,
   "metadata": {
    "_kg_hide-input": true,
    "_uuid": "cd90760ac5fe0a6d95372a74deecd92e2340c082"
   },
   "outputs": [],
   "source": [
    "def normalize_labels(full_label):\n",
    "    \"\"\"\n",
    "    treat labels for new column names\n",
    "    \"\"\"\n",
    "    try:\n",
    "        label = full_label.split('<>')[1] # split and get second item\n",
    "    except IndexError:\n",
    "        label = full_label.split('<>')[0] # split and get first item\n",
    "\n",
    "    return label\n",
    "\n",
    "def treat_data(data, idx, tresh):\n",
    "    \"\"\"\n",
    "    Clean and get dumies for columns\n",
    "    \"\"\" \n",
    "    # get dummies with a distinct separator\n",
    "    result = pd.get_dummies(data, prefix_sep='<>', drop_first=False)\n",
    "    # gets and normalize dummies names\n",
    "    cols = [normalize_labels(str(x)) for x in result.columns]\n",
    "    \n",
    "    # build columns labels with questions\n",
    "    try:\n",
    "        Qtext = mcQ['Q{}'.format(idx)]\n",
    "    except KeyError:\n",
    "        try:\n",
    "            Qtext = mcQ['Q{}_Part_1'.format(idx)]\n",
    "        except KeyError:\n",
    "            Qtext = mcQ['Q{}_MULTIPLE_CHOICE'.format(idx)]\n",
    "            \n",
    "    # Build new columns names\n",
    "    prefix = 'Q{}-'.format(idx)\n",
    "    result.columns = [prefix + x for x in cols]\n",
    "    \n",
    "    # dropping columns that had less than 10% of answers to avoid overfitting\n",
    "    percent_answer = result.sum() / result.shape[0]\n",
    "    for row in percent_answer.iteritems():\n",
    "        if row[1] < tresh:\n",
    "            result = result.drop(row[0], axis=1)\n",
    "        \n",
    "    return result"
   ]
  },
  {
   "cell_type": "code",
   "execution_count": 29,
   "metadata": {
    "_kg_hide-input": true,
    "_uuid": "a917e8a2ea57f52af8ecf7116390171f5dbee227"
   },
   "outputs": [
    {
     "data": {
      "text/html": [
       "<div>\n",
       "<style scoped>\n",
       "    .dataframe tbody tr th:only-of-type {\n",
       "        vertical-align: middle;\n",
       "    }\n",
       "\n",
       "    .dataframe tbody tr th {\n",
       "        vertical-align: top;\n",
       "    }\n",
       "\n",
       "    .dataframe thead th {\n",
       "        text-align: right;\n",
       "    }\n",
       "</style>\n",
       "<table border=\"1\" class=\"dataframe\">\n",
       "  <thead>\n",
       "    <tr style=\"text-align: right;\">\n",
       "      <th></th>\n",
       "      <th>top20</th>\n",
       "      <th>Q1-Female</th>\n",
       "      <th>Q1-Male</th>\n",
       "      <th>Q2-18-21</th>\n",
       "      <th>Q2-22-24</th>\n",
       "      <th>Q2-25-29</th>\n",
       "      <th>Q2-30-34</th>\n",
       "      <th>Q2-35-39</th>\n",
       "      <th>Q2-40-44</th>\n",
       "      <th>Q3-China</th>\n",
       "      <th>...</th>\n",
       "      <th>Q49-Share code on Github or a similar code-sharing repository</th>\n",
       "      <th>Q49-Share both data and code on Github or a similar code-sharing repository</th>\n",
       "      <th>Q49-Share data, code, and environment using a hosted service (Kaggle Kernels, Google Colaboratory, Amazon SageMaker, etc.)</th>\n",
       "      <th>Q49-Share data, code, and environment using containers (Docker, etc.)</th>\n",
       "      <th>Q49-Share code, data, and environment using virtual machines (VirtualBox, etc.)</th>\n",
       "      <th>Q49-Make sure the code is well documented</th>\n",
       "      <th>Q49-Make sure the code is human-readable</th>\n",
       "      <th>Q49-Define all random seeds</th>\n",
       "      <th>Q49-Define relative rather than absolute file paths</th>\n",
       "      <th>Q49-Include a text file describing all dependencies</th>\n",
       "    </tr>\n",
       "  </thead>\n",
       "  <tbody>\n",
       "    <tr>\n",
       "      <th>0</th>\n",
       "      <td>0</td>\n",
       "      <td>0</td>\n",
       "      <td>1</td>\n",
       "      <td>0</td>\n",
       "      <td>0</td>\n",
       "      <td>0</td>\n",
       "      <td>1</td>\n",
       "      <td>0</td>\n",
       "      <td>0</td>\n",
       "      <td>0</td>\n",
       "      <td>...</td>\n",
       "      <td>0</td>\n",
       "      <td>0</td>\n",
       "      <td>0</td>\n",
       "      <td>0</td>\n",
       "      <td>0</td>\n",
       "      <td>0</td>\n",
       "      <td>0</td>\n",
       "      <td>0</td>\n",
       "      <td>0</td>\n",
       "      <td>0</td>\n",
       "    </tr>\n",
       "    <tr>\n",
       "      <th>1</th>\n",
       "      <td>0</td>\n",
       "      <td>1</td>\n",
       "      <td>0</td>\n",
       "      <td>0</td>\n",
       "      <td>0</td>\n",
       "      <td>0</td>\n",
       "      <td>1</td>\n",
       "      <td>0</td>\n",
       "      <td>0</td>\n",
       "      <td>0</td>\n",
       "      <td>...</td>\n",
       "      <td>0</td>\n",
       "      <td>0</td>\n",
       "      <td>0</td>\n",
       "      <td>0</td>\n",
       "      <td>0</td>\n",
       "      <td>0</td>\n",
       "      <td>1</td>\n",
       "      <td>1</td>\n",
       "      <td>0</td>\n",
       "      <td>1</td>\n",
       "    </tr>\n",
       "    <tr>\n",
       "      <th>2</th>\n",
       "      <td>0</td>\n",
       "      <td>0</td>\n",
       "      <td>1</td>\n",
       "      <td>0</td>\n",
       "      <td>1</td>\n",
       "      <td>0</td>\n",
       "      <td>0</td>\n",
       "      <td>0</td>\n",
       "      <td>0</td>\n",
       "      <td>0</td>\n",
       "      <td>...</td>\n",
       "      <td>0</td>\n",
       "      <td>0</td>\n",
       "      <td>0</td>\n",
       "      <td>0</td>\n",
       "      <td>0</td>\n",
       "      <td>0</td>\n",
       "      <td>0</td>\n",
       "      <td>0</td>\n",
       "      <td>1</td>\n",
       "      <td>0</td>\n",
       "    </tr>\n",
       "    <tr>\n",
       "      <th>3</th>\n",
       "      <td>0</td>\n",
       "      <td>0</td>\n",
       "      <td>1</td>\n",
       "      <td>0</td>\n",
       "      <td>0</td>\n",
       "      <td>0</td>\n",
       "      <td>0</td>\n",
       "      <td>1</td>\n",
       "      <td>0</td>\n",
       "      <td>0</td>\n",
       "      <td>...</td>\n",
       "      <td>1</td>\n",
       "      <td>0</td>\n",
       "      <td>1</td>\n",
       "      <td>1</td>\n",
       "      <td>1</td>\n",
       "      <td>0</td>\n",
       "      <td>0</td>\n",
       "      <td>1</td>\n",
       "      <td>0</td>\n",
       "      <td>0</td>\n",
       "    </tr>\n",
       "    <tr>\n",
       "      <th>4</th>\n",
       "      <td>0</td>\n",
       "      <td>0</td>\n",
       "      <td>1</td>\n",
       "      <td>1</td>\n",
       "      <td>0</td>\n",
       "      <td>0</td>\n",
       "      <td>0</td>\n",
       "      <td>0</td>\n",
       "      <td>0</td>\n",
       "      <td>0</td>\n",
       "      <td>...</td>\n",
       "      <td>0</td>\n",
       "      <td>1</td>\n",
       "      <td>0</td>\n",
       "      <td>0</td>\n",
       "      <td>0</td>\n",
       "      <td>1</td>\n",
       "      <td>1</td>\n",
       "      <td>0</td>\n",
       "      <td>1</td>\n",
       "      <td>0</td>\n",
       "    </tr>\n",
       "  </tbody>\n",
       "</table>\n",
       "<p>5 rows × 186 columns</p>\n",
       "</div>"
      ],
      "text/plain": [
       "   top20  Q1-Female  Q1-Male  Q2-18-21  Q2-22-24  Q2-25-29  Q2-30-34  \\\n",
       "0      0          0        1         0         0         0         1   \n",
       "1      0          1        0         0         0         0         1   \n",
       "2      0          0        1         0         1         0         0   \n",
       "3      0          0        1         0         0         0         0   \n",
       "4      0          0        1         1         0         0         0   \n",
       "\n",
       "   Q2-35-39  Q2-40-44  Q3-China  ...  \\\n",
       "0         0         0         0  ...   \n",
       "1         0         0         0  ...   \n",
       "2         0         0         0  ...   \n",
       "3         1         0         0  ...   \n",
       "4         0         0         0  ...   \n",
       "\n",
       "   Q49-Share code on Github or a similar code-sharing repository  \\\n",
       "0                                                  0               \n",
       "1                                                  0               \n",
       "2                                                  0               \n",
       "3                                                  1               \n",
       "4                                                  0               \n",
       "\n",
       "   Q49-Share both data and code on Github or a similar code-sharing repository  \\\n",
       "0                                                  0                             \n",
       "1                                                  0                             \n",
       "2                                                  0                             \n",
       "3                                                  0                             \n",
       "4                                                  1                             \n",
       "\n",
       "   Q49-Share data, code, and environment using a hosted service (Kaggle Kernels, Google Colaboratory, Amazon SageMaker, etc.)  \\\n",
       "0                                                  0                                                                            \n",
       "1                                                  0                                                                            \n",
       "2                                                  0                                                                            \n",
       "3                                                  1                                                                            \n",
       "4                                                  0                                                                            \n",
       "\n",
       "   Q49-Share data, code, and environment using containers (Docker, etc.)  \\\n",
       "0                                                  0                       \n",
       "1                                                  0                       \n",
       "2                                                  0                       \n",
       "3                                                  1                       \n",
       "4                                                  0                       \n",
       "\n",
       "   Q49-Share code, data, and environment using virtual machines (VirtualBox, etc.)  \\\n",
       "0                                                  0                                 \n",
       "1                                                  0                                 \n",
       "2                                                  0                                 \n",
       "3                                                  1                                 \n",
       "4                                                  0                                 \n",
       "\n",
       "   Q49-Make sure the code is well documented  \\\n",
       "0                                          0   \n",
       "1                                          0   \n",
       "2                                          0   \n",
       "3                                          0   \n",
       "4                                          1   \n",
       "\n",
       "   Q49-Make sure the code is human-readable  Q49-Define all random seeds  \\\n",
       "0                                         0                            0   \n",
       "1                                         1                            1   \n",
       "2                                         0                            0   \n",
       "3                                         0                            1   \n",
       "4                                         1                            0   \n",
       "\n",
       "   Q49-Define relative rather than absolute file paths  \\\n",
       "0                                                  0     \n",
       "1                                                  0     \n",
       "2                                                  1     \n",
       "3                                                  0     \n",
       "4                                                  1     \n",
       "\n",
       "   Q49-Include a text file describing all dependencies  \n",
       "0                                                  0    \n",
       "1                                                  1    \n",
       "2                                                  0    \n",
       "3                                                  0    \n",
       "4                                                  0    \n",
       "\n",
       "[5 rows x 186 columns]"
      ]
     },
     "execution_count": 29,
     "metadata": {},
     "output_type": "execute_result"
    }
   ],
   "source": [
    "# selecting the questions\n",
    "selected_questions = [1, 2, 3, 4, 6, 7, 8, 10, 11, 15, 16, 17, 18, 19, 21, 23, 24, 25, 26, 29, 31, 36, 38, 40, 42, 47, 48, 49]\n",
    "treated_data = {}\n",
    "\n",
    "# Formatting all answers from the selected questions, dropping answers with less than 5%\n",
    "for sq in selected_questions:\n",
    "    treated_data['Q{}'.format(sq)] = treat_data(answers['Q{}'.format(sq)], sq, 0.05)   \n",
    "# Done! Now we are able to rebuild a much cleaner dataset!\n",
    "\n",
    "# Define target variable\n",
    "compensation = mcA.Q9.str.replace(',', '').str.replace('500000\\+', '500-500000', regex = True).str.split('-')\n",
    "mcA['yearly_compensation_numerical'] = compensation.apply(lambda x: (int(x[0]) * 1000 + int(x[1]))/ 2) / 1000 # it is calculated in thousand dollars\n",
    "clean_dataset = (mcA.yearly_compensation_numerical > 100).reset_index().astype(int)\n",
    "clean_dataset.columns = ['index', 'top20']\n",
    "\n",
    "# Join with treated questions\n",
    "for key, value in treated_data.items():\n",
    "    value = value.reset_index(drop=True)\n",
    "    clean_dataset = clean_dataset.join(value, how='left')\n",
    "\n",
    "clean_dataset = clean_dataset.drop('index', axis=1)\n",
    "\n",
    "# saving back to csv so others may use it\n",
    "clean_dataset.to_csv('clean_dataset.csv')\n",
    "\n",
    "clean_dataset.head()"
   ]
  },
  {
   "cell_type": "code",
   "execution_count": 30,
   "metadata": {
    "_kg_hide-input": true,
    "_uuid": "aef1dce35974cd26f1c8581dba2eeccefae133f8"
   },
   "outputs": [
    {
     "name": "stdout",
     "output_type": "stream",
     "text": [
      "Our cleaned dataset has 12956 records and 186 features\n"
     ]
    }
   ],
   "source": [
    "shape = clean_dataset.shape\n",
    "print('Our cleaned dataset has {} records and {} features'.format(shape[0], shape[1]))"
   ]
  },
  {
   "cell_type": "markdown",
   "metadata": {
    "_uuid": "055550cf47419999bfefda00dd5e1b49322f18b9"
   },
   "source": [
    "##  Finding Correlation Between Features\n",
    "Let's identify all features that have correlation higher than ```abs(±0.5)``` and drop them from the dataset. "
   ]
  },
  {
   "cell_type": "code",
   "execution_count": 31,
   "metadata": {
    "_kg_hide-input": true,
    "_uuid": "8a56a18f899f9ae8b64c1fa4d7d776c9d185fe6b"
   },
   "outputs": [
    {
     "name": "stdout",
     "output_type": "stream",
     "text": [
      "After dropping highly correlated features, our has 12956 records and 171 features\n",
      "Dropped features:  ['Q1-Male', 'Q4-Master’s degree', 'Q7-I am a student', 'Q15-I have not used any cloud providers', 'Q18-R', 'Q19-Scikit-Learn', 'Q19-Keras', 'Q19-None', 'Q21-ggplot2', 'Q21-Matplotlib', 'Q25-I have never studied machine learning but plan to learn in the future', 'Q29-MySQL', 'Q36-Fast.AI', 'Q47-Examine feature importances', 'Q49-Make sure the code is human-readable']\n"
     ]
    }
   ],
   "source": [
    "# Create correlation matrix\n",
    "correl = clean_dataset.corr().abs()\n",
    "\n",
    "# Select upper triangle of correlation matrix\n",
    "upper = correl.where(np.triu(np.ones(correl.shape), k=1).astype(bool))\n",
    "\n",
    "# Find index of feature columns with correlation greater than 0.5\n",
    "to_drop = [column for column in upper.columns if any(upper[column] > 0.5)]\n",
    "\n",
    "# Drop features \n",
    "clean_dataset_dropped = clean_dataset.drop(to_drop, axis=1)\n",
    "\n",
    "shape = clean_dataset_dropped.shape\n",
    "print('After dropping highly correlated features, our has {} records and {} features'.format(shape[0], shape[1]))\n",
    "print('Dropped features: ', to_drop)"
   ]
  },
  {
   "cell_type": "markdown",
   "metadata": {
    "_uuid": "0dcd016667f75ebe98bf540db077ee908d1fb284"
   },
   "source": [
    "## Dealing With Missing Data\n",
    "As result of dataset cleaning we are left with no questions with NaNs."
   ]
  },
  {
   "cell_type": "code",
   "execution_count": 32,
   "metadata": {
    "_kg_hide-input": true,
    "_uuid": "c5aba49d1fcb22af4a7e3e6f10fb9731728f96d9"
   },
   "outputs": [
    {
     "name": "stdout",
     "output_type": "stream",
     "text": [
      "We found 0 NaNs on the dataset after treatment\n"
     ]
    }
   ],
   "source": [
    "# Finding NANs\n",
    "df = clean_dataset_dropped.isnull().sum().to_frame()\n",
    "print('We found {} NaNs on the dataset after treatment'.format(df[df[0] > 0].shape[0]))"
   ]
  },
  {
   "cell_type": "markdown",
   "metadata": {
    "_uuid": "11ac6c8d67bac714c15dc8c7b751257bb1404426"
   },
   "source": [
    "## Spliting Into Train and Test Data"
   ]
  },
  {
   "cell_type": "code",
   "execution_count": 33,
   "metadata": {
    "_kg_hide-input": true,
    "_uuid": "b10b0bbc0ab40910f19e16eb9613496068c4e712"
   },
   "outputs": [
    {
     "name": "stdout",
     "output_type": "stream",
     "text": [
      "Train Shape: (10364, 171)\n",
      "Test Shape: (2592, 171)\n"
     ]
    }
   ],
   "source": [
    "from sklearn.model_selection import train_test_split\n",
    "\n",
    "train, test = train_test_split(clean_dataset_dropped, test_size=0.2, random_state=42)\n",
    "print('Train Shape:', train.shape)\n",
    "print('Test Shape:', test.shape)"
   ]
  },
  {
   "cell_type": "markdown",
   "metadata": {
    "_uuid": "9770b0fd1cc95659924c0a80827e9ca81cfc4edb"
   },
   "source": [
    "## Fitting the Model\n",
    "We want to draw some conclusions on the data, so let's try a Random Forest and a Logistic Regression."
   ]
  },
  {
   "cell_type": "code",
   "execution_count": 34,
   "metadata": {
    "_kg_hide-input": true,
    "_uuid": "a77bc8449f25261ee52bcd6ab0d13aee909cef53"
   },
   "outputs": [],
   "source": [
    "# Separating X,y train and test sets\n",
    "ytrain = train['top20'].copy()\n",
    "Xtrain = train.drop(['top20'], axis=1).copy() # removing both target variables from features\n",
    "\n",
    "ytest = test['top20'].copy()\n",
    "Xtest = test.drop(['top20'], axis=1).copy() # removing both target variables from features"
   ]
  },
  {
   "cell_type": "code",
   "execution_count": 35,
   "metadata": {
    "_kg_hide-input": true,
    "_kg_hide-output": true,
    "_uuid": "04a0990d887d89b6c063c87562238569b474fc9a"
   },
   "outputs": [],
   "source": [
    "# Helper function to help evaluating the model\n",
    "from sklearn.metrics import roc_auc_score\n",
    "from sklearn.metrics import accuracy_score\n",
    "from sklearn.metrics import confusion_matrix\n",
    "\n",
    "def display_scores(predictor, X, y):\n",
    "    \"\"\"\n",
    "    Calculates metrics and display it\n",
    "    \"\"\"\n",
    "    print('\\n### -- ### -- ' + str(type(predictor)).split('.')[-1][:-2] + ' -- ### -- ###')\n",
    "    # Getting the predicted values\n",
    "    ypred = predictor.predict(X)\n",
    "    ypred_score = predictor.predict_proba(X)\n",
    "    \n",
    "    # calculating metrics\n",
    "    accuracy = accuracy_score(y, ypred)\n",
    "    roc = roc_auc_score(y, pd.DataFrame(ypred_score)[1])\n",
    "    confusion = confusion_matrix(y, ypred)\n",
    "    \n",
    "    print('Confusion Matrix: ', confusion)\n",
    "    print('Accuracy: ', accuracy)\n",
    "    print('AUC: ', roc)\n",
    "    \n",
    "    type1_error = confusion[0][1] / confusion[0].sum() # False Positive - model predicted in top 20%, while it wasn't\n",
    "    type2_error = confusion[1][0] / confusion[1].sum() # False Negative - model predicted out of top 20%, while it was\n",
    "    \n",
    "    print('Type 1 error: ', type1_error)\n",
    "    print('Type 2 error: ', type2_error)"
   ]
  },
  {
   "cell_type": "code",
   "execution_count": 36,
   "metadata": {
    "_kg_hide-input": true,
    "_uuid": "66d32994bbfefc5ddaf9ff0a4be2277af0358da5"
   },
   "outputs": [
    {
     "name": "stdout",
     "output_type": "stream",
     "text": [
      "\n",
      "### -- ### -- RandomForestClassifier -- ### -- ###\n",
      "Confusion Matrix:  [[8816    0]\n",
      " [   0 1548]]\n",
      "Accuracy:  1.0\n",
      "AUC:  1.0\n",
      "Type 1 error:  0.0\n",
      "Type 2 error:  0.0\n",
      "\n",
      "### -- ### -- LogisticRegression -- ### -- ###\n",
      "Confusion Matrix:  [[8561  255]\n",
      " [ 683  865]]\n",
      "Accuracy:  0.9094944037051331\n",
      "AUC:  0.9204089815557338\n",
      "Type 1 error:  0.02892468239564428\n",
      "Type 2 error:  0.4412144702842377\n"
     ]
    }
   ],
   "source": [
    "from sklearn.ensemble import RandomForestClassifier\n",
    "from sklearn.linear_model import LogisticRegression\n",
    "\n",
    "rforest = RandomForestClassifier(n_estimators=100, random_state=42)\n",
    "lreg = LogisticRegression(solver='liblinear', random_state=42)\n",
    "\n",
    "# Fit the models\n",
    "rforest.fit(Xtrain, ytrain)\n",
    "lreg.fit(Xtrain, ytrain)\n",
    "\n",
    "# Check some metrics\n",
    "display_scores(rforest, Xtrain, ytrain)\n",
    "display_scores(lreg, Xtrain, ytrain)"
   ]
  },
  {
   "cell_type": "markdown",
   "metadata": {
    "_uuid": "1b50a31a46a3248dbf2add561bf3778e6968f2fb"
   },
   "source": [
    "A Random Forest model with 100% accuracy and AUC is definetly overfitted. Probably due to imbalanced classes. LogReg has better results, but still might be overfitted.\n",
    "\n",
    "After a 5-fold cross validation, we see that the real accuracy is around 88% for Random Forest and 90% for Logistic Regression."
   ]
  },
  {
   "cell_type": "code",
   "execution_count": 37,
   "metadata": {
    "_kg_hide-input": true,
    "_uuid": "f83d6bf58f36931a465c8994d0576993bcc93032"
   },
   "outputs": [
    {
     "name": "stdout",
     "output_type": "stream",
     "text": [
      "### -- ### -- RandomForestClassifier -- ### -- ###\n",
      "Mean AUC score after a 5-fold cross validation:  0.8898799717205925\n",
      "AUC score of each fold:  [0.88309887 0.90687062 0.90717527 0.87308382 0.87917128]\n",
      "\n",
      " ----------------------------- \n",
      "\n",
      "### -- ### -- LogisticRegression -- ### -- ###\n",
      "Mean AUC score after a 5-fold cross validation:  0.9071266220944224\n",
      "AUC score of each fold:  [0.89952777 0.92611385 0.91763673 0.89351728 0.89883748]\n"
     ]
    }
   ],
   "source": [
    "from sklearn.model_selection import cross_val_score\n",
    "\n",
    "def do_cv(predictor, X, y, cv):\n",
    "    \"\"\"\n",
    "    Executes cross validation and display scores\n",
    "    \"\"\"\n",
    "    print('### -- ### -- ' + str(type(predictor)).split('.')[-1][:-2] + ' -- ### -- ###')\n",
    "    cv_score = cross_val_score(predictor, X, y, scoring='roc_auc', cv=5)\n",
    "    print ('Mean AUC score after a 5-fold cross validation: ', cv_score.mean())\n",
    "    print ('AUC score of each fold: ', cv_score)\n",
    "    \n",
    "do_cv(rforest, Xtrain, ytrain, 5)\n",
    "print('\\n ----------------------------- \\n')\n",
    "do_cv(lreg, Xtrain, ytrain, 5)"
   ]
  },
  {
   "cell_type": "markdown",
   "metadata": {
    "_uuid": "0fc29ac1a3011503f8b42e4434c6f248d22b7a7a"
   },
   "source": [
    "## Undersampling \n",
    "The classes are imbalanced and it's impacting our model. We defined the ```top20``` target variable in a way that we have about 80% of our sample at class 0, and 20% at class 1. Let's fix that."
   ]
  },
  {
   "cell_type": "code",
   "execution_count": 38,
   "metadata": {
    "_kg_hide-input": true,
    "_uuid": "80bcc9c61d13d53c7cac2e99a0db4d2c39bbd0af"
   },
   "outputs": [
    {
     "name": "stdout",
     "output_type": "stream",
     "text": [
      "Quantity of samples on each class BEFORE undersampling:  [(0, 8816), (1, 1548)]\n",
      "Quantity of samples on each class AFTER undersampling:  [(0, 1548), (1, 1548)]\n"
     ]
    }
   ],
   "source": [
    "from collections import Counter\n",
    "from imblearn.under_sampling import RandomUnderSampler\n",
    "\n",
    "print('Quantity of samples on each class BEFORE undersampling: ', sorted(Counter(ytrain).items()))\n",
    "rus = RandomUnderSampler(random_state=42)\n",
    "X_resampled, y_resampled = rus.fit_resample(Xtrain, ytrain)\n",
    "print('Quantity of samples on each class AFTER undersampling: ', sorted(Counter(y_resampled).items()))"
   ]
  },
  {
   "cell_type": "markdown",
   "metadata": {
    "_uuid": "a1db5285b3ca219fb93e3cf017b91c98586e42b5"
   },
   "source": [
    "Doing the crossvalidation again, we see that the mean AUC Score stays in 88% for Random Forest and 90% for the Logistic Regression model, but we had differences in the confusion matrices and reduction of type 2 error for LogReg. We are selecting Logistic Regression to continue this study because we had better score and can draw more conclusions from the model coeficients. "
   ]
  },
  {
   "cell_type": "code",
   "execution_count": 39,
   "metadata": {
    "_kg_hide-input": true,
    "_uuid": "785f9df5dc568281e417a363ffb089c70daa53be"
   },
   "outputs": [
    {
     "name": "stdout",
     "output_type": "stream",
     "text": [
      "### -- ### -- RandomForestClassifier -- ### -- ###\n",
      "Mean AUC score after a 5-fold cross validation:  0.8898799717205925\n",
      "AUC score of each fold:  [0.88309887 0.90687062 0.90717527 0.87308382 0.87917128]\n",
      "\n",
      "### -- ### -- RandomForestClassifier -- ### -- ###\n",
      "Confusion Matrix:  [[7440 1376]\n",
      " [   0 1548]]\n",
      "Accuracy:  0.8672327286761868\n",
      "AUC:  0.9960671693936793\n",
      "Type 1 error:  0.1560798548094374\n",
      "Type 2 error:  0.0\n",
      "\n",
      " ----------------------------- \n",
      "\n",
      "### -- ### -- LogisticRegression -- ### -- ###\n",
      "Mean AUC score after a 5-fold cross validation:  0.9071266220944224\n",
      "AUC score of each fold:  [0.89952777 0.92611385 0.91763673 0.89351728 0.89883748]\n",
      "\n",
      "### -- ### -- LogisticRegression -- ### -- ###\n",
      "Confusion Matrix:  [[7297 1519]\n",
      " [ 230 1318]]\n",
      "Accuracy:  0.8312427634118101\n",
      "AUC:  0.9162986782312639\n",
      "Type 1 error:  0.17230036297640652\n",
      "Type 2 error:  0.14857881136950904\n"
     ]
    }
   ],
   "source": [
    "# refit the model\n",
    "rforest.fit(X_resampled, y_resampled)\n",
    "lreg.fit(X_resampled, y_resampled)\n",
    "\n",
    "# do Cross Validation\n",
    "do_cv(rforest, Xtrain, ytrain, 5)\n",
    "display_scores(rforest, Xtrain, ytrain)\n",
    "print('\\n ----------------------------- \\n')\n",
    "do_cv(lreg, Xtrain, ytrain, 5)\n",
    "display_scores(lreg, Xtrain, ytrain)"
   ]
  },
  {
   "cell_type": "markdown",
   "metadata": {
    "_uuid": "de5c33bd1a86c64017d319774bdac2994b0463b1"
   },
   "source": [
    "## Validating the Model on the Test Data\n",
    "Now we finally test the model on the test dataset! We see that the Accuracy is around 81% and AUC is now 89%. It is a quite good prediction model."
   ]
  },
  {
   "cell_type": "code",
   "execution_count": 40,
   "metadata": {
    "_kg_hide-input": true,
    "_uuid": "41b10d105a2263d5cb21db0ea94c00b48b5a0398"
   },
   "outputs": [
    {
     "name": "stdout",
     "output_type": "stream",
     "text": [
      "\n",
      "### -- ### -- LogisticRegression -- ### -- ###\n",
      "Confusion Matrix:  [[1806  422]\n",
      " [  59  305]]\n",
      "Accuracy:  0.814429012345679\n",
      "AUC:  0.8926956122871743\n",
      "Type 1 error:  0.18940754039497307\n",
      "Type 2 error:  0.1620879120879121\n"
     ]
    }
   ],
   "source": [
    "display_scores(lreg, Xtest, ytest)"
   ]
  },
  {
   "cell_type": "markdown",
   "metadata": {
    "_uuid": "2b3dc238aab066c7e96b6689de23d1094aee4d49"
   },
   "source": [
    "Let's see how scores for both Top20% and Bottom 80% are distributed in test data?"
   ]
  },
  {
   "cell_type": "code",
   "execution_count": 41,
   "metadata": {
    "_kg_hide-input": true,
    "_uuid": "4381542f33f1f653e553ae5d2987759dd1c6512d"
   },
   "outputs": [
    {
     "data": {
      "application/vnd.plotly.v1+json": {
       "config": {
        "linkText": "Export to plot.ly",
        "plotlyServerURL": "https://plot.ly",
        "showLink": false
       },
       "data": [
        {
         "marker": {
          "color": "lightgray"
         },
         "name": "Bottom 80%",
         "opacity": 0.5,
         "type": "histogram",
         "x": [
          0.5994870882571703,
          0.11718454919440179,
          0.10656912346264398,
          0.1207442099541565,
          0.004640463384433234,
          0.005174348604737232,
          0.016698694817582956,
          0.1501684894231838,
          0.007308080879994302,
          0.5406988174715243,
          0.8162851787610717,
          0.1312606230748977,
          0.052062064568181014,
          0.01189587831043229,
          0.8468539089628271,
          0.8735191638214147,
          0.011233963635265383,
          0.07328877355431844,
          0.5016892311728166,
          0.025998452351928554,
          0.13890904215092564,
          0.6398503579193456,
          0.14212964491364202,
          0.033344206189057,
          0.29397887739784917,
          0.02690453189947198,
          0.6100298904361943,
          0.18468848050051503,
          0.08087577985953324,
          0.4693033988426472,
          0.9837380305868884,
          0.24091314176679912,
          0.12027998235812434,
          0.26420585778161,
          0.02737114375440296,
          0.15302162980948383,
          0.5614550360459646,
          0.08111454585150454,
          0.3495412880139648,
          0.36127331589078526,
          0.011389888708728228,
          0.5595819804887637,
          0.9655954698690948,
          0.26789048636149354,
          0.8516217574089481,
          0.007240994476201314,
          0.03712454060849772,
          0.012742456694528849,
          0.2588637036818602,
          0.018775300099386535,
          0.7711323354800935,
          0.15969030274845275,
          0.0018166448646017015,
          0.22889313288459706,
          0.012810249686314298,
          0.318061206173472,
          0.5640432649766961,
          0.4687115072352567,
          0.029589151168823193,
          0.0784766694471304,
          0.2953219561993256,
          0.6883118164080895,
          0.45806427440698794,
          0.5849987744913471,
          0.2828129837732548,
          0.50018313742963,
          0.5346776259917535,
          0.2436420483070605,
          0.43414041730490127,
          0.19929696309285888,
          0.34704108344418294,
          0.32024300912240256,
          0.06823677585271057,
          0.7469683991266304,
          0.03071342391832682,
          0.23568989264783988,
          0.5122925913631893,
          0.26112990985191,
          0.8780949134872463,
          0.12152605951067792,
          0.05587036637372572,
          0.07305950788424793,
          0.0014804961073775146,
          0.17946603860006488,
          0.30557494577239974,
          0.213137045281479,
          0.08508986480910834,
          0.07159379254300123,
          0.05718994720248863,
          0.016432786851412334,
          0.11387075778149343,
          0.09896286392907681,
          0.40708874249953136,
          0.007893225709549439,
          0.0068034039563249086,
          0.23807563161029158,
          0.03023116243422318,
          0.017139447168356328,
          0.3193351215892627,
          0.004673912808232954,
          0.5051651299502056,
          0.3199184452943813,
          0.01076690231247181,
          0.38337665099142654,
          0.03446537597097619,
          0.5343297895311403,
          0.03429497181917652,
          0.1388840594216385,
          0.0029675340209599334,
          0.08766881602190944,
          0.015162629345595466,
          0.011363649361464582,
          0.1550487016263999,
          0.011625177130187606,
          0.03598186972650512,
          0.739585625101284,
          0.800907245198694,
          0.5728653859140194,
          0.2196064771779293,
          0.006874669449400021,
          0.834071668715053,
          0.2272338291020046,
          0.07926766048824455,
          0.6812748907369535,
          0.20748104616387977,
          0.04861108528674229,
          0.34995652373107144,
          0.6452183599344158,
          0.2552769672805972,
          0.12226132923337993,
          0.0031693731192908863,
          0.15631159238433484,
          0.014351574952772585,
          0.29463436216015637,
          0.08677509172538019,
          0.03708297371655828,
          0.14365132535141253,
          0.008108031979407229,
          0.2944308557717266,
          0.006819482875279323,
          0.0100955627706151,
          0.02234396366540365,
          0.06425009619730204,
          0.035420939881357034,
          0.4468786133175015,
          0.6073420944893125,
          0.146687227532386,
          0.032953195827395296,
          0.5910434005784342,
          0.11576467694578657,
          0.1273308005218025,
          0.0966129309690276,
          0.08447696130589882,
          0.09952480071453491,
          0.059068934112670876,
          0.04580772656682791,
          0.06056947115860063,
          0.023268839223104916,
          0.6915398778329311,
          0.3501150467362055,
          0.0026346241174982046,
          0.3099734046910511,
          0.17986896747951084,
          0.3003798180542383,
          0.32270151232097,
          0.18955811930666933,
          0.40720804057889665,
          0.248626308384522,
          0.0294559276070507,
          0.524316505935354,
          0.6446556527904111,
          0.7401278568574178,
          0.0031420831373143174,
          0.37831920518723555,
          0.9682654735800089,
          0.04437358608857452,
          0.37382171492310595,
          0.16205165338428582,
          0.44973843735848795,
          0.022512662141036335,
          0.12469714569146713,
          0.015613620955700428,
          0.052400584237141334,
          0.09202988761667485,
          0.5772814416932761,
          0.030940422265468986,
          0.7034410503651274,
          0.18598290070863457,
          0.8576963934362613,
          0.0882024304389907,
          0.8499560505350361,
          0.004488843791721035,
          0.07980908865926371,
          0.07671365029147763,
          0.00473747268087894,
          0.5210422303135762,
          0.7760359323772286,
          0.06987026642873881,
          0.04084400637119992,
          0.013766576332254274,
          0.087221439626671,
          0.4139446776339563,
          0.4362814061122227,
          0.032114723783077045,
          0.10428783379404252,
          0.11642275157706172,
          0.43990191647302435,
          0.03221595837264007,
          0.8298534239459584,
          0.050080610399995784,
          0.00607369464242886,
          0.19465286812861543,
          0.026965486572140703,
          0.025209994776350036,
          0.7968960459251692,
          0.05620498380035808,
          0.01649146135248466,
          0.15639410572416987,
          0.05195477008540238,
          0.32323268528694166,
          0.5054376191510673,
          0.22806843653418485,
          0.16048978152782217,
          0.6236123247339878,
          0.2745774553337501,
          0.11271165509073133,
          0.5416275173222527,
          0.05717506730303658,
          0.015446570445743825,
          0.06898580844735029,
          0.2630012213034561,
          0.17059742811171497,
          0.014300138804531393,
          0.08141678822257657,
          0.3229502388098634,
          0.22650051697423323,
          0.015582151361610388,
          0.10708178280453515,
          0.5391632826212481,
          0.23427553392100336,
          0.47704655728075923,
          0.6657178077774454,
          0.8222688838052465,
          0.2655537894126441,
          0.057278361692374304,
          0.9176577150395157,
          0.5017228342820589,
          0.7641281655464182,
          0.014350447197233029,
          0.1445129629433678,
          0.028359832044996865,
          0.1286850223718031,
          0.21046186462292252,
          0.015192909673010903,
          0.10899881266953551,
          0.36823249476191,
          0.911046964994377,
          0.5758150129628822,
          0.032454562360817805,
          0.24659112253020257,
          0.026794810689590748,
          0.40109724328636387,
          0.06545155510313583,
          0.7696795702658742,
          0.4624956613717042,
          0.9456442375106107,
          0.17527529414815532,
          0.45063959072759546,
          0.016501996529380544,
          0.10384603796446691,
          0.1464811284445151,
          0.021028438619167276,
          0.35734467968697536,
          0.5973223019218753,
          0.057626908209723625,
          0.2295973066739247,
          0.8619872123959645,
          0.07602207170403931,
          0.2377371423445832,
          0.13648810499938413,
          0.43598158935387443,
          0.07383508766323829,
          0.8969011055869777,
          0.5300472552485742,
          0.00597314838789015,
          0.12351350515044021,
          0.7837530313104213,
          0.06326636631983545,
          0.0069035900708239745,
          0.3577459439893972,
          0.10327067148353963,
          0.09003998772349651,
          0.2830252818276828,
          0.21365588407496092,
          0.1333739392933883,
          0.0037554857549579445,
          0.109344266917846,
          0.02738298480655409,
          0.5054441857369799,
          0.7185911732675878,
          0.008768178819853072,
          0.019600809810085214,
          0.04411431579953223,
          0.02428102562833097,
          0.019255568264624004,
          0.1225415649514426,
          0.06603738224230318,
          0.20320229751676683,
          0.06353383877898452,
          0.06841153848617067,
          0.007295361883809899,
          0.08192941577887694,
          0.6284413800163539,
          0.07996471408161607,
          0.004076229889332242,
          0.019084636714300725,
          0.49163310860230125,
          0.7125609864410656,
          0.004964803642125173,
          0.04629276824051841,
          0.006164536117716721,
          0.33653050861188777,
          0.4860918206203925,
          0.17764408782064992,
          0.0830237531828455,
          0.033090911979065975,
          0.5246673137088828,
          0.7773211552062635,
          0.019304667267446556,
          0.455779799554756,
          0.43229162688169737,
          0.00955637408526553,
          0.2707543235030999,
          0.0038074354490965447,
          0.02790151930909104,
          0.4745630256843595,
          0.058167418045827,
          0.26424361621687487,
          0.3865339224093441,
          0.09699078530250448,
          0.006694455085588995,
          0.12559312078746193,
          0.018716850780510663,
          0.44750450348812243,
          0.15588104279725318,
          0.533160560125359,
          0.4116981593692058,
          0.33064566608329304,
          0.24560886389000308,
          0.009015202371582902,
          0.14707304881258698,
          0.017655945019335206,
          0.4757913248912494,
          0.1551782135382896,
          0.6049345503546996,
          0.015928439866925683,
          0.8168754412645844,
          0.015195130119624149,
          0.08500689306281574,
          0.007525505900203398,
          0.1968700088712241,
          0.5592403083021271,
          0.4246676017613013,
          0.03187695456625452,
          0.3018584110239765,
          0.0004358505129499969,
          0.2843545581867418,
          0.18938079287321566,
          0.10119236335429932,
          0.059004592838344,
          0.01670596209373187,
          0.33071166684888287,
          0.3052606037275103,
          0.32375078223448844,
          0.39028894209493814,
          0.3675534225045736,
          0.07860165004584664,
          0.6096228434729133,
          0.016297487236054578,
          0.04661276073828087,
          0.23291436280203193,
          0.01757307031916155,
          0.021648067291934813,
          0.4833919630669158,
          0.016434162429578267,
          0.05248466205851076,
          0.3297054867520863,
          0.06549051350653641,
          0.09431044576790366,
          0.5120442125730722,
          0.3984633025871223,
          0.6575051804995197,
          0.7363986036643392,
          0.06183787191759761,
          0.06095463144752467,
          0.08231485162296587,
          0.14412447270159043,
          0.14497800040202433,
          0.9291927694384585,
          0.7726011050756505,
          0.04122034604803377,
          0.03105926504733004,
          0.15226564218298833,
          0.06199086353078982,
          0.007566801730022897,
          0.05951032998314184,
          0.1689700022550191,
          0.36113666276343326,
          0.23422539192014913,
          0.430006114473059,
          0.3884680508696143,
          0.11276747088791232,
          0.8706814340340177,
          0.012032854852146262,
          0.18121724761397398,
          0.5743971925582009,
          0.27267346645982754,
          0.2912991669523586,
          0.2590339247937211,
          0.002463334936222739,
          0.21367592386705633,
          0.8100656487359945,
          0.10548468876698307,
          0.12317981310488767,
          0.07937703444588437,
          0.8213988861912586,
          0.04174417711570345,
          0.2057726570954896,
          0.004519610465258878,
          0.5187616068090859,
          0.024129046674874553,
          0.015019231335481489,
          0.06424426083617327,
          0.029955705735535066,
          0.42796604152430695,
          0.02038887843636069,
          0.04068201871896585,
          0.119772054688454,
          0.0189518551786419,
          0.3022512276691496,
          0.0920522512287048,
          0.09479183448088685,
          0.2689312056249675,
          0.016059961895110712,
          0.12072486888346164,
          0.6798031918015818,
          0.18114294219120503,
          0.07500650875071319,
          0.31185100540426514,
          0.14094228015394766,
          0.04725771913532574,
          0.5567186946497741,
          0.10023703948727847,
          0.08276006247820751,
          0.34728523766134567,
          0.008554526649610783,
          0.3024072276437159,
          0.49960130429711175,
          0.33332715022731896,
          0.5278326556143026,
          0.09224217801955344,
          0.5421079277879715,
          0.13338503794416406,
          0.7732399558943943,
          0.584310827418478,
          0.10278931358554093,
          0.0032033748037010156,
          0.17140642881891685,
          0.008004210104064826,
          0.010802497419456845,
          0.5400124500927489,
          0.026425061740308765,
          0.07148100700875301,
          0.11204639563264142,
          0.3113599681356091,
          0.2696301266223522,
          0.04031030788688604,
          0.06892919905051884,
          0.5079642731554428,
          0.019846497579631174,
          0.07159891870562561,
          0.12923426296257834,
          0.06697181522908931,
          0.7926776755419751,
          0.021786765773125442,
          0.8365765549217825,
          0.2999867256561767,
          0.10555397691839352,
          0.16975458281931313,
          0.46928039192098736,
          0.29831160689635366,
          0.1563257928768972,
          0.010191354178791905,
          0.9697298261126375,
          0.12692825298370375,
          0.2766707982389993,
          0.9476257593035821,
          0.009707561788276047,
          0.3443605862972906,
          0.3234805857968083,
          0.2335600357277746,
          0.04826246303289642,
          0.08549686967864721,
          0.13008909604569882,
          0.020826553835166243,
          0.23559452898644614,
          0.012574653635652078,
          0.013088057266913656,
          0.17940727601562,
          0.2847012189196326,
          0.007838581555197201,
          0.503107950247438,
          0.006224795547895452,
          0.13791725132931879,
          0.1370972408662622,
          0.34047814767536644,
          0.21169849469925775,
          0.13742116604931484,
          0.2962653550964138,
          0.0456438530249118,
          0.6611739652105085,
          0.014077748285350638,
          0.06871909726895882,
          0.4395919296712978,
          0.4578732396997958,
          0.0014581392715741573,
          0.018227238467354728,
          0.9582602045471836,
          0.67082386925845,
          0.16903092760133018,
          0.006589643188101901,
          0.008108031979407229,
          0.12548638158210837,
          0.07403627247949601,
          0.844187689306492,
          0.18177922697832383,
          0.49104886764970407,
          0.14581475167548008,
          0.012017239581512249,
          0.09997050761678311,
          0.10873524988633541,
          0.45402656738926556,
          0.08655734085263825,
          0.27630753231243066,
          0.2506477747343796,
          0.043459908100575546,
          0.16486482282154677,
          0.0014193622117284978,
          0.11431365018007349,
          0.10747954588520692,
          0.13060875247331577,
          0.022419906085637764,
          0.8471774222539191,
          0.028114400041501723,
          0.0064426024721615125,
          0.4011234294554325,
          0.04319334621936707,
          0.19395361256393573,
          0.22370118821266205,
          0.36327455913557405,
          0.053303501819076025,
          0.3299488381429893,
          0.8213717846393721,
          0.2755378143238786,
          0.15297431438262402,
          0.14889034179292648,
          0.1464372028636079,
          0.0418466501056135,
          0.015118293463006839,
          0.07469631771388635,
          0.5663533055695389,
          0.019425512942622243,
          0.009540644863720922,
          0.4403853820061469,
          0.11243744815431275,
          0.06474525379577625,
          0.19547173410621588,
          0.6142651560407263,
          0.1050885984642587,
          0.5942336311859088,
          0.13922065764014077,
          0.7694537314569557,
          0.4506325569897002,
          0.26284493624136246,
          0.23634022213235747,
          0.012920150617424854,
          0.07407331831896825,
          0.6867814226905724,
          0.42737405442480947,
          0.017133533315898557,
          0.023944180813984372,
          0.049734132642600355,
          0.029457593511075554,
          0.11523629536180244,
          0.418893231168901,
          0.2684740965541124,
          0.5684648990164418,
          0.2458402142988421,
          0.17555884883633485,
          0.5892868497796238,
          0.2835309164512913,
          0.2670626421135006,
          0.20155224934797297,
          0.22200766769376915,
          0.41073818197343853,
          0.005570926459444888,
          0.05641396622889916,
          0.007204782436294369,
          0.6506688668447838,
          0.27366085674294094,
          0.7792134441751182,
          0.6659544727022709,
          0.2669135428577098,
          0.5557308628689713,
          0.24143285855160068,
          0.06259069386426892,
          0.004526825469594791,
          0.006203339880654371,
          0.44012349667814804,
          0.012809342641192212,
          0.4838079685141825,
          0.041613497996356365,
          0.10276150232905881,
          0.9883626213860817,
          0.23751852490962852,
          0.5154294733809436,
          0.004585522852224152,
          0.006439162961181235,
          0.19888523766896143,
          0.40460339753217134,
          0.7282965583773895,
          0.004077531063431477,
          0.15403916242171184,
          0.007882179184425627,
          0.9145605921541777,
          0.14207504961842057,
          0.06574160001638821,
          0.6226027141318454,
          0.4925501993763564,
          0.054135860234822954,
          0.25095704378962563,
          0.36778687231180984,
          0.4489371635244239,
          0.0879340255653391,
          0.7588885463942181,
          0.03573787478866566,
          0.022988327025939333,
          0.022303485817609374,
          0.012973168440502966,
          0.001735861447495615,
          0.011579525470751438,
          0.08854544908677138,
          0.4592512295265431,
          0.27932282047312235,
          0.9696598327132164,
          0.13695083329839886,
          0.2535410062093393,
          0.04408573268635537,
          0.3581108941714717,
          0.09762155915581953,
          0.2007133906670659,
          0.9100545779890742,
          0.7635519395882822,
          0.002241124986347623,
          0.0391025540294803,
          0.9326067284888151,
          0.14553877302841414,
          0.6588090460265349,
          0.0890714715726388,
          0.704045053880273,
          0.01690956478547911,
          0.1068771316985996,
          0.06472833294439204,
          0.4131295842221548,
          0.00633012952861645,
          0.6562107370314745,
          0.016667604455247516,
          0.8599984346345518,
          0.19199587492529582,
          0.004857414176784247,
          0.13615648077605058,
          0.9234832460396101,
          0.01802160978040535,
          0.10418697773000304,
          0.01327763547489515,
          0.3472226857137461,
          0.011616308788122242,
          0.9276552438892841,
          0.439022967960931,
          0.5086313096881167,
          0.19347625287384826,
          0.4488440684406411,
          0.9583030598796882,
          0.5436955395806229,
          0.8255049853706226,
          0.11970882278590067,
          0.3230565179159137,
          0.05354896680757865,
          0.025115094012972683,
          0.193139547040715,
          0.47265050653231444,
          0.024656678985323047,
          0.15224256014275186,
          0.9135167011905728,
          0.016136502137374498,
          0.43282548079367467,
          0.12766185580913006,
          0.08578816619707393,
          0.05896330706739056,
          0.2044088794548143,
          0.03273208679803232,
          0.10634818815292672,
          0.2734116222262437,
          0.02468518685859159,
          0.016572965216152348,
          0.9356098784626342,
          0.1501816773478442,
          0.0463891273390382,
          0.35201892997634937,
          0.93160680161591,
          0.8543858726119601,
          0.0013810453072166373,
          0.6233541694591096,
          0.15209688910841326,
          0.6014175305702628,
          0.015359078025841154,
          0.013387750408364485,
          0.06163390380676409,
          0.13715145632509657,
          0.6951072829209871,
          0.01168271483357463,
          0.456611647893825,
          0.0023049896002002006,
          0.10554053769888011,
          0.10694479619427058,
          0.07274365378492012,
          0.0399604769565624,
          0.38736153010086694,
          0.02011428058033066,
          0.09142166346591231,
          0.06014458660814257,
          0.146687227532386,
          0.15350068634644237,
          0.017134477904879833,
          0.2608608601108579,
          0.21803036412407698,
          0.017952150036321706,
          0.9137745290498037,
          0.3460848272383738,
          0.24012168602390538,
          0.018286807155996426,
          0.7913589478959546,
          0.01002862776215263,
          0.30446592522231336,
          0.10682341448617648,
          0.0018827562219713215,
          0.16079563158356358,
          0.021174125681292524,
          0.04346617093826792,
          0.6207808906433068,
          0.029145505998650043,
          0.07931198672704722,
          0.009957063256757546,
          0.4023377422586922,
          0.09094908420153079,
          0.057830377114664884,
          0.2803905311100193,
          0.3519179186064046,
          0.4030269532662438,
          0.48466085469649584,
          0.060444282442952635,
          0.7868767199085823,
          0.019740608200232854,
          0.057314675289656794,
          0.031238386647831143,
          0.028624646643398432,
          0.15308889073295348,
          0.36870115185813884,
          0.08498807117132938,
          0.02253024813536176,
          0.07605681523136129,
          0.7081681998980733,
          0.11347914051803998,
          0.024677679784900864,
          0.07283581059866927,
          0.2462130235106889,
          0.04134494882819096,
          0.0970905223890468,
          0.049770747762145,
          0.24083306872748506,
          0.19545360790722222,
          0.009609530359311388,
          0.4792984166981087,
          0.3612753636654849,
          0.01032112825874899,
          0.12157168769708629,
          0.7202181464008315,
          0.016943778241780526,
          0.057557979427328106,
          0.04809517039887048,
          0.22870333540496082,
          0.012793324166796008,
          0.179810760472433,
          0.18689014875717888,
          0.36560378136163185,
          0.003693959907948234,
          0.5574853906693907,
          0.08037067412729018,
          0.06787449330691644,
          0.017163823062443673,
          0.1287221332016211,
          0.4004118372302788,
          0.2397273115960693,
          0.7032131922693143,
          0.12793511074378028,
          0.5565575434425667,
          0.8207459378831301,
          0.08820134254951163,
          0.9278097971306872,
          0.5905810677930988,
          0.0015110171870109969,
          0.0670481158148403,
          0.13501903246920313,
          0.7853300502734465,
          0.022614208699042886,
          0.011572210736837618,
          0.9498298214825814,
          0.0016887057994335302,
          0.17221682846265884,
          0.02049195938275768,
          0.032554810625946916,
          0.9137005532383471,
          0.0035599465294867735,
          0.7897804363598235,
          0.2778184169531797,
          0.0007274120834534671,
          0.23100297056821587,
          0.08930198850956163,
          0.05857550118815931,
          0.08060915955327073,
          0.030868554014522886,
          0.08373992500027681,
          0.339159886587384,
          0.777404676117891,
          0.6016832301659009,
          0.04723652196197379,
          0.10232828082114845,
          0.08447713219457818,
          0.3260759240253712,
          0.012202091586329336,
          0.3504804631542314,
          0.43815057050854844,
          0.9191123011726804,
          0.24531141038076346,
          0.11350356042424739,
          0.019038654808259923,
          0.2906283541210872,
          0.30828218291537135,
          0.28762583566243144,
          0.6354983351175626,
          0.08283913097235036,
          0.010828360632432017,
          0.0051383834565712945,
          0.033570623607383804,
          0.08202823974231072,
          0.1117293993275424,
          0.05798980757992316,
          0.008211521203163723,
          0.024931458147698326,
          0.6334981005879327,
          0.01233434607549331,
          0.6359775757543557,
          0.6073325511192552,
          0.37389337174890674,
          0.05004456730703304,
          0.003005702373967242,
          0.40428596772402625,
          0.1603685399512837,
          0.3223070881336547,
          0.192192172311025,
          0.19294772424861284,
          0.07683583740102676,
          0.20926368159644526,
          0.039881458135499634,
          0.0211334597794466,
          0.2806912420962757,
          0.06603766701986263,
          0.11127807103914529,
          0.20088632394694864,
          0.10817523104220228,
          0.011612161441947206,
          0.06291258882318239,
          0.00903885842856796,
          0.6602881257921501,
          0.506383364780458,
          0.014701569973426235,
          0.14641080968548176,
          0.4790711813197382,
          0.39120958441968046,
          0.0390271386283128,
          0.11017524837416334,
          0.024594609047026022,
          0.15957648409784544,
          0.9150781512893102,
          0.0178066496340708,
          0.3726252428338898,
          0.038965864984776326,
          0.3151981063239446,
          0.3311542468855209,
          0.12069378863433684,
          0.2877850714065417,
          0.5563283774958068,
          0.12915245606520542,
          0.19380579814952698,
          0.1252015801440844,
          0.1310307384133047,
          0.1821662236256471,
          0.0326886620581715,
          0.0009956878884745796,
          0.00538528538782251,
          0.09479180579192316,
          0.12884496301500142,
          0.06824593287562952,
          0.029281757181597944,
          0.1206245598033595,
          0.015733673040760204,
          0.6899806332733777,
          0.4315370920917294,
          0.004187637590110618,
          0.02173238069687709,
          0.5723848665975029,
          0.005672884279616671,
          0.0059681610231688215,
          0.23691702403246045,
          0.020523599540320733,
          0.12972213322946574,
          0.0648785087344999,
          0.038382701581093935,
          0.6862398744125453,
          0.0042424165770383,
          0.0074219715342972,
          0.011154821807087302,
          0.8319234441858402,
          0.1976557114952665,
          0.04318493341031162,
          0.07288179916163018,
          0.005338996429912234,
          0.0054943584078664025,
          0.10642597192284194,
          0.8886947014040784,
          0.007011035798981118,
          0.02155592745481831,
          0.018745332612874484,
          0.09395130749755957,
          0.2754868481603693,
          0.9560016400815893,
          0.8053546891368715,
          0.47895634439063295,
          0.11917127073240642,
          0.27513057071780783,
          0.04983339776257173,
          0.41014726607562163,
          0.09379506481272583,
          0.40866865771926936,
          0.0029749865009903974,
          0.18904109393999974,
          0.04153035470411589,
          0.015213758338779613,
          0.06023449990356785,
          0.01701748243350769,
          0.003342750104888308,
          0.12359094055226229,
          0.04695594235503601,
          0.2927696135139796,
          0.013852361245394662,
          0.003243794423071228,
          0.5178863021480374,
          0.04639952381559456,
          0.12499903715133687,
          0.6829112351846122,
          0.0030322226833544887,
          0.10147435632171839,
          0.21637318649056786,
          0.01140743241300622,
          0.444778838156495,
          0.030357039362592143,
          0.7117352588542095,
          0.4158972629861871,
          0.0027550627921543113,
          0.9876841366533347,
          0.6292504523614344,
          0.2962395699737158,
          0.044779294428708316,
          0.18611248034891134,
          0.02718368972571717,
          0.5199237724789675,
          0.9666380082729155,
          0.007980967269695443,
          0.14093732709799084,
          0.02461671912008067,
          0.10589697006026848,
          0.04912891424122028,
          0.1682753249891704,
          0.02460482164552504,
          0.0297902269097395,
          0.010318089509718865,
          0.556140179580091,
          0.9143733214702573,
          0.147659183554445,
          0.17040764543135084,
          0.6951945469333224,
          0.008689260248799052,
          0.08736719324440648,
          0.03146576940130668,
          0.4084033413129908,
          0.3318512793991356,
          0.9614490528015381,
          0.20481932550249893,
          0.8999822856922217,
          0.005458365156307685,
          0.002200980375840512,
          0.08387733132615093,
          0.26167914132872266,
          0.44279637651343745,
          0.6492746843905871,
          0.28447265985453846,
          0.025078971407377092,
          0.598336696479165,
          0.011186435050024306,
          0.6339585684019013,
          0.04352178019429433,
          0.10350479836202588,
          0.0469449876136609,
          0.027227209345380643,
          0.009663775255825041,
          0.16728255424103322,
          0.003681493004630439,
          0.001757852260040422,
          0.6614326839972835,
          0.006615685823349365,
          0.18125919368124618,
          0.015179402697179793,
          0.20929181417244053,
          0.6258181353412863,
          0.002394740620601557,
          0.08633685915634404,
          0.6025906203706505,
          0.007697462474998733,
          0.19952736283052191,
          0.05133509684860736,
          0.48391222123784233,
          0.47964172885850237,
          0.10711530100845626,
          0.007143903855845272,
          0.09701519368311484,
          0.015536920030596525,
          0.4012495823866689,
          0.6261064841073642,
          0.322974010185744,
          0.0036226877528789804,
          0.03228754636026389,
          0.6800516440194887,
          0.2983090943459763,
          0.22987083681069145,
          0.012610626563503135,
          0.4862417886136045,
          0.07034545511717115,
          0.008028503626317593,
          0.07456552016212474,
          0.09948890263729322,
          0.4709100340197236,
          0.025804166685476696,
          0.26970556480253494,
          0.034613199537678385,
          0.21861862832369222,
          0.2867877313889296,
          0.5998317816540678,
          0.00793815293008311,
          0.0064660833826139345,
          0.010713670010777747,
          0.15142890631639433,
          0.2662696955692132,
          0.04755953883222631,
          0.035866676004311274,
          0.00991084902574123,
          0.020958603390364462,
          0.2019186917733669,
          0.3158874552079567,
          0.2519146961980384,
          0.12960521312449078,
          0.6285792120886556,
          0.28158625027505507,
          0.06806483662009451,
          0.253363592932114,
          0.017182314040410675,
          0.19044158866755617,
          0.061375675433040164,
          0.21138413308204118,
          0.4540073525167977,
          0.07020852813338851,
          0.2770012342334535,
          0.5386403222366436,
          0.1585645727846066,
          0.5251722333995622,
          0.017871822703054572,
          0.07202425069569743,
          0.03914202192702874,
          0.7602413357070993,
          0.15302779333262534,
          0.22432010618751136,
          0.7231351214842859,
          0.05347293091772179,
          0.2209208309240946,
          0.02263891897020549,
          0.5012408850198374,
          0.35271294534869224,
          0.027940220701807992,
          0.26594014384551845,
          0.6765849960274314,
          0.07338482251852267,
          0.29631000616177783,
          0.047523980009555024,
          0.734421561137315,
          0.075196066124294,
          0.0320253770502536,
          0.0486721262942193,
          0.014827057279606023,
          0.0018671403446366176,
          0.5614236179735037,
          0.2083185657799438,
          0.37909266670856295,
          0.32452896292011335,
          0.05247829263269662,
          0.013174116465580595,
          0.05385974216249345,
          0.23809503854433112,
          0.012640777965993112,
          0.33030497597703795,
          0.6476177042125071,
          0.037687646846737005,
          0.3071326751504744,
          0.31985407971809565,
          0.059299410495503864,
          0.007766215198277526,
          0.10479142078729096,
          0.94423200280697,
          0.1919786820614485,
          0.013341879323111884,
          0.8459822682409996,
          0.03542194621953053,
          0.49922419658711137,
          0.0427245483536892,
          0.4091040607953927,
          0.0737977130318491,
          0.6481319400072557,
          0.42890559760036995,
          0.0878724953347543,
          0.5018849800888815,
          0.012389587071430456,
          0.149722179746462,
          0.01079404152360505,
          0.12031200114854741,
          0.11031092013229819,
          0.7500828155114853,
          0.061272991577168506,
          0.0501607612114537,
          0.6575847774384266,
          0.15066507857650735,
          0.1070369483618113,
          0.13059288790125925,
          0.28708850693093596,
          0.3240231459062799,
          0.3526397158042481,
          0.1313780169896705,
          0.6385797356493825,
          0.026863306846099347,
          0.035408235215021476,
          0.8132144337696637,
          0.16103385930014147,
          0.025990984116201994,
          0.4669494570347268,
          0.07190705942812488,
          0.11253228074165593,
          0.7263963430147357,
          0.21539330645784363,
          0.08130847914735106,
          0.4657197976305262,
          0.48540388657276784,
          0.2556003337441369,
          0.22708309180915148,
          0.09843914197771068,
          0.3217255599878196,
          0.47428683262809074,
          0.4675129775064076,
          0.6985266923093134,
          0.03623846304420112,
          0.02930790773212527,
          0.8710547536477864,
          0.1299945067648969,
          0.007516137369056222,
          0.4590044313958718,
          0.024024756009357717,
          0.5366136029821535,
          0.41108599060609113,
          0.274178622276384,
          0.32211439307869744,
          0.01912802655775035,
          0.1761623729887471,
          0.02903049529231909,
          0.041087637161359915,
          0.14829378470813723,
          0.0025418127624354547,
          0.017717666895801957,
          0.022076112244996175,
          0.028482649481927497,
          0.9683238985406921,
          0.3843740131825634,
          0.5135314054711151,
          0.0214770765423542,
          0.09885714823783458,
          0.02842531862054608,
          0.1697426917713993,
          0.6415098675855087,
          0.3155335377926561,
          0.6360031642026993,
          0.0021400076909347514,
          0.38734827538920263,
          0.5074200515153356,
          0.010938532035971116,
          0.148271849282951,
          0.006053255875289821,
          0.3098485118886189,
          0.06094965690974336,
          0.13866340578409841,
          0.236265576581171,
          0.027543599194189496,
          0.7322002304906742,
          0.014243921149294413,
          0.8328489576659222,
          0.011692550055227395,
          0.7339710091332061,
          0.04375245016470348,
          0.42974453405965457,
          0.49147452311112816,
          0.6679792996890274,
          0.021166817436459567,
          0.03491255195824126,
          0.03528935173663249,
          0.2931519830272272,
          0.3371631226861391,
          0.9376361411322468,
          0.4715067199015137,
          0.004424591328863383,
          0.018410158728982,
          0.38456795255499865,
          0.015435454670763281,
          0.24608796840460043,
          0.04247792146014937,
          0.7400620808858701,
          0.01486471745775783,
          0.10354805564528857,
          0.029238447876419497,
          0.08499055293408957,
          0.013358584599859061,
          0.0028348017657950563,
          0.0020464193858469016,
          0.8505116806553853,
          0.1372969749409378,
          0.015741140786096796,
          0.001513822401936605,
          0.01940244247403942,
          0.43590174324018244,
          0.30942276692700277,
          0.8466721451711818,
          0.8479391282652973,
          0.21855312923577283,
          0.8620306451931801,
          0.42355003568032473,
          0.09551636924515353,
          0.2396466420093898,
          0.04950393532466942,
          0.26511109428095386,
          0.06405437621175837,
          0.17092946402572232,
          0.008798366450351461,
          0.14875527718002923,
          0.54265445819054,
          0.012682215668276993,
          0.03621606971488691,
          0.9517500303452602,
          0.4477248650636297,
          0.09845240020425963,
          0.2272702401766776,
          0.0014884755941985302,
          0.462197475091854,
          0.04010372980337469,
          0.07345967357342524,
          0.12459953365586361,
          0.056384330179350343,
          0.0831364354532719,
          0.5791739038680332,
          0.47002713571819466,
          0.06800078495927081,
          0.02687588629918096,
          0.019996618385967127,
          0.8231494940430846,
          0.010687007353136624,
          0.013641227417981069,
          0.3339986241158111,
          0.2441079119492715,
          0.2630408360392471,
          0.2028385185840542,
          0.03507500334132,
          0.4766344979765524,
          0.4218491762620434,
          0.6113720502693655,
          0.05625081829613873,
          0.9051064587399412,
          0.36622781642387303,
          0.11825461999033803,
          0.14113144364054092,
          0.7982238190692312,
          0.5103342605915625,
          0.3062014253560471,
          0.00537795863169907,
          0.0021309529921262733,
          0.042903508910747894,
          0.7798606271818214,
          0.24267423529544307,
          0.7087575021592906,
          0.0205481482183749,
          0.03014627184544106,
          0.36942421104897516,
          0.5142847185488431,
          0.16652657081924224,
          0.25923235953741597,
          0.582985559956388,
          0.11713030510585104,
          0.13396577701074538,
          0.6266823824297992,
          0.4099803124795665,
          0.010274606437255713,
          0.0034374565908445367,
          0.1713927269165862,
          0.3030653258373123,
          0.2764060672871703,
          0.31213099267610706,
          0.07249037374267332,
          0.951756815974014,
          0.13179026614284245,
          0.021561677018088737,
          0.29344828694300223,
          0.8554116442055891,
          0.038453543159950886,
          0.2976593658335363,
          0.4403769354942392,
          0.039291258088638426,
          0.6308082612866814,
          0.49534061857790773,
          0.010906328306521329,
          0.008169458944630024,
          0.059862464192574766,
          0.0022272581130792345,
          0.03274294147460286,
          0.17574523820439705,
          0.022174664552105844,
          0.003348256649759425,
          0.7472452553378217,
          0.041073713203128394,
          0.028560126229862346,
          0.4410953129415875,
          0.13690433361958299,
          0.023924800367871372,
          0.08454246705231734,
          0.09433154761957797,
          0.006296431342338322,
          0.6319581451975332,
          0.030889474699919817,
          0.08665812580946261,
          0.11540619738080175,
          0.08186620287163837,
          0.9786184486729165,
          0.47873238827660036,
          0.9032828251923469,
          0.1336785644397817,
          0.027340567452390226,
          0.2628028497168564,
          0.8720099253712035,
          0.37761208397419554,
          0.012493750189685808,
          0.0014590687803433334,
          0.054163769226046474,
          0.07013450460270194,
          0.351022291061838,
          0.02027363872860854,
          0.6742647663304059,
          0.17411602506573756,
          0.09600261414240371,
          0.5168777391356087,
          0.554421997963157,
          0.3456851195359522,
          0.017474473179731848,
          0.41591515921014954,
          0.9366866408321859,
          0.09839207201526186,
          0.06352687528379102,
          0.628851622736572,
          0.2744435017144102,
          0.004336932687213948,
          0.4537751732199991,
          0.07653431747034137,
          0.040310544204489526,
          0.395283000615427,
          0.033874429623599066,
          0.09501919591013859,
          0.23703539141888988,
          0.1836165008349533,
          0.05561409942870321,
          0.05949021390935838,
          0.013929771827319509,
          0.06500219515931802,
          0.3569877681479927,
          0.016339580932349242,
          0.022099233080369002,
          0.1892221913471021,
          0.25973130478304185,
          0.16694116105755083,
          0.03345934357129884,
          0.06177805801184484,
          0.6760559734331882,
          0.1406007256047721,
          0.05267685158929052,
          0.22635795449229973,
          0.1455161609100389,
          0.7168160005192682,
          0.09298568506625546,
          0.33819950791179176,
          0.008744788603354453,
          0.41958702214995997,
          0.03361978107569428,
          0.24496690260707027,
          0.4540426871606876,
          0.6776542808826689,
          0.928624406206533,
          0.16706425445073872,
          0.03910125254533063,
          0.03975381347398055,
          0.00286479073919265,
          0.002606437805011863,
          0.38863991993351055,
          0.11602617989732081,
          0.11211758620665206,
          0.8885233450599824,
          0.06775729365647694,
          0.5159373323861695,
          0.02069480849790421,
          0.28031143672368614,
          0.026896533567205585,
          0.02871168339207174,
          0.3778263711220372,
          0.01850537276062217,
          0.06777691574898118,
          0.36628909890086,
          0.03135063545955555,
          0.04247261898082157,
          0.07130643982724655,
          0.8810761991814121,
          0.22742842724819265,
          0.13011061448785596,
          0.709230900244393,
          0.22445632024832102,
          0.06549710642675595,
          0.018028997566264533,
          0.7559844724653549,
          0.02370161953336979,
          0.11422039682426376,
          0.0604444911348777,
          0.6427492387340944,
          0.46419696435559527,
          0.1937633496428419,
          0.5008421229967408,
          0.05125466136444934,
          0.024711892791584922,
          0.15953713041258036,
          0.1529207869777971,
          0.00801800849538026,
          0.17266813595475602,
          0.10636125842987275,
          0.2629854579344234,
          0.012197529226127747,
          0.42109910339446277,
          0.25234930510696624,
          0.5567700384196638,
          0.5702406093054281,
          0.24469170806271992,
          0.0012183989144718113,
          0.0033250908941240493,
          0.06877405438278521,
          0.5851367350559755,
          0.37425116155069954,
          0.024638286883021852,
          0.2099968605187307,
          0.050275680174745534,
          0.007332469511795479,
          0.043676304342030584,
          0.006845251109137069,
          0.19155651803201593,
          0.7076344219374713,
          0.005779996476346906,
          0.8864094969776719,
          0.16159277541144895,
          0.03605160501629671,
          0.10254677614502136,
          0.3167749895410335,
          0.055145231813888855,
          0.20200738815385735,
          0.5919007640793645,
          0.03880856825281606,
          0.19080292322802764,
          0.01951655454009495,
          0.6054072748595988,
          0.03813687367444188,
          0.053252538347795274,
          0.0035248791140041957,
          0.9701308384443185,
          0.0066561834119448614,
          0.0731366513623336,
          0.0017716656364137587,
          0.9429632629293302,
          0.07624710481401316,
          0.3139774139969283,
          0.2561555202153716,
          0.028404324683144296,
          0.19019046002499831,
          0.0026767237619285296,
          0.05625296185985992,
          0.1191318826141662,
          0.40695210860436887,
          0.23481882605431953,
          0.06661089358286572,
          0.02671402710485876,
          0.690672732988691,
          0.7287482718879997,
          0.035098655366475474,
          0.6138464006930784,
          0.17944233842903884,
          0.14254886328488728,
          0.44630980093960804,
          0.08238248751810857,
          0.08243693699618017,
          0.032973196975785636,
          0.37082455576757145,
          0.13646287636517992,
          0.14443558249838273,
          0.01268186565930801,
          0.8971931042091856,
          0.022421042648328338,
          0.4794960838912685,
          0.00419630207402787,
          0.6628080747723065,
          0.4688203007070514,
          0.5728244996877734,
          0.5781249524772366,
          0.42706905049651483,
          0.13752977468657854,
          0.0324873100644898,
          0.16182733515675674,
          0.17694539601155018,
          0.3004290284842153,
          0.32149750831656143,
          0.01238109871290914,
          0.7314326430295662,
          0.08048228828984441,
          0.1746362070856702,
          0.6662763224475956,
          0.11628603205406107,
          0.1898382368610722,
          0.4597803740239789,
          0.8806162399411559,
          0.055959702467863796,
          0.021447354197803647,
          0.01127860235024063,
          0.63289831927052,
          0.2517992603836679,
          0.01053462326768597,
          0.07649826822282095,
          0.7770337825169997,
          0.04665769906538432,
          0.8228203667394558,
          0.04916358365563005,
          0.0799187217092187,
          0.7813714184873263,
          0.14161487842994372,
          0.9176901862314254,
          0.08994268923785388,
          0.18114314996933567,
          0.004660750598835145,
          0.059267782425448286,
          0.011161145844492435,
          0.2227260166570005,
          0.012826713148815585,
          0.3487103333314604,
          0.03064809834121864,
          0.05726678391582203,
          0.19511065036237774,
          0.10329800466874325,
          0.007082928828305191,
          0.050399544499716176,
          0.7507428055775023,
          0.41069047638311845,
          0.01969297581821175,
          0.128147079004587,
          0.1748936335283268,
          0.015238128664760191,
          0.8330594825458015,
          0.10568399429938762,
          0.936954586282029,
          0.8496310625101496,
          0.22441742761712635,
          0.017984871688688193,
          0.49938459195969714,
          0.04555084073168371,
          0.30275514749069227,
          0.5179652323793263,
          0.7244386054680558,
          0.4857742750160762,
          0.21317935186888975,
          0.07099939732936286,
          0.252631263523433,
          0.05120443693508264,
          0.006613911746548218,
          0.626354729207425,
          0.3438404487505432,
          0.0064551480424998985,
          0.16141202646313252,
          0.41438658193280925,
          0.013639944547946984,
          0.504288494717571,
          0.07354736602564615,
          0.2718345843061892,
          0.08098128428837836,
          0.07771131996397772,
          0.5818528757240852,
          0.007268151852747057,
          0.35599702427218727,
          0.0923521244073505,
          0.02323826413597156,
          0.14678787515600555,
          0.03685117910745702,
          0.002674017951284367,
          0.008067831514588971,
          0.012345597551951219,
          0.069902058723949,
          0.3525520427974164,
          0.3999428769778014,
          0.0178262929990723,
          0.23408912842393753,
          0.7190104402659175,
          0.19344955709111886,
          0.013702424887929025,
          0.03422311860858202,
          0.033229829862299665,
          0.25855694169837873,
          0.4524651186465843,
          0.5654251787556437,
          0.18920029696395446,
          0.0037099788318730835,
          0.3220803277838537,
          0.15704510614954845,
          0.009172285246766327,
          0.24337485248101515,
          0.2717207177399952,
          0.004735676613088696,
          0.03267059085624548,
          0.10548945071409133,
          0.00871686426530014,
          0.0944731852744476,
          0.014632002223836324,
          0.07614143146138508,
          0.059485803737955936,
          0.24834196090365823,
          0.01090545733231461,
          0.06893268643114318,
          0.623544045499302,
          0.6383564709207562,
          0.09329807935900934,
          0.6780151957863376,
          0.27991464080885964,
          0.7720977471344964,
          0.5736461753169464,
          0.08723928525165553,
          0.7789214783702109,
          0.06559967626998256,
          0.2692499397959261,
          0.3366105316578627,
          0.016025489228662353,
          0.11927001945068685,
          0.18325797122546159,
          0.29754173306630005,
          0.06956890534610008,
          0.03550448817649752,
          0.2983460264073384,
          0.0864578033676552,
          0.8520006339707661,
          0.0099246834119654,
          0.009386418879591968,
          0.03708418281856708,
          0.7522267119939324,
          0.640253310286464,
          0.08667090944332902,
          0.06903534536947191,
          0.9154237827177178,
          0.036289148064104014,
          0.8065593010615054,
          0.2955670265558235,
          0.6271363262901306,
          0.2102692709859799,
          0.06236216652805456,
          0.7871846693776067,
          0.009394548795092359,
          0.06874735885357583,
          0.1084322519284043,
          0.07558268952006662,
          0.0027237649442015343,
          0.3319780270496936,
          0.20694906934471696,
          0.6707366904359916,
          0.002995809181387098,
          0.6560651890460534,
          0.5618429155867981,
          0.2029232549992113,
          0.27665176964799426,
          0.10038973894497213,
          0.16863606553226376,
          0.005542283728478204,
          0.3558894732686668,
          0.21544828907313107,
          0.45906388727432923,
          0.015215783355020747,
          0.1853022357269298,
          0.018403229911895556,
          0.6318863355451193,
          0.05897441304737678,
          0.059727535605665336,
          0.05782077357655915,
          0.41170314847581196,
          0.09023629938521835,
          0.5371649589154083,
          0.06764829897355429,
          0.23539479977525615,
          0.05125051622166869,
          0.2566895888940074,
          0.1792397105563964,
          0.3255303409154281,
          0.46623784604682084,
          0.14056453882202102,
          0.41065425302827674,
          0.4943308643637118,
          0.1188364298355193,
          0.6959350055819137,
          0.05418051952727306,
          0.17138248058457184,
          0.715324549427941,
          0.002279793309664148,
          0.3231776440250604,
          0.1652334523631049,
          0.09712971265722545,
          0.8049153099284574,
          0.00801109904181299,
          0.021229203676502873,
          0.00417940764295713,
          0.010648222226822547,
          0.050162446514698145,
          0.25635042797977653,
          0.6037278832403215,
          0.00422322685536438,
          0.1123766430961104,
          0.8299755252174785,
          0.4413686947801779,
          0.6390181370693279,
          0.37664026157801717,
          0.3381659428510015,
          0.26605150770961655,
          0.03779416079716634,
          0.03641775215489308,
          0.20957362537819715,
          0.04952026231068832,
          0.14793655256649596,
          0.0061181464717917034,
          0.9577773151599308,
          0.2913676731288117,
          0.7059274087472425,
          0.2680605178162896,
          0.3612090379098884,
          0.11029452139909514,
          0.08040260145367854,
          0.15497893320891665,
          0.1419744154058413,
          0.9073520753787565,
          0.29221914687474965,
          0.004656868259436733,
          0.3609672739142977,
          0.4726346730547949,
          0.19008404404493895,
          0.010803429069958792,
          0.6815755967012984,
          0.009652366354696887,
          0.2390448982225405,
          0.7130304770387679,
          0.5811315057231925,
          0.04460348759900058,
          0.03881358645347404,
          0.9106962877851061,
          0.05518822735140538,
          0.5272178696243246,
          0.049268423235966634,
          0.9226362772870468,
          0.749177302674802,
          0.08089184751977734,
          0.03310681909435291,
          0.4356284376979437,
          0.6968683176938868,
          0.02259943436117664,
          0.03945560784472934,
          0.014697498561863954,
          0.008190899795653737,
          0.6813047959118389,
          0.02016483429248428,
          0.1770500684169116,
          0.23246681306308606,
          0.4552274481307586,
          0.41396164406597885,
          0.05895049202528009,
          0.10200267066462688,
          0.057211153725197535,
          0.2744126308475659,
          0.5959973106962575,
          0.044140786070006544,
          0.012344146833431538,
          0.1674980074923034,
          0.21983456726459646,
          0.2775979382735974,
          0.40746793490711175,
          0.017740517805494023,
          0.06560937148633753,
          0.761482406955513,
          0.05258963753559572,
          0.008016991340158954,
          0.6590268451911274,
          0.49931384790472716,
          0.062213425882174565,
          0.007744821110945196,
          0.016667571283615755,
          0.2887232240748198,
          0.2106816470803786,
          0.9021478461399938,
          0.16241874963672187,
          0.2608357047994727,
          0.021732397182705487,
          0.07690121398955302,
          0.00285075550857608,
          0.9534068199366609,
          0.9965462355304591,
          0.31657478200036926,
          0.07121139589644443,
          0.6726704702192046,
          0.018638706023487835,
          0.20888922445530678,
          0.5930628384605577,
          0.058546683419582454,
          0.6671250985660881,
          0.1596530416556591,
          0.47715544201965093,
          0.20864594945894785,
          0.48151118614555105,
          0.062001692619556965,
          0.43072984248916923,
          0.017362494948453933,
          0.44533592552730245,
          0.017334262599580978,
          0.6870000475100997,
          0.4018215043656575,
          0.1849683736257409,
          0.4536460396369758,
          0.0027426748980020304,
          0.26129551592905903,
          0.1351876638384283,
          0.34023198171091307,
          0.34464971876905975,
          0.6049673093327103,
          0.0742658653812176,
          0.005361644761521494,
          0.011102853988018071,
          0.06267822099862283,
          0.9312290349328494,
          0.014894650593153378,
          0.10079942000678058,
          0.3381420207538055,
          0.37151814772883895,
          0.0033600422818717297,
          0.7182803078722438,
          0.49815360593857827,
          0.4459910760629027,
          0.03598790897377044,
          0.10191681953156986,
          0.007429928150869554,
          0.9699860660930569,
          0.08270340233534489,
          0.11594883982446347,
          0.020003755208522236,
          0.058427031769286264,
          0.49422489141475073,
          0.019075465700156353,
          0.1035870257364508,
          0.010578066712245185,
          0.24117049750521957,
          0.4808750013708676,
          0.9240648980591835,
          0.7109471413272124,
          0.26209439343317686,
          0.7448289411813217,
          0.5434726965285588,
          0.7181788575434725,
          0.6461749349628558,
          0.0062222466990965964,
          0.34339582371133204,
          0.012219295038127399,
          0.01397031987587421,
          0.19313195611352418,
          0.012050000740597639,
          0.2841202745561354,
          0.06446412486239998,
          0.03232436801296814,
          0.8881717221417776,
          0.012229272693400732,
          0.3405936319100822,
          0.003149870234975248,
          0.36709229744706856,
          0.06009840134477953,
          0.4485816970180581,
          0.07539963917739544,
          0.9408185860432102,
          0.8535072492144037,
          0.48736234153050473,
          0.43749363797169777,
          0.08015464359451442,
          0.002697005513115908,
          0.49024790628409737,
          0.04905712757654265,
          0.11049625384491163,
          0.2089806000091289,
          0.06617675777151798,
          0.12350055439619753,
          0.15556263946513815,
          0.05857043314962069,
          0.6313444310914891,
          0.05757807325920495,
          0.0482248131321783,
          0.01994153617289797,
          0.20426701714254467,
          0.698116635199498,
          0.1715258727832544,
          0.029912573430425516,
          0.022196378162719434,
          0.02078035912355101,
          0.6476164799450972,
          0.596245820892602,
          0.001360433079269765,
          0.042209458123266326,
          0.46427746410342585,
          0.49825786248880155,
          0.6047612531593873,
          0.10291158062690059,
          0.6144117406461581,
          0.12471567287200232,
          0.059306676244655375,
          0.09466604797726721,
          0.42427147278887845,
          0.3291862990748704,
          0.10388793550160669,
          0.0264301130896012,
          0.018131565415875663,
          0.15810371227577658,
          0.4641688983577561,
          0.20307611760296682,
          0.9485291878914371,
          0.08176422103315528,
          0.1694323798448684,
          0.6796970595793613,
          0.5252895332721569,
          0.4189424111594081,
          0.011337446502363563,
          0.02180974724759054,
          0.20644615125443241,
          0.01792751694455527,
          0.4519405915856077,
          0.053022169756402664,
          0.15756068131036585,
          0.45637289450273877,
          0.03969879699606626,
          0.11471759725326625,
          0.192780980300629,
          0.03498821504659307,
          0.3341403048828267,
          0.9453744538263094,
          0.027190931960984387,
          0.6663327364659052,
          0.004943766191131005,
          0.6720118929780917,
          0.01449850984529696,
          0.985868712786636,
          0.3335834744823858,
          0.8797228215390975,
          0.9104594474250264,
          0.2613418744715051,
          0.37510317267646043,
          0.07534995198719396,
          0.2788329887377297,
          0.24863666300274231,
          0.19565643642842234,
          0.3215052270101855,
          0.1037628667095376,
          0.6307523988976808,
          0.06484698646900404,
          0.8947782470360532,
          0.06668869687920256,
          0.06974044879997927,
          0.21893208072685122,
          0.18491300809285233,
          0.001101425625985917,
          0.07177581613907641,
          0.02373995834445735,
          0.04044951350345498,
          0.026103854992606167,
          0.21096363729528803,
          0.13760523601661917,
          0.07661062602683205,
          0.06668388703458397,
          0.36851714628602505,
          0.5438255346208568,
          0.006410577385380603,
          0.07472845281540985,
          0.2326188753710633,
          0.6293238531956574,
          0.5773126361691497,
          0.23293332258085106,
          0.19397140494345674,
          0.033430697187658946,
          0.22252258386070262,
          0.2606519549060213,
          0.012010660568812505,
          0.04194961163616477,
          0.11045657467784507,
          0.26420722962867804,
          0.7745683965425052,
          0.11479722125687117,
          0.33312074410016207,
          0.3248532414676898,
          0.119529009206436,
          0.4597442339089894,
          0.5065454121195556,
          0.024466855471429735,
          0.01783653760903164,
          0.1192589474776928,
          0.04495130452757905,
          0.029030630760171632,
          0.7170311305841178,
          0.002663857347769041,
          0.008824136228569607,
          0.005782342206687399,
          0.2404967358839521,
          0.0020770460105514576,
          0.10394661632442041,
          0.11630624809153406,
          0.2707922219560164,
          0.9481625249105566,
          0.32722408099850264,
          0.28299122492844553,
          0.1541545819175047,
          0.3696408539682688,
          0.4527009525962934,
          0.7304992142017521,
          0.3575151346764372,
          0.1009947806140945,
          0.057290556107783136,
          0.0392865403764925,
          0.012207977920745317,
          0.5816478048688267,
          0.9684918375210353,
          0.04147134543149121,
          0.10082867694850374,
          0.9503582836092606,
          0.3827469640311136,
          0.15989300421429029,
          0.10205434686357154,
          0.4087673612839343,
          0.018752977531793138,
          0.7092390899123422,
          0.13070880071078342,
          0.9357855646200474,
          0.04397808136343519,
          0.2598565495143485,
          0.136230385003829,
          0.028131693579450032,
          0.16736540404952127,
          0.5915534338152446,
          0.8666606444958214,
          0.15359600277617197,
          0.43040569408614426,
          0.8768716414617329,
          0.002269143201189818,
          0.09153770619635851,
          0.14592323820928974,
          0.34912089885523234,
          0.04103654248793044,
          0.613612917444295,
          0.1602254469189499,
          0.003935823802674898,
          0.024608491464172617,
          0.4656880717335927,
          0.687046066658683,
          0.4418207617912779,
          0.00789038751845287,
          0.07717980476962855,
          0.1306881384044149,
          0.37078332297397104,
          0.024255924857357475,
          0.48433734317035093,
          0.726482007940546,
          0.03947412185161292,
          0.20700845296784431,
          0.0653763196773373,
          0.34490436175577105,
          0.009247003382714112,
          0.26091385807663053,
          0.499811245650874,
          0.008135754475600256,
          0.21770099633249065,
          0.8400166998771884,
          0.03432002428366943,
          0.02838795012892199,
          0.7513903898042235,
          0.5918408549722307,
          0.39479047962404,
          0.15301712523292163,
          0.44343369262112353,
          0.03999003305173915,
          0.38909622363287205,
          0.04578438045405968,
          0.03302128344370667,
          0.8901764401112532,
          0.19636956996820232,
          0.01227655072207751,
          0.03567390244204649,
          0.8882537119604133,
          0.004047190832910698,
          0.07629751640685795,
          0.03813565942674801,
          0.5875962508381523,
          0.009208659481117265,
          0.7172392059833641,
          0.04598317219232794,
          0.45819877689048044,
          0.0033857144967482642,
          0.006152316712371579,
          0.2618996009650967,
          0.09553360373760617,
          0.1838238525417638,
          0.21404940774294492,
          0.02222579169268857,
          0.023989694232331285,
          0.011353038481176265,
          0.25995767174585477,
          0.6148670162067048,
          0.006094155822140549,
          0.7429285457661527,
          0.371837022495384,
          0.5722581498260403,
          0.04517072081686214,
          0.46001022951102427,
          0.01072132968908269,
          0.3125828295662069,
          0.21115120619559619,
          0.37389802355572926,
          0.00872293039397475,
          0.07503022878666857,
          0.1450418481159678,
          0.9168311653858627,
          0.6993240306486029,
          0.005947638983125874,
          0.38555578023136394,
          0.22159344542040374,
          0.07876291011524794,
          0.002637127635679163,
          0.49373673234326404,
          0.4249298823897608,
          0.5028399522179791,
          0.07270111378154713,
          0.02308029124280976,
          0.7056132457774975,
          0.6768993312407524,
          0.9601447173614114,
          0.7135871818761066,
          0.5923093255287403,
          0.10554574065732787,
          0.09427464903405645,
          0.36322620781050824,
          0.029355171169956958,
          0.08064790196944818,
          0.25883703000574654,
          0.1895537779888351,
          0.021327478051822554,
          0.05293455457784876,
          0.017871822703054572,
          0.1021086649817413,
          0.5760901878364879,
          0.22435105281610293,
          0.015526436590550505,
          0.7015446736637627,
          0.18806555404846045,
          0.02274846539950082,
          0.10300959405454832,
          0.5623974469631194,
          0.3472920276791012,
          0.9397989759054496,
          0.4670925613385597,
          0.055386723198390574,
          0.042979454871568686
         ]
        },
        {
         "marker": {
          "color": "mediumaquamarine"
         },
         "name": "Top 20%",
         "opacity": 0.5,
         "type": "histogram",
         "x": [
          0.9824598315199184,
          0.23167373103840455,
          0.7650119424924958,
          0.938094647222745,
          0.7397867821354221,
          0.7022320120212912,
          0.8817561825472905,
          0.5773393860789738,
          0.5286008331925429,
          0.8690308768081079,
          0.9790049035763149,
          0.6994162631195451,
          0.7900242848969271,
          0.2639395169407169,
          0.10110014558455117,
          0.9032332429573862,
          0.7817115023121811,
          0.7194325649946198,
          0.8930144474083346,
          0.9141816718313044,
          0.9285271452761079,
          0.9180038355581274,
          0.9596473148006284,
          0.8918081996605265,
          0.9808986013866149,
          0.9054639029996081,
          0.9815425640617386,
          0.0734080443643429,
          0.8931274067291392,
          0.745077384302914,
          0.6000015904953365,
          0.8363601788625793,
          0.940339251353396,
          0.7831401274013591,
          0.5918774586286416,
          0.9297563604396212,
          0.9932218585459538,
          0.9567309527613792,
          0.9863799468229568,
          0.989151297412171,
          0.9737759144322504,
          0.9890367922581209,
          0.6362274818803402,
          0.9961751593496663,
          0.9483876660690818,
          0.9824401660527069,
          0.974624360587276,
          0.6984249797461001,
          0.966244232608404,
          0.8486118913423536,
          0.9520568035633582,
          0.8942297609785061,
          0.3768639037192488,
          0.7635105437838682,
          0.9451459045346863,
          0.6931732510276915,
          0.9527794216386878,
          0.9087163913282797,
          0.9631796841369259,
          0.9868596313559405,
          0.8240631482994285,
          0.9835704549154377,
          0.9616514927289558,
          0.9736786508398871,
          0.5633902768210204,
          0.9137551167480039,
          0.8624053488432217,
          0.9928159967278073,
          0.9806521937722764,
          0.9877287697081016,
          0.9317397336487593,
          0.6604758436611444,
          0.9878322939249536,
          0.8801460359494132,
          0.969881812171631,
          0.9092919209117117,
          0.9961906181962038,
          0.2129314243093646,
          0.6827445388649835,
          0.5344794564927856,
          0.8160997406112894,
          0.9548467428950065,
          0.1827154053487917,
          0.9830372563251406,
          0.898881281727136,
          0.8239720979815364,
          0.051639967961711636,
          0.04199938793379207,
          0.8701445225630774,
          0.9803681832652469,
          0.942216341040927,
          0.8933950150094346,
          0.27487767032508414,
          0.5578883973586134,
          0.8434404059029542,
          0.9744657588805458,
          0.8733485026885878,
          0.9357926249288049,
          0.5404428668738763,
          0.5199246562058304,
          0.047680162133930136,
          0.6980530217047043,
          0.2850655100844145,
          0.7533448914801919,
          0.9765882031640338,
          0.5835277445204025,
          0.6724685890795367,
          0.5259104413104192,
          0.3721530187318164,
          0.9816806568719104,
          0.9751548049810123,
          0.990698071298639,
          0.7758117863118359,
          0.7330274263314004,
          0.37284315812755137,
          0.9079235472549428,
          0.9585653275238223,
          0.7370750766430088,
          0.7289917900674701,
          0.7382622329822528,
          0.6314592985297914,
          0.9662127347748308,
          0.9987921371300615,
          0.44477680727063884,
          0.8481199817733297,
          0.5201874713721838,
          0.7594171337892566,
          0.9894203118092212,
          0.9126123796672182,
          0.9186975657678148,
          0.3611292279506442,
          0.878235179906519,
          0.569767333804417,
          0.2620220143468439,
          0.7970664061536249,
          0.8857631682057564,
          0.9649734346006953,
          0.9233698044303048,
          0.6135330754479235,
          0.600260736408371,
          0.8372931830612003,
          0.8846260208815687,
          0.8345510357408868,
          0.9916462569531522,
          0.9568686621633791,
          0.5580294100547041,
          0.9588218827658184,
          0.2908373892304546,
          0.4293157401741938,
          0.5470763488274109,
          0.9947820474957474,
          0.4294149377091065,
          0.45048719081597416,
          0.941794480910695,
          0.03202707781808124,
          0.7902316457170353,
          0.9114931309803839,
          0.5300301653358214,
          0.031655675824085544,
          0.9160506577483666,
          0.7718232419184824,
          0.9494744778332993,
          0.6192976444323037,
          0.8982808418256896,
          0.9500792467680506,
          0.7337368387809423,
          0.13980728104488496,
          0.037479141258767695,
          0.15112453879569396,
          0.9875431843399541,
          0.9536283731973431,
          0.604467366062518,
          0.8592571324271764,
          0.9942826797032044,
          0.6692739837466664,
          0.7745335430603353,
          0.9672786236317503,
          0.9783299289594446,
          0.962936190211032,
          0.9875177344898084,
          0.912490255948495,
          0.30940365643366713,
          0.9427492877141712,
          0.9249215016002468,
          0.9935368976888164,
          0.9803451220551922,
          0.9299883681580716,
          0.9441230471683548,
          0.33340392988016937,
          0.80304098244191,
          0.36479340524891585,
          0.9917846012732896,
          0.8785274394556519,
          0.9176729667675239,
          0.9165743271506777,
          0.9872257028656352,
          0.5905944106446622,
          0.7649496727205907,
          0.9870070693230101,
          0.8155664102931726,
          0.9933720221216393,
          0.9856036387982017,
          0.8387357603106473,
          0.9758168873809778,
          0.29035963342246224,
          0.7423876987451764,
          0.971399109909086,
          0.6852764210411798,
          0.6521476208014613,
          0.9741791184196359,
          0.005905497109709892,
          0.848830375853154,
          0.9928412098240866,
          0.4969061983084956,
          0.9743375699712473,
          0.8876687880632618,
          0.8792501967053916,
          0.0041452046730408474,
          0.9165039318414138,
          0.8942324971778043,
          0.9675924927825225,
          0.638886551862307,
          0.5430027043964746,
          0.14042670349819383,
          0.22897029944073333,
          0.7318748772731204,
          0.9274566364171825,
          0.5974824420681778,
          0.7051372336698299,
          0.6705379716257673,
          0.9000786876579674,
          0.39711645444545635,
          0.9908235953186915,
          0.27815114888779985,
          0.9647298937297009,
          0.6633857860139349,
          0.7873139584751868,
          0.9529190065562699,
          0.4460187774729321,
          0.9932272450833728,
          0.973390907825444,
          0.9823744001362312,
          0.5315240420253168,
          0.8955920585884459,
          0.6373744440769857,
          0.73296885458337,
          0.6727390723436795,
          0.8984489699354069,
          0.9549476936771859,
          0.5872207227382538,
          0.20807366984226094,
          0.9333404887287289,
          0.9036934292829175,
          0.4203419637932364,
          0.7027890447371253,
          0.549471495830194,
          0.3090937205466721,
          0.660924470209149,
          0.869621881950152,
          0.1399295897589382,
          0.9840977967519364,
          0.960134269455542,
          0.9042277441915879,
          0.27076572505849383,
          0.9631118830277994,
          0.9726739865370675,
          0.9736636236863059,
          0.9142581030035973,
          0.8476155388860881,
          0.9196415902484157,
          0.9524742228640427,
          0.9877118414102578,
          0.9447087607993587,
          0.9754285129547654,
          0.9938753930475684,
          0.8067012047077895,
          0.8770252053054464,
          0.7343567740694321,
          0.9365260037638226,
          0.9149890095661027,
          0.8364450583610793,
          0.9894544370472476,
          0.9553601129749469,
          0.3510770404430454,
          0.9822160598215433,
          0.453341387927091,
          0.9405010011303039,
          0.9791508164736482,
          0.9790012342957866,
          0.6801024053497675,
          0.7428449975088486,
          0.6416212740634318,
          0.3616473923795832,
          0.5788737024605306,
          0.7232270167703702,
          0.8943019600909241,
          0.920103904439745,
          0.9675825095149398,
          0.8036436836428364,
          0.9232281944931648,
          0.09928618782111967,
          0.7113163565112729,
          0.8762872912008703,
          0.5852231436851553,
          0.6546379492794889,
          0.8392526236287494,
          0.9072503251664833,
          0.9886547555577287,
          0.7564111890942314,
          0.21769684813543794,
          0.9589033351067974,
          0.3918570467849525,
          0.7648444615074123,
          0.5755343663339495,
          0.9456038618811808,
          0.7407026730039904,
          0.044828951501672966,
          0.9485811570531002,
          0.13020916200356233,
          0.8883968716387781,
          0.986436187270593,
          0.270190964799691,
          0.9391882017502109,
          0.6598371767481693,
          0.9901760341568042,
          0.11541111712296692,
          0.5767394451238052,
          0.9732568655477487,
          0.8655554636810247,
          0.6713318044724882,
          0.991800278485217,
          0.9103376469152424,
          0.24737889679228361,
          0.9873635082627776,
          0.9826746885658628,
          0.6920487710551407,
          0.9783873257547213,
          0.28068113459856636,
          0.9757601344456138,
          0.9510728236140341,
          0.4941649738014522,
          0.6401038670180668,
          0.9122781723576143,
          0.9587949353499423,
          0.7754823382951366,
          0.975665403839488,
          0.9154036103454611,
          0.9097826861927643,
          0.2807040280235917,
          0.9628036573205092,
          0.3220141179982255,
          0.9238642402403021,
          0.9718984606538136,
          0.9242778292080035,
          0.9945892430555849,
          0.5283079759224929,
          0.5167113894714395,
          0.4755218214697402,
          0.8434158991259492,
          0.8702618838335211,
          0.7843779619765187,
          0.7762447819694813,
          0.9864760159182064,
          0.8089865186692431
         ]
        }
       ],
       "layout": {
        "annotations": [
         {
          "font": {
           "color": "gray",
           "size": 13
          },
          "showarrow": false,
          "text": "The 80% less paid tend<br>to have lower scores",
          "x": 0.2,
          "xanchor": "left",
          "xref": "paper",
          "y": 180,
          "yanchor": "bottom"
         },
         {
          "font": {
           "color": "mediumaquamarine",
           "size": 13
          },
          "showarrow": false,
          "text": "Top 20% tend to have<br>higher scores",
          "x": 0.75,
          "xanchor": "left",
          "xref": "paper",
          "y": 95,
          "yanchor": "bottom"
         }
        ],
        "barmode": "overlay",
        "height": 400,
        "margin": {
         "l": 150
        },
        "showlegend": false,
        "template": {
         "data": {
          "scatter": [
           {
            "type": "scatter"
           }
          ]
         }
        },
        "title": {
         "text": "<b>Distribution of Scores From the Top 20% and Bottom 80%</b><br><i>test data</i>"
        },
        "width": 800,
        "xaxis": {
         "color": "#AAAAAA",
         "showgrid": false,
         "title": {
          "font": {
           "color": "#AAAAAA"
          },
          "text": "Probability Score"
         }
        },
        "yaxis": {
         "color": "#AAAAAA",
         "showgrid": false,
         "title": {
          "font": {
           "color": "#AAAAAA"
          },
          "text": "Quantity of Respondents"
         }
        }
       }
      },
      "text/html": [
       "<div>                            <div id=\"7518e6ef-1144-4e0b-9806-2a22b2b4a878\" class=\"plotly-graph-div\" style=\"height:400px; width:800px;\"></div>            <script type=\"text/javascript\">                require([\"plotly\"], function(Plotly) {                    window.PLOTLYENV=window.PLOTLYENV || {};                                    if (document.getElementById(\"7518e6ef-1144-4e0b-9806-2a22b2b4a878\")) {                    Plotly.newPlot(                        \"7518e6ef-1144-4e0b-9806-2a22b2b4a878\",                        [{\"marker\":{\"color\":\"lightgray\"},\"name\":\"Bottom 80%\",\"opacity\":0.5,\"x\":[0.5994870882571703,0.11718454919440179,0.10656912346264398,0.1207442099541565,0.004640463384433234,0.005174348604737232,0.016698694817582956,0.1501684894231838,0.007308080879994302,0.5406988174715243,0.8162851787610717,0.1312606230748977,0.052062064568181014,0.01189587831043229,0.8468539089628271,0.8735191638214147,0.011233963635265383,0.07328877355431844,0.5016892311728166,0.025998452351928554,0.13890904215092564,0.6398503579193456,0.14212964491364202,0.033344206189057,0.29397887739784917,0.02690453189947198,0.6100298904361943,0.18468848050051503,0.08087577985953324,0.4693033988426472,0.9837380305868884,0.24091314176679912,0.12027998235812434,0.26420585778161,0.02737114375440296,0.15302162980948383,0.5614550360459646,0.08111454585150454,0.3495412880139648,0.36127331589078526,0.011389888708728228,0.5595819804887637,0.9655954698690948,0.26789048636149354,0.8516217574089481,0.007240994476201314,0.03712454060849772,0.012742456694528849,0.2588637036818602,0.018775300099386535,0.7711323354800935,0.15969030274845275,0.0018166448646017015,0.22889313288459706,0.012810249686314298,0.318061206173472,0.5640432649766961,0.4687115072352567,0.029589151168823193,0.0784766694471304,0.2953219561993256,0.6883118164080895,0.45806427440698794,0.5849987744913471,0.2828129837732548,0.50018313742963,0.5346776259917535,0.2436420483070605,0.43414041730490127,0.19929696309285888,0.34704108344418294,0.32024300912240256,0.06823677585271057,0.7469683991266304,0.03071342391832682,0.23568989264783988,0.5122925913631893,0.26112990985191,0.8780949134872463,0.12152605951067792,0.05587036637372572,0.07305950788424793,0.0014804961073775146,0.17946603860006488,0.30557494577239974,0.213137045281479,0.08508986480910834,0.07159379254300123,0.05718994720248863,0.016432786851412334,0.11387075778149343,0.09896286392907681,0.40708874249953136,0.007893225709549439,0.0068034039563249086,0.23807563161029158,0.03023116243422318,0.017139447168356328,0.3193351215892627,0.004673912808232954,0.5051651299502056,0.3199184452943813,0.01076690231247181,0.38337665099142654,0.03446537597097619,0.5343297895311403,0.03429497181917652,0.1388840594216385,0.0029675340209599334,0.08766881602190944,0.015162629345595466,0.011363649361464582,0.1550487016263999,0.011625177130187606,0.03598186972650512,0.739585625101284,0.800907245198694,0.5728653859140194,0.2196064771779293,0.006874669449400021,0.834071668715053,0.2272338291020046,0.07926766048824455,0.6812748907369535,0.20748104616387977,0.04861108528674229,0.34995652373107144,0.6452183599344158,0.2552769672805972,0.12226132923337993,0.0031693731192908863,0.15631159238433484,0.014351574952772585,0.29463436216015637,0.08677509172538019,0.03708297371655828,0.14365132535141253,0.008108031979407229,0.2944308557717266,0.006819482875279323,0.0100955627706151,0.02234396366540365,0.06425009619730204,0.035420939881357034,0.4468786133175015,0.6073420944893125,0.146687227532386,0.032953195827395296,0.5910434005784342,0.11576467694578657,0.1273308005218025,0.0966129309690276,0.08447696130589882,0.09952480071453491,0.059068934112670876,0.04580772656682791,0.06056947115860063,0.023268839223104916,0.6915398778329311,0.3501150467362055,0.0026346241174982046,0.3099734046910511,0.17986896747951084,0.3003798180542383,0.32270151232097,0.18955811930666933,0.40720804057889665,0.248626308384522,0.0294559276070507,0.524316505935354,0.6446556527904111,0.7401278568574178,0.0031420831373143174,0.37831920518723555,0.9682654735800089,0.04437358608857452,0.37382171492310595,0.16205165338428582,0.44973843735848795,0.022512662141036335,0.12469714569146713,0.015613620955700428,0.052400584237141334,0.09202988761667485,0.5772814416932761,0.030940422265468986,0.7034410503651274,0.18598290070863457,0.8576963934362613,0.0882024304389907,0.8499560505350361,0.004488843791721035,0.07980908865926371,0.07671365029147763,0.00473747268087894,0.5210422303135762,0.7760359323772286,0.06987026642873881,0.04084400637119992,0.013766576332254274,0.087221439626671,0.4139446776339563,0.4362814061122227,0.032114723783077045,0.10428783379404252,0.11642275157706172,0.43990191647302435,0.03221595837264007,0.8298534239459584,0.050080610399995784,0.00607369464242886,0.19465286812861543,0.026965486572140703,0.025209994776350036,0.7968960459251692,0.05620498380035808,0.01649146135248466,0.15639410572416987,0.05195477008540238,0.32323268528694166,0.5054376191510673,0.22806843653418485,0.16048978152782217,0.6236123247339878,0.2745774553337501,0.11271165509073133,0.5416275173222527,0.05717506730303658,0.015446570445743825,0.06898580844735029,0.2630012213034561,0.17059742811171497,0.014300138804531393,0.08141678822257657,0.3229502388098634,0.22650051697423323,0.015582151361610388,0.10708178280453515,0.5391632826212481,0.23427553392100336,0.47704655728075923,0.6657178077774454,0.8222688838052465,0.2655537894126441,0.057278361692374304,0.9176577150395157,0.5017228342820589,0.7641281655464182,0.014350447197233029,0.1445129629433678,0.028359832044996865,0.1286850223718031,0.21046186462292252,0.015192909673010903,0.10899881266953551,0.36823249476191,0.911046964994377,0.5758150129628822,0.032454562360817805,0.24659112253020257,0.026794810689590748,0.40109724328636387,0.06545155510313583,0.7696795702658742,0.4624956613717042,0.9456442375106107,0.17527529414815532,0.45063959072759546,0.016501996529380544,0.10384603796446691,0.1464811284445151,0.021028438619167276,0.35734467968697536,0.5973223019218753,0.057626908209723625,0.2295973066739247,0.8619872123959645,0.07602207170403931,0.2377371423445832,0.13648810499938413,0.43598158935387443,0.07383508766323829,0.8969011055869777,0.5300472552485742,0.00597314838789015,0.12351350515044021,0.7837530313104213,0.06326636631983545,0.0069035900708239745,0.3577459439893972,0.10327067148353963,0.09003998772349651,0.2830252818276828,0.21365588407496092,0.1333739392933883,0.0037554857549579445,0.109344266917846,0.02738298480655409,0.5054441857369799,0.7185911732675878,0.008768178819853072,0.019600809810085214,0.04411431579953223,0.02428102562833097,0.019255568264624004,0.1225415649514426,0.06603738224230318,0.20320229751676683,0.06353383877898452,0.06841153848617067,0.007295361883809899,0.08192941577887694,0.6284413800163539,0.07996471408161607,0.004076229889332242,0.019084636714300725,0.49163310860230125,0.7125609864410656,0.004964803642125173,0.04629276824051841,0.006164536117716721,0.33653050861188777,0.4860918206203925,0.17764408782064992,0.0830237531828455,0.033090911979065975,0.5246673137088828,0.7773211552062635,0.019304667267446556,0.455779799554756,0.43229162688169737,0.00955637408526553,0.2707543235030999,0.0038074354490965447,0.02790151930909104,0.4745630256843595,0.058167418045827,0.26424361621687487,0.3865339224093441,0.09699078530250448,0.006694455085588995,0.12559312078746193,0.018716850780510663,0.44750450348812243,0.15588104279725318,0.533160560125359,0.4116981593692058,0.33064566608329304,0.24560886389000308,0.009015202371582902,0.14707304881258698,0.017655945019335206,0.4757913248912494,0.1551782135382896,0.6049345503546996,0.015928439866925683,0.8168754412645844,0.015195130119624149,0.08500689306281574,0.007525505900203398,0.1968700088712241,0.5592403083021271,0.4246676017613013,0.03187695456625452,0.3018584110239765,0.0004358505129499969,0.2843545581867418,0.18938079287321566,0.10119236335429932,0.059004592838344,0.01670596209373187,0.33071166684888287,0.3052606037275103,0.32375078223448844,0.39028894209493814,0.3675534225045736,0.07860165004584664,0.6096228434729133,0.016297487236054578,0.04661276073828087,0.23291436280203193,0.01757307031916155,0.021648067291934813,0.4833919630669158,0.016434162429578267,0.05248466205851076,0.3297054867520863,0.06549051350653641,0.09431044576790366,0.5120442125730722,0.3984633025871223,0.6575051804995197,0.7363986036643392,0.06183787191759761,0.06095463144752467,0.08231485162296587,0.14412447270159043,0.14497800040202433,0.9291927694384585,0.7726011050756505,0.04122034604803377,0.03105926504733004,0.15226564218298833,0.06199086353078982,0.007566801730022897,0.05951032998314184,0.1689700022550191,0.36113666276343326,0.23422539192014913,0.430006114473059,0.3884680508696143,0.11276747088791232,0.8706814340340177,0.012032854852146262,0.18121724761397398,0.5743971925582009,0.27267346645982754,0.2912991669523586,0.2590339247937211,0.002463334936222739,0.21367592386705633,0.8100656487359945,0.10548468876698307,0.12317981310488767,0.07937703444588437,0.8213988861912586,0.04174417711570345,0.2057726570954896,0.004519610465258878,0.5187616068090859,0.024129046674874553,0.015019231335481489,0.06424426083617327,0.029955705735535066,0.42796604152430695,0.02038887843636069,0.04068201871896585,0.119772054688454,0.0189518551786419,0.3022512276691496,0.0920522512287048,0.09479183448088685,0.2689312056249675,0.016059961895110712,0.12072486888346164,0.6798031918015818,0.18114294219120503,0.07500650875071319,0.31185100540426514,0.14094228015394766,0.04725771913532574,0.5567186946497741,0.10023703948727847,0.08276006247820751,0.34728523766134567,0.008554526649610783,0.3024072276437159,0.49960130429711175,0.33332715022731896,0.5278326556143026,0.09224217801955344,0.5421079277879715,0.13338503794416406,0.7732399558943943,0.584310827418478,0.10278931358554093,0.0032033748037010156,0.17140642881891685,0.008004210104064826,0.010802497419456845,0.5400124500927489,0.026425061740308765,0.07148100700875301,0.11204639563264142,0.3113599681356091,0.2696301266223522,0.04031030788688604,0.06892919905051884,0.5079642731554428,0.019846497579631174,0.07159891870562561,0.12923426296257834,0.06697181522908931,0.7926776755419751,0.021786765773125442,0.8365765549217825,0.2999867256561767,0.10555397691839352,0.16975458281931313,0.46928039192098736,0.29831160689635366,0.1563257928768972,0.010191354178791905,0.9697298261126375,0.12692825298370375,0.2766707982389993,0.9476257593035821,0.009707561788276047,0.3443605862972906,0.3234805857968083,0.2335600357277746,0.04826246303289642,0.08549686967864721,0.13008909604569882,0.020826553835166243,0.23559452898644614,0.012574653635652078,0.013088057266913656,0.17940727601562,0.2847012189196326,0.007838581555197201,0.503107950247438,0.006224795547895452,0.13791725132931879,0.1370972408662622,0.34047814767536644,0.21169849469925775,0.13742116604931484,0.2962653550964138,0.0456438530249118,0.6611739652105085,0.014077748285350638,0.06871909726895882,0.4395919296712978,0.4578732396997958,0.0014581392715741573,0.018227238467354728,0.9582602045471836,0.67082386925845,0.16903092760133018,0.006589643188101901,0.008108031979407229,0.12548638158210837,0.07403627247949601,0.844187689306492,0.18177922697832383,0.49104886764970407,0.14581475167548008,0.012017239581512249,0.09997050761678311,0.10873524988633541,0.45402656738926556,0.08655734085263825,0.27630753231243066,0.2506477747343796,0.043459908100575546,0.16486482282154677,0.0014193622117284978,0.11431365018007349,0.10747954588520692,0.13060875247331577,0.022419906085637764,0.8471774222539191,0.028114400041501723,0.0064426024721615125,0.4011234294554325,0.04319334621936707,0.19395361256393573,0.22370118821266205,0.36327455913557405,0.053303501819076025,0.3299488381429893,0.8213717846393721,0.2755378143238786,0.15297431438262402,0.14889034179292648,0.1464372028636079,0.0418466501056135,0.015118293463006839,0.07469631771388635,0.5663533055695389,0.019425512942622243,0.009540644863720922,0.4403853820061469,0.11243744815431275,0.06474525379577625,0.19547173410621588,0.6142651560407263,0.1050885984642587,0.5942336311859088,0.13922065764014077,0.7694537314569557,0.4506325569897002,0.26284493624136246,0.23634022213235747,0.012920150617424854,0.07407331831896825,0.6867814226905724,0.42737405442480947,0.017133533315898557,0.023944180813984372,0.049734132642600355,0.029457593511075554,0.11523629536180244,0.418893231168901,0.2684740965541124,0.5684648990164418,0.2458402142988421,0.17555884883633485,0.5892868497796238,0.2835309164512913,0.2670626421135006,0.20155224934797297,0.22200766769376915,0.41073818197343853,0.005570926459444888,0.05641396622889916,0.007204782436294369,0.6506688668447838,0.27366085674294094,0.7792134441751182,0.6659544727022709,0.2669135428577098,0.5557308628689713,0.24143285855160068,0.06259069386426892,0.004526825469594791,0.006203339880654371,0.44012349667814804,0.012809342641192212,0.4838079685141825,0.041613497996356365,0.10276150232905881,0.9883626213860817,0.23751852490962852,0.5154294733809436,0.004585522852224152,0.006439162961181235,0.19888523766896143,0.40460339753217134,0.7282965583773895,0.004077531063431477,0.15403916242171184,0.007882179184425627,0.9145605921541777,0.14207504961842057,0.06574160001638821,0.6226027141318454,0.4925501993763564,0.054135860234822954,0.25095704378962563,0.36778687231180984,0.4489371635244239,0.0879340255653391,0.7588885463942181,0.03573787478866566,0.022988327025939333,0.022303485817609374,0.012973168440502966,0.001735861447495615,0.011579525470751438,0.08854544908677138,0.4592512295265431,0.27932282047312235,0.9696598327132164,0.13695083329839886,0.2535410062093393,0.04408573268635537,0.3581108941714717,0.09762155915581953,0.2007133906670659,0.9100545779890742,0.7635519395882822,0.002241124986347623,0.0391025540294803,0.9326067284888151,0.14553877302841414,0.6588090460265349,0.0890714715726388,0.704045053880273,0.01690956478547911,0.1068771316985996,0.06472833294439204,0.4131295842221548,0.00633012952861645,0.6562107370314745,0.016667604455247516,0.8599984346345518,0.19199587492529582,0.004857414176784247,0.13615648077605058,0.9234832460396101,0.01802160978040535,0.10418697773000304,0.01327763547489515,0.3472226857137461,0.011616308788122242,0.9276552438892841,0.439022967960931,0.5086313096881167,0.19347625287384826,0.4488440684406411,0.9583030598796882,0.5436955395806229,0.8255049853706226,0.11970882278590067,0.3230565179159137,0.05354896680757865,0.025115094012972683,0.193139547040715,0.47265050653231444,0.024656678985323047,0.15224256014275186,0.9135167011905728,0.016136502137374498,0.43282548079367467,0.12766185580913006,0.08578816619707393,0.05896330706739056,0.2044088794548143,0.03273208679803232,0.10634818815292672,0.2734116222262437,0.02468518685859159,0.016572965216152348,0.9356098784626342,0.1501816773478442,0.0463891273390382,0.35201892997634937,0.93160680161591,0.8543858726119601,0.0013810453072166373,0.6233541694591096,0.15209688910841326,0.6014175305702628,0.015359078025841154,0.013387750408364485,0.06163390380676409,0.13715145632509657,0.6951072829209871,0.01168271483357463,0.456611647893825,0.0023049896002002006,0.10554053769888011,0.10694479619427058,0.07274365378492012,0.0399604769565624,0.38736153010086694,0.02011428058033066,0.09142166346591231,0.06014458660814257,0.146687227532386,0.15350068634644237,0.017134477904879833,0.2608608601108579,0.21803036412407698,0.017952150036321706,0.9137745290498037,0.3460848272383738,0.24012168602390538,0.018286807155996426,0.7913589478959546,0.01002862776215263,0.30446592522231336,0.10682341448617648,0.0018827562219713215,0.16079563158356358,0.021174125681292524,0.04346617093826792,0.6207808906433068,0.029145505998650043,0.07931198672704722,0.009957063256757546,0.4023377422586922,0.09094908420153079,0.057830377114664884,0.2803905311100193,0.3519179186064046,0.4030269532662438,0.48466085469649584,0.060444282442952635,0.7868767199085823,0.019740608200232854,0.057314675289656794,0.031238386647831143,0.028624646643398432,0.15308889073295348,0.36870115185813884,0.08498807117132938,0.02253024813536176,0.07605681523136129,0.7081681998980733,0.11347914051803998,0.024677679784900864,0.07283581059866927,0.2462130235106889,0.04134494882819096,0.0970905223890468,0.049770747762145,0.24083306872748506,0.19545360790722222,0.009609530359311388,0.4792984166981087,0.3612753636654849,0.01032112825874899,0.12157168769708629,0.7202181464008315,0.016943778241780526,0.057557979427328106,0.04809517039887048,0.22870333540496082,0.012793324166796008,0.179810760472433,0.18689014875717888,0.36560378136163185,0.003693959907948234,0.5574853906693907,0.08037067412729018,0.06787449330691644,0.017163823062443673,0.1287221332016211,0.4004118372302788,0.2397273115960693,0.7032131922693143,0.12793511074378028,0.5565575434425667,0.8207459378831301,0.08820134254951163,0.9278097971306872,0.5905810677930988,0.0015110171870109969,0.0670481158148403,0.13501903246920313,0.7853300502734465,0.022614208699042886,0.011572210736837618,0.9498298214825814,0.0016887057994335302,0.17221682846265884,0.02049195938275768,0.032554810625946916,0.9137005532383471,0.0035599465294867735,0.7897804363598235,0.2778184169531797,0.0007274120834534671,0.23100297056821587,0.08930198850956163,0.05857550118815931,0.08060915955327073,0.030868554014522886,0.08373992500027681,0.339159886587384,0.777404676117891,0.6016832301659009,0.04723652196197379,0.10232828082114845,0.08447713219457818,0.3260759240253712,0.012202091586329336,0.3504804631542314,0.43815057050854844,0.9191123011726804,0.24531141038076346,0.11350356042424739,0.019038654808259923,0.2906283541210872,0.30828218291537135,0.28762583566243144,0.6354983351175626,0.08283913097235036,0.010828360632432017,0.0051383834565712945,0.033570623607383804,0.08202823974231072,0.1117293993275424,0.05798980757992316,0.008211521203163723,0.024931458147698326,0.6334981005879327,0.01233434607549331,0.6359775757543557,0.6073325511192552,0.37389337174890674,0.05004456730703304,0.003005702373967242,0.40428596772402625,0.1603685399512837,0.3223070881336547,0.192192172311025,0.19294772424861284,0.07683583740102676,0.20926368159644526,0.039881458135499634,0.0211334597794466,0.2806912420962757,0.06603766701986263,0.11127807103914529,0.20088632394694864,0.10817523104220228,0.011612161441947206,0.06291258882318239,0.00903885842856796,0.6602881257921501,0.506383364780458,0.014701569973426235,0.14641080968548176,0.4790711813197382,0.39120958441968046,0.0390271386283128,0.11017524837416334,0.024594609047026022,0.15957648409784544,0.9150781512893102,0.0178066496340708,0.3726252428338898,0.038965864984776326,0.3151981063239446,0.3311542468855209,0.12069378863433684,0.2877850714065417,0.5563283774958068,0.12915245606520542,0.19380579814952698,0.1252015801440844,0.1310307384133047,0.1821662236256471,0.0326886620581715,0.0009956878884745796,0.00538528538782251,0.09479180579192316,0.12884496301500142,0.06824593287562952,0.029281757181597944,0.1206245598033595,0.015733673040760204,0.6899806332733777,0.4315370920917294,0.004187637590110618,0.02173238069687709,0.5723848665975029,0.005672884279616671,0.0059681610231688215,0.23691702403246045,0.020523599540320733,0.12972213322946574,0.0648785087344999,0.038382701581093935,0.6862398744125453,0.0042424165770383,0.0074219715342972,0.011154821807087302,0.8319234441858402,0.1976557114952665,0.04318493341031162,0.07288179916163018,0.005338996429912234,0.0054943584078664025,0.10642597192284194,0.8886947014040784,0.007011035798981118,0.02155592745481831,0.018745332612874484,0.09395130749755957,0.2754868481603693,0.9560016400815893,0.8053546891368715,0.47895634439063295,0.11917127073240642,0.27513057071780783,0.04983339776257173,0.41014726607562163,0.09379506481272583,0.40866865771926936,0.0029749865009903974,0.18904109393999974,0.04153035470411589,0.015213758338779613,0.06023449990356785,0.01701748243350769,0.003342750104888308,0.12359094055226229,0.04695594235503601,0.2927696135139796,0.013852361245394662,0.003243794423071228,0.5178863021480374,0.04639952381559456,0.12499903715133687,0.6829112351846122,0.0030322226833544887,0.10147435632171839,0.21637318649056786,0.01140743241300622,0.444778838156495,0.030357039362592143,0.7117352588542095,0.4158972629861871,0.0027550627921543113,0.9876841366533347,0.6292504523614344,0.2962395699737158,0.044779294428708316,0.18611248034891134,0.02718368972571717,0.5199237724789675,0.9666380082729155,0.007980967269695443,0.14093732709799084,0.02461671912008067,0.10589697006026848,0.04912891424122028,0.1682753249891704,0.02460482164552504,0.0297902269097395,0.010318089509718865,0.556140179580091,0.9143733214702573,0.147659183554445,0.17040764543135084,0.6951945469333224,0.008689260248799052,0.08736719324440648,0.03146576940130668,0.4084033413129908,0.3318512793991356,0.9614490528015381,0.20481932550249893,0.8999822856922217,0.005458365156307685,0.002200980375840512,0.08387733132615093,0.26167914132872266,0.44279637651343745,0.6492746843905871,0.28447265985453846,0.025078971407377092,0.598336696479165,0.011186435050024306,0.6339585684019013,0.04352178019429433,0.10350479836202588,0.0469449876136609,0.027227209345380643,0.009663775255825041,0.16728255424103322,0.003681493004630439,0.001757852260040422,0.6614326839972835,0.006615685823349365,0.18125919368124618,0.015179402697179793,0.20929181417244053,0.6258181353412863,0.002394740620601557,0.08633685915634404,0.6025906203706505,0.007697462474998733,0.19952736283052191,0.05133509684860736,0.48391222123784233,0.47964172885850237,0.10711530100845626,0.007143903855845272,0.09701519368311484,0.015536920030596525,0.4012495823866689,0.6261064841073642,0.322974010185744,0.0036226877528789804,0.03228754636026389,0.6800516440194887,0.2983090943459763,0.22987083681069145,0.012610626563503135,0.4862417886136045,0.07034545511717115,0.008028503626317593,0.07456552016212474,0.09948890263729322,0.4709100340197236,0.025804166685476696,0.26970556480253494,0.034613199537678385,0.21861862832369222,0.2867877313889296,0.5998317816540678,0.00793815293008311,0.0064660833826139345,0.010713670010777747,0.15142890631639433,0.2662696955692132,0.04755953883222631,0.035866676004311274,0.00991084902574123,0.020958603390364462,0.2019186917733669,0.3158874552079567,0.2519146961980384,0.12960521312449078,0.6285792120886556,0.28158625027505507,0.06806483662009451,0.253363592932114,0.017182314040410675,0.19044158866755617,0.061375675433040164,0.21138413308204118,0.4540073525167977,0.07020852813338851,0.2770012342334535,0.5386403222366436,0.1585645727846066,0.5251722333995622,0.017871822703054572,0.07202425069569743,0.03914202192702874,0.7602413357070993,0.15302779333262534,0.22432010618751136,0.7231351214842859,0.05347293091772179,0.2209208309240946,0.02263891897020549,0.5012408850198374,0.35271294534869224,0.027940220701807992,0.26594014384551845,0.6765849960274314,0.07338482251852267,0.29631000616177783,0.047523980009555024,0.734421561137315,0.075196066124294,0.0320253770502536,0.0486721262942193,0.014827057279606023,0.0018671403446366176,0.5614236179735037,0.2083185657799438,0.37909266670856295,0.32452896292011335,0.05247829263269662,0.013174116465580595,0.05385974216249345,0.23809503854433112,0.012640777965993112,0.33030497597703795,0.6476177042125071,0.037687646846737005,0.3071326751504744,0.31985407971809565,0.059299410495503864,0.007766215198277526,0.10479142078729096,0.94423200280697,0.1919786820614485,0.013341879323111884,0.8459822682409996,0.03542194621953053,0.49922419658711137,0.0427245483536892,0.4091040607953927,0.0737977130318491,0.6481319400072557,0.42890559760036995,0.0878724953347543,0.5018849800888815,0.012389587071430456,0.149722179746462,0.01079404152360505,0.12031200114854741,0.11031092013229819,0.7500828155114853,0.061272991577168506,0.0501607612114537,0.6575847774384266,0.15066507857650735,0.1070369483618113,0.13059288790125925,0.28708850693093596,0.3240231459062799,0.3526397158042481,0.1313780169896705,0.6385797356493825,0.026863306846099347,0.035408235215021476,0.8132144337696637,0.16103385930014147,0.025990984116201994,0.4669494570347268,0.07190705942812488,0.11253228074165593,0.7263963430147357,0.21539330645784363,0.08130847914735106,0.4657197976305262,0.48540388657276784,0.2556003337441369,0.22708309180915148,0.09843914197771068,0.3217255599878196,0.47428683262809074,0.4675129775064076,0.6985266923093134,0.03623846304420112,0.02930790773212527,0.8710547536477864,0.1299945067648969,0.007516137369056222,0.4590044313958718,0.024024756009357717,0.5366136029821535,0.41108599060609113,0.274178622276384,0.32211439307869744,0.01912802655775035,0.1761623729887471,0.02903049529231909,0.041087637161359915,0.14829378470813723,0.0025418127624354547,0.017717666895801957,0.022076112244996175,0.028482649481927497,0.9683238985406921,0.3843740131825634,0.5135314054711151,0.0214770765423542,0.09885714823783458,0.02842531862054608,0.1697426917713993,0.6415098675855087,0.3155335377926561,0.6360031642026993,0.0021400076909347514,0.38734827538920263,0.5074200515153356,0.010938532035971116,0.148271849282951,0.006053255875289821,0.3098485118886189,0.06094965690974336,0.13866340578409841,0.236265576581171,0.027543599194189496,0.7322002304906742,0.014243921149294413,0.8328489576659222,0.011692550055227395,0.7339710091332061,0.04375245016470348,0.42974453405965457,0.49147452311112816,0.6679792996890274,0.021166817436459567,0.03491255195824126,0.03528935173663249,0.2931519830272272,0.3371631226861391,0.9376361411322468,0.4715067199015137,0.004424591328863383,0.018410158728982,0.38456795255499865,0.015435454670763281,0.24608796840460043,0.04247792146014937,0.7400620808858701,0.01486471745775783,0.10354805564528857,0.029238447876419497,0.08499055293408957,0.013358584599859061,0.0028348017657950563,0.0020464193858469016,0.8505116806553853,0.1372969749409378,0.015741140786096796,0.001513822401936605,0.01940244247403942,0.43590174324018244,0.30942276692700277,0.8466721451711818,0.8479391282652973,0.21855312923577283,0.8620306451931801,0.42355003568032473,0.09551636924515353,0.2396466420093898,0.04950393532466942,0.26511109428095386,0.06405437621175837,0.17092946402572232,0.008798366450351461,0.14875527718002923,0.54265445819054,0.012682215668276993,0.03621606971488691,0.9517500303452602,0.4477248650636297,0.09845240020425963,0.2272702401766776,0.0014884755941985302,0.462197475091854,0.04010372980337469,0.07345967357342524,0.12459953365586361,0.056384330179350343,0.0831364354532719,0.5791739038680332,0.47002713571819466,0.06800078495927081,0.02687588629918096,0.019996618385967127,0.8231494940430846,0.010687007353136624,0.013641227417981069,0.3339986241158111,0.2441079119492715,0.2630408360392471,0.2028385185840542,0.03507500334132,0.4766344979765524,0.4218491762620434,0.6113720502693655,0.05625081829613873,0.9051064587399412,0.36622781642387303,0.11825461999033803,0.14113144364054092,0.7982238190692312,0.5103342605915625,0.3062014253560471,0.00537795863169907,0.0021309529921262733,0.042903508910747894,0.7798606271818214,0.24267423529544307,0.7087575021592906,0.0205481482183749,0.03014627184544106,0.36942421104897516,0.5142847185488431,0.16652657081924224,0.25923235953741597,0.582985559956388,0.11713030510585104,0.13396577701074538,0.6266823824297992,0.4099803124795665,0.010274606437255713,0.0034374565908445367,0.1713927269165862,0.3030653258373123,0.2764060672871703,0.31213099267610706,0.07249037374267332,0.951756815974014,0.13179026614284245,0.021561677018088737,0.29344828694300223,0.8554116442055891,0.038453543159950886,0.2976593658335363,0.4403769354942392,0.039291258088638426,0.6308082612866814,0.49534061857790773,0.010906328306521329,0.008169458944630024,0.059862464192574766,0.0022272581130792345,0.03274294147460286,0.17574523820439705,0.022174664552105844,0.003348256649759425,0.7472452553378217,0.041073713203128394,0.028560126229862346,0.4410953129415875,0.13690433361958299,0.023924800367871372,0.08454246705231734,0.09433154761957797,0.006296431342338322,0.6319581451975332,0.030889474699919817,0.08665812580946261,0.11540619738080175,0.08186620287163837,0.9786184486729165,0.47873238827660036,0.9032828251923469,0.1336785644397817,0.027340567452390226,0.2628028497168564,0.8720099253712035,0.37761208397419554,0.012493750189685808,0.0014590687803433334,0.054163769226046474,0.07013450460270194,0.351022291061838,0.02027363872860854,0.6742647663304059,0.17411602506573756,0.09600261414240371,0.5168777391356087,0.554421997963157,0.3456851195359522,0.017474473179731848,0.41591515921014954,0.9366866408321859,0.09839207201526186,0.06352687528379102,0.628851622736572,0.2744435017144102,0.004336932687213948,0.4537751732199991,0.07653431747034137,0.040310544204489526,0.395283000615427,0.033874429623599066,0.09501919591013859,0.23703539141888988,0.1836165008349533,0.05561409942870321,0.05949021390935838,0.013929771827319509,0.06500219515931802,0.3569877681479927,0.016339580932349242,0.022099233080369002,0.1892221913471021,0.25973130478304185,0.16694116105755083,0.03345934357129884,0.06177805801184484,0.6760559734331882,0.1406007256047721,0.05267685158929052,0.22635795449229973,0.1455161609100389,0.7168160005192682,0.09298568506625546,0.33819950791179176,0.008744788603354453,0.41958702214995997,0.03361978107569428,0.24496690260707027,0.4540426871606876,0.6776542808826689,0.928624406206533,0.16706425445073872,0.03910125254533063,0.03975381347398055,0.00286479073919265,0.002606437805011863,0.38863991993351055,0.11602617989732081,0.11211758620665206,0.8885233450599824,0.06775729365647694,0.5159373323861695,0.02069480849790421,0.28031143672368614,0.026896533567205585,0.02871168339207174,0.3778263711220372,0.01850537276062217,0.06777691574898118,0.36628909890086,0.03135063545955555,0.04247261898082157,0.07130643982724655,0.8810761991814121,0.22742842724819265,0.13011061448785596,0.709230900244393,0.22445632024832102,0.06549710642675595,0.018028997566264533,0.7559844724653549,0.02370161953336979,0.11422039682426376,0.0604444911348777,0.6427492387340944,0.46419696435559527,0.1937633496428419,0.5008421229967408,0.05125466136444934,0.024711892791584922,0.15953713041258036,0.1529207869777971,0.00801800849538026,0.17266813595475602,0.10636125842987275,0.2629854579344234,0.012197529226127747,0.42109910339446277,0.25234930510696624,0.5567700384196638,0.5702406093054281,0.24469170806271992,0.0012183989144718113,0.0033250908941240493,0.06877405438278521,0.5851367350559755,0.37425116155069954,0.024638286883021852,0.2099968605187307,0.050275680174745534,0.007332469511795479,0.043676304342030584,0.006845251109137069,0.19155651803201593,0.7076344219374713,0.005779996476346906,0.8864094969776719,0.16159277541144895,0.03605160501629671,0.10254677614502136,0.3167749895410335,0.055145231813888855,0.20200738815385735,0.5919007640793645,0.03880856825281606,0.19080292322802764,0.01951655454009495,0.6054072748595988,0.03813687367444188,0.053252538347795274,0.0035248791140041957,0.9701308384443185,0.0066561834119448614,0.0731366513623336,0.0017716656364137587,0.9429632629293302,0.07624710481401316,0.3139774139969283,0.2561555202153716,0.028404324683144296,0.19019046002499831,0.0026767237619285296,0.05625296185985992,0.1191318826141662,0.40695210860436887,0.23481882605431953,0.06661089358286572,0.02671402710485876,0.690672732988691,0.7287482718879997,0.035098655366475474,0.6138464006930784,0.17944233842903884,0.14254886328488728,0.44630980093960804,0.08238248751810857,0.08243693699618017,0.032973196975785636,0.37082455576757145,0.13646287636517992,0.14443558249838273,0.01268186565930801,0.8971931042091856,0.022421042648328338,0.4794960838912685,0.00419630207402787,0.6628080747723065,0.4688203007070514,0.5728244996877734,0.5781249524772366,0.42706905049651483,0.13752977468657854,0.0324873100644898,0.16182733515675674,0.17694539601155018,0.3004290284842153,0.32149750831656143,0.01238109871290914,0.7314326430295662,0.08048228828984441,0.1746362070856702,0.6662763224475956,0.11628603205406107,0.1898382368610722,0.4597803740239789,0.8806162399411559,0.055959702467863796,0.021447354197803647,0.01127860235024063,0.63289831927052,0.2517992603836679,0.01053462326768597,0.07649826822282095,0.7770337825169997,0.04665769906538432,0.8228203667394558,0.04916358365563005,0.0799187217092187,0.7813714184873263,0.14161487842994372,0.9176901862314254,0.08994268923785388,0.18114314996933567,0.004660750598835145,0.059267782425448286,0.011161145844492435,0.2227260166570005,0.012826713148815585,0.3487103333314604,0.03064809834121864,0.05726678391582203,0.19511065036237774,0.10329800466874325,0.007082928828305191,0.050399544499716176,0.7507428055775023,0.41069047638311845,0.01969297581821175,0.128147079004587,0.1748936335283268,0.015238128664760191,0.8330594825458015,0.10568399429938762,0.936954586282029,0.8496310625101496,0.22441742761712635,0.017984871688688193,0.49938459195969714,0.04555084073168371,0.30275514749069227,0.5179652323793263,0.7244386054680558,0.4857742750160762,0.21317935186888975,0.07099939732936286,0.252631263523433,0.05120443693508264,0.006613911746548218,0.626354729207425,0.3438404487505432,0.0064551480424998985,0.16141202646313252,0.41438658193280925,0.013639944547946984,0.504288494717571,0.07354736602564615,0.2718345843061892,0.08098128428837836,0.07771131996397772,0.5818528757240852,0.007268151852747057,0.35599702427218727,0.0923521244073505,0.02323826413597156,0.14678787515600555,0.03685117910745702,0.002674017951284367,0.008067831514588971,0.012345597551951219,0.069902058723949,0.3525520427974164,0.3999428769778014,0.0178262929990723,0.23408912842393753,0.7190104402659175,0.19344955709111886,0.013702424887929025,0.03422311860858202,0.033229829862299665,0.25855694169837873,0.4524651186465843,0.5654251787556437,0.18920029696395446,0.0037099788318730835,0.3220803277838537,0.15704510614954845,0.009172285246766327,0.24337485248101515,0.2717207177399952,0.004735676613088696,0.03267059085624548,0.10548945071409133,0.00871686426530014,0.0944731852744476,0.014632002223836324,0.07614143146138508,0.059485803737955936,0.24834196090365823,0.01090545733231461,0.06893268643114318,0.623544045499302,0.6383564709207562,0.09329807935900934,0.6780151957863376,0.27991464080885964,0.7720977471344964,0.5736461753169464,0.08723928525165553,0.7789214783702109,0.06559967626998256,0.2692499397959261,0.3366105316578627,0.016025489228662353,0.11927001945068685,0.18325797122546159,0.29754173306630005,0.06956890534610008,0.03550448817649752,0.2983460264073384,0.0864578033676552,0.8520006339707661,0.0099246834119654,0.009386418879591968,0.03708418281856708,0.7522267119939324,0.640253310286464,0.08667090944332902,0.06903534536947191,0.9154237827177178,0.036289148064104014,0.8065593010615054,0.2955670265558235,0.6271363262901306,0.2102692709859799,0.06236216652805456,0.7871846693776067,0.009394548795092359,0.06874735885357583,0.1084322519284043,0.07558268952006662,0.0027237649442015343,0.3319780270496936,0.20694906934471696,0.6707366904359916,0.002995809181387098,0.6560651890460534,0.5618429155867981,0.2029232549992113,0.27665176964799426,0.10038973894497213,0.16863606553226376,0.005542283728478204,0.3558894732686668,0.21544828907313107,0.45906388727432923,0.015215783355020747,0.1853022357269298,0.018403229911895556,0.6318863355451193,0.05897441304737678,0.059727535605665336,0.05782077357655915,0.41170314847581196,0.09023629938521835,0.5371649589154083,0.06764829897355429,0.23539479977525615,0.05125051622166869,0.2566895888940074,0.1792397105563964,0.3255303409154281,0.46623784604682084,0.14056453882202102,0.41065425302827674,0.4943308643637118,0.1188364298355193,0.6959350055819137,0.05418051952727306,0.17138248058457184,0.715324549427941,0.002279793309664148,0.3231776440250604,0.1652334523631049,0.09712971265722545,0.8049153099284574,0.00801109904181299,0.021229203676502873,0.00417940764295713,0.010648222226822547,0.050162446514698145,0.25635042797977653,0.6037278832403215,0.00422322685536438,0.1123766430961104,0.8299755252174785,0.4413686947801779,0.6390181370693279,0.37664026157801717,0.3381659428510015,0.26605150770961655,0.03779416079716634,0.03641775215489308,0.20957362537819715,0.04952026231068832,0.14793655256649596,0.0061181464717917034,0.9577773151599308,0.2913676731288117,0.7059274087472425,0.2680605178162896,0.3612090379098884,0.11029452139909514,0.08040260145367854,0.15497893320891665,0.1419744154058413,0.9073520753787565,0.29221914687474965,0.004656868259436733,0.3609672739142977,0.4726346730547949,0.19008404404493895,0.010803429069958792,0.6815755967012984,0.009652366354696887,0.2390448982225405,0.7130304770387679,0.5811315057231925,0.04460348759900058,0.03881358645347404,0.9106962877851061,0.05518822735140538,0.5272178696243246,0.049268423235966634,0.9226362772870468,0.749177302674802,0.08089184751977734,0.03310681909435291,0.4356284376979437,0.6968683176938868,0.02259943436117664,0.03945560784472934,0.014697498561863954,0.008190899795653737,0.6813047959118389,0.02016483429248428,0.1770500684169116,0.23246681306308606,0.4552274481307586,0.41396164406597885,0.05895049202528009,0.10200267066462688,0.057211153725197535,0.2744126308475659,0.5959973106962575,0.044140786070006544,0.012344146833431538,0.1674980074923034,0.21983456726459646,0.2775979382735974,0.40746793490711175,0.017740517805494023,0.06560937148633753,0.761482406955513,0.05258963753559572,0.008016991340158954,0.6590268451911274,0.49931384790472716,0.062213425882174565,0.007744821110945196,0.016667571283615755,0.2887232240748198,0.2106816470803786,0.9021478461399938,0.16241874963672187,0.2608357047994727,0.021732397182705487,0.07690121398955302,0.00285075550857608,0.9534068199366609,0.9965462355304591,0.31657478200036926,0.07121139589644443,0.6726704702192046,0.018638706023487835,0.20888922445530678,0.5930628384605577,0.058546683419582454,0.6671250985660881,0.1596530416556591,0.47715544201965093,0.20864594945894785,0.48151118614555105,0.062001692619556965,0.43072984248916923,0.017362494948453933,0.44533592552730245,0.017334262599580978,0.6870000475100997,0.4018215043656575,0.1849683736257409,0.4536460396369758,0.0027426748980020304,0.26129551592905903,0.1351876638384283,0.34023198171091307,0.34464971876905975,0.6049673093327103,0.0742658653812176,0.005361644761521494,0.011102853988018071,0.06267822099862283,0.9312290349328494,0.014894650593153378,0.10079942000678058,0.3381420207538055,0.37151814772883895,0.0033600422818717297,0.7182803078722438,0.49815360593857827,0.4459910760629027,0.03598790897377044,0.10191681953156986,0.007429928150869554,0.9699860660930569,0.08270340233534489,0.11594883982446347,0.020003755208522236,0.058427031769286264,0.49422489141475073,0.019075465700156353,0.1035870257364508,0.010578066712245185,0.24117049750521957,0.4808750013708676,0.9240648980591835,0.7109471413272124,0.26209439343317686,0.7448289411813217,0.5434726965285588,0.7181788575434725,0.6461749349628558,0.0062222466990965964,0.34339582371133204,0.012219295038127399,0.01397031987587421,0.19313195611352418,0.012050000740597639,0.2841202745561354,0.06446412486239998,0.03232436801296814,0.8881717221417776,0.012229272693400732,0.3405936319100822,0.003149870234975248,0.36709229744706856,0.06009840134477953,0.4485816970180581,0.07539963917739544,0.9408185860432102,0.8535072492144037,0.48736234153050473,0.43749363797169777,0.08015464359451442,0.002697005513115908,0.49024790628409737,0.04905712757654265,0.11049625384491163,0.2089806000091289,0.06617675777151798,0.12350055439619753,0.15556263946513815,0.05857043314962069,0.6313444310914891,0.05757807325920495,0.0482248131321783,0.01994153617289797,0.20426701714254467,0.698116635199498,0.1715258727832544,0.029912573430425516,0.022196378162719434,0.02078035912355101,0.6476164799450972,0.596245820892602,0.001360433079269765,0.042209458123266326,0.46427746410342585,0.49825786248880155,0.6047612531593873,0.10291158062690059,0.6144117406461581,0.12471567287200232,0.059306676244655375,0.09466604797726721,0.42427147278887845,0.3291862990748704,0.10388793550160669,0.0264301130896012,0.018131565415875663,0.15810371227577658,0.4641688983577561,0.20307611760296682,0.9485291878914371,0.08176422103315528,0.1694323798448684,0.6796970595793613,0.5252895332721569,0.4189424111594081,0.011337446502363563,0.02180974724759054,0.20644615125443241,0.01792751694455527,0.4519405915856077,0.053022169756402664,0.15756068131036585,0.45637289450273877,0.03969879699606626,0.11471759725326625,0.192780980300629,0.03498821504659307,0.3341403048828267,0.9453744538263094,0.027190931960984387,0.6663327364659052,0.004943766191131005,0.6720118929780917,0.01449850984529696,0.985868712786636,0.3335834744823858,0.8797228215390975,0.9104594474250264,0.2613418744715051,0.37510317267646043,0.07534995198719396,0.2788329887377297,0.24863666300274231,0.19565643642842234,0.3215052270101855,0.1037628667095376,0.6307523988976808,0.06484698646900404,0.8947782470360532,0.06668869687920256,0.06974044879997927,0.21893208072685122,0.18491300809285233,0.001101425625985917,0.07177581613907641,0.02373995834445735,0.04044951350345498,0.026103854992606167,0.21096363729528803,0.13760523601661917,0.07661062602683205,0.06668388703458397,0.36851714628602505,0.5438255346208568,0.006410577385380603,0.07472845281540985,0.2326188753710633,0.6293238531956574,0.5773126361691497,0.23293332258085106,0.19397140494345674,0.033430697187658946,0.22252258386070262,0.2606519549060213,0.012010660568812505,0.04194961163616477,0.11045657467784507,0.26420722962867804,0.7745683965425052,0.11479722125687117,0.33312074410016207,0.3248532414676898,0.119529009206436,0.4597442339089894,0.5065454121195556,0.024466855471429735,0.01783653760903164,0.1192589474776928,0.04495130452757905,0.029030630760171632,0.7170311305841178,0.002663857347769041,0.008824136228569607,0.005782342206687399,0.2404967358839521,0.0020770460105514576,0.10394661632442041,0.11630624809153406,0.2707922219560164,0.9481625249105566,0.32722408099850264,0.28299122492844553,0.1541545819175047,0.3696408539682688,0.4527009525962934,0.7304992142017521,0.3575151346764372,0.1009947806140945,0.057290556107783136,0.0392865403764925,0.012207977920745317,0.5816478048688267,0.9684918375210353,0.04147134543149121,0.10082867694850374,0.9503582836092606,0.3827469640311136,0.15989300421429029,0.10205434686357154,0.4087673612839343,0.018752977531793138,0.7092390899123422,0.13070880071078342,0.9357855646200474,0.04397808136343519,0.2598565495143485,0.136230385003829,0.028131693579450032,0.16736540404952127,0.5915534338152446,0.8666606444958214,0.15359600277617197,0.43040569408614426,0.8768716414617329,0.002269143201189818,0.09153770619635851,0.14592323820928974,0.34912089885523234,0.04103654248793044,0.613612917444295,0.1602254469189499,0.003935823802674898,0.024608491464172617,0.4656880717335927,0.687046066658683,0.4418207617912779,0.00789038751845287,0.07717980476962855,0.1306881384044149,0.37078332297397104,0.024255924857357475,0.48433734317035093,0.726482007940546,0.03947412185161292,0.20700845296784431,0.0653763196773373,0.34490436175577105,0.009247003382714112,0.26091385807663053,0.499811245650874,0.008135754475600256,0.21770099633249065,0.8400166998771884,0.03432002428366943,0.02838795012892199,0.7513903898042235,0.5918408549722307,0.39479047962404,0.15301712523292163,0.44343369262112353,0.03999003305173915,0.38909622363287205,0.04578438045405968,0.03302128344370667,0.8901764401112532,0.19636956996820232,0.01227655072207751,0.03567390244204649,0.8882537119604133,0.004047190832910698,0.07629751640685795,0.03813565942674801,0.5875962508381523,0.009208659481117265,0.7172392059833641,0.04598317219232794,0.45819877689048044,0.0033857144967482642,0.006152316712371579,0.2618996009650967,0.09553360373760617,0.1838238525417638,0.21404940774294492,0.02222579169268857,0.023989694232331285,0.011353038481176265,0.25995767174585477,0.6148670162067048,0.006094155822140549,0.7429285457661527,0.371837022495384,0.5722581498260403,0.04517072081686214,0.46001022951102427,0.01072132968908269,0.3125828295662069,0.21115120619559619,0.37389802355572926,0.00872293039397475,0.07503022878666857,0.1450418481159678,0.9168311653858627,0.6993240306486029,0.005947638983125874,0.38555578023136394,0.22159344542040374,0.07876291011524794,0.002637127635679163,0.49373673234326404,0.4249298823897608,0.5028399522179791,0.07270111378154713,0.02308029124280976,0.7056132457774975,0.6768993312407524,0.9601447173614114,0.7135871818761066,0.5923093255287403,0.10554574065732787,0.09427464903405645,0.36322620781050824,0.029355171169956958,0.08064790196944818,0.25883703000574654,0.1895537779888351,0.021327478051822554,0.05293455457784876,0.017871822703054572,0.1021086649817413,0.5760901878364879,0.22435105281610293,0.015526436590550505,0.7015446736637627,0.18806555404846045,0.02274846539950082,0.10300959405454832,0.5623974469631194,0.3472920276791012,0.9397989759054496,0.4670925613385597,0.055386723198390574,0.042979454871568686],\"type\":\"histogram\"},{\"marker\":{\"color\":\"mediumaquamarine\"},\"name\":\"Top 20%\",\"opacity\":0.5,\"x\":[0.9824598315199184,0.23167373103840455,0.7650119424924958,0.938094647222745,0.7397867821354221,0.7022320120212912,0.8817561825472905,0.5773393860789738,0.5286008331925429,0.8690308768081079,0.9790049035763149,0.6994162631195451,0.7900242848969271,0.2639395169407169,0.10110014558455117,0.9032332429573862,0.7817115023121811,0.7194325649946198,0.8930144474083346,0.9141816718313044,0.9285271452761079,0.9180038355581274,0.9596473148006284,0.8918081996605265,0.9808986013866149,0.9054639029996081,0.9815425640617386,0.0734080443643429,0.8931274067291392,0.745077384302914,0.6000015904953365,0.8363601788625793,0.940339251353396,0.7831401274013591,0.5918774586286416,0.9297563604396212,0.9932218585459538,0.9567309527613792,0.9863799468229568,0.989151297412171,0.9737759144322504,0.9890367922581209,0.6362274818803402,0.9961751593496663,0.9483876660690818,0.9824401660527069,0.974624360587276,0.6984249797461001,0.966244232608404,0.8486118913423536,0.9520568035633582,0.8942297609785061,0.3768639037192488,0.7635105437838682,0.9451459045346863,0.6931732510276915,0.9527794216386878,0.9087163913282797,0.9631796841369259,0.9868596313559405,0.8240631482994285,0.9835704549154377,0.9616514927289558,0.9736786508398871,0.5633902768210204,0.9137551167480039,0.8624053488432217,0.9928159967278073,0.9806521937722764,0.9877287697081016,0.9317397336487593,0.6604758436611444,0.9878322939249536,0.8801460359494132,0.969881812171631,0.9092919209117117,0.9961906181962038,0.2129314243093646,0.6827445388649835,0.5344794564927856,0.8160997406112894,0.9548467428950065,0.1827154053487917,0.9830372563251406,0.898881281727136,0.8239720979815364,0.051639967961711636,0.04199938793379207,0.8701445225630774,0.9803681832652469,0.942216341040927,0.8933950150094346,0.27487767032508414,0.5578883973586134,0.8434404059029542,0.9744657588805458,0.8733485026885878,0.9357926249288049,0.5404428668738763,0.5199246562058304,0.047680162133930136,0.6980530217047043,0.2850655100844145,0.7533448914801919,0.9765882031640338,0.5835277445204025,0.6724685890795367,0.5259104413104192,0.3721530187318164,0.9816806568719104,0.9751548049810123,0.990698071298639,0.7758117863118359,0.7330274263314004,0.37284315812755137,0.9079235472549428,0.9585653275238223,0.7370750766430088,0.7289917900674701,0.7382622329822528,0.6314592985297914,0.9662127347748308,0.9987921371300615,0.44477680727063884,0.8481199817733297,0.5201874713721838,0.7594171337892566,0.9894203118092212,0.9126123796672182,0.9186975657678148,0.3611292279506442,0.878235179906519,0.569767333804417,0.2620220143468439,0.7970664061536249,0.8857631682057564,0.9649734346006953,0.9233698044303048,0.6135330754479235,0.600260736408371,0.8372931830612003,0.8846260208815687,0.8345510357408868,0.9916462569531522,0.9568686621633791,0.5580294100547041,0.9588218827658184,0.2908373892304546,0.4293157401741938,0.5470763488274109,0.9947820474957474,0.4294149377091065,0.45048719081597416,0.941794480910695,0.03202707781808124,0.7902316457170353,0.9114931309803839,0.5300301653358214,0.031655675824085544,0.9160506577483666,0.7718232419184824,0.9494744778332993,0.6192976444323037,0.8982808418256896,0.9500792467680506,0.7337368387809423,0.13980728104488496,0.037479141258767695,0.15112453879569396,0.9875431843399541,0.9536283731973431,0.604467366062518,0.8592571324271764,0.9942826797032044,0.6692739837466664,0.7745335430603353,0.9672786236317503,0.9783299289594446,0.962936190211032,0.9875177344898084,0.912490255948495,0.30940365643366713,0.9427492877141712,0.9249215016002468,0.9935368976888164,0.9803451220551922,0.9299883681580716,0.9441230471683548,0.33340392988016937,0.80304098244191,0.36479340524891585,0.9917846012732896,0.8785274394556519,0.9176729667675239,0.9165743271506777,0.9872257028656352,0.5905944106446622,0.7649496727205907,0.9870070693230101,0.8155664102931726,0.9933720221216393,0.9856036387982017,0.8387357603106473,0.9758168873809778,0.29035963342246224,0.7423876987451764,0.971399109909086,0.6852764210411798,0.6521476208014613,0.9741791184196359,0.005905497109709892,0.848830375853154,0.9928412098240866,0.4969061983084956,0.9743375699712473,0.8876687880632618,0.8792501967053916,0.0041452046730408474,0.9165039318414138,0.8942324971778043,0.9675924927825225,0.638886551862307,0.5430027043964746,0.14042670349819383,0.22897029944073333,0.7318748772731204,0.9274566364171825,0.5974824420681778,0.7051372336698299,0.6705379716257673,0.9000786876579674,0.39711645444545635,0.9908235953186915,0.27815114888779985,0.9647298937297009,0.6633857860139349,0.7873139584751868,0.9529190065562699,0.4460187774729321,0.9932272450833728,0.973390907825444,0.9823744001362312,0.5315240420253168,0.8955920585884459,0.6373744440769857,0.73296885458337,0.6727390723436795,0.8984489699354069,0.9549476936771859,0.5872207227382538,0.20807366984226094,0.9333404887287289,0.9036934292829175,0.4203419637932364,0.7027890447371253,0.549471495830194,0.3090937205466721,0.660924470209149,0.869621881950152,0.1399295897589382,0.9840977967519364,0.960134269455542,0.9042277441915879,0.27076572505849383,0.9631118830277994,0.9726739865370675,0.9736636236863059,0.9142581030035973,0.8476155388860881,0.9196415902484157,0.9524742228640427,0.9877118414102578,0.9447087607993587,0.9754285129547654,0.9938753930475684,0.8067012047077895,0.8770252053054464,0.7343567740694321,0.9365260037638226,0.9149890095661027,0.8364450583610793,0.9894544370472476,0.9553601129749469,0.3510770404430454,0.9822160598215433,0.453341387927091,0.9405010011303039,0.9791508164736482,0.9790012342957866,0.6801024053497675,0.7428449975088486,0.6416212740634318,0.3616473923795832,0.5788737024605306,0.7232270167703702,0.8943019600909241,0.920103904439745,0.9675825095149398,0.8036436836428364,0.9232281944931648,0.09928618782111967,0.7113163565112729,0.8762872912008703,0.5852231436851553,0.6546379492794889,0.8392526236287494,0.9072503251664833,0.9886547555577287,0.7564111890942314,0.21769684813543794,0.9589033351067974,0.3918570467849525,0.7648444615074123,0.5755343663339495,0.9456038618811808,0.7407026730039904,0.044828951501672966,0.9485811570531002,0.13020916200356233,0.8883968716387781,0.986436187270593,0.270190964799691,0.9391882017502109,0.6598371767481693,0.9901760341568042,0.11541111712296692,0.5767394451238052,0.9732568655477487,0.8655554636810247,0.6713318044724882,0.991800278485217,0.9103376469152424,0.24737889679228361,0.9873635082627776,0.9826746885658628,0.6920487710551407,0.9783873257547213,0.28068113459856636,0.9757601344456138,0.9510728236140341,0.4941649738014522,0.6401038670180668,0.9122781723576143,0.9587949353499423,0.7754823382951366,0.975665403839488,0.9154036103454611,0.9097826861927643,0.2807040280235917,0.9628036573205092,0.3220141179982255,0.9238642402403021,0.9718984606538136,0.9242778292080035,0.9945892430555849,0.5283079759224929,0.5167113894714395,0.4755218214697402,0.8434158991259492,0.8702618838335211,0.7843779619765187,0.7762447819694813,0.9864760159182064,0.8089865186692431],\"type\":\"histogram\"}],                        {\"annotations\":[{\"font\":{\"color\":\"gray\",\"size\":13},\"showarrow\":false,\"text\":\"The 80% less paid tend<br>to have lower scores\",\"x\":0.2,\"xanchor\":\"left\",\"xref\":\"paper\",\"y\":180,\"yanchor\":\"bottom\"},{\"font\":{\"color\":\"mediumaquamarine\",\"size\":13},\"showarrow\":false,\"text\":\"Top 20% tend to have<br>higher scores\",\"x\":0.75,\"xanchor\":\"left\",\"xref\":\"paper\",\"y\":95,\"yanchor\":\"bottom\"}],\"barmode\":\"overlay\",\"height\":400,\"margin\":{\"l\":150},\"showlegend\":false,\"template\":{\"data\":{\"scatter\":[{\"type\":\"scatter\"}]}},\"title\":{\"text\":\"<b>Distribution of Scores From the Top 20% and Bottom 80%</b><br><i>test data</i>\"},\"width\":800,\"xaxis\":{\"color\":\"#AAAAAA\",\"showgrid\":false,\"title\":{\"font\":{\"color\":\"#AAAAAA\"},\"text\":\"Probability Score\"}},\"yaxis\":{\"color\":\"#AAAAAA\",\"showgrid\":false,\"title\":{\"font\":{\"color\":\"#AAAAAA\"},\"text\":\"Quantity of Respondents\"}}},                        {\"responsive\": true}                    ).then(function(){\n",
       "                            \n",
       "var gd = document.getElementById('7518e6ef-1144-4e0b-9806-2a22b2b4a878');\n",
       "var x = new MutationObserver(function (mutations, observer) {{\n",
       "        var display = window.getComputedStyle(gd).display;\n",
       "        if (!display || display === 'none') {{\n",
       "            console.log([gd, 'removed!']);\n",
       "            Plotly.purge(gd);\n",
       "            observer.disconnect();\n",
       "        }}\n",
       "}});\n",
       "\n",
       "// Listen for the removal of the full notebook cells\n",
       "var notebookContainer = gd.closest('#notebook-container');\n",
       "if (notebookContainer) {{\n",
       "    x.observe(notebookContainer, {childList: true});\n",
       "}}\n",
       "\n",
       "// Listen for the clearing of the current output cell\n",
       "var outputEl = gd.closest('.output');\n",
       "if (outputEl) {{\n",
       "    x.observe(outputEl, {childList: true});\n",
       "}}\n",
       "\n",
       "                        })                };                });            </script>        </div>"
      ]
     },
     "metadata": {},
     "output_type": "display_data"
    }
   ],
   "source": [
    "# calculating scores\n",
    "scores = pd.DataFrame(lreg.predict_proba(Xtest)).iloc[:,1]\n",
    "scores = pd.DataFrame([scores.values, ytest.values]).transpose()\n",
    "scores.columns = ['score', 'top20']\n",
    "\n",
    "# Add histogram data\n",
    "x0 = scores[scores['top20'] == 0]['score']\n",
    "x1 = scores[scores['top20'] == 1]['score']\n",
    "\n",
    "bottom80 = go.Histogram(\n",
    "    x=x0,\n",
    "    opacity=0.5,\n",
    "    marker={'color': 'lightgray'},\n",
    "    name='Bottom 80%'\n",
    "\n",
    ")\n",
    "top20 = go.Histogram(\n",
    "    x=x1,\n",
    "    opacity=0.5,\n",
    "    marker={'color': 'mediumaquamarine'},\n",
    "    name='Top 20%'   \n",
    ")\n",
    "\n",
    "annot_dict = [{'x': 0.2, 'y': 180, 'text': 'The 80% less paid tend<br>to have lower scores','color': 'gray'},\n",
    "              {'x': 0.75, 'y': 95, 'text': 'Top 20% tend to have<br>higher scores','color': 'mediumaquamarine'}]\n",
    "\n",
    "layout = gen_layout('<b>Distribution of Scores From the Top 20% and Bottom 80%</b><br><i>test data</i>', \n",
    "                    'Probability Score',\n",
    "                    'Quantity of Respondents',\n",
    "                    annotations=gen_annotations(annot_dict),\n",
    "                    lmarg=150, h=400\n",
    "                    )\n",
    "layout['barmode'] = 'overlay'\n",
    "\n",
    "data = [bottom80, top20]\n",
    "layout = go.Layout(layout)\n",
    "fig = go.Figure(data=data, layout=layout)\n",
    "\n",
    "iplot(fig)"
   ]
  },
  {
   "cell_type": "markdown",
   "metadata": {
    "_uuid": "d35bb0b1d54b9fb6d2d54b870ade8a8045d5fd79"
   },
   "source": [
    "We see on the above chart that the two classes are very well defined, and distinct from each other. This is confirmed when we plot the ROC curve.\n",
    "\n",
    "> In a Receiver Operating Characteristic (ROC) curve the true positive rate (Sensitivity) is plotted in function of the false positive rate (100-Specificity) for different cut-off points. Each point on the ROC curve represents a sensitivity/specificity pair corresponding to a particular decision threshold. A test with perfect discrimination (no overlap in the two distributions) has a ROC curve that passes through the upper left corner (100% sensitivity, 100% specificity). Therefore the closer the ROC curve is to the upper left corner, the higher the overall accuracy of the test (Zweig & Campbell, 1993)."
   ]
  },
  {
   "cell_type": "code",
   "execution_count": 42,
   "metadata": {
    "_kg_hide-input": true,
    "_uuid": "627d017fb48a687d8cbdc978727c97beb01ae5a5"
   },
   "outputs": [
    {
     "data": {
      "application/vnd.plotly.v1+json": {
       "config": {
        "linkText": "Export to plot.ly",
        "plotlyServerURL": "https://plot.ly",
        "showLink": false
       },
       "data": [
        {
         "line": {
          "color": "mediumaquamarine",
          "width": 3
         },
         "mode": "lines",
         "name": "ROC curve",
         "type": "scatter",
         "x": [
          0,
          0,
          0.0004488330341113106,
          0.0004488330341113106,
          0.0008976660682226212,
          0.0008976660682226212,
          0.0013464991023339318,
          0.0013464991023339318,
          0.0017953321364452424,
          0.0017953321364452424,
          0.002244165170556553,
          0.002244165170556553,
          0.0026929982046678637,
          0.0026929982046678637,
          0.003590664272890485,
          0.003590664272890485,
          0.0058348294434470375,
          0.0058348294434470375,
          0.0062836624775583485,
          0.0062836624775583485,
          0.006732495511669659,
          0.006732495511669659,
          0.00763016157989228,
          0.00763016157989228,
          0.008976660682226212,
          0.008976660682226212,
          0.009425493716337522,
          0.009425493716337522,
          0.009874326750448833,
          0.009874326750448833,
          0.010771992818671455,
          0.010771992818671455,
          0.011220825852782765,
          0.011220825852782765,
          0.011669658886894075,
          0.011669658886894075,
          0.012118491921005385,
          0.012118491921005385,
          0.013464991023339317,
          0.013464991023339317,
          0.013913824057450628,
          0.013913824057450628,
          0.01436265709156194,
          0.01436265709156194,
          0.01481149012567325,
          0.01481149012567325,
          0.01526032315978456,
          0.01526032315978456,
          0.01570915619389587,
          0.01570915619389587,
          0.017055655296229804,
          0.017055655296229804,
          0.017953321364452424,
          0.017953321364452424,
          0.018402154398563735,
          0.018402154398563735,
          0.019299820466786355,
          0.019299820466786355,
          0.020197486535008975,
          0.020197486535008975,
          0.0210951526032316,
          0.0210951526032316,
          0.02154398563734291,
          0.02154398563734291,
          0.02199281867145422,
          0.02199281867145422,
          0.02244165170556553,
          0.02244165170556553,
          0.02289048473967684,
          0.02289048473967684,
          0.02333931777378815,
          0.02333931777378815,
          0.02423698384201077,
          0.02423698384201077,
          0.024685816876122084,
          0.024685816876122084,
          0.025134649910233394,
          0.025134649910233394,
          0.026032315978456014,
          0.026032315978456014,
          0.026481149012567325,
          0.026481149012567325,
          0.027378815080789945,
          0.027378815080789945,
          0.02872531418312388,
          0.02872531418312388,
          0.02917414721723519,
          0.02917414721723519,
          0.0296229802513465,
          0.0296229802513465,
          0.03007181328545781,
          0.03007181328545781,
          0.03052064631956912,
          0.03052064631956912,
          0.03096947935368043,
          0.03096947935368043,
          0.03141831238779174,
          0.03141831238779174,
          0.03231597845601436,
          0.03231597845601436,
          0.032764811490125674,
          0.032764811490125674,
          0.03411131059245961,
          0.03411131059245961,
          0.03500897666068223,
          0.03500897666068223,
          0.035457809694793535,
          0.035457809694793535,
          0.036355475763016155,
          0.036355475763016155,
          0.03680430879712747,
          0.03680430879712747,
          0.037253141831238776,
          0.037253141831238776,
          0.03770197486535009,
          0.03770197486535009,
          0.0381508078994614,
          0.0381508078994614,
          0.03949730700179533,
          0.03949730700179533,
          0.039946140035906644,
          0.039946140035906644,
          0.04129263913824058,
          0.04129263913824058,
          0.04533213644524237,
          0.04533213644524237,
          0.04578096947935368,
          0.04578096947935368,
          0.048025134649910234,
          0.048025134649910234,
          0.04847396768402154,
          0.04847396768402154,
          0.048922800718132854,
          0.048922800718132854,
          0.05206463195691203,
          0.05206463195691203,
          0.05565529622980251,
          0.05565529622980251,
          0.05655296229802514,
          0.05655296229802514,
          0.057899461400359065,
          0.057899461400359065,
          0.058797127468581685,
          0.058797127468581685,
          0.06014362657091562,
          0.06014362657091562,
          0.06059245960502693,
          0.06059245960502693,
          0.06193895870736086,
          0.06193895870736086,
          0.06238779174147217,
          0.06238779174147217,
          0.06552962298025135,
          0.06552962298025135,
          0.06597845601436265,
          0.06597845601436265,
          0.06642728904847396,
          0.06642728904847396,
          0.0677737881508079,
          0.0677737881508079,
          0.06912028725314183,
          0.06912028725314183,
          0.07001795332136446,
          0.07001795332136446,
          0.07091561938958707,
          0.07091561938958707,
          0.07136445242369839,
          0.07136445242369839,
          0.0718132854578097,
          0.0718132854578097,
          0.07495511669658887,
          0.07495511669658887,
          0.07585278276481149,
          0.07585278276481149,
          0.07675044883303411,
          0.07675044883303411,
          0.07719928186714542,
          0.07719928186714542,
          0.07809694793536805,
          0.07809694793536805,
          0.07854578096947935,
          0.07854578096947935,
          0.07899461400359066,
          0.07899461400359066,
          0.07989228007181329,
          0.07989228007181329,
          0.08213644524236983,
          0.08213644524236983,
          0.08303411131059246,
          0.08303411131059246,
          0.08842010771992818,
          0.08842010771992818,
          0.09201077199281867,
          0.09201077199281867,
          0.0933572710951526,
          0.0933572710951526,
          0.09380610412926392,
          0.09380610412926392,
          0.09470377019748653,
          0.09470377019748653,
          0.09515260323159784,
          0.09515260323159784,
          0.09694793536804308,
          0.09694793536804308,
          0.10053859964093358,
          0.10053859964093358,
          0.10098743267504488,
          0.10098743267504488,
          0.10233393177737882,
          0.10233393177737882,
          0.1063734290843806,
          0.1063734290843806,
          0.10682226211849193,
          0.10682226211849193,
          0.10727109515260323,
          0.10727109515260323,
          0.10816876122082585,
          0.10816876122082585,
          0.11086175942549371,
          0.11086175942549371,
          0.11220825852782765,
          0.11220825852782765,
          0.11265709156193895,
          0.11265709156193895,
          0.11535008976660682,
          0.11535008976660682,
          0.11938958707360861,
          0.11938958707360861,
          0.12028725314183124,
          0.12028725314183124,
          0.12118491921005387,
          0.12118491921005387,
          0.12208258527827648,
          0.12208258527827648,
          0.12567324955116696,
          0.12567324955116696,
          0.13375224416517056,
          0.13375224416517056,
          0.1359964093357271,
          0.1359964093357271,
          0.1400359066427289,
          0.1400359066427289,
          0.14183123877917414,
          0.14183123877917414,
          0.1431777378815081,
          0.1431777378815081,
          0.14631956912028726,
          0.14631956912028726,
          0.14766606822262118,
          0.14766606822262118,
          0.1490125673249551,
          0.1490125673249551,
          0.15035906642728905,
          0.15035906642728905,
          0.1526032315978456,
          0.1526032315978456,
          0.15305206463195692,
          0.15305206463195692,
          0.15394973070017953,
          0.15394973070017953,
          0.15484739676840215,
          0.15484739676840215,
          0.15798922800718132,
          0.15798922800718132,
          0.15978456014362658,
          0.15978456014362658,
          0.16247755834829444,
          0.16247755834829444,
          0.16606822262118492,
          0.16606822262118492,
          0.16741472172351884,
          0.16741472172351884,
          0.1692100538599641,
          0.1692100538599641,
          0.17190305206463197,
          0.17190305206463197,
          0.17280071813285458,
          0.17280071813285458,
          0.1732495511669659,
          0.1732495511669659,
          0.1741472172351885,
          0.1741472172351885,
          0.17639138240574506,
          0.17639138240574506,
          0.17863554757630162,
          0.17863554757630162,
          0.19254937163375224,
          0.19254937163375224,
          0.19389587073608616,
          0.19389587073608616,
          0.20646319569120286,
          0.20646319569120286,
          0.2244165170556553,
          0.2244165170556553,
          0.22666068222621186,
          0.22666068222621186,
          0.23025134649910234,
          0.23025134649910234,
          0.23159784560143626,
          0.23159784560143626,
          0.24281867145421904,
          0.24281867145421904,
          0.24730700179533213,
          0.24730700179533213,
          0.2634649910233393,
          0.2634649910233393,
          0.2643626570915619,
          0.2643626570915619,
          0.2719928186714542,
          0.2719928186714542,
          0.2746858168761221,
          0.2746858168761221,
          0.2751346499102334,
          0.2751346499102334,
          0.28186714542190305,
          0.28186714542190305,
          0.28276481149012567,
          0.28276481149012567,
          0.2845601436265709,
          0.2845601436265709,
          0.29039497307001794,
          0.29039497307001794,
          0.30430879712746856,
          0.30430879712746856,
          0.31687612208258525,
          0.31687612208258525,
          0.3263016157989228,
          0.3263016157989228,
          0.34111310592459604,
          0.34111310592459604,
          0.34156193895870735,
          0.34156193895870735,
          0.34380610412926393,
          0.34380610412926393,
          0.3478456014362657,
          0.3478456014362657,
          0.348294434470377,
          0.348294434470377,
          0.3505385996409336,
          0.3505385996409336,
          0.35502692998204666,
          0.35502692998204666,
          0.3595152603231598,
          0.3595152603231598,
          0.3599640933572711,
          0.3599640933572711,
          0.36759425493716336,
          0.36759425493716336,
          0.37028725314183125,
          0.37028725314183125,
          0.3850987432675045,
          0.3850987432675045,
          0.4035008976660682,
          0.4035008976660682,
          0.40484739676840215,
          0.40484739676840215,
          0.41651705565529623,
          0.41651705565529623,
          0.42010771992818674,
          0.42010771992818674,
          0.4268402154398564,
          0.4268402154398564,
          0.45556552962298025,
          0.45556552962298025,
          0.49461400359066426,
          0.49461400359066426,
          0.5,
          0.5008976660682226,
          0.5112208258527827,
          0.5112208258527827,
          0.5251346499102334,
          0.5251346499102334,
          0.5489228007181328,
          0.5489228007181328,
          0.5807899461400359,
          0.5807899461400359,
          0.5843806104129264,
          0.5843806104129264,
          0.6409335727109515,
          0.6409335727109515,
          0.7069120287253142,
          0.7069120287253142,
          0.7176840215439856,
          0.7176840215439856,
          0.7257630161579892,
          0.7257630161579892,
          0.7347396768402155,
          0.7347396768402155,
          0.7522441651705566,
          0.7522441651705566,
          0.7751346499102334,
          0.7751346499102334,
          0.776032315978456,
          0.776032315978456,
          0.8469479353680431,
          0.8478456014362658,
          0.9245960502692998,
          0.9254937163375224,
          0.9515260323159784,
          0.9515260323159784,
          0.9663375224416517,
          0.9663375224416517,
          1
         ],
         "y": [
          0,
          0.0027472527472527475,
          0.0027472527472527475,
          0.06593406593406594,
          0.06593406593406594,
          0.07417582417582418,
          0.07417582417582418,
          0.0989010989010989,
          0.0989010989010989,
          0.1043956043956044,
          0.1043956043956044,
          0.14835164835164835,
          0.14835164835164835,
          0.2032967032967033,
          0.2032967032967033,
          0.20604395604395603,
          0.20604395604395603,
          0.21428571428571427,
          0.21428571428571427,
          0.21978021978021978,
          0.21978021978021978,
          0.23901098901098902,
          0.23901098901098902,
          0.2554945054945055,
          0.2554945054945055,
          0.260989010989011,
          0.260989010989011,
          0.27197802197802196,
          0.27197802197802196,
          0.28296703296703296,
          0.28296703296703296,
          0.2857142857142857,
          0.2857142857142857,
          0.28846153846153844,
          0.28846153846153844,
          0.29395604395604397,
          0.29395604395604397,
          0.2967032967032967,
          0.2967032967032967,
          0.29945054945054944,
          0.29945054945054944,
          0.30494505494505497,
          0.30494505494505497,
          0.3076923076923077,
          0.3076923076923077,
          0.3159340659340659,
          0.3159340659340659,
          0.32142857142857145,
          0.32142857142857145,
          0.3269230769230769,
          0.3269230769230769,
          0.3324175824175824,
          0.3324175824175824,
          0.33516483516483514,
          0.33516483516483514,
          0.33791208791208793,
          0.33791208791208793,
          0.3434065934065934,
          0.3434065934065934,
          0.34615384615384615,
          0.34615384615384615,
          0.3543956043956044,
          0.3543956043956044,
          0.35714285714285715,
          0.35714285714285715,
          0.3626373626373626,
          0.3626373626373626,
          0.36813186813186816,
          0.36813186813186816,
          0.37362637362637363,
          0.37362637362637363,
          0.37637362637362637,
          0.37637362637362637,
          0.38461538461538464,
          0.38461538461538464,
          0.3873626373626374,
          0.3873626373626374,
          0.3901098901098901,
          0.3901098901098901,
          0.3956043956043956,
          0.3956043956043956,
          0.3983516483516483,
          0.3983516483516483,
          0.40934065934065933,
          0.40934065934065933,
          0.41208791208791207,
          0.41208791208791207,
          0.4230769230769231,
          0.4230769230769231,
          0.42857142857142855,
          0.42857142857142855,
          0.4340659340659341,
          0.4340659340659341,
          0.4368131868131868,
          0.4368131868131868,
          0.43956043956043955,
          0.43956043956043955,
          0.4478021978021978,
          0.4478021978021978,
          0.45054945054945056,
          0.45054945054945056,
          0.4697802197802198,
          0.4697802197802198,
          0.4725274725274725,
          0.4725274725274725,
          0.47527472527472525,
          0.47527472527472525,
          0.4835164835164835,
          0.4835164835164835,
          0.48626373626373626,
          0.48626373626373626,
          0.4945054945054945,
          0.4945054945054945,
          0.49725274725274726,
          0.49725274725274726,
          0.5,
          0.5,
          0.5027472527472527,
          0.5027472527472527,
          0.5137362637362637,
          0.5137362637362637,
          0.5192307692307693,
          0.5192307692307693,
          0.521978021978022,
          0.521978021978022,
          0.5302197802197802,
          0.5302197802197802,
          0.532967032967033,
          0.532967032967033,
          0.5384615384615384,
          0.5384615384615384,
          0.5467032967032966,
          0.5467032967032966,
          0.554945054945055,
          0.554945054945055,
          0.5604395604395604,
          0.5604395604395604,
          0.5659340659340659,
          0.5659340659340659,
          0.5714285714285714,
          0.5714285714285714,
          0.5769230769230769,
          0.5769230769230769,
          0.5796703296703297,
          0.5796703296703297,
          0.5851648351648352,
          0.5851648351648352,
          0.5879120879120879,
          0.5879120879120879,
          0.5906593406593407,
          0.5906593406593407,
          0.5961538461538461,
          0.5961538461538461,
          0.5989010989010989,
          0.5989010989010989,
          0.6043956043956044,
          0.6043956043956044,
          0.6071428571428571,
          0.6071428571428571,
          0.6098901098901099,
          0.6098901098901099,
          0.6181318681318682,
          0.6181318681318682,
          0.6208791208791209,
          0.6208791208791209,
          0.6236263736263736,
          0.6236263736263736,
          0.6263736263736264,
          0.6263736263736264,
          0.6291208791208791,
          0.6291208791208791,
          0.6318681318681318,
          0.6318681318681318,
          0.6401098901098901,
          0.6401098901098901,
          0.6428571428571429,
          0.6428571428571429,
          0.6483516483516484,
          0.6483516483516484,
          0.6510989010989011,
          0.6510989010989011,
          0.6593406593406593,
          0.6593406593406593,
          0.6620879120879121,
          0.6620879120879121,
          0.6648351648351648,
          0.6648351648351648,
          0.6675824175824175,
          0.6675824175824175,
          0.6703296703296703,
          0.6703296703296703,
          0.6730769230769231,
          0.6730769230769231,
          0.6758241758241759,
          0.6758241758241759,
          0.6813186813186813,
          0.6813186813186813,
          0.6840659340659341,
          0.6840659340659341,
          0.6868131868131868,
          0.6868131868131868,
          0.6895604395604396,
          0.6895604395604396,
          0.695054945054945,
          0.695054945054945,
          0.6978021978021978,
          0.6978021978021978,
          0.7005494505494505,
          0.7005494505494505,
          0.7032967032967034,
          0.7032967032967034,
          0.7060439560439561,
          0.7060439560439561,
          0.7087912087912088,
          0.7087912087912088,
          0.7115384615384616,
          0.7115384615384616,
          0.717032967032967,
          0.717032967032967,
          0.7197802197802198,
          0.7197802197802198,
          0.7252747252747253,
          0.7252747252747253,
          0.728021978021978,
          0.728021978021978,
          0.7335164835164835,
          0.7335164835164835,
          0.7362637362637363,
          0.7362637362637363,
          0.739010989010989,
          0.739010989010989,
          0.7417582417582418,
          0.7417582417582418,
          0.7472527472527473,
          0.7472527472527473,
          0.75,
          0.75,
          0.7527472527472527,
          0.7527472527472527,
          0.7554945054945055,
          0.7554945054945055,
          0.7582417582417582,
          0.7582417582417582,
          0.7637362637362637,
          0.7637362637362637,
          0.7664835164835165,
          0.7664835164835165,
          0.7692307692307693,
          0.7692307692307693,
          0.771978021978022,
          0.771978021978022,
          0.7774725274725275,
          0.7774725274725275,
          0.7802197802197802,
          0.7802197802197802,
          0.782967032967033,
          0.782967032967033,
          0.7857142857142857,
          0.7857142857142857,
          0.7884615384615384,
          0.7884615384615384,
          0.7912087912087912,
          0.7912087912087912,
          0.7939560439560439,
          0.7939560439560439,
          0.7967032967032966,
          0.7967032967032966,
          0.8021978021978022,
          0.8021978021978022,
          0.8076923076923077,
          0.8076923076923077,
          0.8104395604395604,
          0.8104395604395604,
          0.8131868131868132,
          0.8131868131868132,
          0.8159340659340659,
          0.8159340659340659,
          0.8186813186813187,
          0.8186813186813187,
          0.8269230769230769,
          0.8269230769230769,
          0.8296703296703297,
          0.8296703296703297,
          0.8351648351648352,
          0.8351648351648352,
          0.8379120879120879,
          0.8379120879120879,
          0.8406593406593407,
          0.8406593406593407,
          0.8434065934065934,
          0.8434065934065934,
          0.8461538461538461,
          0.8461538461538461,
          0.8489010989010989,
          0.8489010989010989,
          0.8516483516483516,
          0.8516483516483516,
          0.8543956043956044,
          0.8543956043956044,
          0.8571428571428571,
          0.8571428571428571,
          0.8626373626373627,
          0.8626373626373627,
          0.8653846153846154,
          0.8653846153846154,
          0.8681318681318682,
          0.8681318681318682,
          0.8708791208791209,
          0.8708791208791209,
          0.8736263736263736,
          0.8736263736263736,
          0.8763736263736264,
          0.8763736263736264,
          0.8791208791208791,
          0.8791208791208791,
          0.8818681318681318,
          0.8818681318681318,
          0.8846153846153846,
          0.8846153846153846,
          0.8873626373626373,
          0.8873626373626373,
          0.8901098901098901,
          0.8901098901098901,
          0.8928571428571429,
          0.8928571428571429,
          0.8956043956043956,
          0.8956043956043956,
          0.9010989010989011,
          0.9010989010989011,
          0.9038461538461539,
          0.9038461538461539,
          0.9065934065934066,
          0.9065934065934066,
          0.9093406593406593,
          0.9093406593406593,
          0.9120879120879121,
          0.9120879120879121,
          0.9148351648351648,
          0.9148351648351648,
          0.9175824175824175,
          0.9175824175824175,
          0.9203296703296703,
          0.9203296703296703,
          0.9230769230769231,
          0.9230769230769231,
          0.9258241758241759,
          0.9258241758241759,
          0.9285714285714286,
          0.9285714285714286,
          0.9313186813186813,
          0.9313186813186813,
          0.9340659340659341,
          0.9340659340659341,
          0.9368131868131868,
          0.9368131868131868,
          0.9395604395604396,
          0.9395604395604396,
          0.9423076923076923,
          0.9423076923076923,
          0.945054945054945,
          0.945054945054945,
          0.9478021978021978,
          0.9478021978021978,
          0.9505494505494505,
          0.9505494505494505,
          0.9532967032967034,
          0.9532967032967034,
          0.9532967032967034,
          0.9532967032967034,
          0.9615384615384616,
          0.9615384615384616,
          0.9642857142857143,
          0.9642857142857143,
          0.967032967032967,
          0.967032967032967,
          0.9697802197802198,
          0.9697802197802198,
          0.9725274725274725,
          0.9725274725274725,
          0.9752747252747253,
          0.9752747252747253,
          0.978021978021978,
          0.978021978021978,
          0.9807692307692307,
          0.9807692307692307,
          0.9835164835164835,
          0.9835164835164835,
          0.9862637362637363,
          0.9862637362637363,
          0.989010989010989,
          0.989010989010989,
          0.9917582417582418,
          0.9917582417582418,
          0.9945054945054945,
          0.9945054945054945,
          0.9945054945054945,
          0.9945054945054945,
          0.9945054945054945,
          0.9945054945054945,
          0.9972527472527473,
          0.9972527472527473,
          1,
          1
         ]
        },
        {
         "line": {
          "color": "lightgray",
          "dash": "dash",
          "width": 1
         },
         "mode": "lines",
         "showlegend": false,
         "type": "scatter",
         "x": [
          0,
          1
         ],
         "y": [
          0,
          1
         ]
        }
       ],
       "layout": {
        "height": 600,
        "margin": {
         "l": 50
        },
        "showlegend": false,
        "template": {
         "data": {
          "scatter": [
           {
            "type": "scatter"
           }
          ]
         }
        },
        "title": {
         "text": "<b>Receiver Operating Characteristic Curve</b><br><i>test data</i>"
        },
        "width": 800,
        "xaxis": {
         "color": "#AAAAAA",
         "showgrid": false,
         "title": {
          "font": {
           "color": "#AAAAAA"
          },
          "text": "False Positive Rate"
         }
        },
        "yaxis": {
         "color": "#AAAAAA",
         "showgrid": false,
         "title": {
          "font": {
           "color": "#AAAAAA"
          },
          "text": "True Positive Rate"
         }
        }
       }
      },
      "text/html": [
       "<div>                            <div id=\"232bc157-6e77-425d-9513-88a11a26c335\" class=\"plotly-graph-div\" style=\"height:600px; width:800px;\"></div>            <script type=\"text/javascript\">                require([\"plotly\"], function(Plotly) {                    window.PLOTLYENV=window.PLOTLYENV || {};                                    if (document.getElementById(\"232bc157-6e77-425d-9513-88a11a26c335\")) {                    Plotly.newPlot(                        \"232bc157-6e77-425d-9513-88a11a26c335\",                        [{\"line\":{\"color\":\"mediumaquamarine\",\"width\":3},\"mode\":\"lines\",\"name\":\"ROC curve\",\"x\":[0.0,0.0,0.0004488330341113106,0.0004488330341113106,0.0008976660682226212,0.0008976660682226212,0.0013464991023339318,0.0013464991023339318,0.0017953321364452424,0.0017953321364452424,0.002244165170556553,0.002244165170556553,0.0026929982046678637,0.0026929982046678637,0.003590664272890485,0.003590664272890485,0.0058348294434470375,0.0058348294434470375,0.0062836624775583485,0.0062836624775583485,0.006732495511669659,0.006732495511669659,0.00763016157989228,0.00763016157989228,0.008976660682226212,0.008976660682226212,0.009425493716337522,0.009425493716337522,0.009874326750448833,0.009874326750448833,0.010771992818671455,0.010771992818671455,0.011220825852782765,0.011220825852782765,0.011669658886894075,0.011669658886894075,0.012118491921005385,0.012118491921005385,0.013464991023339317,0.013464991023339317,0.013913824057450628,0.013913824057450628,0.01436265709156194,0.01436265709156194,0.01481149012567325,0.01481149012567325,0.01526032315978456,0.01526032315978456,0.01570915619389587,0.01570915619389587,0.017055655296229804,0.017055655296229804,0.017953321364452424,0.017953321364452424,0.018402154398563735,0.018402154398563735,0.019299820466786355,0.019299820466786355,0.020197486535008975,0.020197486535008975,0.0210951526032316,0.0210951526032316,0.02154398563734291,0.02154398563734291,0.02199281867145422,0.02199281867145422,0.02244165170556553,0.02244165170556553,0.02289048473967684,0.02289048473967684,0.02333931777378815,0.02333931777378815,0.02423698384201077,0.02423698384201077,0.024685816876122084,0.024685816876122084,0.025134649910233394,0.025134649910233394,0.026032315978456014,0.026032315978456014,0.026481149012567325,0.026481149012567325,0.027378815080789945,0.027378815080789945,0.02872531418312388,0.02872531418312388,0.02917414721723519,0.02917414721723519,0.0296229802513465,0.0296229802513465,0.03007181328545781,0.03007181328545781,0.03052064631956912,0.03052064631956912,0.03096947935368043,0.03096947935368043,0.03141831238779174,0.03141831238779174,0.03231597845601436,0.03231597845601436,0.032764811490125674,0.032764811490125674,0.03411131059245961,0.03411131059245961,0.03500897666068223,0.03500897666068223,0.035457809694793535,0.035457809694793535,0.036355475763016155,0.036355475763016155,0.03680430879712747,0.03680430879712747,0.037253141831238776,0.037253141831238776,0.03770197486535009,0.03770197486535009,0.0381508078994614,0.0381508078994614,0.03949730700179533,0.03949730700179533,0.039946140035906644,0.039946140035906644,0.04129263913824058,0.04129263913824058,0.04533213644524237,0.04533213644524237,0.04578096947935368,0.04578096947935368,0.048025134649910234,0.048025134649910234,0.04847396768402154,0.04847396768402154,0.048922800718132854,0.048922800718132854,0.05206463195691203,0.05206463195691203,0.05565529622980251,0.05565529622980251,0.05655296229802514,0.05655296229802514,0.057899461400359065,0.057899461400359065,0.058797127468581685,0.058797127468581685,0.06014362657091562,0.06014362657091562,0.06059245960502693,0.06059245960502693,0.06193895870736086,0.06193895870736086,0.06238779174147217,0.06238779174147217,0.06552962298025135,0.06552962298025135,0.06597845601436265,0.06597845601436265,0.06642728904847396,0.06642728904847396,0.0677737881508079,0.0677737881508079,0.06912028725314183,0.06912028725314183,0.07001795332136446,0.07001795332136446,0.07091561938958707,0.07091561938958707,0.07136445242369839,0.07136445242369839,0.0718132854578097,0.0718132854578097,0.07495511669658887,0.07495511669658887,0.07585278276481149,0.07585278276481149,0.07675044883303411,0.07675044883303411,0.07719928186714542,0.07719928186714542,0.07809694793536805,0.07809694793536805,0.07854578096947935,0.07854578096947935,0.07899461400359066,0.07899461400359066,0.07989228007181329,0.07989228007181329,0.08213644524236983,0.08213644524236983,0.08303411131059246,0.08303411131059246,0.08842010771992818,0.08842010771992818,0.09201077199281867,0.09201077199281867,0.0933572710951526,0.0933572710951526,0.09380610412926392,0.09380610412926392,0.09470377019748653,0.09470377019748653,0.09515260323159784,0.09515260323159784,0.09694793536804308,0.09694793536804308,0.10053859964093358,0.10053859964093358,0.10098743267504488,0.10098743267504488,0.10233393177737882,0.10233393177737882,0.1063734290843806,0.1063734290843806,0.10682226211849193,0.10682226211849193,0.10727109515260323,0.10727109515260323,0.10816876122082585,0.10816876122082585,0.11086175942549371,0.11086175942549371,0.11220825852782765,0.11220825852782765,0.11265709156193895,0.11265709156193895,0.11535008976660682,0.11535008976660682,0.11938958707360861,0.11938958707360861,0.12028725314183124,0.12028725314183124,0.12118491921005387,0.12118491921005387,0.12208258527827648,0.12208258527827648,0.12567324955116696,0.12567324955116696,0.13375224416517056,0.13375224416517056,0.1359964093357271,0.1359964093357271,0.1400359066427289,0.1400359066427289,0.14183123877917414,0.14183123877917414,0.1431777378815081,0.1431777378815081,0.14631956912028726,0.14631956912028726,0.14766606822262118,0.14766606822262118,0.1490125673249551,0.1490125673249551,0.15035906642728905,0.15035906642728905,0.1526032315978456,0.1526032315978456,0.15305206463195692,0.15305206463195692,0.15394973070017953,0.15394973070017953,0.15484739676840215,0.15484739676840215,0.15798922800718132,0.15798922800718132,0.15978456014362658,0.15978456014362658,0.16247755834829444,0.16247755834829444,0.16606822262118492,0.16606822262118492,0.16741472172351884,0.16741472172351884,0.1692100538599641,0.1692100538599641,0.17190305206463197,0.17190305206463197,0.17280071813285458,0.17280071813285458,0.1732495511669659,0.1732495511669659,0.1741472172351885,0.1741472172351885,0.17639138240574506,0.17639138240574506,0.17863554757630162,0.17863554757630162,0.19254937163375224,0.19254937163375224,0.19389587073608616,0.19389587073608616,0.20646319569120286,0.20646319569120286,0.2244165170556553,0.2244165170556553,0.22666068222621186,0.22666068222621186,0.23025134649910234,0.23025134649910234,0.23159784560143626,0.23159784560143626,0.24281867145421904,0.24281867145421904,0.24730700179533213,0.24730700179533213,0.2634649910233393,0.2634649910233393,0.2643626570915619,0.2643626570915619,0.2719928186714542,0.2719928186714542,0.2746858168761221,0.2746858168761221,0.2751346499102334,0.2751346499102334,0.28186714542190305,0.28186714542190305,0.28276481149012567,0.28276481149012567,0.2845601436265709,0.2845601436265709,0.29039497307001794,0.29039497307001794,0.30430879712746856,0.30430879712746856,0.31687612208258525,0.31687612208258525,0.3263016157989228,0.3263016157989228,0.34111310592459604,0.34111310592459604,0.34156193895870735,0.34156193895870735,0.34380610412926393,0.34380610412926393,0.3478456014362657,0.3478456014362657,0.348294434470377,0.348294434470377,0.3505385996409336,0.3505385996409336,0.35502692998204666,0.35502692998204666,0.3595152603231598,0.3595152603231598,0.3599640933572711,0.3599640933572711,0.36759425493716336,0.36759425493716336,0.37028725314183125,0.37028725314183125,0.3850987432675045,0.3850987432675045,0.4035008976660682,0.4035008976660682,0.40484739676840215,0.40484739676840215,0.41651705565529623,0.41651705565529623,0.42010771992818674,0.42010771992818674,0.4268402154398564,0.4268402154398564,0.45556552962298025,0.45556552962298025,0.49461400359066426,0.49461400359066426,0.5,0.5008976660682226,0.5112208258527827,0.5112208258527827,0.5251346499102334,0.5251346499102334,0.5489228007181328,0.5489228007181328,0.5807899461400359,0.5807899461400359,0.5843806104129264,0.5843806104129264,0.6409335727109515,0.6409335727109515,0.7069120287253142,0.7069120287253142,0.7176840215439856,0.7176840215439856,0.7257630161579892,0.7257630161579892,0.7347396768402155,0.7347396768402155,0.7522441651705566,0.7522441651705566,0.7751346499102334,0.7751346499102334,0.776032315978456,0.776032315978456,0.8469479353680431,0.8478456014362658,0.9245960502692998,0.9254937163375224,0.9515260323159784,0.9515260323159784,0.9663375224416517,0.9663375224416517,1.0],\"y\":[0.0,0.0027472527472527475,0.0027472527472527475,0.06593406593406594,0.06593406593406594,0.07417582417582418,0.07417582417582418,0.0989010989010989,0.0989010989010989,0.1043956043956044,0.1043956043956044,0.14835164835164835,0.14835164835164835,0.2032967032967033,0.2032967032967033,0.20604395604395603,0.20604395604395603,0.21428571428571427,0.21428571428571427,0.21978021978021978,0.21978021978021978,0.23901098901098902,0.23901098901098902,0.2554945054945055,0.2554945054945055,0.260989010989011,0.260989010989011,0.27197802197802196,0.27197802197802196,0.28296703296703296,0.28296703296703296,0.2857142857142857,0.2857142857142857,0.28846153846153844,0.28846153846153844,0.29395604395604397,0.29395604395604397,0.2967032967032967,0.2967032967032967,0.29945054945054944,0.29945054945054944,0.30494505494505497,0.30494505494505497,0.3076923076923077,0.3076923076923077,0.3159340659340659,0.3159340659340659,0.32142857142857145,0.32142857142857145,0.3269230769230769,0.3269230769230769,0.3324175824175824,0.3324175824175824,0.33516483516483514,0.33516483516483514,0.33791208791208793,0.33791208791208793,0.3434065934065934,0.3434065934065934,0.34615384615384615,0.34615384615384615,0.3543956043956044,0.3543956043956044,0.35714285714285715,0.35714285714285715,0.3626373626373626,0.3626373626373626,0.36813186813186816,0.36813186813186816,0.37362637362637363,0.37362637362637363,0.37637362637362637,0.37637362637362637,0.38461538461538464,0.38461538461538464,0.3873626373626374,0.3873626373626374,0.3901098901098901,0.3901098901098901,0.3956043956043956,0.3956043956043956,0.3983516483516483,0.3983516483516483,0.40934065934065933,0.40934065934065933,0.41208791208791207,0.41208791208791207,0.4230769230769231,0.4230769230769231,0.42857142857142855,0.42857142857142855,0.4340659340659341,0.4340659340659341,0.4368131868131868,0.4368131868131868,0.43956043956043955,0.43956043956043955,0.4478021978021978,0.4478021978021978,0.45054945054945056,0.45054945054945056,0.4697802197802198,0.4697802197802198,0.4725274725274725,0.4725274725274725,0.47527472527472525,0.47527472527472525,0.4835164835164835,0.4835164835164835,0.48626373626373626,0.48626373626373626,0.4945054945054945,0.4945054945054945,0.49725274725274726,0.49725274725274726,0.5,0.5,0.5027472527472527,0.5027472527472527,0.5137362637362637,0.5137362637362637,0.5192307692307693,0.5192307692307693,0.521978021978022,0.521978021978022,0.5302197802197802,0.5302197802197802,0.532967032967033,0.532967032967033,0.5384615384615384,0.5384615384615384,0.5467032967032966,0.5467032967032966,0.554945054945055,0.554945054945055,0.5604395604395604,0.5604395604395604,0.5659340659340659,0.5659340659340659,0.5714285714285714,0.5714285714285714,0.5769230769230769,0.5769230769230769,0.5796703296703297,0.5796703296703297,0.5851648351648352,0.5851648351648352,0.5879120879120879,0.5879120879120879,0.5906593406593407,0.5906593406593407,0.5961538461538461,0.5961538461538461,0.5989010989010989,0.5989010989010989,0.6043956043956044,0.6043956043956044,0.6071428571428571,0.6071428571428571,0.6098901098901099,0.6098901098901099,0.6181318681318682,0.6181318681318682,0.6208791208791209,0.6208791208791209,0.6236263736263736,0.6236263736263736,0.6263736263736264,0.6263736263736264,0.6291208791208791,0.6291208791208791,0.6318681318681318,0.6318681318681318,0.6401098901098901,0.6401098901098901,0.6428571428571429,0.6428571428571429,0.6483516483516484,0.6483516483516484,0.6510989010989011,0.6510989010989011,0.6593406593406593,0.6593406593406593,0.6620879120879121,0.6620879120879121,0.6648351648351648,0.6648351648351648,0.6675824175824175,0.6675824175824175,0.6703296703296703,0.6703296703296703,0.6730769230769231,0.6730769230769231,0.6758241758241759,0.6758241758241759,0.6813186813186813,0.6813186813186813,0.6840659340659341,0.6840659340659341,0.6868131868131868,0.6868131868131868,0.6895604395604396,0.6895604395604396,0.695054945054945,0.695054945054945,0.6978021978021978,0.6978021978021978,0.7005494505494505,0.7005494505494505,0.7032967032967034,0.7032967032967034,0.7060439560439561,0.7060439560439561,0.7087912087912088,0.7087912087912088,0.7115384615384616,0.7115384615384616,0.717032967032967,0.717032967032967,0.7197802197802198,0.7197802197802198,0.7252747252747253,0.7252747252747253,0.728021978021978,0.728021978021978,0.7335164835164835,0.7335164835164835,0.7362637362637363,0.7362637362637363,0.739010989010989,0.739010989010989,0.7417582417582418,0.7417582417582418,0.7472527472527473,0.7472527472527473,0.75,0.75,0.7527472527472527,0.7527472527472527,0.7554945054945055,0.7554945054945055,0.7582417582417582,0.7582417582417582,0.7637362637362637,0.7637362637362637,0.7664835164835165,0.7664835164835165,0.7692307692307693,0.7692307692307693,0.771978021978022,0.771978021978022,0.7774725274725275,0.7774725274725275,0.7802197802197802,0.7802197802197802,0.782967032967033,0.782967032967033,0.7857142857142857,0.7857142857142857,0.7884615384615384,0.7884615384615384,0.7912087912087912,0.7912087912087912,0.7939560439560439,0.7939560439560439,0.7967032967032966,0.7967032967032966,0.8021978021978022,0.8021978021978022,0.8076923076923077,0.8076923076923077,0.8104395604395604,0.8104395604395604,0.8131868131868132,0.8131868131868132,0.8159340659340659,0.8159340659340659,0.8186813186813187,0.8186813186813187,0.8269230769230769,0.8269230769230769,0.8296703296703297,0.8296703296703297,0.8351648351648352,0.8351648351648352,0.8379120879120879,0.8379120879120879,0.8406593406593407,0.8406593406593407,0.8434065934065934,0.8434065934065934,0.8461538461538461,0.8461538461538461,0.8489010989010989,0.8489010989010989,0.8516483516483516,0.8516483516483516,0.8543956043956044,0.8543956043956044,0.8571428571428571,0.8571428571428571,0.8626373626373627,0.8626373626373627,0.8653846153846154,0.8653846153846154,0.8681318681318682,0.8681318681318682,0.8708791208791209,0.8708791208791209,0.8736263736263736,0.8736263736263736,0.8763736263736264,0.8763736263736264,0.8791208791208791,0.8791208791208791,0.8818681318681318,0.8818681318681318,0.8846153846153846,0.8846153846153846,0.8873626373626373,0.8873626373626373,0.8901098901098901,0.8901098901098901,0.8928571428571429,0.8928571428571429,0.8956043956043956,0.8956043956043956,0.9010989010989011,0.9010989010989011,0.9038461538461539,0.9038461538461539,0.9065934065934066,0.9065934065934066,0.9093406593406593,0.9093406593406593,0.9120879120879121,0.9120879120879121,0.9148351648351648,0.9148351648351648,0.9175824175824175,0.9175824175824175,0.9203296703296703,0.9203296703296703,0.9230769230769231,0.9230769230769231,0.9258241758241759,0.9258241758241759,0.9285714285714286,0.9285714285714286,0.9313186813186813,0.9313186813186813,0.9340659340659341,0.9340659340659341,0.9368131868131868,0.9368131868131868,0.9395604395604396,0.9395604395604396,0.9423076923076923,0.9423076923076923,0.945054945054945,0.945054945054945,0.9478021978021978,0.9478021978021978,0.9505494505494505,0.9505494505494505,0.9532967032967034,0.9532967032967034,0.9532967032967034,0.9532967032967034,0.9615384615384616,0.9615384615384616,0.9642857142857143,0.9642857142857143,0.967032967032967,0.967032967032967,0.9697802197802198,0.9697802197802198,0.9725274725274725,0.9725274725274725,0.9752747252747253,0.9752747252747253,0.978021978021978,0.978021978021978,0.9807692307692307,0.9807692307692307,0.9835164835164835,0.9835164835164835,0.9862637362637363,0.9862637362637363,0.989010989010989,0.989010989010989,0.9917582417582418,0.9917582417582418,0.9945054945054945,0.9945054945054945,0.9945054945054945,0.9945054945054945,0.9945054945054945,0.9945054945054945,0.9972527472527473,0.9972527472527473,1.0,1.0],\"type\":\"scatter\"},{\"line\":{\"color\":\"lightgray\",\"dash\":\"dash\",\"width\":1},\"mode\":\"lines\",\"showlegend\":false,\"x\":[0,1],\"y\":[0,1],\"type\":\"scatter\"}],                        {\"height\":600,\"margin\":{\"l\":50},\"showlegend\":false,\"template\":{\"data\":{\"scatter\":[{\"type\":\"scatter\"}]}},\"title\":{\"text\":\"<b>Receiver Operating Characteristic Curve</b><br><i>test data</i>\"},\"width\":800,\"xaxis\":{\"color\":\"#AAAAAA\",\"showgrid\":false,\"title\":{\"font\":{\"color\":\"#AAAAAA\"},\"text\":\"False Positive Rate\"}},\"yaxis\":{\"color\":\"#AAAAAA\",\"showgrid\":false,\"title\":{\"font\":{\"color\":\"#AAAAAA\"},\"text\":\"True Positive Rate\"}}},                        {\"responsive\": true}                    ).then(function(){\n",
       "                            \n",
       "var gd = document.getElementById('232bc157-6e77-425d-9513-88a11a26c335');\n",
       "var x = new MutationObserver(function (mutations, observer) {{\n",
       "        var display = window.getComputedStyle(gd).display;\n",
       "        if (!display || display === 'none') {{\n",
       "            console.log([gd, 'removed!']);\n",
       "            Plotly.purge(gd);\n",
       "            observer.disconnect();\n",
       "        }}\n",
       "}});\n",
       "\n",
       "// Listen for the removal of the full notebook cells\n",
       "var notebookContainer = gd.closest('#notebook-container');\n",
       "if (notebookContainer) {{\n",
       "    x.observe(notebookContainer, {childList: true});\n",
       "}}\n",
       "\n",
       "// Listen for the clearing of the current output cell\n",
       "var outputEl = gd.closest('.output');\n",
       "if (outputEl) {{\n",
       "    x.observe(outputEl, {childList: true});\n",
       "}}\n",
       "\n",
       "                        })                };                });            </script>        </div>"
      ]
     },
     "metadata": {},
     "output_type": "display_data"
    }
   ],
   "source": [
    "from sklearn.metrics import roc_curve\n",
    "\n",
    "yscore = pd.DataFrame(lreg.predict_proba(Xtest)).iloc[:,1]\n",
    "fpr, tpr, _ = roc_curve(ytest, yscore)\n",
    "\n",
    "trace1 = go.Scatter(x=fpr, y=tpr, \n",
    "                    mode='lines', \n",
    "                    line=dict(color='mediumaquamarine', width=3),\n",
    "                    name='ROC curve'\n",
    "                   )\n",
    "\n",
    "trace2 = go.Scatter(x=[0, 1], y=[0, 1], \n",
    "                    mode='lines', \n",
    "                    line=dict(color='lightgray', width=1, dash='dash'),\n",
    "                    showlegend=False)\n",
    "\n",
    "layout = gen_layout('<b>Receiver Operating Characteristic Curve</b><br><i>test data</i>', \n",
    "                    'False Positive Rate',\n",
    "                    'True Positive Rate',\n",
    "                    lmarg=50, h=600\n",
    "                    )\n",
    "\n",
    "\n",
    "fig = go.Figure(data=[trace1, trace2], layout=layout)\n",
    "\n",
    "iplot(fig)"
   ]
  },
  {
   "cell_type": "markdown",
   "metadata": {
    "_uuid": "91c1c07f9e71470a82dce9d41a1979f3c28e8516"
   },
   "source": [
    "## Probability of Being in the Top 20% per Score\n",
    "Now let's calculate the probability of belonging to the Top 20% given a certain score. To do that we will create score ranges. We calculate the probability based on how the model performed on test data. Below we show the probability for each bin."
   ]
  },
  {
   "cell_type": "code",
   "execution_count": 43,
   "metadata": {
    "_kg_hide-input": true,
    "_uuid": "571e5ff36fe35bf8f6337762a0e5fc9211b99a10"
   },
   "outputs": [
    {
     "data": {
      "text/html": [
       "<div>\n",
       "<style scoped>\n",
       "    .dataframe tbody tr th:only-of-type {\n",
       "        vertical-align: middle;\n",
       "    }\n",
       "\n",
       "    .dataframe tbody tr th {\n",
       "        vertical-align: top;\n",
       "    }\n",
       "\n",
       "    .dataframe thead th {\n",
       "        text-align: right;\n",
       "    }\n",
       "</style>\n",
       "<table border=\"1\" class=\"dataframe\">\n",
       "  <thead>\n",
       "    <tr style=\"text-align: right;\">\n",
       "      <th></th>\n",
       "      <th>probability</th>\n",
       "    </tr>\n",
       "    <tr>\n",
       "      <th>bin</th>\n",
       "      <th></th>\n",
       "    </tr>\n",
       "  </thead>\n",
       "  <tbody>\n",
       "    <tr>\n",
       "      <th>(-0.01, 0.05]</th>\n",
       "      <td>0.012289</td>\n",
       "    </tr>\n",
       "    <tr>\n",
       "      <th>(0.05, 0.1]</th>\n",
       "      <td>0.010381</td>\n",
       "    </tr>\n",
       "    <tr>\n",
       "      <th>(0.1, 0.2]</th>\n",
       "      <td>0.023599</td>\n",
       "    </tr>\n",
       "    <tr>\n",
       "      <th>(0.2, 0.4]</th>\n",
       "      <td>0.072639</td>\n",
       "    </tr>\n",
       "    <tr>\n",
       "      <th>(0.4, 0.5]</th>\n",
       "      <td>0.057803</td>\n",
       "    </tr>\n",
       "    <tr>\n",
       "      <th>(0.5, 0.6]</th>\n",
       "      <td>0.203008</td>\n",
       "    </tr>\n",
       "    <tr>\n",
       "      <th>(0.6, 0.7]</th>\n",
       "      <td>0.218978</td>\n",
       "    </tr>\n",
       "    <tr>\n",
       "      <th>(0.7, 0.8]</th>\n",
       "      <td>0.324786</td>\n",
       "    </tr>\n",
       "    <tr>\n",
       "      <th>(0.8, 0.9]</th>\n",
       "      <td>0.450450</td>\n",
       "    </tr>\n",
       "    <tr>\n",
       "      <th>(0.9, 0.95]</th>\n",
       "      <td>0.555556</td>\n",
       "    </tr>\n",
       "    <tr>\n",
       "      <th>(0.95, 0.975]</th>\n",
       "      <td>0.693548</td>\n",
       "    </tr>\n",
       "    <tr>\n",
       "      <th>(0.975, 1.0]</th>\n",
       "      <td>0.911765</td>\n",
       "    </tr>\n",
       "  </tbody>\n",
       "</table>\n",
       "</div>"
      ],
      "text/plain": [
       "               probability\n",
       "bin                       \n",
       "(-0.01, 0.05]     0.012289\n",
       "(0.05, 0.1]       0.010381\n",
       "(0.1, 0.2]        0.023599\n",
       "(0.2, 0.4]        0.072639\n",
       "(0.4, 0.5]        0.057803\n",
       "(0.5, 0.6]        0.203008\n",
       "(0.6, 0.7]        0.218978\n",
       "(0.7, 0.8]        0.324786\n",
       "(0.8, 0.9]        0.450450\n",
       "(0.9, 0.95]       0.555556\n",
       "(0.95, 0.975]     0.693548\n",
       "(0.975, 1.0]      0.911765"
      ]
     },
     "execution_count": 43,
     "metadata": {},
     "output_type": "execute_result"
    }
   ],
   "source": [
    "def calc_proba(model):\n",
    "    # calculating scores for the test data\n",
    "    scores = pd.DataFrame(model.predict_proba(Xtest)).iloc[:,1]\n",
    "    scores = pd.DataFrame([scores.values, ytest.values]).transpose()\n",
    "    scores.columns = ['score', 'top20']\n",
    "\n",
    "    # create 10 evenly spaced bins\n",
    "    scores['bin'] = pd.cut(scores.score, [-0.01, 0.05, 0.1, 0.2, 0.4, 0.5, 0.6, 0.7, 0.8, 0.9, 0.95, 0.975, 1])\n",
    "\n",
    "    # count number of individuals in Top20% and Bottom80% per bin\n",
    "    prob = scores.groupby(['bin', 'top20'], as_index=False)['score'].count()\n",
    "    prob = pd.pivot_table(prob, values='score', index=['bin'], columns=['top20'])\n",
    "\n",
    "    # calculates the probability\n",
    "    prob['probability'] = prob[1.0] / (prob[0.0] + prob[1.0])\n",
    "    return prob['probability']\n",
    "\n",
    "# Calculates the probabilities of belonging to Top20% per range of score based on test data\n",
    "calc_proba(lreg).to_frame()"
   ]
  },
  {
   "cell_type": "markdown",
   "metadata": {
    "_uuid": "1f972b87b07504804cb9658af79e906880498772"
   },
   "source": [
    "# 124 Ways to Increase Your Earnings\n",
    "Our model had a total of 124 features. From their coefficients we may draw some ideas that might help you find your pile of money. Let's first look where the intercept is:"
   ]
  },
  {
   "cell_type": "code",
   "execution_count": 44,
   "metadata": {
    "_kg_hide-input": true,
    "_uuid": "b670fa3f8760f2ff66d8239eb2b0ca3341c4fdbe"
   },
   "outputs": [
    {
     "name": "stdout",
     "output_type": "stream",
     "text": [
      "Our model's intercept is: 0.9131246978775197\n"
     ]
    }
   ],
   "source": [
    "print('Our model\\'s intercept is:', lreg.intercept_[0])"
   ]
  },
  {
   "cell_type": "markdown",
   "metadata": {
    "_uuid": "8a92f5533e2b33b9c0454bf84e301685148e9eeb"
   },
   "source": [
    "This means that everyone starts with 0.913. Then you may add or subtract points from your it, depending of the answers you give to each question.\n",
    "\n",
    "* **Positive Coefficients:** If the coefficient is positive, means that a positive answer increases the chances of belonging to the Top 20%. \n",
    "* **Negative Coefficients:**  If the coefficient is negative, then a positive answer decreases the probability of belonging to the Top 20%.\n",
    "\n",
    "**Takeaway:** Have an attitude towards positiveness. Don't do negative stuff. =D"
   ]
  },
  {
   "cell_type": "code",
   "execution_count": 45,
   "metadata": {
    "_kg_hide-input": true,
    "_kg_hide-output": true,
    "_uuid": "b2ad784d6e33fa2a28f3b76a8d8b816d466b78fe"
   },
   "outputs": [],
   "source": [
    "# treating the questions just to display better names\n",
    "features = pd.DataFrame([Xtrain.columns, lreg.coef_[0]]).transpose()\n",
    "features.columns = ['feature', 'coefficient']\n",
    "features['abs_coefficient'] = features['coefficient'].abs()\n",
    "features['question_number'] = features.feature.str.split('-').str[0]\n",
    "features['answer'] = features.feature.str[3:]\n",
    "features['answer'] = features.answer.apply(lambda x: x[1:] if x[0] == '-' else x)\n",
    "\n",
    "features['question'] = features['question_number'].map(questions)\n",
    "\n",
    "\n",
    "answers_dict = {'age': 'continuous feature',\n",
    "                'top10_country': 'live at one of the top 10 countries',\n",
    "                'top7_job_title': 'has one of the top 7 job titles',\n",
    "               }\n",
    "\n",
    "features['question'] = features['question_number'].map(questions)\n",
    "features = features[['question_number', 'question', 'answer', 'coefficient', 'abs_coefficient']]"
   ]
  },
  {
   "cell_type": "code",
   "execution_count": 46,
   "metadata": {
    "_kg_hide-input": true,
    "_kg_hide-output": true,
    "_uuid": "502de9d9e4dacac8ee29aae6f6d7e1fc84e95dee"
   },
   "outputs": [],
   "source": [
    "# Helper functions for building clean plots\n",
    "def gen_yaxis(title):\n",
    "    \"\"\"\n",
    "    Create y axis\n",
    "    \"\"\"\n",
    "    yaxis=dict(\n",
    "            title=title,\n",
    "            titlefont=dict(\n",
    "                color='#AAAAAA'\n",
    "            ),\n",
    "            showgrid=False,\n",
    "            color='#AAAAAA',\n",
    "            tickfont=dict(\n",
    "            size=12,\n",
    "            color='#444444'\n",
    "        ),\n",
    "            )\n",
    "    return yaxis\n",
    "\n",
    "\n",
    "def gen_layout(charttitle, xtitle, ytitle, annotations=None, lmarg=120, h=400):  \n",
    "    \"\"\"\n",
    "    Create layout\n",
    "    \"\"\"\n",
    "    return go.Layout(title=charttitle, \n",
    "                     height=h, \n",
    "                     width=800,\n",
    "                     showlegend=False,\n",
    "                     xaxis=gen_xaxis(xtitle), \n",
    "                     yaxis=gen_yaxis(ytitle),\n",
    "                     annotations = annotations,\n",
    "                     margin=dict(l=lmarg),\n",
    "                    )\n",
    "\n",
    "def split_string(string, lenght):\n",
    "    \"\"\"\n",
    "    Split a string adding a line break at each \"lenght\" words\n",
    "    \"\"\"\n",
    "    result = ''\n",
    "    idx = 1\n",
    "    for word in string.split(' '):\n",
    "        if idx % lenght == 0:\n",
    "            result = result + '<br>' + ''.join(word)\n",
    "        else:    \n",
    "            result = result + ' ' + ''.join(word)\n",
    "        idx += 1\n",
    "    return result\n",
    "\n",
    "def gen_bars_result(data, color, orient):\n",
    "    \"\"\"\n",
    "    Create bars\n",
    "    \"\"\"\n",
    "    bars = []\n",
    "    for label, label_df in data.groupby(color):\n",
    "        if orient == 'h':\n",
    "            label_df = label_df.sort_values(by='x', ascending=True)\n",
    "        if label == 'a':\n",
    "            label = 'lightgray'\n",
    "        bars.append(go.Bar(x=label_df.x,\n",
    "                           y=label_df.y,\n",
    "                           name=label,\n",
    "                           marker={'color': label},\n",
    "                           orientation = orient,\n",
    "                           text=label_df.x.astype(float).round(3),\n",
    "                           hoverinfo='none',\n",
    "                           textposition='auto',\n",
    "                           textfont=dict(size=12, color= '#444444')\n",
    "                          )\n",
    "                   )\n",
    "    return bars\n",
    "\n",
    "def plot_result (qnumber):\n",
    "    \"\"\"\n",
    "    Plot coefficients for a given question number\n",
    "    \"\"\"\n",
    "    data = features[features.question_number == qnumber]\n",
    "    title = qnumber + '. ' + data.question.values[0]\n",
    "    title = split_string(title, 8)\n",
    "    barplot = data[['answer', 'coefficient']].copy()\n",
    "    barplot.answer = barplot.answer.apply(lambda x: split_string(x, 5))\n",
    "    barplot.columns = ['y', 'x']\n",
    "    bartplot = barplot.sort_values(by='x', ascending=False)\n",
    "    barplot['model_highlight'] = barplot.x > 0\n",
    "    barplot['color'] = barplot.model_highlight.apply(lambda x: 'cornflowerblue' if x else 'a')\n",
    "\n",
    "    layout = gen_layout('<b>{}</b>'.format(title), \n",
    "                        'Model Coefficient', \n",
    "                        '',\n",
    "                        lmarg=300,\n",
    "                        h= 600)\n",
    "\n",
    "    fig = go.Figure(data=gen_bars_result(barplot, 'color', orient='h'), \n",
    "                    layout=layout)\n",
    "    iplot(fig, filename='color-bar')"
   ]
  },
  {
   "cell_type": "code",
   "execution_count": 47,
   "metadata": {
    "_kg_hide-input": true,
    "_uuid": "de555a6bad9769a61fece7c46b2352893aecc1ca"
   },
   "outputs": [
    {
     "data": {
      "application/vnd.plotly.v1+json": {
       "config": {
        "linkText": "Export to plot.ly",
        "plotlyServerURL": "https://plot.ly",
        "showLink": false
       },
       "data": [
        {
         "hoverinfo": "none",
         "marker": {
          "color": "lightgray"
         },
         "name": "lightgray",
         "orientation": "h",
         "text": [
          -0.248
         ],
         "textfont": {
          "color": "#444444",
          "size": 12
         },
         "textposition": "auto",
         "type": "bar",
         "x": [
          -0.2480893335583937
         ],
         "y": [
          " Female"
         ]
        }
       ],
       "layout": {
        "height": 600,
        "margin": {
         "l": 300
        },
        "showlegend": false,
        "template": {
         "data": {
          "scatter": [
           {
            "type": "scatter"
           }
          ]
         }
        },
        "title": {
         "text": "<b> Q1. What is your gender?</b>"
        },
        "width": 800,
        "xaxis": {
         "color": "#AAAAAA",
         "showgrid": false,
         "title": {
          "font": {
           "color": "#AAAAAA"
          },
          "text": "Model Coefficient"
         }
        },
        "yaxis": {
         "color": "#AAAAAA",
         "showgrid": false,
         "tickfont": {
          "color": "#444444",
          "size": 12
         },
         "title": {
          "font": {
           "color": "#AAAAAA"
          },
          "text": ""
         }
        }
       }
      },
      "text/html": [
       "<div>                            <div id=\"d4f97d99-706f-48a6-9f4a-f0607fee97aa\" class=\"plotly-graph-div\" style=\"height:600px; width:800px;\"></div>            <script type=\"text/javascript\">                require([\"plotly\"], function(Plotly) {                    window.PLOTLYENV=window.PLOTLYENV || {};                                    if (document.getElementById(\"d4f97d99-706f-48a6-9f4a-f0607fee97aa\")) {                    Plotly.newPlot(                        \"d4f97d99-706f-48a6-9f4a-f0607fee97aa\",                        [{\"hoverinfo\":\"none\",\"marker\":{\"color\":\"lightgray\"},\"name\":\"lightgray\",\"orientation\":\"h\",\"text\":[-0.248],\"textfont\":{\"color\":\"#444444\",\"size\":12},\"textposition\":\"auto\",\"x\":[-0.2480893335583937],\"y\":[\" Female\"],\"type\":\"bar\"}],                        {\"height\":600,\"margin\":{\"l\":300},\"showlegend\":false,\"template\":{\"data\":{\"scatter\":[{\"type\":\"scatter\"}]}},\"title\":{\"text\":\"<b> Q1. What is your gender?</b>\"},\"width\":800,\"xaxis\":{\"color\":\"#AAAAAA\",\"showgrid\":false,\"title\":{\"font\":{\"color\":\"#AAAAAA\"},\"text\":\"Model Coefficient\"}},\"yaxis\":{\"color\":\"#AAAAAA\",\"showgrid\":false,\"tickfont\":{\"color\":\"#444444\",\"size\":12},\"title\":{\"font\":{\"color\":\"#AAAAAA\"},\"text\":\"\"}}},                        {\"responsive\": true}                    ).then(function(){\n",
       "                            \n",
       "var gd = document.getElementById('d4f97d99-706f-48a6-9f4a-f0607fee97aa');\n",
       "var x = new MutationObserver(function (mutations, observer) {{\n",
       "        var display = window.getComputedStyle(gd).display;\n",
       "        if (!display || display === 'none') {{\n",
       "            console.log([gd, 'removed!']);\n",
       "            Plotly.purge(gd);\n",
       "            observer.disconnect();\n",
       "        }}\n",
       "}});\n",
       "\n",
       "// Listen for the removal of the full notebook cells\n",
       "var notebookContainer = gd.closest('#notebook-container');\n",
       "if (notebookContainer) {{\n",
       "    x.observe(notebookContainer, {childList: true});\n",
       "}}\n",
       "\n",
       "// Listen for the clearing of the current output cell\n",
       "var outputEl = gd.closest('.output');\n",
       "if (outputEl) {{\n",
       "    x.observe(outputEl, {childList: true});\n",
       "}}\n",
       "\n",
       "                        })                };                });            </script>        </div>"
      ]
     },
     "metadata": {},
     "output_type": "display_data"
    }
   ],
   "source": [
    "plot_result('Q1')"
   ]
  },
  {
   "cell_type": "markdown",
   "metadata": {
    "_uuid": "f5fe6b8493f015c7a2cfa37d160bb693fc26cf30"
   },
   "source": [
    "When it comes to gender, being female decreases your chances of earning more. We have already seen that in the EDA, and it'as confirmed by the model we built.\n",
    "\n",
    "---"
   ]
  },
  {
   "cell_type": "code",
   "execution_count": 48,
   "metadata": {
    "_kg_hide-input": true,
    "_uuid": "904d569fef9fa13fd0f14bec934abed6d4062362"
   },
   "outputs": [
    {
     "data": {
      "application/vnd.plotly.v1+json": {
       "config": {
        "linkText": "Export to plot.ly",
        "plotlyServerURL": "https://plot.ly",
        "showLink": false
       },
       "data": [
        {
         "hoverinfo": "none",
         "marker": {
          "color": "lightgray"
         },
         "name": "lightgray",
         "orientation": "h",
         "text": [
          -2.291,
          -2.05,
          -1.723,
          -1.088,
          -0.715,
          -0.3
         ],
         "textfont": {
          "color": "#444444",
          "size": 12
         },
         "textposition": "auto",
         "type": "bar",
         "x": [
          -2.2914054575412286,
          -2.0495700701462263,
          -1.722691720081629,
          -1.0881916658928679,
          -0.7150832555152125,
          -0.30039093254338844
         ],
         "y": [
          " 22-24",
          " 18-21",
          " 25-29",
          " 30-34",
          " 35-39",
          " 40-44"
         ]
        }
       ],
       "layout": {
        "height": 600,
        "margin": {
         "l": 300
        },
        "showlegend": false,
        "template": {
         "data": {
          "scatter": [
           {
            "type": "scatter"
           }
          ]
         }
        },
        "title": {
         "text": "<b> Q2. What is your age (# years)?</b>"
        },
        "width": 800,
        "xaxis": {
         "color": "#AAAAAA",
         "showgrid": false,
         "title": {
          "font": {
           "color": "#AAAAAA"
          },
          "text": "Model Coefficient"
         }
        },
        "yaxis": {
         "color": "#AAAAAA",
         "showgrid": false,
         "tickfont": {
          "color": "#444444",
          "size": 12
         },
         "title": {
          "font": {
           "color": "#AAAAAA"
          },
          "text": ""
         }
        }
       }
      },
      "text/html": [
       "<div>                            <div id=\"74a7f13d-265c-4186-9617-5bf05b2c0636\" class=\"plotly-graph-div\" style=\"height:600px; width:800px;\"></div>            <script type=\"text/javascript\">                require([\"plotly\"], function(Plotly) {                    window.PLOTLYENV=window.PLOTLYENV || {};                                    if (document.getElementById(\"74a7f13d-265c-4186-9617-5bf05b2c0636\")) {                    Plotly.newPlot(                        \"74a7f13d-265c-4186-9617-5bf05b2c0636\",                        [{\"hoverinfo\":\"none\",\"marker\":{\"color\":\"lightgray\"},\"name\":\"lightgray\",\"orientation\":\"h\",\"text\":[-2.291,-2.05,-1.723,-1.088,-0.715,-0.3],\"textfont\":{\"color\":\"#444444\",\"size\":12},\"textposition\":\"auto\",\"x\":[-2.2914054575412286,-2.0495700701462263,-1.722691720081629,-1.0881916658928679,-0.7150832555152125,-0.30039093254338844],\"y\":[\" 22-24\",\" 18-21\",\" 25-29\",\" 30-34\",\" 35-39\",\" 40-44\"],\"type\":\"bar\"}],                        {\"height\":600,\"margin\":{\"l\":300},\"showlegend\":false,\"template\":{\"data\":{\"scatter\":[{\"type\":\"scatter\"}]}},\"title\":{\"text\":\"<b> Q2. What is your age (# years)?</b>\"},\"width\":800,\"xaxis\":{\"color\":\"#AAAAAA\",\"showgrid\":false,\"title\":{\"font\":{\"color\":\"#AAAAAA\"},\"text\":\"Model Coefficient\"}},\"yaxis\":{\"color\":\"#AAAAAA\",\"showgrid\":false,\"tickfont\":{\"color\":\"#444444\",\"size\":12},\"title\":{\"font\":{\"color\":\"#AAAAAA\"},\"text\":\"\"}}},                        {\"responsive\": true}                    ).then(function(){\n",
       "                            \n",
       "var gd = document.getElementById('74a7f13d-265c-4186-9617-5bf05b2c0636');\n",
       "var x = new MutationObserver(function (mutations, observer) {{\n",
       "        var display = window.getComputedStyle(gd).display;\n",
       "        if (!display || display === 'none') {{\n",
       "            console.log([gd, 'removed!']);\n",
       "            Plotly.purge(gd);\n",
       "            observer.disconnect();\n",
       "        }}\n",
       "}});\n",
       "\n",
       "// Listen for the removal of the full notebook cells\n",
       "var notebookContainer = gd.closest('#notebook-container');\n",
       "if (notebookContainer) {{\n",
       "    x.observe(notebookContainer, {childList: true});\n",
       "}}\n",
       "\n",
       "// Listen for the clearing of the current output cell\n",
       "var outputEl = gd.closest('.output');\n",
       "if (outputEl) {{\n",
       "    x.observe(outputEl, {childList: true});\n",
       "}}\n",
       "\n",
       "                        })                };                });            </script>        </div>"
      ]
     },
     "metadata": {},
     "output_type": "display_data"
    }
   ],
   "source": [
    "plot_result('Q2')"
   ]
  },
  {
   "cell_type": "markdown",
   "metadata": {
    "_uuid": "475c80258d6b404aa73ae90129b8d89c1aec5f8e"
   },
   "source": [
    "Be patient. Give time to time. Your chances of belonging to the Top 20% most well paid will increase as you get older. Makes sense, no?\n",
    "\n",
    "*Probably there are more people in the 22-24 years range that are just starting their careers in Data Science, that is why we seee an inversion in age.*\n",
    "\n",
    "---"
   ]
  },
  {
   "cell_type": "code",
   "execution_count": 49,
   "metadata": {
    "_kg_hide-input": true,
    "_uuid": "8501ef4434328fb7114cec8bcd076ae711d0e950"
   },
   "outputs": [
    {
     "data": {
      "application/vnd.plotly.v1+json": {
       "config": {
        "linkText": "Export to plot.ly",
        "plotlyServerURL": "https://plot.ly",
        "showLink": false
       },
       "data": [
        {
         "hoverinfo": "none",
         "marker": {
          "color": "lightgray"
         },
         "name": "lightgray",
         "orientation": "h",
         "text": [
          -0.618,
          -0.076
         ],
         "textfont": {
          "color": "#444444",
          "size": 12
         },
         "textposition": "auto",
         "type": "bar",
         "x": [
          -0.6177625612312659,
          -0.07605259393703702
         ],
         "y": [
          " China",
          " India"
         ]
        },
        {
         "hoverinfo": "none",
         "marker": {
          "color": "cornflowerblue"
         },
         "name": "cornflowerblue",
         "orientation": "h",
         "text": [
          2.495
         ],
         "textfont": {
          "color": "#444444",
          "size": 12
         },
         "textposition": "auto",
         "type": "bar",
         "x": [
          2.4947294738295813
         ],
         "y": [
          " United States of America"
         ]
        }
       ],
       "layout": {
        "height": 600,
        "margin": {
         "l": 300
        },
        "showlegend": false,
        "template": {
         "data": {
          "scatter": [
           {
            "type": "scatter"
           }
          ]
         }
        },
        "title": {
         "text": "<b> Q3. In which country do you currently<br>reside?</b>"
        },
        "width": 800,
        "xaxis": {
         "color": "#AAAAAA",
         "showgrid": false,
         "title": {
          "font": {
           "color": "#AAAAAA"
          },
          "text": "Model Coefficient"
         }
        },
        "yaxis": {
         "color": "#AAAAAA",
         "showgrid": false,
         "tickfont": {
          "color": "#444444",
          "size": 12
         },
         "title": {
          "font": {
           "color": "#AAAAAA"
          },
          "text": ""
         }
        }
       }
      },
      "text/html": [
       "<div>                            <div id=\"03b7f7b9-fd04-4e86-9a1b-0bd08f03c821\" class=\"plotly-graph-div\" style=\"height:600px; width:800px;\"></div>            <script type=\"text/javascript\">                require([\"plotly\"], function(Plotly) {                    window.PLOTLYENV=window.PLOTLYENV || {};                                    if (document.getElementById(\"03b7f7b9-fd04-4e86-9a1b-0bd08f03c821\")) {                    Plotly.newPlot(                        \"03b7f7b9-fd04-4e86-9a1b-0bd08f03c821\",                        [{\"hoverinfo\":\"none\",\"marker\":{\"color\":\"lightgray\"},\"name\":\"lightgray\",\"orientation\":\"h\",\"text\":[-0.618,-0.076],\"textfont\":{\"color\":\"#444444\",\"size\":12},\"textposition\":\"auto\",\"x\":[-0.6177625612312659,-0.07605259393703702],\"y\":[\" China\",\" India\"],\"type\":\"bar\"},{\"hoverinfo\":\"none\",\"marker\":{\"color\":\"cornflowerblue\"},\"name\":\"cornflowerblue\",\"orientation\":\"h\",\"text\":[2.495],\"textfont\":{\"color\":\"#444444\",\"size\":12},\"textposition\":\"auto\",\"x\":[2.4947294738295813],\"y\":[\" United States of America\"],\"type\":\"bar\"}],                        {\"height\":600,\"margin\":{\"l\":300},\"showlegend\":false,\"template\":{\"data\":{\"scatter\":[{\"type\":\"scatter\"}]}},\"title\":{\"text\":\"<b> Q3. In which country do you currently<br>reside?</b>\"},\"width\":800,\"xaxis\":{\"color\":\"#AAAAAA\",\"showgrid\":false,\"title\":{\"font\":{\"color\":\"#AAAAAA\"},\"text\":\"Model Coefficient\"}},\"yaxis\":{\"color\":\"#AAAAAA\",\"showgrid\":false,\"tickfont\":{\"color\":\"#444444\",\"size\":12},\"title\":{\"font\":{\"color\":\"#AAAAAA\"},\"text\":\"\"}}},                        {\"responsive\": true}                    ).then(function(){\n",
       "                            \n",
       "var gd = document.getElementById('03b7f7b9-fd04-4e86-9a1b-0bd08f03c821');\n",
       "var x = new MutationObserver(function (mutations, observer) {{\n",
       "        var display = window.getComputedStyle(gd).display;\n",
       "        if (!display || display === 'none') {{\n",
       "            console.log([gd, 'removed!']);\n",
       "            Plotly.purge(gd);\n",
       "            observer.disconnect();\n",
       "        }}\n",
       "}});\n",
       "\n",
       "// Listen for the removal of the full notebook cells\n",
       "var notebookContainer = gd.closest('#notebook-container');\n",
       "if (notebookContainer) {{\n",
       "    x.observe(notebookContainer, {childList: true});\n",
       "}}\n",
       "\n",
       "// Listen for the clearing of the current output cell\n",
       "var outputEl = gd.closest('.output');\n",
       "if (outputEl) {{\n",
       "    x.observe(outputEl, {childList: true});\n",
       "}}\n",
       "\n",
       "                        })                };                });            </script>        </div>"
      ]
     },
     "metadata": {},
     "output_type": "display_data"
    }
   ],
   "source": [
    "plot_result('Q3')"
   ]
  },
  {
   "cell_type": "markdown",
   "metadata": {
    "_uuid": "829ad6c558651024aa7f4a19fa843adc528c47a0"
   },
   "source": [
    "If you reside in the United States, your chance of earning more is increased. By living in China or India, you are probably earning less.\n",
    "\n",
    "---"
   ]
  },
  {
   "cell_type": "code",
   "execution_count": 50,
   "metadata": {
    "_kg_hide-input": true,
    "_uuid": "59fba22ab4263315d78981c1f8c472b295adf027"
   },
   "outputs": [
    {
     "data": {
      "application/vnd.plotly.v1+json": {
       "config": {
        "linkText": "Export to plot.ly",
        "plotlyServerURL": "https://plot.ly",
        "showLink": false
       },
       "data": [
        {
         "hoverinfo": "none",
         "marker": {
          "color": "lightgray"
         },
         "name": "lightgray",
         "orientation": "h",
         "text": [
          -0.06
         ],
         "textfont": {
          "color": "#444444",
          "size": 12
         },
         "textposition": "auto",
         "type": "bar",
         "x": [
          -0.05999933108394201
         ],
         "y": [
          " Bachelor’s degree"
         ]
        },
        {
         "hoverinfo": "none",
         "marker": {
          "color": "cornflowerblue"
         },
         "name": "cornflowerblue",
         "orientation": "h",
         "text": [
          0.035
         ],
         "textfont": {
          "color": "#444444",
          "size": 12
         },
         "textposition": "auto",
         "type": "bar",
         "x": [
          0.03508494111051565
         ],
         "y": [
          " Doctoral degree"
         ]
        }
       ],
       "layout": {
        "height": 600,
        "margin": {
         "l": 300
        },
        "showlegend": false,
        "template": {
         "data": {
          "scatter": [
           {
            "type": "scatter"
           }
          ]
         }
        },
        "title": {
         "text": "<b> Q4. What is the highest level of<br>formal education that you have attained or plan<br>to attain within the next 2 years?</b>"
        },
        "width": 800,
        "xaxis": {
         "color": "#AAAAAA",
         "showgrid": false,
         "title": {
          "font": {
           "color": "#AAAAAA"
          },
          "text": "Model Coefficient"
         }
        },
        "yaxis": {
         "color": "#AAAAAA",
         "showgrid": false,
         "tickfont": {
          "color": "#444444",
          "size": 12
         },
         "title": {
          "font": {
           "color": "#AAAAAA"
          },
          "text": ""
         }
        }
       }
      },
      "text/html": [
       "<div>                            <div id=\"43571e7d-53bc-4223-a42b-03b35ae3af1e\" class=\"plotly-graph-div\" style=\"height:600px; width:800px;\"></div>            <script type=\"text/javascript\">                require([\"plotly\"], function(Plotly) {                    window.PLOTLYENV=window.PLOTLYENV || {};                                    if (document.getElementById(\"43571e7d-53bc-4223-a42b-03b35ae3af1e\")) {                    Plotly.newPlot(                        \"43571e7d-53bc-4223-a42b-03b35ae3af1e\",                        [{\"hoverinfo\":\"none\",\"marker\":{\"color\":\"lightgray\"},\"name\":\"lightgray\",\"orientation\":\"h\",\"text\":[-0.06],\"textfont\":{\"color\":\"#444444\",\"size\":12},\"textposition\":\"auto\",\"x\":[-0.05999933108394201],\"y\":[\" Bachelor\\u2019s degree\"],\"type\":\"bar\"},{\"hoverinfo\":\"none\",\"marker\":{\"color\":\"cornflowerblue\"},\"name\":\"cornflowerblue\",\"orientation\":\"h\",\"text\":[0.035],\"textfont\":{\"color\":\"#444444\",\"size\":12},\"textposition\":\"auto\",\"x\":[0.03508494111051565],\"y\":[\" Doctoral degree\"],\"type\":\"bar\"}],                        {\"height\":600,\"margin\":{\"l\":300},\"showlegend\":false,\"template\":{\"data\":{\"scatter\":[{\"type\":\"scatter\"}]}},\"title\":{\"text\":\"<b> Q4. What is the highest level of<br>formal education that you have attained or plan<br>to attain within the next 2 years?</b>\"},\"width\":800,\"xaxis\":{\"color\":\"#AAAAAA\",\"showgrid\":false,\"title\":{\"font\":{\"color\":\"#AAAAAA\"},\"text\":\"Model Coefficient\"}},\"yaxis\":{\"color\":\"#AAAAAA\",\"showgrid\":false,\"tickfont\":{\"color\":\"#444444\",\"size\":12},\"title\":{\"font\":{\"color\":\"#AAAAAA\"},\"text\":\"\"}}},                        {\"responsive\": true}                    ).then(function(){\n",
       "                            \n",
       "var gd = document.getElementById('43571e7d-53bc-4223-a42b-03b35ae3af1e');\n",
       "var x = new MutationObserver(function (mutations, observer) {{\n",
       "        var display = window.getComputedStyle(gd).display;\n",
       "        if (!display || display === 'none') {{\n",
       "            console.log([gd, 'removed!']);\n",
       "            Plotly.purge(gd);\n",
       "            observer.disconnect();\n",
       "        }}\n",
       "}});\n",
       "\n",
       "// Listen for the removal of the full notebook cells\n",
       "var notebookContainer = gd.closest('#notebook-container');\n",
       "if (notebookContainer) {{\n",
       "    x.observe(notebookContainer, {childList: true});\n",
       "}}\n",
       "\n",
       "// Listen for the clearing of the current output cell\n",
       "var outputEl = gd.closest('.output');\n",
       "if (outputEl) {{\n",
       "    x.observe(outputEl, {childList: true});\n",
       "}}\n",
       "\n",
       "                        })                };                });            </script>        </div>"
      ]
     },
     "metadata": {},
     "output_type": "display_data"
    }
   ],
   "source": [
    "plot_result('Q4')"
   ]
  },
  {
   "cell_type": "markdown",
   "metadata": {
    "_uuid": "3b570316909dc935d90d2341db1ca5dfbea11122"
   },
   "source": [
    "If you want to earn more, a good idea is to do a Doctoral Degree. But don't be to strict on this rule, remember from EDA that *\"no college at all\"* also pays well?\n",
    "\n",
    "---"
   ]
  },
  {
   "cell_type": "code",
   "execution_count": 51,
   "metadata": {
    "_kg_hide-input": true,
    "_uuid": "69c1595427873e5ba6b27fab5e715262cf0dcaee"
   },
   "outputs": [
    {
     "data": {
      "application/vnd.plotly.v1+json": {
       "config": {
        "linkText": "Export to plot.ly",
        "plotlyServerURL": "https://plot.ly",
        "showLink": false
       },
       "data": [
        {
         "hoverinfo": "none",
         "marker": {
          "color": "lightgray"
         },
         "name": "lightgray",
         "orientation": "h",
         "text": [
          -1.288,
          -0.732,
          -0.158,
          -0.122
         ],
         "textfont": {
          "color": "#444444",
          "size": 12
         },
         "textposition": "auto",
         "type": "bar",
         "x": [
          -1.288254719789087,
          -0.731830521491337,
          -0.15808430762719367,
          -0.12238593986444497
         ],
         "y": [
          " Student",
          " Data Analyst",
          " Research Scientist",
          " Data Scientist"
         ]
        },
        {
         "hoverinfo": "none",
         "marker": {
          "color": "cornflowerblue"
         },
         "name": "cornflowerblue",
         "orientation": "h",
         "text": [
          0.047,
          0.166
         ],
         "textfont": {
          "color": "#444444",
          "size": 12
         },
         "textposition": "auto",
         "type": "bar",
         "x": [
          0.047065255090065726,
          0.16639339217005308
         ],
         "y": [
          " Other",
          " Software Engineer"
         ]
        }
       ],
       "layout": {
        "height": 600,
        "margin": {
         "l": 300
        },
        "showlegend": false,
        "template": {
         "data": {
          "scatter": [
           {
            "type": "scatter"
           }
          ]
         }
        },
        "title": {
         "text": "<b> Q6. Select the title most similar to<br>your current role (or most recent title if<br>retired)</b>"
        },
        "width": 800,
        "xaxis": {
         "color": "#AAAAAA",
         "showgrid": false,
         "title": {
          "font": {
           "color": "#AAAAAA"
          },
          "text": "Model Coefficient"
         }
        },
        "yaxis": {
         "color": "#AAAAAA",
         "showgrid": false,
         "tickfont": {
          "color": "#444444",
          "size": 12
         },
         "title": {
          "font": {
           "color": "#AAAAAA"
          },
          "text": ""
         }
        }
       }
      },
      "text/html": [
       "<div>                            <div id=\"00a7bcb7-2ae5-4082-9a98-6a133e184de3\" class=\"plotly-graph-div\" style=\"height:600px; width:800px;\"></div>            <script type=\"text/javascript\">                require([\"plotly\"], function(Plotly) {                    window.PLOTLYENV=window.PLOTLYENV || {};                                    if (document.getElementById(\"00a7bcb7-2ae5-4082-9a98-6a133e184de3\")) {                    Plotly.newPlot(                        \"00a7bcb7-2ae5-4082-9a98-6a133e184de3\",                        [{\"hoverinfo\":\"none\",\"marker\":{\"color\":\"lightgray\"},\"name\":\"lightgray\",\"orientation\":\"h\",\"text\":[-1.288,-0.732,-0.158,-0.122],\"textfont\":{\"color\":\"#444444\",\"size\":12},\"textposition\":\"auto\",\"x\":[-1.288254719789087,-0.731830521491337,-0.15808430762719367,-0.12238593986444497],\"y\":[\" Student\",\" Data Analyst\",\" Research Scientist\",\" Data Scientist\"],\"type\":\"bar\"},{\"hoverinfo\":\"none\",\"marker\":{\"color\":\"cornflowerblue\"},\"name\":\"cornflowerblue\",\"orientation\":\"h\",\"text\":[0.047,0.166],\"textfont\":{\"color\":\"#444444\",\"size\":12},\"textposition\":\"auto\",\"x\":[0.047065255090065726,0.16639339217005308],\"y\":[\" Other\",\" Software Engineer\"],\"type\":\"bar\"}],                        {\"height\":600,\"margin\":{\"l\":300},\"showlegend\":false,\"template\":{\"data\":{\"scatter\":[{\"type\":\"scatter\"}]}},\"title\":{\"text\":\"<b> Q6. Select the title most similar to<br>your current role (or most recent title if<br>retired)</b>\"},\"width\":800,\"xaxis\":{\"color\":\"#AAAAAA\",\"showgrid\":false,\"title\":{\"font\":{\"color\":\"#AAAAAA\"},\"text\":\"Model Coefficient\"}},\"yaxis\":{\"color\":\"#AAAAAA\",\"showgrid\":false,\"tickfont\":{\"color\":\"#444444\",\"size\":12},\"title\":{\"font\":{\"color\":\"#AAAAAA\"},\"text\":\"\"}}},                        {\"responsive\": true}                    ).then(function(){\n",
       "                            \n",
       "var gd = document.getElementById('00a7bcb7-2ae5-4082-9a98-6a133e184de3');\n",
       "var x = new MutationObserver(function (mutations, observer) {{\n",
       "        var display = window.getComputedStyle(gd).display;\n",
       "        if (!display || display === 'none') {{\n",
       "            console.log([gd, 'removed!']);\n",
       "            Plotly.purge(gd);\n",
       "            observer.disconnect();\n",
       "        }}\n",
       "}});\n",
       "\n",
       "// Listen for the removal of the full notebook cells\n",
       "var notebookContainer = gd.closest('#notebook-container');\n",
       "if (notebookContainer) {{\n",
       "    x.observe(notebookContainer, {childList: true});\n",
       "}}\n",
       "\n",
       "// Listen for the clearing of the current output cell\n",
       "var outputEl = gd.closest('.output');\n",
       "if (outputEl) {{\n",
       "    x.observe(outputEl, {childList: true});\n",
       "}}\n",
       "\n",
       "                        })                };                });            </script>        </div>"
      ]
     },
     "metadata": {},
     "output_type": "display_data"
    }
   ],
   "source": [
    "plot_result('Q6')"
   ]
  },
  {
   "cell_type": "markdown",
   "metadata": {
    "_uuid": "917ef555e5fcbe4910906e1e0657136d1e64bf5b"
   },
   "source": [
    " Being a student might be a source of frustration and lower salaries. Get out and get a job! Start as a data analyst, then focus on becoming a Data Scientist. But you see that software engineers earn more. \n",
    " \n",
    " Why not be a [Type B data scientist](https://medium.com/@jamesdensmore/there-are-two-types-of-data-scientists-and-two-types-of-problems-to-solve-a149a0148e64) and deploy models into production? To achieve that you have to develop your software engineering skills as well.\n",
    "\n",
    "---"
   ]
  },
  {
   "cell_type": "code",
   "execution_count": 52,
   "metadata": {
    "_kg_hide-input": true,
    "_uuid": "b12b91b9e13549797636c67fa69ea0c61f4bd0ac"
   },
   "outputs": [
    {
     "data": {
      "application/vnd.plotly.v1+json": {
       "config": {
        "linkText": "Export to plot.ly",
        "plotlyServerURL": "https://plot.ly",
        "showLink": false
       },
       "data": [
        {
         "hoverinfo": "none",
         "marker": {
          "color": "lightgray"
         },
         "name": "lightgray",
         "orientation": "h",
         "text": [
          -1.023
         ],
         "textfont": {
          "color": "#444444",
          "size": 12
         },
         "textposition": "auto",
         "type": "bar",
         "x": [
          -1.0227336553431663
         ],
         "y": [
          " Academics/Education"
         ]
        },
        {
         "hoverinfo": "none",
         "marker": {
          "color": "cornflowerblue"
         },
         "name": "cornflowerblue",
         "orientation": "h",
         "text": [
          0.227,
          0.452,
          0.477
         ],
         "textfont": {
          "color": "#444444",
          "size": 12
         },
         "textposition": "auto",
         "type": "bar",
         "x": [
          0.22712533682051,
          0.45162675648377615,
          0.4768609827553804
         ],
         "y": [
          " Computers/Technology",
          " Accounting/Finance",
          " Other"
         ]
        }
       ],
       "layout": {
        "height": 600,
        "margin": {
         "l": 300
        },
        "showlegend": false,
        "template": {
         "data": {
          "scatter": [
           {
            "type": "scatter"
           }
          ]
         }
        },
        "title": {
         "text": "<b> Q7. In what industry is your current<br>employer/contract (or your most recent employer if retired)?</b>"
        },
        "width": 800,
        "xaxis": {
         "color": "#AAAAAA",
         "showgrid": false,
         "title": {
          "font": {
           "color": "#AAAAAA"
          },
          "text": "Model Coefficient"
         }
        },
        "yaxis": {
         "color": "#AAAAAA",
         "showgrid": false,
         "tickfont": {
          "color": "#444444",
          "size": 12
         },
         "title": {
          "font": {
           "color": "#AAAAAA"
          },
          "text": ""
         }
        }
       }
      },
      "text/html": [
       "<div>                            <div id=\"ca2f643a-0f29-4d68-a7c1-d8e69973853c\" class=\"plotly-graph-div\" style=\"height:600px; width:800px;\"></div>            <script type=\"text/javascript\">                require([\"plotly\"], function(Plotly) {                    window.PLOTLYENV=window.PLOTLYENV || {};                                    if (document.getElementById(\"ca2f643a-0f29-4d68-a7c1-d8e69973853c\")) {                    Plotly.newPlot(                        \"ca2f643a-0f29-4d68-a7c1-d8e69973853c\",                        [{\"hoverinfo\":\"none\",\"marker\":{\"color\":\"lightgray\"},\"name\":\"lightgray\",\"orientation\":\"h\",\"text\":[-1.023],\"textfont\":{\"color\":\"#444444\",\"size\":12},\"textposition\":\"auto\",\"x\":[-1.0227336553431663],\"y\":[\" Academics/Education\"],\"type\":\"bar\"},{\"hoverinfo\":\"none\",\"marker\":{\"color\":\"cornflowerblue\"},\"name\":\"cornflowerblue\",\"orientation\":\"h\",\"text\":[0.227,0.452,0.477],\"textfont\":{\"color\":\"#444444\",\"size\":12},\"textposition\":\"auto\",\"x\":[0.22712533682051,0.45162675648377615,0.4768609827553804],\"y\":[\" Computers/Technology\",\" Accounting/Finance\",\" Other\"],\"type\":\"bar\"}],                        {\"height\":600,\"margin\":{\"l\":300},\"showlegend\":false,\"template\":{\"data\":{\"scatter\":[{\"type\":\"scatter\"}]}},\"title\":{\"text\":\"<b> Q7. In what industry is your current<br>employer/contract (or your most recent employer if retired)?</b>\"},\"width\":800,\"xaxis\":{\"color\":\"#AAAAAA\",\"showgrid\":false,\"title\":{\"font\":{\"color\":\"#AAAAAA\"},\"text\":\"Model Coefficient\"}},\"yaxis\":{\"color\":\"#AAAAAA\",\"showgrid\":false,\"tickfont\":{\"color\":\"#444444\",\"size\":12},\"title\":{\"font\":{\"color\":\"#AAAAAA\"},\"text\":\"\"}}},                        {\"responsive\": true}                    ).then(function(){\n",
       "                            \n",
       "var gd = document.getElementById('ca2f643a-0f29-4d68-a7c1-d8e69973853c');\n",
       "var x = new MutationObserver(function (mutations, observer) {{\n",
       "        var display = window.getComputedStyle(gd).display;\n",
       "        if (!display || display === 'none') {{\n",
       "            console.log([gd, 'removed!']);\n",
       "            Plotly.purge(gd);\n",
       "            observer.disconnect();\n",
       "        }}\n",
       "}});\n",
       "\n",
       "// Listen for the removal of the full notebook cells\n",
       "var notebookContainer = gd.closest('#notebook-container');\n",
       "if (notebookContainer) {{\n",
       "    x.observe(notebookContainer, {childList: true});\n",
       "}}\n",
       "\n",
       "// Listen for the clearing of the current output cell\n",
       "var outputEl = gd.closest('.output');\n",
       "if (outputEl) {{\n",
       "    x.observe(outputEl, {childList: true});\n",
       "}}\n",
       "\n",
       "                        })                };                });            </script>        </div>"
      ]
     },
     "metadata": {},
     "output_type": "display_data"
    }
   ],
   "source": [
    "plot_result('Q7')"
   ]
  },
  {
   "cell_type": "markdown",
   "metadata": {
    "_uuid": "3639ff362a78b630296347b630f0f7075ebb7671"
   },
   "source": [
    "If you want to get rich, run from Academics/Education. In the complete study EDA you'll see that Academics/Education has the lowest average compensation compared to other industries, and this is confirmed by the model's coefficient. I feel bad that one of the most important areas for the future of data science is the one that has the lowest salaries. If you want to earn more, then working at the computers/technology, accounting/finance or other industries might increase your likelihood of belonging to the Top 20% most well paid.\n",
    "\n",
    "---"
   ]
  },
  {
   "cell_type": "code",
   "execution_count": 53,
   "metadata": {
    "_kg_hide-input": true,
    "_uuid": "170974a8b9134f03d1c5683cc59758a76bb1de9f"
   },
   "outputs": [
    {
     "data": {
      "application/vnd.plotly.v1+json": {
       "config": {
        "linkText": "Export to plot.ly",
        "plotlyServerURL": "https://plot.ly",
        "showLink": false
       },
       "data": [
        {
         "hoverinfo": "none",
         "marker": {
          "color": "lightgray"
         },
         "name": "lightgray",
         "orientation": "h",
         "text": [
          -1.117,
          -1.052,
          -0.9,
          -0.816,
          -0.598,
          -0.596,
          -0.356
         ],
         "textfont": {
          "color": "#444444",
          "size": 12
         },
         "textposition": "auto",
         "type": "bar",
         "x": [
          -1.1174898905920232,
          -1.0520017218107578,
          -0.8999098277601016,
          -0.8164213894096908,
          -0.597669479498103,
          -0.5961554386653694,
          -0.35623872526346395
         ],
         "y": [
          " 0-1",
          " 1-2",
          " 3-4",
          " 2-3",
          " 5-10",
          " 4-5",
          " 10-15"
         ]
        }
       ],
       "layout": {
        "height": 600,
        "margin": {
         "l": 300
        },
        "showlegend": false,
        "template": {
         "data": {
          "scatter": [
           {
            "type": "scatter"
           }
          ]
         }
        },
        "title": {
         "text": "<b> Q8. How many years of experience do<br>you have in your current role?</b>"
        },
        "width": 800,
        "xaxis": {
         "color": "#AAAAAA",
         "showgrid": false,
         "title": {
          "font": {
           "color": "#AAAAAA"
          },
          "text": "Model Coefficient"
         }
        },
        "yaxis": {
         "color": "#AAAAAA",
         "showgrid": false,
         "tickfont": {
          "color": "#444444",
          "size": 12
         },
         "title": {
          "font": {
           "color": "#AAAAAA"
          },
          "text": ""
         }
        }
       }
      },
      "text/html": [
       "<div>                            <div id=\"1f1364ab-6881-4033-8a50-c18a2a752132\" class=\"plotly-graph-div\" style=\"height:600px; width:800px;\"></div>            <script type=\"text/javascript\">                require([\"plotly\"], function(Plotly) {                    window.PLOTLYENV=window.PLOTLYENV || {};                                    if (document.getElementById(\"1f1364ab-6881-4033-8a50-c18a2a752132\")) {                    Plotly.newPlot(                        \"1f1364ab-6881-4033-8a50-c18a2a752132\",                        [{\"hoverinfo\":\"none\",\"marker\":{\"color\":\"lightgray\"},\"name\":\"lightgray\",\"orientation\":\"h\",\"text\":[-1.117,-1.052,-0.9,-0.816,-0.598,-0.596,-0.356],\"textfont\":{\"color\":\"#444444\",\"size\":12},\"textposition\":\"auto\",\"x\":[-1.1174898905920232,-1.0520017218107578,-0.8999098277601016,-0.8164213894096908,-0.597669479498103,-0.5961554386653694,-0.35623872526346395],\"y\":[\" 0-1\",\" 1-2\",\" 3-4\",\" 2-3\",\" 5-10\",\" 4-5\",\" 10-15\"],\"type\":\"bar\"}],                        {\"height\":600,\"margin\":{\"l\":300},\"showlegend\":false,\"template\":{\"data\":{\"scatter\":[{\"type\":\"scatter\"}]}},\"title\":{\"text\":\"<b> Q8. How many years of experience do<br>you have in your current role?</b>\"},\"width\":800,\"xaxis\":{\"color\":\"#AAAAAA\",\"showgrid\":false,\"title\":{\"font\":{\"color\":\"#AAAAAA\"},\"text\":\"Model Coefficient\"}},\"yaxis\":{\"color\":\"#AAAAAA\",\"showgrid\":false,\"tickfont\":{\"color\":\"#444444\",\"size\":12},\"title\":{\"font\":{\"color\":\"#AAAAAA\"},\"text\":\"\"}}},                        {\"responsive\": true}                    ).then(function(){\n",
       "                            \n",
       "var gd = document.getElementById('1f1364ab-6881-4033-8a50-c18a2a752132');\n",
       "var x = new MutationObserver(function (mutations, observer) {{\n",
       "        var display = window.getComputedStyle(gd).display;\n",
       "        if (!display || display === 'none') {{\n",
       "            console.log([gd, 'removed!']);\n",
       "            Plotly.purge(gd);\n",
       "            observer.disconnect();\n",
       "        }}\n",
       "}});\n",
       "\n",
       "// Listen for the removal of the full notebook cells\n",
       "var notebookContainer = gd.closest('#notebook-container');\n",
       "if (notebookContainer) {{\n",
       "    x.observe(notebookContainer, {childList: true});\n",
       "}}\n",
       "\n",
       "// Listen for the clearing of the current output cell\n",
       "var outputEl = gd.closest('.output');\n",
       "if (outputEl) {{\n",
       "    x.observe(outputEl, {childList: true});\n",
       "}}\n",
       "\n",
       "                        })                };                });            </script>        </div>"
      ]
     },
     "metadata": {},
     "output_type": "display_data"
    }
   ],
   "source": [
    "plot_result('Q8')"
   ]
  },
  {
   "cell_type": "markdown",
   "metadata": {
    "_uuid": "3a41987078c44f0782c0e57b9315a008390620e0"
   },
   "source": [
    "Be realistic, you won't be in the Top 20% with just 1 or 2 years of experience.\n",
    "\n",
    "---"
   ]
  },
  {
   "cell_type": "code",
   "execution_count": 54,
   "metadata": {
    "_kg_hide-input": true,
    "_uuid": "e529bc74aaa47720472f0e62cd57ae2d9851c29e"
   },
   "outputs": [
    {
     "data": {
      "application/vnd.plotly.v1+json": {
       "config": {
        "linkText": "Export to plot.ly",
        "plotlyServerURL": "https://plot.ly",
        "showLink": false
       },
       "data": [
        {
         "hoverinfo": "none",
         "marker": {
          "color": "lightgray"
         },
         "name": "lightgray",
         "orientation": "h",
         "text": [
          -0.3,
          -0.293
         ],
         "textfont": {
          "color": "#444444",
          "size": 12
         },
         "textposition": "auto",
         "type": "bar",
         "x": [
          -0.2998501090044652,
          -0.29277352258676564
         ],
         "y": [
          " I do not know",
          " No (we do not<br>use ML methods)"
         ]
        },
        {
         "hoverinfo": "none",
         "marker": {
          "color": "cornflowerblue"
         },
         "name": "cornflowerblue",
         "orientation": "h",
         "text": [
          0.273,
          0.291,
          0.412,
          0.807
         ],
         "textfont": {
          "color": "#444444",
          "size": 12
         },
         "textposition": "auto",
         "type": "bar",
         "x": [
          0.27262437823262686,
          0.2907497930551035,
          0.41247987229541067,
          0.8072375978487483
         ],
         "y": [
          " We are exploring ML<br>methods (and may one day<br>put a model into production)",
          " We use ML methods<br>for generating insights (but do<br>not put working models into<br>production)",
          " We recently started using<br>ML methods (i.e., models in<br>production for less than 2<br>years)",
          " We have well established<br>ML methods (i.e., models in<br>production for more than 2<br>years)"
         ]
        }
       ],
       "layout": {
        "height": 600,
        "margin": {
         "l": 300
        },
        "showlegend": false,
        "template": {
         "data": {
          "scatter": [
           {
            "type": "scatter"
           }
          ]
         }
        },
        "title": {
         "text": "<b> Q10. Does your current employer incorporate machine<br>learning methods into their business?</b>"
        },
        "width": 800,
        "xaxis": {
         "color": "#AAAAAA",
         "showgrid": false,
         "title": {
          "font": {
           "color": "#AAAAAA"
          },
          "text": "Model Coefficient"
         }
        },
        "yaxis": {
         "color": "#AAAAAA",
         "showgrid": false,
         "tickfont": {
          "color": "#444444",
          "size": 12
         },
         "title": {
          "font": {
           "color": "#AAAAAA"
          },
          "text": ""
         }
        }
       }
      },
      "text/html": [
       "<div>                            <div id=\"4487187f-4a46-4501-ad18-958cc582b4de\" class=\"plotly-graph-div\" style=\"height:600px; width:800px;\"></div>            <script type=\"text/javascript\">                require([\"plotly\"], function(Plotly) {                    window.PLOTLYENV=window.PLOTLYENV || {};                                    if (document.getElementById(\"4487187f-4a46-4501-ad18-958cc582b4de\")) {                    Plotly.newPlot(                        \"4487187f-4a46-4501-ad18-958cc582b4de\",                        [{\"hoverinfo\":\"none\",\"marker\":{\"color\":\"lightgray\"},\"name\":\"lightgray\",\"orientation\":\"h\",\"text\":[-0.3,-0.293],\"textfont\":{\"color\":\"#444444\",\"size\":12},\"textposition\":\"auto\",\"x\":[-0.2998501090044652,-0.29277352258676564],\"y\":[\" I do not know\",\" No (we do not<br>use ML methods)\"],\"type\":\"bar\"},{\"hoverinfo\":\"none\",\"marker\":{\"color\":\"cornflowerblue\"},\"name\":\"cornflowerblue\",\"orientation\":\"h\",\"text\":[0.273,0.291,0.412,0.807],\"textfont\":{\"color\":\"#444444\",\"size\":12},\"textposition\":\"auto\",\"x\":[0.27262437823262686,0.2907497930551035,0.41247987229541067,0.8072375978487483],\"y\":[\" We are exploring ML<br>methods (and may one day<br>put a model into production)\",\" We use ML methods<br>for generating insights (but do<br>not put working models into<br>production)\",\" We recently started using<br>ML methods (i.e., models in<br>production for less than 2<br>years)\",\" We have well established<br>ML methods (i.e., models in<br>production for more than 2<br>years)\"],\"type\":\"bar\"}],                        {\"height\":600,\"margin\":{\"l\":300},\"showlegend\":false,\"template\":{\"data\":{\"scatter\":[{\"type\":\"scatter\"}]}},\"title\":{\"text\":\"<b> Q10. Does your current employer incorporate machine<br>learning methods into their business?</b>\"},\"width\":800,\"xaxis\":{\"color\":\"#AAAAAA\",\"showgrid\":false,\"title\":{\"font\":{\"color\":\"#AAAAAA\"},\"text\":\"Model Coefficient\"}},\"yaxis\":{\"color\":\"#AAAAAA\",\"showgrid\":false,\"tickfont\":{\"color\":\"#444444\",\"size\":12},\"title\":{\"font\":{\"color\":\"#AAAAAA\"},\"text\":\"\"}}},                        {\"responsive\": true}                    ).then(function(){\n",
       "                            \n",
       "var gd = document.getElementById('4487187f-4a46-4501-ad18-958cc582b4de');\n",
       "var x = new MutationObserver(function (mutations, observer) {{\n",
       "        var display = window.getComputedStyle(gd).display;\n",
       "        if (!display || display === 'none') {{\n",
       "            console.log([gd, 'removed!']);\n",
       "            Plotly.purge(gd);\n",
       "            observer.disconnect();\n",
       "        }}\n",
       "}});\n",
       "\n",
       "// Listen for the removal of the full notebook cells\n",
       "var notebookContainer = gd.closest('#notebook-container');\n",
       "if (notebookContainer) {{\n",
       "    x.observe(notebookContainer, {childList: true});\n",
       "}}\n",
       "\n",
       "// Listen for the clearing of the current output cell\n",
       "var outputEl = gd.closest('.output');\n",
       "if (outputEl) {{\n",
       "    x.observe(outputEl, {childList: true});\n",
       "}}\n",
       "\n",
       "                        })                };                });            </script>        </div>"
      ]
     },
     "metadata": {},
     "output_type": "display_data"
    }
   ],
   "source": [
    "plot_result('Q10')"
   ]
  },
  {
   "cell_type": "markdown",
   "metadata": {
    "_uuid": "b0943480b786dcd99d24d9039131f05b70916f8a"
   },
   "source": [
    "Working for a company that has well stablished ML models in production for more than 2 years is the dream for those who want to increase their earnings. Notice that there is a natural order to the levels of ML adoption, those who work for companies that are more experienced in ML tend to have higher compensation.  If your company does not use ML methods at all, then you are in the wrong place. Consider finding a new job.\n",
    "\n",
    "---"
   ]
  },
  {
   "cell_type": "code",
   "execution_count": 55,
   "metadata": {
    "_kg_hide-input": true,
    "_uuid": "72912ab26214bbd0d90583ea553bf07bfbc4b866"
   },
   "outputs": [
    {
     "data": {
      "application/vnd.plotly.v1+json": {
       "config": {
        "linkText": "Export to plot.ly",
        "plotlyServerURL": "https://plot.ly",
        "showLink": false
       },
       "data": [
        {
         "hoverinfo": "none",
         "marker": {
          "color": "lightgray"
         },
         "name": "lightgray",
         "orientation": "h",
         "text": [
          -0.148,
          -0.127,
          -0.028
         ],
         "textfont": {
          "color": "#444444",
          "size": 12
         },
         "textposition": "auto",
         "type": "bar",
         "x": [
          -0.1480457498866945,
          -0.12731977173290734,
          -0.028404488037847845
         ],
         "y": [
          " Build and/or run the<br>data infrastructure that my business<br>uses for storing, analyzing, and<br>operationalizing data",
          " Do research that advances<br>the state of the art<br>of machine learning",
          " None of these activities<br>are an important part of<br>my role at work"
         ]
        },
        {
         "hoverinfo": "none",
         "marker": {
          "color": "cornflowerblue"
         },
         "name": "cornflowerblue",
         "orientation": "h",
         "text": [
          0.026,
          0.157,
          0.295
         ],
         "textfont": {
          "color": "#444444",
          "size": 12
         },
         "textposition": "auto",
         "type": "bar",
         "x": [
          0.02637699163306659,
          0.1571683733137534,
          0.2953093466402267
         ],
         "y": [
          " Analyze and understand data<br>to influence product or business<br>decisions",
          " Build and/or run a<br>machine learning service that operationally<br>improves my product or workflows",
          " Build prototypes to explore<br>applying machine learning to new<br>areas"
         ]
        }
       ],
       "layout": {
        "height": 600,
        "margin": {
         "l": 300
        },
        "showlegend": false,
        "template": {
         "data": {
          "scatter": [
           {
            "type": "scatter"
           }
          ]
         }
        },
        "title": {
         "text": "<b> Q11. Select any activities that make up<br>an important part of your role at work</b>"
        },
        "width": 800,
        "xaxis": {
         "color": "#AAAAAA",
         "showgrid": false,
         "title": {
          "font": {
           "color": "#AAAAAA"
          },
          "text": "Model Coefficient"
         }
        },
        "yaxis": {
         "color": "#AAAAAA",
         "showgrid": false,
         "tickfont": {
          "color": "#444444",
          "size": 12
         },
         "title": {
          "font": {
           "color": "#AAAAAA"
          },
          "text": ""
         }
        }
       }
      },
      "text/html": [
       "<div>                            <div id=\"54c586bd-d911-41d8-9a27-4856597c89ac\" class=\"plotly-graph-div\" style=\"height:600px; width:800px;\"></div>            <script type=\"text/javascript\">                require([\"plotly\"], function(Plotly) {                    window.PLOTLYENV=window.PLOTLYENV || {};                                    if (document.getElementById(\"54c586bd-d911-41d8-9a27-4856597c89ac\")) {                    Plotly.newPlot(                        \"54c586bd-d911-41d8-9a27-4856597c89ac\",                        [{\"hoverinfo\":\"none\",\"marker\":{\"color\":\"lightgray\"},\"name\":\"lightgray\",\"orientation\":\"h\",\"text\":[-0.148,-0.127,-0.028],\"textfont\":{\"color\":\"#444444\",\"size\":12},\"textposition\":\"auto\",\"x\":[-0.1480457498866945,-0.12731977173290734,-0.028404488037847845],\"y\":[\" Build and/or run the<br>data infrastructure that my business<br>uses for storing, analyzing, and<br>operationalizing data\",\" Do research that advances<br>the state of the art<br>of machine learning\",\" None of these activities<br>are an important part of<br>my role at work\"],\"type\":\"bar\"},{\"hoverinfo\":\"none\",\"marker\":{\"color\":\"cornflowerblue\"},\"name\":\"cornflowerblue\",\"orientation\":\"h\",\"text\":[0.026,0.157,0.295],\"textfont\":{\"color\":\"#444444\",\"size\":12},\"textposition\":\"auto\",\"x\":[0.02637699163306659,0.1571683733137534,0.2953093466402267],\"y\":[\" Analyze and understand data<br>to influence product or business<br>decisions\",\" Build and/or run a<br>machine learning service that operationally<br>improves my product or workflows\",\" Build prototypes to explore<br>applying machine learning to new<br>areas\"],\"type\":\"bar\"}],                        {\"height\":600,\"margin\":{\"l\":300},\"showlegend\":false,\"template\":{\"data\":{\"scatter\":[{\"type\":\"scatter\"}]}},\"title\":{\"text\":\"<b> Q11. Select any activities that make up<br>an important part of your role at work</b>\"},\"width\":800,\"xaxis\":{\"color\":\"#AAAAAA\",\"showgrid\":false,\"title\":{\"font\":{\"color\":\"#AAAAAA\"},\"text\":\"Model Coefficient\"}},\"yaxis\":{\"color\":\"#AAAAAA\",\"showgrid\":false,\"tickfont\":{\"color\":\"#444444\",\"size\":12},\"title\":{\"font\":{\"color\":\"#AAAAAA\"},\"text\":\"\"}}},                        {\"responsive\": true}                    ).then(function(){\n",
       "                            \n",
       "var gd = document.getElementById('54c586bd-d911-41d8-9a27-4856597c89ac');\n",
       "var x = new MutationObserver(function (mutations, observer) {{\n",
       "        var display = window.getComputedStyle(gd).display;\n",
       "        if (!display || display === 'none') {{\n",
       "            console.log([gd, 'removed!']);\n",
       "            Plotly.purge(gd);\n",
       "            observer.disconnect();\n",
       "        }}\n",
       "}});\n",
       "\n",
       "// Listen for the removal of the full notebook cells\n",
       "var notebookContainer = gd.closest('#notebook-container');\n",
       "if (notebookContainer) {{\n",
       "    x.observe(notebookContainer, {childList: true});\n",
       "}}\n",
       "\n",
       "// Listen for the clearing of the current output cell\n",
       "var outputEl = gd.closest('.output');\n",
       "if (outputEl) {{\n",
       "    x.observe(outputEl, {childList: true});\n",
       "}}\n",
       "\n",
       "                        })                };                });            </script>        </div>"
      ]
     },
     "metadata": {},
     "output_type": "display_data"
    }
   ],
   "source": [
    "plot_result('Q11')"
   ]
  },
  {
   "cell_type": "markdown",
   "metadata": {
    "_uuid": "ca8fe816b49b797cd1ad83819a3dafd8e0b6f7c8"
   },
   "source": [
    "When it comes to activities, try to build prototypes or Machine Learning services. Exploring the application of ML to new areas and using it to improve your products or workflows is the way to get closer to earning more than USD 100k per year. On the other side, if an important part of your role is to do Business Intelligence to analyze and understand data to influence product or business decisions, then you should expect to earn less. Same thing if you run the data infrastructure.\n",
    "\n",
    "---"
   ]
  },
  {
   "cell_type": "code",
   "execution_count": 56,
   "metadata": {
    "_kg_hide-input": true,
    "_uuid": "260844c6ce9bb6a153a2fede54d3cdc680c43d33"
   },
   "outputs": [
    {
     "data": {
      "application/vnd.plotly.v1+json": {
       "config": {
        "linkText": "Export to plot.ly",
        "plotlyServerURL": "https://plot.ly",
        "showLink": false
       },
       "data": [
        {
         "hoverinfo": "none",
         "marker": {
          "color": "lightgray"
         },
         "name": "lightgray",
         "orientation": "h",
         "text": [
          -0.289,
          -0.018
         ],
         "textfont": {
          "color": "#444444",
          "size": 12
         },
         "textposition": "auto",
         "type": "bar",
         "x": [
          -0.28882979438413303,
          -0.017567653934216804
         ],
         "y": [
          " IBM Cloud",
          " Google Cloud Platform (GCP)"
         ]
        },
        {
         "hoverinfo": "none",
         "marker": {
          "color": "cornflowerblue"
         },
         "name": "cornflowerblue",
         "orientation": "h",
         "text": [
          0.097,
          0.313
         ],
         "textfont": {
          "color": "#444444",
          "size": 12
         },
         "textposition": "auto",
         "type": "bar",
         "x": [
          0.09691614934147696,
          0.3126701686863136
         ],
         "y": [
          " Microsoft Azure",
          " Amazon Web Services (AWS)"
         ]
        }
       ],
       "layout": {
        "height": 600,
        "margin": {
         "l": 300
        },
        "showlegend": false,
        "template": {
         "data": {
          "scatter": [
           {
            "type": "scatter"
           }
          ]
         }
        },
        "title": {
         "text": "<b> Q15. Which of the following cloud computing<br>services have you used at work or school<br>in the last 5 years?</b>"
        },
        "width": 800,
        "xaxis": {
         "color": "#AAAAAA",
         "showgrid": false,
         "title": {
          "font": {
           "color": "#AAAAAA"
          },
          "text": "Model Coefficient"
         }
        },
        "yaxis": {
         "color": "#AAAAAA",
         "showgrid": false,
         "tickfont": {
          "color": "#444444",
          "size": 12
         },
         "title": {
          "font": {
           "color": "#AAAAAA"
          },
          "text": ""
         }
        }
       }
      },
      "text/html": [
       "<div>                            <div id=\"5b491ec7-31ca-423a-add3-e6f6d6e87287\" class=\"plotly-graph-div\" style=\"height:600px; width:800px;\"></div>            <script type=\"text/javascript\">                require([\"plotly\"], function(Plotly) {                    window.PLOTLYENV=window.PLOTLYENV || {};                                    if (document.getElementById(\"5b491ec7-31ca-423a-add3-e6f6d6e87287\")) {                    Plotly.newPlot(                        \"5b491ec7-31ca-423a-add3-e6f6d6e87287\",                        [{\"hoverinfo\":\"none\",\"marker\":{\"color\":\"lightgray\"},\"name\":\"lightgray\",\"orientation\":\"h\",\"text\":[-0.289,-0.018],\"textfont\":{\"color\":\"#444444\",\"size\":12},\"textposition\":\"auto\",\"x\":[-0.28882979438413303,-0.017567653934216804],\"y\":[\" IBM Cloud\",\" Google Cloud Platform (GCP)\"],\"type\":\"bar\"},{\"hoverinfo\":\"none\",\"marker\":{\"color\":\"cornflowerblue\"},\"name\":\"cornflowerblue\",\"orientation\":\"h\",\"text\":[0.097,0.313],\"textfont\":{\"color\":\"#444444\",\"size\":12},\"textposition\":\"auto\",\"x\":[0.09691614934147696,0.3126701686863136],\"y\":[\" Microsoft Azure\",\" Amazon Web Services (AWS)\"],\"type\":\"bar\"}],                        {\"height\":600,\"margin\":{\"l\":300},\"showlegend\":false,\"template\":{\"data\":{\"scatter\":[{\"type\":\"scatter\"}]}},\"title\":{\"text\":\"<b> Q15. Which of the following cloud computing<br>services have you used at work or school<br>in the last 5 years?</b>\"},\"width\":800,\"xaxis\":{\"color\":\"#AAAAAA\",\"showgrid\":false,\"title\":{\"font\":{\"color\":\"#AAAAAA\"},\"text\":\"Model Coefficient\"}},\"yaxis\":{\"color\":\"#AAAAAA\",\"showgrid\":false,\"tickfont\":{\"color\":\"#444444\",\"size\":12},\"title\":{\"font\":{\"color\":\"#AAAAAA\"},\"text\":\"\"}}},                        {\"responsive\": true}                    ).then(function(){\n",
       "                            \n",
       "var gd = document.getElementById('5b491ec7-31ca-423a-add3-e6f6d6e87287');\n",
       "var x = new MutationObserver(function (mutations, observer) {{\n",
       "        var display = window.getComputedStyle(gd).display;\n",
       "        if (!display || display === 'none') {{\n",
       "            console.log([gd, 'removed!']);\n",
       "            Plotly.purge(gd);\n",
       "            observer.disconnect();\n",
       "        }}\n",
       "}});\n",
       "\n",
       "// Listen for the removal of the full notebook cells\n",
       "var notebookContainer = gd.closest('#notebook-container');\n",
       "if (notebookContainer) {{\n",
       "    x.observe(notebookContainer, {childList: true});\n",
       "}}\n",
       "\n",
       "// Listen for the clearing of the current output cell\n",
       "var outputEl = gd.closest('.output');\n",
       "if (outputEl) {{\n",
       "    x.observe(outputEl, {childList: true});\n",
       "}}\n",
       "\n",
       "                        })                };                });            </script>        </div>"
      ]
     },
     "metadata": {},
     "output_type": "display_data"
    }
   ],
   "source": [
    "plot_result('Q15')"
   ]
  },
  {
   "cell_type": "markdown",
   "metadata": {
    "_uuid": "3716d6ead6024089f252891f3af0b23a6fb59011"
   },
   "source": [
    "Use cloud computing services! Get used to AWS, or other leading cloud providers. Using IBM Cloud might reduce your chances of earning more, but can't see any reasons for that right now.\n",
    "\n",
    "---"
   ]
  },
  {
   "cell_type": "code",
   "execution_count": 57,
   "metadata": {
    "_kg_hide-input": true,
    "_uuid": "2fc434f09b58c33d8c21bc182fd591f69c5f6fae"
   },
   "outputs": [
    {
     "data": {
      "application/vnd.plotly.v1+json": {
       "config": {
        "linkText": "Export to plot.ly",
        "plotlyServerURL": "https://plot.ly",
        "showLink": false
       },
       "data": [
        {
         "hoverinfo": "none",
         "marker": {
          "color": "lightgray"
         },
         "name": "lightgray",
         "orientation": "h",
         "text": [
          -0.283,
          -0.174,
          -0.139,
          -0.068,
          -0.056,
          -0.056,
          -0.041
         ],
         "textfont": {
          "color": "#444444",
          "size": 12
         },
         "textposition": "auto",
         "type": "bar",
         "x": [
          -0.2830154010672134,
          -0.17439563598697128,
          -0.13917786675113994,
          -0.06779868883518345,
          -0.055885284170608,
          -0.055787265550744765,
          -0.04097789199909032
         ],
         "y": [
          " SAS/STATA",
          " Visual Basic/VBA",
          " C/C++",
          " Python",
          " SQL",
          " MATLAB",
          " C#/.NET"
         ]
        },
        {
         "hoverinfo": "none",
         "marker": {
          "color": "cornflowerblue"
         },
         "name": "cornflowerblue",
         "orientation": "h",
         "text": [
          0.026,
          0.099,
          0.1,
          0.109,
          0.129
         ],
         "textfont": {
          "color": "#444444",
          "size": 12
         },
         "textposition": "auto",
         "type": "bar",
         "x": [
          0.026481579220581544,
          0.09924735087271336,
          0.09990500732107334,
          0.10861911403531627,
          0.1294699642577186
         ],
         "y": [
          " Javascript/Typescript",
          " Bash",
          " Java",
          " PHP",
          " R"
         ]
        }
       ],
       "layout": {
        "height": 600,
        "margin": {
         "l": 300
        },
        "showlegend": false,
        "template": {
         "data": {
          "scatter": [
           {
            "type": "scatter"
           }
          ]
         }
        },
        "title": {
         "text": "<b> Q16. What programming languages do you use<br>on a regular basis?</b>"
        },
        "width": 800,
        "xaxis": {
         "color": "#AAAAAA",
         "showgrid": false,
         "title": {
          "font": {
           "color": "#AAAAAA"
          },
          "text": "Model Coefficient"
         }
        },
        "yaxis": {
         "color": "#AAAAAA",
         "showgrid": false,
         "tickfont": {
          "color": "#444444",
          "size": 12
         },
         "title": {
          "font": {
           "color": "#AAAAAA"
          },
          "text": ""
         }
        }
       }
      },
      "text/html": [
       "<div>                            <div id=\"5374af21-69d5-4ff6-821e-793139e941bc\" class=\"plotly-graph-div\" style=\"height:600px; width:800px;\"></div>            <script type=\"text/javascript\">                require([\"plotly\"], function(Plotly) {                    window.PLOTLYENV=window.PLOTLYENV || {};                                    if (document.getElementById(\"5374af21-69d5-4ff6-821e-793139e941bc\")) {                    Plotly.newPlot(                        \"5374af21-69d5-4ff6-821e-793139e941bc\",                        [{\"hoverinfo\":\"none\",\"marker\":{\"color\":\"lightgray\"},\"name\":\"lightgray\",\"orientation\":\"h\",\"text\":[-0.283,-0.174,-0.139,-0.068,-0.056,-0.056,-0.041],\"textfont\":{\"color\":\"#444444\",\"size\":12},\"textposition\":\"auto\",\"x\":[-0.2830154010672134,-0.17439563598697128,-0.13917786675113994,-0.06779868883518345,-0.055885284170608,-0.055787265550744765,-0.04097789199909032],\"y\":[\" SAS/STATA\",\" Visual Basic/VBA\",\" C/C++\",\" Python\",\" SQL\",\" MATLAB\",\" C#/.NET\"],\"type\":\"bar\"},{\"hoverinfo\":\"none\",\"marker\":{\"color\":\"cornflowerblue\"},\"name\":\"cornflowerblue\",\"orientation\":\"h\",\"text\":[0.026,0.099,0.1,0.109,0.129],\"textfont\":{\"color\":\"#444444\",\"size\":12},\"textposition\":\"auto\",\"x\":[0.026481579220581544,0.09924735087271336,0.09990500732107334,0.10861911403531627,0.1294699642577186],\"y\":[\" Javascript/Typescript\",\" Bash\",\" Java\",\" PHP\",\" R\"],\"type\":\"bar\"}],                        {\"height\":600,\"margin\":{\"l\":300},\"showlegend\":false,\"template\":{\"data\":{\"scatter\":[{\"type\":\"scatter\"}]}},\"title\":{\"text\":\"<b> Q16. What programming languages do you use<br>on a regular basis?</b>\"},\"width\":800,\"xaxis\":{\"color\":\"#AAAAAA\",\"showgrid\":false,\"title\":{\"font\":{\"color\":\"#AAAAAA\"},\"text\":\"Model Coefficient\"}},\"yaxis\":{\"color\":\"#AAAAAA\",\"showgrid\":false,\"tickfont\":{\"color\":\"#444444\",\"size\":12},\"title\":{\"font\":{\"color\":\"#AAAAAA\"},\"text\":\"\"}}},                        {\"responsive\": true}                    ).then(function(){\n",
       "                            \n",
       "var gd = document.getElementById('5374af21-69d5-4ff6-821e-793139e941bc');\n",
       "var x = new MutationObserver(function (mutations, observer) {{\n",
       "        var display = window.getComputedStyle(gd).display;\n",
       "        if (!display || display === 'none') {{\n",
       "            console.log([gd, 'removed!']);\n",
       "            Plotly.purge(gd);\n",
       "            observer.disconnect();\n",
       "        }}\n",
       "}});\n",
       "\n",
       "// Listen for the removal of the full notebook cells\n",
       "var notebookContainer = gd.closest('#notebook-container');\n",
       "if (notebookContainer) {{\n",
       "    x.observe(notebookContainer, {childList: true});\n",
       "}}\n",
       "\n",
       "// Listen for the clearing of the current output cell\n",
       "var outputEl = gd.closest('.output');\n",
       "if (outputEl) {{\n",
       "    x.observe(outputEl, {childList: true});\n",
       "}}\n",
       "\n",
       "                        })                };                });            </script>        </div>"
      ]
     },
     "metadata": {},
     "output_type": "display_data"
    }
   ],
   "source": [
    "plot_result('Q16')"
   ]
  },
  {
   "cell_type": "markdown",
   "metadata": {
    "_uuid": "464b1bafa9e7c2479a0bee5c124207d678ba2cfb"
   },
   "source": [
    "Using R, PHP, Java or Bash on a regular basis contribute to earning more. \n",
    "\n",
    "Java is one of the languages that most contributes to the probability of belonging to the Top 20% probably because some Big Data tools, such as Hadoop, are written in Java. Bash, the Unix shell and command language, is also valuable. You see that some of them will increase your salary, while others may decrease it. Choose wisely what to learn next!\n",
    "\n",
    "---"
   ]
  },
  {
   "cell_type": "code",
   "execution_count": 58,
   "metadata": {
    "_kg_hide-input": true,
    "_uuid": "8b0ebec6b87b3ebebbcd9c7fc9be8a5358a3d702"
   },
   "outputs": [
    {
     "data": {
      "application/vnd.plotly.v1+json": {
       "config": {
        "linkText": "Export to plot.ly",
        "plotlyServerURL": "https://plot.ly",
        "showLink": false
       },
       "data": [
        {
         "hoverinfo": "none",
         "marker": {
          "color": "lightgray"
         },
         "name": "lightgray",
         "orientation": "h",
         "text": [
          -0.456,
          -0.226,
          -0.186
         ],
         "textfont": {
          "color": "#444444",
          "size": 12
         },
         "textposition": "auto",
         "type": "bar",
         "x": [
          -0.45645118331538126,
          -0.22600619582997122,
          -0.18570715402360147
         ],
         "y": [
          " R",
          " SQL",
          " Python"
         ]
        }
       ],
       "layout": {
        "height": 600,
        "margin": {
         "l": 300
        },
        "showlegend": false,
        "template": {
         "data": {
          "scatter": [
           {
            "type": "scatter"
           }
          ]
         }
        },
        "title": {
         "text": "<b> Q17. What specific programming language do you<br>use most often?</b>"
        },
        "width": 800,
        "xaxis": {
         "color": "#AAAAAA",
         "showgrid": false,
         "title": {
          "font": {
           "color": "#AAAAAA"
          },
          "text": "Model Coefficient"
         }
        },
        "yaxis": {
         "color": "#AAAAAA",
         "showgrid": false,
         "tickfont": {
          "color": "#444444",
          "size": 12
         },
         "title": {
          "font": {
           "color": "#AAAAAA"
          },
          "text": ""
         }
        }
       }
      },
      "text/html": [
       "<div>                            <div id=\"da4df9b3-3fa9-4a02-8d8a-700bbac6af92\" class=\"plotly-graph-div\" style=\"height:600px; width:800px;\"></div>            <script type=\"text/javascript\">                require([\"plotly\"], function(Plotly) {                    window.PLOTLYENV=window.PLOTLYENV || {};                                    if (document.getElementById(\"da4df9b3-3fa9-4a02-8d8a-700bbac6af92\")) {                    Plotly.newPlot(                        \"da4df9b3-3fa9-4a02-8d8a-700bbac6af92\",                        [{\"hoverinfo\":\"none\",\"marker\":{\"color\":\"lightgray\"},\"name\":\"lightgray\",\"orientation\":\"h\",\"text\":[-0.456,-0.226,-0.186],\"textfont\":{\"color\":\"#444444\",\"size\":12},\"textposition\":\"auto\",\"x\":[-0.45645118331538126,-0.22600619582997122,-0.18570715402360147],\"y\":[\" R\",\" SQL\",\" Python\"],\"type\":\"bar\"}],                        {\"height\":600,\"margin\":{\"l\":300},\"showlegend\":false,\"template\":{\"data\":{\"scatter\":[{\"type\":\"scatter\"}]}},\"title\":{\"text\":\"<b> Q17. What specific programming language do you<br>use most often?</b>\"},\"width\":800,\"xaxis\":{\"color\":\"#AAAAAA\",\"showgrid\":false,\"title\":{\"font\":{\"color\":\"#AAAAAA\"},\"text\":\"Model Coefficient\"}},\"yaxis\":{\"color\":\"#AAAAAA\",\"showgrid\":false,\"tickfont\":{\"color\":\"#444444\",\"size\":12},\"title\":{\"font\":{\"color\":\"#AAAAAA\"},\"text\":\"\"}}},                        {\"responsive\": true}                    ).then(function(){\n",
       "                            \n",
       "var gd = document.getElementById('da4df9b3-3fa9-4a02-8d8a-700bbac6af92');\n",
       "var x = new MutationObserver(function (mutations, observer) {{\n",
       "        var display = window.getComputedStyle(gd).display;\n",
       "        if (!display || display === 'none') {{\n",
       "            console.log([gd, 'removed!']);\n",
       "            Plotly.purge(gd);\n",
       "            observer.disconnect();\n",
       "        }}\n",
       "}});\n",
       "\n",
       "// Listen for the removal of the full notebook cells\n",
       "var notebookContainer = gd.closest('#notebook-container');\n",
       "if (notebookContainer) {{\n",
       "    x.observe(notebookContainer, {childList: true});\n",
       "}}\n",
       "\n",
       "// Listen for the clearing of the current output cell\n",
       "var outputEl = gd.closest('.output');\n",
       "if (outputEl) {{\n",
       "    x.observe(outputEl, {childList: true});\n",
       "}}\n",
       "\n",
       "                        })                };                });            </script>        </div>"
      ]
     },
     "metadata": {},
     "output_type": "display_data"
    }
   ],
   "source": [
    "plot_result('Q17')"
   ]
  },
  {
   "cell_type": "markdown",
   "metadata": {
    "_uuid": "e177a39afd775955810b7ca072135c127e416210"
   },
   "source": [
    "Primary usage of a language other than Python and R will get you closer to Top 20%. But if you have to chose one between them, then choose Python. Knowing R is a plus, but using it most often than other languages will decrease your compensation. Python wins this one probably because it's more versatile than R when it comes to putting models in production.\n",
    "\n",
    "---"
   ]
  },
  {
   "cell_type": "code",
   "execution_count": 59,
   "metadata": {
    "_kg_hide-input": true,
    "_uuid": "a2c329416843db9a90d1fcb8cb5225d65cf38cb8"
   },
   "outputs": [
    {
     "data": {
      "application/vnd.plotly.v1+json": {
       "config": {
        "linkText": "Export to plot.ly",
        "plotlyServerURL": "https://plot.ly",
        "showLink": false
       },
       "data": [
        {
         "hoverinfo": "none",
         "marker": {
          "color": "cornflowerblue"
         },
         "name": "cornflowerblue",
         "orientation": "h",
         "text": [
          0.022
         ],
         "textfont": {
          "color": "#444444",
          "size": 12
         },
         "textposition": "auto",
         "type": "bar",
         "x": [
          0.02242330373541964
         ],
         "y": [
          " Python"
         ]
        }
       ],
       "layout": {
        "height": 600,
        "margin": {
         "l": 300
        },
        "showlegend": false,
        "template": {
         "data": {
          "scatter": [
           {
            "type": "scatter"
           }
          ]
         }
        },
        "title": {
         "text": "<b> Q18. What programming language would you recommend<br>an aspiring data scientist to learn first?</b>"
        },
        "width": 800,
        "xaxis": {
         "color": "#AAAAAA",
         "showgrid": false,
         "title": {
          "font": {
           "color": "#AAAAAA"
          },
          "text": "Model Coefficient"
         }
        },
        "yaxis": {
         "color": "#AAAAAA",
         "showgrid": false,
         "tickfont": {
          "color": "#444444",
          "size": 12
         },
         "title": {
          "font": {
           "color": "#AAAAAA"
          },
          "text": ""
         }
        }
       }
      },
      "text/html": [
       "<div>                            <div id=\"72285b15-a088-4dd5-891b-30210c62e276\" class=\"plotly-graph-div\" style=\"height:600px; width:800px;\"></div>            <script type=\"text/javascript\">                require([\"plotly\"], function(Plotly) {                    window.PLOTLYENV=window.PLOTLYENV || {};                                    if (document.getElementById(\"72285b15-a088-4dd5-891b-30210c62e276\")) {                    Plotly.newPlot(                        \"72285b15-a088-4dd5-891b-30210c62e276\",                        [{\"hoverinfo\":\"none\",\"marker\":{\"color\":\"cornflowerblue\"},\"name\":\"cornflowerblue\",\"orientation\":\"h\",\"text\":[0.022],\"textfont\":{\"color\":\"#444444\",\"size\":12},\"textposition\":\"auto\",\"x\":[0.02242330373541964],\"y\":[\" Python\"],\"type\":\"bar\"}],                        {\"height\":600,\"margin\":{\"l\":300},\"showlegend\":false,\"template\":{\"data\":{\"scatter\":[{\"type\":\"scatter\"}]}},\"title\":{\"text\":\"<b> Q18. What programming language would you recommend<br>an aspiring data scientist to learn first?</b>\"},\"width\":800,\"xaxis\":{\"color\":\"#AAAAAA\",\"showgrid\":false,\"title\":{\"font\":{\"color\":\"#AAAAAA\"},\"text\":\"Model Coefficient\"}},\"yaxis\":{\"color\":\"#AAAAAA\",\"showgrid\":false,\"tickfont\":{\"color\":\"#444444\",\"size\":12},\"title\":{\"font\":{\"color\":\"#AAAAAA\"},\"text\":\"\"}}},                        {\"responsive\": true}                    ).then(function(){\n",
       "                            \n",
       "var gd = document.getElementById('72285b15-a088-4dd5-891b-30210c62e276');\n",
       "var x = new MutationObserver(function (mutations, observer) {{\n",
       "        var display = window.getComputedStyle(gd).display;\n",
       "        if (!display || display === 'none') {{\n",
       "            console.log([gd, 'removed!']);\n",
       "            Plotly.purge(gd);\n",
       "            observer.disconnect();\n",
       "        }}\n",
       "}});\n",
       "\n",
       "// Listen for the removal of the full notebook cells\n",
       "var notebookContainer = gd.closest('#notebook-container');\n",
       "if (notebookContainer) {{\n",
       "    x.observe(notebookContainer, {childList: true});\n",
       "}}\n",
       "\n",
       "// Listen for the clearing of the current output cell\n",
       "var outputEl = gd.closest('.output');\n",
       "if (outputEl) {{\n",
       "    x.observe(outputEl, {childList: true});\n",
       "}}\n",
       "\n",
       "                        })                };                });            </script>        </div>"
      ]
     },
     "metadata": {},
     "output_type": "display_data"
    }
   ],
   "source": [
    "plot_result('Q18')"
   ]
  },
  {
   "cell_type": "markdown",
   "metadata": {
    "_uuid": "ba4cb51224614c9cfa545c9cf08593c846282df2"
   },
   "source": [
    "Listen to the money's voice. People who earn more recommend learning Python as the first language.\n",
    "\n",
    "---"
   ]
  },
  {
   "cell_type": "code",
   "execution_count": 60,
   "metadata": {
    "_kg_hide-input": true,
    "_uuid": "eb3b63f69222de42bd97a7afd7f5331485a3fa25"
   },
   "outputs": [
    {
     "data": {
      "application/vnd.plotly.v1+json": {
       "config": {
        "linkText": "Export to plot.ly",
        "plotlyServerURL": "https://plot.ly",
        "showLink": false
       },
       "data": [
        {
         "hoverinfo": "none",
         "marker": {
          "color": "lightgray"
         },
         "name": "lightgray",
         "orientation": "h",
         "text": [
          -0.163,
          -0.095,
          -0.086,
          -0.023,
          0
         ],
         "textfont": {
          "color": "#444444",
          "size": 12
         },
         "textposition": "auto",
         "type": "bar",
         "x": [
          -0.16294272178213817,
          -0.09471916794877352,
          -0.08639732012483134,
          -0.023148573662344542,
          -0.0003404066011352551
         ],
         "y": [
          " catboost",
          " Caret",
          " PyTorch",
          " randomForest",
          " TensorFlow"
         ]
        },
        {
         "hoverinfo": "none",
         "marker": {
          "color": "cornflowerblue"
         },
         "name": "cornflowerblue",
         "orientation": "h",
         "text": [
          0.047,
          0.053,
          0.078,
          0.251,
          0.29,
          0.366
         ],
         "textfont": {
          "color": "#444444",
          "size": 12
         },
         "textposition": "auto",
         "type": "bar",
         "x": [
          0.047135850618546526,
          0.052691965132097514,
          0.07820608982781067,
          0.2508503799030363,
          0.29007665397425936,
          0.3655935457286962
         ],
         "y": [
          " H20",
          " Xgboost",
          " lightgbm",
          " Spark MLlib",
          " Fastai",
          " Caffe"
         ]
        }
       ],
       "layout": {
        "height": 600,
        "margin": {
         "l": 300
        },
        "showlegend": false,
        "template": {
         "data": {
          "scatter": [
           {
            "type": "scatter"
           }
          ]
         }
        },
        "title": {
         "text": "<b> Q19. What machine learning frameworks have you<br>used in the past 5 years?</b>"
        },
        "width": 800,
        "xaxis": {
         "color": "#AAAAAA",
         "showgrid": false,
         "title": {
          "font": {
           "color": "#AAAAAA"
          },
          "text": "Model Coefficient"
         }
        },
        "yaxis": {
         "color": "#AAAAAA",
         "showgrid": false,
         "tickfont": {
          "color": "#444444",
          "size": 12
         },
         "title": {
          "font": {
           "color": "#AAAAAA"
          },
          "text": ""
         }
        }
       }
      },
      "text/html": [
       "<div>                            <div id=\"6c13c73d-5926-45a1-8b26-fadd51171492\" class=\"plotly-graph-div\" style=\"height:600px; width:800px;\"></div>            <script type=\"text/javascript\">                require([\"plotly\"], function(Plotly) {                    window.PLOTLYENV=window.PLOTLYENV || {};                                    if (document.getElementById(\"6c13c73d-5926-45a1-8b26-fadd51171492\")) {                    Plotly.newPlot(                        \"6c13c73d-5926-45a1-8b26-fadd51171492\",                        [{\"hoverinfo\":\"none\",\"marker\":{\"color\":\"lightgray\"},\"name\":\"lightgray\",\"orientation\":\"h\",\"text\":[-0.163,-0.095,-0.086,-0.023,-0.0],\"textfont\":{\"color\":\"#444444\",\"size\":12},\"textposition\":\"auto\",\"x\":[-0.16294272178213817,-0.09471916794877352,-0.08639732012483134,-0.023148573662344542,-0.0003404066011352551],\"y\":[\" catboost\",\" Caret\",\" PyTorch\",\" randomForest\",\" TensorFlow\"],\"type\":\"bar\"},{\"hoverinfo\":\"none\",\"marker\":{\"color\":\"cornflowerblue\"},\"name\":\"cornflowerblue\",\"orientation\":\"h\",\"text\":[0.047,0.053,0.078,0.251,0.29,0.366],\"textfont\":{\"color\":\"#444444\",\"size\":12},\"textposition\":\"auto\",\"x\":[0.047135850618546526,0.052691965132097514,0.07820608982781067,0.2508503799030363,0.29007665397425936,0.3655935457286962],\"y\":[\" H20\",\" Xgboost\",\" lightgbm\",\" Spark MLlib\",\" Fastai\",\" Caffe\"],\"type\":\"bar\"}],                        {\"height\":600,\"margin\":{\"l\":300},\"showlegend\":false,\"template\":{\"data\":{\"scatter\":[{\"type\":\"scatter\"}]}},\"title\":{\"text\":\"<b> Q19. What machine learning frameworks have you<br>used in the past 5 years?</b>\"},\"width\":800,\"xaxis\":{\"color\":\"#AAAAAA\",\"showgrid\":false,\"title\":{\"font\":{\"color\":\"#AAAAAA\"},\"text\":\"Model Coefficient\"}},\"yaxis\":{\"color\":\"#AAAAAA\",\"showgrid\":false,\"tickfont\":{\"color\":\"#444444\",\"size\":12},\"title\":{\"font\":{\"color\":\"#AAAAAA\"},\"text\":\"\"}}},                        {\"responsive\": true}                    ).then(function(){\n",
       "                            \n",
       "var gd = document.getElementById('6c13c73d-5926-45a1-8b26-fadd51171492');\n",
       "var x = new MutationObserver(function (mutations, observer) {{\n",
       "        var display = window.getComputedStyle(gd).display;\n",
       "        if (!display || display === 'none') {{\n",
       "            console.log([gd, 'removed!']);\n",
       "            Plotly.purge(gd);\n",
       "            observer.disconnect();\n",
       "        }}\n",
       "}});\n",
       "\n",
       "// Listen for the removal of the full notebook cells\n",
       "var notebookContainer = gd.closest('#notebook-container');\n",
       "if (notebookContainer) {{\n",
       "    x.observe(notebookContainer, {childList: true});\n",
       "}}\n",
       "\n",
       "// Listen for the clearing of the current output cell\n",
       "var outputEl = gd.closest('.output');\n",
       "if (outputEl) {{\n",
       "    x.observe(outputEl, {childList: true});\n",
       "}}\n",
       "\n",
       "                        })                };                });            </script>        </div>"
      ]
     },
     "metadata": {},
     "output_type": "display_data"
    }
   ],
   "source": [
    "plot_result('Q19')"
   ]
  },
  {
   "cell_type": "markdown",
   "metadata": {
    "_uuid": "ece1d71724c2b6625e52e0b393f3c69fbb9c7d38"
   },
   "source": [
    "Learning and using Caffe, Fastai, SparkMLlib, Lightgbm and Xgboost and will add value to your resume.\n",
    "\n",
    "---"
   ]
  },
  {
   "cell_type": "code",
   "execution_count": 61,
   "metadata": {
    "_kg_hide-input": true,
    "_uuid": "e25b523e656d74f1143acf7a46c6e42ea4834988"
   },
   "outputs": [
    {
     "data": {
      "application/vnd.plotly.v1+json": {
       "config": {
        "linkText": "Export to plot.ly",
        "plotlyServerURL": "https://plot.ly",
        "showLink": false
       },
       "data": [
        {
         "hoverinfo": "none",
         "marker": {
          "color": "lightgray"
         },
         "name": "lightgray",
         "orientation": "h",
         "text": [
          -0.284,
          -0.097,
          -0.094
         ],
         "textfont": {
          "color": "#444444",
          "size": 12
         },
         "textposition": "auto",
         "type": "bar",
         "x": [
          -0.28413579531779165,
          -0.09722069177527501,
          -0.09355521242169443
         ],
         "y": [
          " Plotly",
          " None",
          " Leaflet"
         ]
        },
        {
         "hoverinfo": "none",
         "marker": {
          "color": "cornflowerblue"
         },
         "name": "cornflowerblue",
         "orientation": "h",
         "text": [
          0.009,
          0.106,
          0.115,
          0.435
         ],
         "textfont": {
          "color": "#444444",
          "size": 12
         },
         "textposition": "auto",
         "type": "bar",
         "x": [
          0.009484569793571804,
          0.10608922177505611,
          0.11544854250634677,
          0.4345646251145357
         ],
         "y": [
          " Shiny",
          " Seaborn",
          " Bokeh",
          " D3"
         ]
        }
       ],
       "layout": {
        "height": 600,
        "margin": {
         "l": 300
        },
        "showlegend": false,
        "template": {
         "data": {
          "scatter": [
           {
            "type": "scatter"
           }
          ]
         }
        },
        "title": {
         "text": "<b> Q21. What data visualization libraries or tools<br>have you used in the past 5 years?</b>"
        },
        "width": 800,
        "xaxis": {
         "color": "#AAAAAA",
         "showgrid": false,
         "title": {
          "font": {
           "color": "#AAAAAA"
          },
          "text": "Model Coefficient"
         }
        },
        "yaxis": {
         "color": "#AAAAAA",
         "showgrid": false,
         "tickfont": {
          "color": "#444444",
          "size": 12
         },
         "title": {
          "font": {
           "color": "#AAAAAA"
          },
          "text": ""
         }
        }
       }
      },
      "text/html": [
       "<div>                            <div id=\"96f241a9-73a6-4f3c-a6f5-5dc5ab1e18e0\" class=\"plotly-graph-div\" style=\"height:600px; width:800px;\"></div>            <script type=\"text/javascript\">                require([\"plotly\"], function(Plotly) {                    window.PLOTLYENV=window.PLOTLYENV || {};                                    if (document.getElementById(\"96f241a9-73a6-4f3c-a6f5-5dc5ab1e18e0\")) {                    Plotly.newPlot(                        \"96f241a9-73a6-4f3c-a6f5-5dc5ab1e18e0\",                        [{\"hoverinfo\":\"none\",\"marker\":{\"color\":\"lightgray\"},\"name\":\"lightgray\",\"orientation\":\"h\",\"text\":[-0.284,-0.097,-0.094],\"textfont\":{\"color\":\"#444444\",\"size\":12},\"textposition\":\"auto\",\"x\":[-0.28413579531779165,-0.09722069177527501,-0.09355521242169443],\"y\":[\" Plotly\",\" None\",\" Leaflet\"],\"type\":\"bar\"},{\"hoverinfo\":\"none\",\"marker\":{\"color\":\"cornflowerblue\"},\"name\":\"cornflowerblue\",\"orientation\":\"h\",\"text\":[0.009,0.106,0.115,0.435],\"textfont\":{\"color\":\"#444444\",\"size\":12},\"textposition\":\"auto\",\"x\":[0.009484569793571804,0.10608922177505611,0.11544854250634677,0.4345646251145357],\"y\":[\" Shiny\",\" Seaborn\",\" Bokeh\",\" D3\"],\"type\":\"bar\"}],                        {\"height\":600,\"margin\":{\"l\":300},\"showlegend\":false,\"template\":{\"data\":{\"scatter\":[{\"type\":\"scatter\"}]}},\"title\":{\"text\":\"<b> Q21. What data visualization libraries or tools<br>have you used in the past 5 years?</b>\"},\"width\":800,\"xaxis\":{\"color\":\"#AAAAAA\",\"showgrid\":false,\"title\":{\"font\":{\"color\":\"#AAAAAA\"},\"text\":\"Model Coefficient\"}},\"yaxis\":{\"color\":\"#AAAAAA\",\"showgrid\":false,\"tickfont\":{\"color\":\"#444444\",\"size\":12},\"title\":{\"font\":{\"color\":\"#AAAAAA\"},\"text\":\"\"}}},                        {\"responsive\": true}                    ).then(function(){\n",
       "                            \n",
       "var gd = document.getElementById('96f241a9-73a6-4f3c-a6f5-5dc5ab1e18e0');\n",
       "var x = new MutationObserver(function (mutations, observer) {{\n",
       "        var display = window.getComputedStyle(gd).display;\n",
       "        if (!display || display === 'none') {{\n",
       "            console.log([gd, 'removed!']);\n",
       "            Plotly.purge(gd);\n",
       "            observer.disconnect();\n",
       "        }}\n",
       "}});\n",
       "\n",
       "// Listen for the removal of the full notebook cells\n",
       "var notebookContainer = gd.closest('#notebook-container');\n",
       "if (notebookContainer) {{\n",
       "    x.observe(notebookContainer, {childList: true});\n",
       "}}\n",
       "\n",
       "// Listen for the clearing of the current output cell\n",
       "var outputEl = gd.closest('.output');\n",
       "if (outputEl) {{\n",
       "    x.observe(outputEl, {childList: true});\n",
       "}}\n",
       "\n",
       "                        })                };                });            </script>        </div>"
      ]
     },
     "metadata": {},
     "output_type": "display_data"
    }
   ],
   "source": [
    "plot_result('Q21')"
   ]
  },
  {
   "cell_type": "markdown",
   "metadata": {
    "_uuid": "2aba88d8ffc366ffee098c971ec6609b7afc792f"
   },
   "source": [
    "I personally like and use Plotly, so I'm losing some points here. One reconforting thought is that Plotly is built on top of D3.\n",
    "\n",
    "---"
   ]
  },
  {
   "cell_type": "code",
   "execution_count": 62,
   "metadata": {
    "_kg_hide-input": true,
    "_uuid": "66676fdb1d6d6d2cd848109e49732ec47afd3f22"
   },
   "outputs": [
    {
     "data": {
      "application/vnd.plotly.v1+json": {
       "config": {
        "linkText": "Export to plot.ly",
        "plotlyServerURL": "https://plot.ly",
        "showLink": false
       },
       "data": [
        {
         "hoverinfo": "none",
         "marker": {
          "color": "lightgray"
         },
         "name": "lightgray",
         "orientation": "h",
         "text": [
          -0.399,
          -0.367,
          -0.262,
          -0.204
         ],
         "textfont": {
          "color": "#444444",
          "size": 12
         },
         "textposition": "auto",
         "type": "bar",
         "x": [
          -0.3988467385468097,
          -0.3666857968991434,
          -0.26205221429092035,
          -0.2043600938615107
         ],
         "y": [
          " 75% to 99% of<br>my time",
          " 50% to 74% of<br>my time",
          " 25% to 49% of<br>my time",
          " 1% to 25% of<br>my time"
         ]
        }
       ],
       "layout": {
        "height": 600,
        "margin": {
         "l": 300
        },
        "showlegend": false,
        "template": {
         "data": {
          "scatter": [
           {
            "type": "scatter"
           }
          ]
         }
        },
        "title": {
         "text": "<b> Q23. Approximately what percent of your time<br>at work or school is spent actively coding?</b>"
        },
        "width": 800,
        "xaxis": {
         "color": "#AAAAAA",
         "showgrid": false,
         "title": {
          "font": {
           "color": "#AAAAAA"
          },
          "text": "Model Coefficient"
         }
        },
        "yaxis": {
         "color": "#AAAAAA",
         "showgrid": false,
         "tickfont": {
          "color": "#444444",
          "size": 12
         },
         "title": {
          "font": {
           "color": "#AAAAAA"
          },
          "text": ""
         }
        }
       }
      },
      "text/html": [
       "<div>                            <div id=\"0277cd4b-5ec9-4dbc-b131-d97d77e2c8cb\" class=\"plotly-graph-div\" style=\"height:600px; width:800px;\"></div>            <script type=\"text/javascript\">                require([\"plotly\"], function(Plotly) {                    window.PLOTLYENV=window.PLOTLYENV || {};                                    if (document.getElementById(\"0277cd4b-5ec9-4dbc-b131-d97d77e2c8cb\")) {                    Plotly.newPlot(                        \"0277cd4b-5ec9-4dbc-b131-d97d77e2c8cb\",                        [{\"hoverinfo\":\"none\",\"marker\":{\"color\":\"lightgray\"},\"name\":\"lightgray\",\"orientation\":\"h\",\"text\":[-0.399,-0.367,-0.262,-0.204],\"textfont\":{\"color\":\"#444444\",\"size\":12},\"textposition\":\"auto\",\"x\":[-0.3988467385468097,-0.3666857968991434,-0.26205221429092035,-0.2043600938615107],\"y\":[\" 75% to 99% of<br>my time\",\" 50% to 74% of<br>my time\",\" 25% to 49% of<br>my time\",\" 1% to 25% of<br>my time\"],\"type\":\"bar\"}],                        {\"height\":600,\"margin\":{\"l\":300},\"showlegend\":false,\"template\":{\"data\":{\"scatter\":[{\"type\":\"scatter\"}]}},\"title\":{\"text\":\"<b> Q23. Approximately what percent of your time<br>at work or school is spent actively coding?</b>\"},\"width\":800,\"xaxis\":{\"color\":\"#AAAAAA\",\"showgrid\":false,\"title\":{\"font\":{\"color\":\"#AAAAAA\"},\"text\":\"Model Coefficient\"}},\"yaxis\":{\"color\":\"#AAAAAA\",\"showgrid\":false,\"tickfont\":{\"color\":\"#444444\",\"size\":12},\"title\":{\"font\":{\"color\":\"#AAAAAA\"},\"text\":\"\"}}},                        {\"responsive\": true}                    ).then(function(){\n",
       "                            \n",
       "var gd = document.getElementById('0277cd4b-5ec9-4dbc-b131-d97d77e2c8cb');\n",
       "var x = new MutationObserver(function (mutations, observer) {{\n",
       "        var display = window.getComputedStyle(gd).display;\n",
       "        if (!display || display === 'none') {{\n",
       "            console.log([gd, 'removed!']);\n",
       "            Plotly.purge(gd);\n",
       "            observer.disconnect();\n",
       "        }}\n",
       "}});\n",
       "\n",
       "// Listen for the removal of the full notebook cells\n",
       "var notebookContainer = gd.closest('#notebook-container');\n",
       "if (notebookContainer) {{\n",
       "    x.observe(notebookContainer, {childList: true});\n",
       "}}\n",
       "\n",
       "// Listen for the clearing of the current output cell\n",
       "var outputEl = gd.closest('.output');\n",
       "if (outputEl) {{\n",
       "    x.observe(outputEl, {childList: true});\n",
       "}}\n",
       "\n",
       "                        })                };                });            </script>        </div>"
      ]
     },
     "metadata": {},
     "output_type": "display_data"
    }
   ],
   "source": [
    "plot_result('Q23')"
   ]
  },
  {
   "cell_type": "markdown",
   "metadata": {
    "_uuid": "ad2bd71649cc9e1c48c1c6e16af5767930c4bfe3"
   },
   "source": [
    "Top 20ies won't spend to much time coding. They are probably involved with strategic decisions, rather than coding.\n",
    "\n",
    "---"
   ]
  },
  {
   "cell_type": "code",
   "execution_count": 63,
   "metadata": {
    "_kg_hide-input": true,
    "_uuid": "779dc8519d7d1735603037244c02dfcf268cbccb"
   },
   "outputs": [
    {
     "data": {
      "application/vnd.plotly.v1+json": {
       "config": {
        "linkText": "Export to plot.ly",
        "plotlyServerURL": "https://plot.ly",
        "showLink": false
       },
       "data": [
        {
         "hoverinfo": "none",
         "marker": {
          "color": "lightgray"
         },
         "name": "lightgray",
         "orientation": "h",
         "text": [
          -0.778,
          -0.28,
          -0.093
         ],
         "textfont": {
          "color": "#444444",
          "size": 12
         },
         "textposition": "auto",
         "type": "bar",
         "x": [
          -0.7782829973933115,
          -0.27968560040013807,
          -0.09334497168474983
         ],
         "y": [
          " < 1 year",
          " 1-2 years",
          " 3-5 years"
         ]
        },
        {
         "hoverinfo": "none",
         "marker": {
          "color": "cornflowerblue"
         },
         "name": "cornflowerblue",
         "orientation": "h",
         "text": [
          0.064,
          0.48
         ],
         "textfont": {
          "color": "#444444",
          "size": 12
         },
         "textposition": "auto",
         "type": "bar",
         "x": [
          0.06448848210040242,
          0.48041063371609904
         ],
         "y": [
          " 5-10 years",
          " 10-20 years"
         ]
        }
       ],
       "layout": {
        "height": 600,
        "margin": {
         "l": 300
        },
        "showlegend": false,
        "template": {
         "data": {
          "scatter": [
           {
            "type": "scatter"
           }
          ]
         }
        },
        "title": {
         "text": "<b> Q24. How long have you been writing<br>code to analyze data?</b>"
        },
        "width": 800,
        "xaxis": {
         "color": "#AAAAAA",
         "showgrid": false,
         "title": {
          "font": {
           "color": "#AAAAAA"
          },
          "text": "Model Coefficient"
         }
        },
        "yaxis": {
         "color": "#AAAAAA",
         "showgrid": false,
         "tickfont": {
          "color": "#444444",
          "size": 12
         },
         "title": {
          "font": {
           "color": "#AAAAAA"
          },
          "text": ""
         }
        }
       }
      },
      "text/html": [
       "<div>                            <div id=\"d725e09f-5eeb-42f6-9e0a-8eca6251519e\" class=\"plotly-graph-div\" style=\"height:600px; width:800px;\"></div>            <script type=\"text/javascript\">                require([\"plotly\"], function(Plotly) {                    window.PLOTLYENV=window.PLOTLYENV || {};                                    if (document.getElementById(\"d725e09f-5eeb-42f6-9e0a-8eca6251519e\")) {                    Plotly.newPlot(                        \"d725e09f-5eeb-42f6-9e0a-8eca6251519e\",                        [{\"hoverinfo\":\"none\",\"marker\":{\"color\":\"lightgray\"},\"name\":\"lightgray\",\"orientation\":\"h\",\"text\":[-0.778,-0.28,-0.093],\"textfont\":{\"color\":\"#444444\",\"size\":12},\"textposition\":\"auto\",\"x\":[-0.7782829973933115,-0.27968560040013807,-0.09334497168474983],\"y\":[\" < 1 year\",\" 1-2 years\",\" 3-5 years\"],\"type\":\"bar\"},{\"hoverinfo\":\"none\",\"marker\":{\"color\":\"cornflowerblue\"},\"name\":\"cornflowerblue\",\"orientation\":\"h\",\"text\":[0.064,0.48],\"textfont\":{\"color\":\"#444444\",\"size\":12},\"textposition\":\"auto\",\"x\":[0.06448848210040242,0.48041063371609904],\"y\":[\" 5-10 years\",\" 10-20 years\"],\"type\":\"bar\"}],                        {\"height\":600,\"margin\":{\"l\":300},\"showlegend\":false,\"template\":{\"data\":{\"scatter\":[{\"type\":\"scatter\"}]}},\"title\":{\"text\":\"<b> Q24. How long have you been writing<br>code to analyze data?</b>\"},\"width\":800,\"xaxis\":{\"color\":\"#AAAAAA\",\"showgrid\":false,\"title\":{\"font\":{\"color\":\"#AAAAAA\"},\"text\":\"Model Coefficient\"}},\"yaxis\":{\"color\":\"#AAAAAA\",\"showgrid\":false,\"tickfont\":{\"color\":\"#444444\",\"size\":12},\"title\":{\"font\":{\"color\":\"#AAAAAA\"},\"text\":\"\"}}},                        {\"responsive\": true}                    ).then(function(){\n",
       "                            \n",
       "var gd = document.getElementById('d725e09f-5eeb-42f6-9e0a-8eca6251519e');\n",
       "var x = new MutationObserver(function (mutations, observer) {{\n",
       "        var display = window.getComputedStyle(gd).display;\n",
       "        if (!display || display === 'none') {{\n",
       "            console.log([gd, 'removed!']);\n",
       "            Plotly.purge(gd);\n",
       "            observer.disconnect();\n",
       "        }}\n",
       "}});\n",
       "\n",
       "// Listen for the removal of the full notebook cells\n",
       "var notebookContainer = gd.closest('#notebook-container');\n",
       "if (notebookContainer) {{\n",
       "    x.observe(notebookContainer, {childList: true});\n",
       "}}\n",
       "\n",
       "// Listen for the clearing of the current output cell\n",
       "var outputEl = gd.closest('.output');\n",
       "if (outputEl) {{\n",
       "    x.observe(outputEl, {childList: true});\n",
       "}}\n",
       "\n",
       "                        })                };                });            </script>        </div>"
      ]
     },
     "metadata": {},
     "output_type": "display_data"
    }
   ],
   "source": [
    "plot_result('Q24')"
   ]
  },
  {
   "cell_type": "markdown",
   "metadata": {
    "_uuid": "3823fb0e8fa087d44907e035b15b43ea4040de75"
   },
   "source": [
    "Again, get experienced before asking for a raise.\n",
    "\n",
    "---"
   ]
  },
  {
   "cell_type": "code",
   "execution_count": 64,
   "metadata": {
    "_kg_hide-input": true,
    "_uuid": "ad1bf6c56e9516361a55622cfd27a982b65ba06f"
   },
   "outputs": [
    {
     "data": {
      "application/vnd.plotly.v1+json": {
       "config": {
        "linkText": "Export to plot.ly",
        "plotlyServerURL": "https://plot.ly",
        "showLink": false
       },
       "data": [
        {
         "hoverinfo": "none",
         "marker": {
          "color": "lightgray"
         },
         "name": "lightgray",
         "orientation": "h",
         "text": [
          -0.23,
          -0.028
         ],
         "textfont": {
          "color": "#444444",
          "size": 12
         },
         "textposition": "auto",
         "type": "bar",
         "x": [
          -0.22961169901566195,
          -0.02757248410438902
         ],
         "y": [
          " Maybe",
          " Probably not"
         ]
        },
        {
         "hoverinfo": "none",
         "marker": {
          "color": "cornflowerblue"
         },
         "name": "cornflowerblue",
         "orientation": "h",
         "text": [
          0.086,
          0.35,
          0.374
         ],
         "textfont": {
          "color": "#444444",
          "size": 12
         },
         "textposition": "auto",
         "type": "bar",
         "x": [
          0.08621860989537611,
          0.35014115058453876,
          0.37361788454780087
         ],
         "y": [
          " Probably yes",
          " Definitely not",
          " Definitely yes"
         ]
        }
       ],
       "layout": {
        "height": 600,
        "margin": {
         "l": 300
        },
        "showlegend": false,
        "template": {
         "data": {
          "scatter": [
           {
            "type": "scatter"
           }
          ]
         }
        },
        "title": {
         "text": "<b> Q26. Do you consider yourself to be<br>a data scientist?</b>"
        },
        "width": 800,
        "xaxis": {
         "color": "#AAAAAA",
         "showgrid": false,
         "title": {
          "font": {
           "color": "#AAAAAA"
          },
          "text": "Model Coefficient"
         }
        },
        "yaxis": {
         "color": "#AAAAAA",
         "showgrid": false,
         "tickfont": {
          "color": "#444444",
          "size": 12
         },
         "title": {
          "font": {
           "color": "#AAAAAA"
          },
          "text": ""
         }
        }
       }
      },
      "text/html": [
       "<div>                            <div id=\"cf407266-8e79-4baa-bfe5-6a4042887745\" class=\"plotly-graph-div\" style=\"height:600px; width:800px;\"></div>            <script type=\"text/javascript\">                require([\"plotly\"], function(Plotly) {                    window.PLOTLYENV=window.PLOTLYENV || {};                                    if (document.getElementById(\"cf407266-8e79-4baa-bfe5-6a4042887745\")) {                    Plotly.newPlot(                        \"cf407266-8e79-4baa-bfe5-6a4042887745\",                        [{\"hoverinfo\":\"none\",\"marker\":{\"color\":\"lightgray\"},\"name\":\"lightgray\",\"orientation\":\"h\",\"text\":[-0.23,-0.028],\"textfont\":{\"color\":\"#444444\",\"size\":12},\"textposition\":\"auto\",\"x\":[-0.22961169901566195,-0.02757248410438902],\"y\":[\" Maybe\",\" Probably not\"],\"type\":\"bar\"},{\"hoverinfo\":\"none\",\"marker\":{\"color\":\"cornflowerblue\"},\"name\":\"cornflowerblue\",\"orientation\":\"h\",\"text\":[0.086,0.35,0.374],\"textfont\":{\"color\":\"#444444\",\"size\":12},\"textposition\":\"auto\",\"x\":[0.08621860989537611,0.35014115058453876,0.37361788454780087],\"y\":[\" Probably yes\",\" Definitely not\",\" Definitely yes\"],\"type\":\"bar\"}],                        {\"height\":600,\"margin\":{\"l\":300},\"showlegend\":false,\"template\":{\"data\":{\"scatter\":[{\"type\":\"scatter\"}]}},\"title\":{\"text\":\"<b> Q26. Do you consider yourself to be<br>a data scientist?</b>\"},\"width\":800,\"xaxis\":{\"color\":\"#AAAAAA\",\"showgrid\":false,\"title\":{\"font\":{\"color\":\"#AAAAAA\"},\"text\":\"Model Coefficient\"}},\"yaxis\":{\"color\":\"#AAAAAA\",\"showgrid\":false,\"tickfont\":{\"color\":\"#444444\",\"size\":12},\"title\":{\"font\":{\"color\":\"#AAAAAA\"},\"text\":\"\"}}},                        {\"responsive\": true}                    ).then(function(){\n",
       "                            \n",
       "var gd = document.getElementById('cf407266-8e79-4baa-bfe5-6a4042887745');\n",
       "var x = new MutationObserver(function (mutations, observer) {{\n",
       "        var display = window.getComputedStyle(gd).display;\n",
       "        if (!display || display === 'none') {{\n",
       "            console.log([gd, 'removed!']);\n",
       "            Plotly.purge(gd);\n",
       "            observer.disconnect();\n",
       "        }}\n",
       "}});\n",
       "\n",
       "// Listen for the removal of the full notebook cells\n",
       "var notebookContainer = gd.closest('#notebook-container');\n",
       "if (notebookContainer) {{\n",
       "    x.observe(notebookContainer, {childList: true});\n",
       "}}\n",
       "\n",
       "// Listen for the clearing of the current output cell\n",
       "var outputEl = gd.closest('.output');\n",
       "if (outputEl) {{\n",
       "    x.observe(outputEl, {childList: true});\n",
       "}}\n",
       "\n",
       "                        })                };                });            </script>        </div>"
      ]
     },
     "metadata": {},
     "output_type": "display_data"
    }
   ],
   "source": [
    "plot_result('Q26')"
   ]
  },
  {
   "cell_type": "markdown",
   "metadata": {
    "_uuid": "4fd28583a4523886a0c7f96b808ab750f03daa58"
   },
   "source": [
    "It' water or wine. If you earn tons of dollars have to be pretty sure of what you are. Probably those who do not consider themselves to be Data Scientists are in managerial or C-level positions. Being in doubt is probably associated with junior professionals, who are starting their careers.\n",
    "\n",
    "---"
   ]
  },
  {
   "cell_type": "code",
   "execution_count": 65,
   "metadata": {
    "_kg_hide-input": true,
    "_uuid": "6f52ed01ea589b251d6c65bcc8eaf7855251b5fc"
   },
   "outputs": [
    {
     "data": {
      "application/vnd.plotly.v1+json": {
       "config": {
        "linkText": "Export to plot.ly",
        "plotlyServerURL": "https://plot.ly",
        "showLink": false
       },
       "data": [
        {
         "hoverinfo": "none",
         "marker": {
          "color": "lightgray"
         },
         "name": "lightgray",
         "orientation": "h",
         "text": [
          -0.194,
          -0.167,
          -0.08,
          -0.054
         ],
         "textfont": {
          "color": "#444444",
          "size": 12
         },
         "textposition": "auto",
         "type": "bar",
         "x": [
          -0.1938449374104945,
          -0.16693791749432302,
          -0.0804952248890013,
          -0.05404804498561681
         ],
         "y": [
          " Microsoft Access",
          " None",
          " Oracle Database",
          " PostgresSQL"
         ]
        },
        {
         "hoverinfo": "none",
         "marker": {
          "color": "cornflowerblue"
         },
         "name": "cornflowerblue",
         "orientation": "h",
         "text": [
          0.038,
          0.105,
          0.412
         ],
         "textfont": {
          "color": "#444444",
          "size": 12
         },
         "textposition": "auto",
         "type": "bar",
         "x": [
          0.03830328444621977,
          0.10489196795568233,
          0.41220163369696156
         ],
         "y": [
          " SQLite",
          " Microsoft SQL Server",
          " AWS Relational Database Service"
         ]
        }
       ],
       "layout": {
        "height": 600,
        "margin": {
         "l": 300
        },
        "showlegend": false,
        "template": {
         "data": {
          "scatter": [
           {
            "type": "scatter"
           }
          ]
         }
        },
        "title": {
         "text": "<b> Q29. Which of the following relational database<br>products have you used at work or school<br>in the last 5 years?</b>"
        },
        "width": 800,
        "xaxis": {
         "color": "#AAAAAA",
         "showgrid": false,
         "title": {
          "font": {
           "color": "#AAAAAA"
          },
          "text": "Model Coefficient"
         }
        },
        "yaxis": {
         "color": "#AAAAAA",
         "showgrid": false,
         "tickfont": {
          "color": "#444444",
          "size": 12
         },
         "title": {
          "font": {
           "color": "#AAAAAA"
          },
          "text": ""
         }
        }
       }
      },
      "text/html": [
       "<div>                            <div id=\"a3ff25dd-dfe5-4be7-9f0e-87eace80b53d\" class=\"plotly-graph-div\" style=\"height:600px; width:800px;\"></div>            <script type=\"text/javascript\">                require([\"plotly\"], function(Plotly) {                    window.PLOTLYENV=window.PLOTLYENV || {};                                    if (document.getElementById(\"a3ff25dd-dfe5-4be7-9f0e-87eace80b53d\")) {                    Plotly.newPlot(                        \"a3ff25dd-dfe5-4be7-9f0e-87eace80b53d\",                        [{\"hoverinfo\":\"none\",\"marker\":{\"color\":\"lightgray\"},\"name\":\"lightgray\",\"orientation\":\"h\",\"text\":[-0.194,-0.167,-0.08,-0.054],\"textfont\":{\"color\":\"#444444\",\"size\":12},\"textposition\":\"auto\",\"x\":[-0.1938449374104945,-0.16693791749432302,-0.0804952248890013,-0.05404804498561681],\"y\":[\" Microsoft Access\",\" None\",\" Oracle Database\",\" PostgresSQL\"],\"type\":\"bar\"},{\"hoverinfo\":\"none\",\"marker\":{\"color\":\"cornflowerblue\"},\"name\":\"cornflowerblue\",\"orientation\":\"h\",\"text\":[0.038,0.105,0.412],\"textfont\":{\"color\":\"#444444\",\"size\":12},\"textposition\":\"auto\",\"x\":[0.03830328444621977,0.10489196795568233,0.41220163369696156],\"y\":[\" SQLite\",\" Microsoft SQL Server\",\" AWS Relational Database Service\"],\"type\":\"bar\"}],                        {\"height\":600,\"margin\":{\"l\":300},\"showlegend\":false,\"template\":{\"data\":{\"scatter\":[{\"type\":\"scatter\"}]}},\"title\":{\"text\":\"<b> Q29. Which of the following relational database<br>products have you used at work or school<br>in the last 5 years?</b>\"},\"width\":800,\"xaxis\":{\"color\":\"#AAAAAA\",\"showgrid\":false,\"title\":{\"font\":{\"color\":\"#AAAAAA\"},\"text\":\"Model Coefficient\"}},\"yaxis\":{\"color\":\"#AAAAAA\",\"showgrid\":false,\"tickfont\":{\"color\":\"#444444\",\"size\":12},\"title\":{\"font\":{\"color\":\"#AAAAAA\"},\"text\":\"\"}}},                        {\"responsive\": true}                    ).then(function(){\n",
       "                            \n",
       "var gd = document.getElementById('a3ff25dd-dfe5-4be7-9f0e-87eace80b53d');\n",
       "var x = new MutationObserver(function (mutations, observer) {{\n",
       "        var display = window.getComputedStyle(gd).display;\n",
       "        if (!display || display === 'none') {{\n",
       "            console.log([gd, 'removed!']);\n",
       "            Plotly.purge(gd);\n",
       "            observer.disconnect();\n",
       "        }}\n",
       "}});\n",
       "\n",
       "// Listen for the removal of the full notebook cells\n",
       "var notebookContainer = gd.closest('#notebook-container');\n",
       "if (notebookContainer) {{\n",
       "    x.observe(notebookContainer, {childList: true});\n",
       "}}\n",
       "\n",
       "// Listen for the clearing of the current output cell\n",
       "var outputEl = gd.closest('.output');\n",
       "if (outputEl) {{\n",
       "    x.observe(outputEl, {childList: true});\n",
       "}}\n",
       "\n",
       "                        })                };                });            </script>        </div>"
      ]
     },
     "metadata": {},
     "output_type": "display_data"
    }
   ],
   "source": [
    "plot_result('Q29')"
   ]
  },
  {
   "cell_type": "markdown",
   "metadata": {
    "_uuid": "b6d1e9483fc57cd3810a7813d987ae2d0e779666"
   },
   "source": [
    "Using AWS RDS will greatly increase your skills. Using Microsoft Access or not using any relational database decreasees your probability of earning more. The takeaway is: learn and use relational databases, and if you can choose, go with RDS.\n",
    "\n",
    "---"
   ]
  },
  {
   "cell_type": "code",
   "execution_count": 66,
   "metadata": {
    "_kg_hide-input": true,
    "_uuid": "055e9431583e629eed97d0f4ba7f7265eaf864eb"
   },
   "outputs": [
    {
     "data": {
      "application/vnd.plotly.v1+json": {
       "config": {
        "linkText": "Export to plot.ly",
        "plotlyServerURL": "https://plot.ly",
        "showLink": false
       },
       "data": [
        {
         "hoverinfo": "none",
         "marker": {
          "color": "lightgray"
         },
         "name": "lightgray",
         "orientation": "h",
         "text": [
          -0.128,
          -0.075,
          -0.063,
          -0.057
         ],
         "textfont": {
          "color": "#444444",
          "size": 12
         },
         "textposition": "auto",
         "type": "bar",
         "x": [
          -0.12775131394829992,
          -0.07452982576713216,
          -0.06275902739629861,
          -0.057133483853763795
         ],
         "y": [
          " Numerical Data",
          " Sensor Data",
          " Text Data",
          " Image Data"
         ]
        },
        {
         "hoverinfo": "none",
         "marker": {
          "color": "cornflowerblue"
         },
         "name": "cornflowerblue",
         "orientation": "h",
         "text": [
          0.022,
          0.039,
          0.137,
          0.182,
          0.403,
          0.486
         ],
         "textfont": {
          "color": "#444444",
          "size": 12
         },
         "textposition": "auto",
         "type": "bar",
         "x": [
          0.02175995460733804,
          0.03867350538792709,
          0.1365342712988389,
          0.18228881537053232,
          0.4028034834073849,
          0.48551421506638104
         ],
         "y": [
          " Categorical Data",
          " Tabular Data",
          " Time Series Data",
          " Geospatial Data",
          " Video Data",
          " Genetic Data"
         ]
        }
       ],
       "layout": {
        "height": 600,
        "margin": {
         "l": 300
        },
        "showlegend": false,
        "template": {
         "data": {
          "scatter": [
           {
            "type": "scatter"
           }
          ]
         }
        },
        "title": {
         "text": "<b> Q31. Which types of data do you<br>currently interact with most often at work or<br>school?</b>"
        },
        "width": 800,
        "xaxis": {
         "color": "#AAAAAA",
         "showgrid": false,
         "title": {
          "font": {
           "color": "#AAAAAA"
          },
          "text": "Model Coefficient"
         }
        },
        "yaxis": {
         "color": "#AAAAAA",
         "showgrid": false,
         "tickfont": {
          "color": "#444444",
          "size": 12
         },
         "title": {
          "font": {
           "color": "#AAAAAA"
          },
          "text": ""
         }
        }
       }
      },
      "text/html": [
       "<div>                            <div id=\"a4e48ca1-6822-44ce-a797-b07cff286ea0\" class=\"plotly-graph-div\" style=\"height:600px; width:800px;\"></div>            <script type=\"text/javascript\">                require([\"plotly\"], function(Plotly) {                    window.PLOTLYENV=window.PLOTLYENV || {};                                    if (document.getElementById(\"a4e48ca1-6822-44ce-a797-b07cff286ea0\")) {                    Plotly.newPlot(                        \"a4e48ca1-6822-44ce-a797-b07cff286ea0\",                        [{\"hoverinfo\":\"none\",\"marker\":{\"color\":\"lightgray\"},\"name\":\"lightgray\",\"orientation\":\"h\",\"text\":[-0.128,-0.075,-0.063,-0.057],\"textfont\":{\"color\":\"#444444\",\"size\":12},\"textposition\":\"auto\",\"x\":[-0.12775131394829992,-0.07452982576713216,-0.06275902739629861,-0.057133483853763795],\"y\":[\" Numerical Data\",\" Sensor Data\",\" Text Data\",\" Image Data\"],\"type\":\"bar\"},{\"hoverinfo\":\"none\",\"marker\":{\"color\":\"cornflowerblue\"},\"name\":\"cornflowerblue\",\"orientation\":\"h\",\"text\":[0.022,0.039,0.137,0.182,0.403,0.486],\"textfont\":{\"color\":\"#444444\",\"size\":12},\"textposition\":\"auto\",\"x\":[0.02175995460733804,0.03867350538792709,0.1365342712988389,0.18228881537053232,0.4028034834073849,0.48551421506638104],\"y\":[\" Categorical Data\",\" Tabular Data\",\" Time Series Data\",\" Geospatial Data\",\" Video Data\",\" Genetic Data\"],\"type\":\"bar\"}],                        {\"height\":600,\"margin\":{\"l\":300},\"showlegend\":false,\"template\":{\"data\":{\"scatter\":[{\"type\":\"scatter\"}]}},\"title\":{\"text\":\"<b> Q31. Which types of data do you<br>currently interact with most often at work or<br>school?</b>\"},\"width\":800,\"xaxis\":{\"color\":\"#AAAAAA\",\"showgrid\":false,\"title\":{\"font\":{\"color\":\"#AAAAAA\"},\"text\":\"Model Coefficient\"}},\"yaxis\":{\"color\":\"#AAAAAA\",\"showgrid\":false,\"tickfont\":{\"color\":\"#444444\",\"size\":12},\"title\":{\"font\":{\"color\":\"#AAAAAA\"},\"text\":\"\"}}},                        {\"responsive\": true}                    ).then(function(){\n",
       "                            \n",
       "var gd = document.getElementById('a4e48ca1-6822-44ce-a797-b07cff286ea0');\n",
       "var x = new MutationObserver(function (mutations, observer) {{\n",
       "        var display = window.getComputedStyle(gd).display;\n",
       "        if (!display || display === 'none') {{\n",
       "            console.log([gd, 'removed!']);\n",
       "            Plotly.purge(gd);\n",
       "            observer.disconnect();\n",
       "        }}\n",
       "}});\n",
       "\n",
       "// Listen for the removal of the full notebook cells\n",
       "var notebookContainer = gd.closest('#notebook-container');\n",
       "if (notebookContainer) {{\n",
       "    x.observe(notebookContainer, {childList: true});\n",
       "}}\n",
       "\n",
       "// Listen for the clearing of the current output cell\n",
       "var outputEl = gd.closest('.output');\n",
       "if (outputEl) {{\n",
       "    x.observe(outputEl, {childList: true});\n",
       "}}\n",
       "\n",
       "                        })                };                });            </script>        </div>"
      ]
     },
     "metadata": {},
     "output_type": "display_data"
    }
   ],
   "source": [
    "plot_result('Q31')"
   ]
  },
  {
   "cell_type": "markdown",
   "metadata": {
    "_uuid": "3c71f3e87e8aad6947b511f0c4b1395fb6d5b220"
   },
   "source": [
    "Working with Genetic and Video Data will add more value to your resume. If aren't that exotic, then it's good to know that Geospatial and Time Series Data will also boost your carrer! Everyone works with Numerical Data, so learn the basics, then go to more advanced data types if you want to have good news on your pay check.\n",
    "\n",
    "---"
   ]
  },
  {
   "cell_type": "code",
   "execution_count": 67,
   "metadata": {
    "_kg_hide-input": true,
    "_uuid": "181787669ccedd08ec5e696a1de14f53f227308d"
   },
   "outputs": [
    {
     "data": {
      "application/vnd.plotly.v1+json": {
       "config": {
        "linkText": "Export to plot.ly",
        "plotlyServerURL": "https://plot.ly",
        "showLink": false
       },
       "data": [
        {
         "hoverinfo": "none",
         "marker": {
          "color": "lightgray"
         },
         "name": "lightgray",
         "orientation": "h",
         "text": [
          -0.414,
          -0.315,
          -0.157,
          -0.081,
          -0.07,
          -0.065
         ],
         "textfont": {
          "color": "#444444",
          "size": 12
         },
         "textposition": "auto",
         "type": "bar",
         "x": [
          -0.4138181138428582,
          -0.3149519388141797,
          -0.1566773102022381,
          -0.08088327437558818,
          -0.06982524769311821,
          -0.06533908385444907
         ],
         "y": [
          " DataCamp",
          " Kaggle Learn",
          " Udacity",
          " Coursera",
          " Udemy",
          " edX"
         ]
        },
        {
         "hoverinfo": "none",
         "marker": {
          "color": "cornflowerblue"
         },
         "name": "cornflowerblue",
         "orientation": "h",
         "text": [
          0.119,
          0.368,
          0.422,
          0.671
         ],
         "textfont": {
          "color": "#444444",
          "size": 12
         },
         "textposition": "auto",
         "type": "bar",
         "x": [
          0.11854051596902608,
          0.3677800575525901,
          0.4223823113013277,
          0.6712245820060938
         ],
         "y": [
          " None",
          " Online University Courses",
          " Other",
          " developers.google.com"
         ]
        }
       ],
       "layout": {
        "height": 600,
        "margin": {
         "l": 300
        },
        "showlegend": false,
        "template": {
         "data": {
          "scatter": [
           {
            "type": "scatter"
           }
          ]
         }
        },
        "title": {
         "text": "<b> Q36. On which online platforms have you<br>begun or completed data science courses?</b>"
        },
        "width": 800,
        "xaxis": {
         "color": "#AAAAAA",
         "showgrid": false,
         "title": {
          "font": {
           "color": "#AAAAAA"
          },
          "text": "Model Coefficient"
         }
        },
        "yaxis": {
         "color": "#AAAAAA",
         "showgrid": false,
         "tickfont": {
          "color": "#444444",
          "size": 12
         },
         "title": {
          "font": {
           "color": "#AAAAAA"
          },
          "text": ""
         }
        }
       }
      },
      "text/html": [
       "<div>                            <div id=\"2b1e456b-2fd9-4959-9b04-057f7a7ce593\" class=\"plotly-graph-div\" style=\"height:600px; width:800px;\"></div>            <script type=\"text/javascript\">                require([\"plotly\"], function(Plotly) {                    window.PLOTLYENV=window.PLOTLYENV || {};                                    if (document.getElementById(\"2b1e456b-2fd9-4959-9b04-057f7a7ce593\")) {                    Plotly.newPlot(                        \"2b1e456b-2fd9-4959-9b04-057f7a7ce593\",                        [{\"hoverinfo\":\"none\",\"marker\":{\"color\":\"lightgray\"},\"name\":\"lightgray\",\"orientation\":\"h\",\"text\":[-0.414,-0.315,-0.157,-0.081,-0.07,-0.065],\"textfont\":{\"color\":\"#444444\",\"size\":12},\"textposition\":\"auto\",\"x\":[-0.4138181138428582,-0.3149519388141797,-0.1566773102022381,-0.08088327437558818,-0.06982524769311821,-0.06533908385444907],\"y\":[\" DataCamp\",\" Kaggle Learn\",\" Udacity\",\" Coursera\",\" Udemy\",\" edX\"],\"type\":\"bar\"},{\"hoverinfo\":\"none\",\"marker\":{\"color\":\"cornflowerblue\"},\"name\":\"cornflowerblue\",\"orientation\":\"h\",\"text\":[0.119,0.368,0.422,0.671],\"textfont\":{\"color\":\"#444444\",\"size\":12},\"textposition\":\"auto\",\"x\":[0.11854051596902608,0.3677800575525901,0.4223823113013277,0.6712245820060938],\"y\":[\" None\",\" Online University Courses\",\" Other\",\" developers.google.com\"],\"type\":\"bar\"}],                        {\"height\":600,\"margin\":{\"l\":300},\"showlegend\":false,\"template\":{\"data\":{\"scatter\":[{\"type\":\"scatter\"}]}},\"title\":{\"text\":\"<b> Q36. On which online platforms have you<br>begun or completed data science courses?</b>\"},\"width\":800,\"xaxis\":{\"color\":\"#AAAAAA\",\"showgrid\":false,\"title\":{\"font\":{\"color\":\"#AAAAAA\"},\"text\":\"Model Coefficient\"}},\"yaxis\":{\"color\":\"#AAAAAA\",\"showgrid\":false,\"tickfont\":{\"color\":\"#444444\",\"size\":12},\"title\":{\"font\":{\"color\":\"#AAAAAA\"},\"text\":\"\"}}},                        {\"responsive\": true}                    ).then(function(){\n",
       "                            \n",
       "var gd = document.getElementById('2b1e456b-2fd9-4959-9b04-057f7a7ce593');\n",
       "var x = new MutationObserver(function (mutations, observer) {{\n",
       "        var display = window.getComputedStyle(gd).display;\n",
       "        if (!display || display === 'none') {{\n",
       "            console.log([gd, 'removed!']);\n",
       "            Plotly.purge(gd);\n",
       "            observer.disconnect();\n",
       "        }}\n",
       "}});\n",
       "\n",
       "// Listen for the removal of the full notebook cells\n",
       "var notebookContainer = gd.closest('#notebook-container');\n",
       "if (notebookContainer) {{\n",
       "    x.observe(notebookContainer, {childList: true});\n",
       "}}\n",
       "\n",
       "// Listen for the clearing of the current output cell\n",
       "var outputEl = gd.closest('.output');\n",
       "if (outputEl) {{\n",
       "    x.observe(outputEl, {childList: true});\n",
       "}}\n",
       "\n",
       "                        })                };                });            </script>        </div>"
      ]
     },
     "metadata": {},
     "output_type": "display_data"
    }
   ],
   "source": [
    "plot_result('Q36')"
   ]
  },
  {
   "cell_type": "markdown",
   "metadata": {
    "_kg_hide-input": false,
    "_uuid": "5b6fceab219845f18e4bebf5caa4977e094b4d9c"
   },
   "source": [
    "When the subject is belonging to the Top 20%, then doing certified couses at developers.google.com or Online University Courses are probably the most profitable investments. Online courses are probably negatively associated with compensation because most people who are starting in the field are learning at those platforms, we might see a shift here over the next years.\n",
    "\n",
    "---"
   ]
  },
  {
   "cell_type": "code",
   "execution_count": 68,
   "metadata": {
    "_kg_hide-input": true,
    "_uuid": "a38224b925cd574facaa251346e00b87b14ca909"
   },
   "outputs": [
    {
     "data": {
      "application/vnd.plotly.v1+json": {
       "config": {
        "linkText": "Export to plot.ly",
        "plotlyServerURL": "https://plot.ly",
        "showLink": false
       },
       "data": [
        {
         "hoverinfo": "none",
         "marker": {
          "color": "lightgray"
         },
         "name": "lightgray",
         "orientation": "h",
         "text": [
          -0.434,
          -0.208,
          -0.169,
          -0.112,
          -0.095,
          -0.008
         ],
         "textfont": {
          "color": "#444444",
          "size": 12
         },
         "textposition": "auto",
         "type": "bar",
         "x": [
          -0.4342769936122769,
          -0.20825808006340582,
          -0.16855223633357644,
          -0.11216226584711803,
          -0.09476047119849083,
          -0.008036500949885053
         ],
         "y": [
          " Kaggle forums",
          " Other",
          " Journal Publications",
          " Medium Blog Posts",
          " None/I do not know",
          " Siraj Raval YouTube Channel"
         ]
        },
        {
         "hoverinfo": "none",
         "marker": {
          "color": "cornflowerblue"
         },
         "name": "cornflowerblue",
         "orientation": "h",
         "text": [
          0.006,
          0.009,
          0.098,
          0.144,
          0.209,
          0.216,
          0.217
         ],
         "textfont": {
          "color": "#444444",
          "size": 12
         },
         "textposition": "auto",
         "type": "bar",
         "x": [
          0.0061383616334208255,
          0.009244189881266546,
          0.09820002495449158,
          0.14393853410286858,
          0.20861642882363574,
          0.21627186104222812,
          0.21747251894310005
         ],
         "y": [
          " Hacker News",
          " Twitter",
          " KDnuggets Blog",
          " ArXiv & Preprints",
          " O'Reilly Data Newsletter",
          " FiveThirtyEight.com",
          " r/machinelearning"
         ]
        }
       ],
       "layout": {
        "height": 600,
        "margin": {
         "l": 300
        },
        "showlegend": false,
        "template": {
         "data": {
          "scatter": [
           {
            "type": "scatter"
           }
          ]
         }
        },
        "title": {
         "text": "<b> Q38. Who/what are your favorite media sources<br>that report on data science topics?</b>"
        },
        "width": 800,
        "xaxis": {
         "color": "#AAAAAA",
         "showgrid": false,
         "title": {
          "font": {
           "color": "#AAAAAA"
          },
          "text": "Model Coefficient"
         }
        },
        "yaxis": {
         "color": "#AAAAAA",
         "showgrid": false,
         "tickfont": {
          "color": "#444444",
          "size": 12
         },
         "title": {
          "font": {
           "color": "#AAAAAA"
          },
          "text": ""
         }
        }
       }
      },
      "text/html": [
       "<div>                            <div id=\"31b521a9-c710-4a53-b4d6-2fd23893aeb2\" class=\"plotly-graph-div\" style=\"height:600px; width:800px;\"></div>            <script type=\"text/javascript\">                require([\"plotly\"], function(Plotly) {                    window.PLOTLYENV=window.PLOTLYENV || {};                                    if (document.getElementById(\"31b521a9-c710-4a53-b4d6-2fd23893aeb2\")) {                    Plotly.newPlot(                        \"31b521a9-c710-4a53-b4d6-2fd23893aeb2\",                        [{\"hoverinfo\":\"none\",\"marker\":{\"color\":\"lightgray\"},\"name\":\"lightgray\",\"orientation\":\"h\",\"text\":[-0.434,-0.208,-0.169,-0.112,-0.095,-0.008],\"textfont\":{\"color\":\"#444444\",\"size\":12},\"textposition\":\"auto\",\"x\":[-0.4342769936122769,-0.20825808006340582,-0.16855223633357644,-0.11216226584711803,-0.09476047119849083,-0.008036500949885053],\"y\":[\" Kaggle forums\",\" Other\",\" Journal Publications\",\" Medium Blog Posts\",\" None/I do not know\",\" Siraj Raval YouTube Channel\"],\"type\":\"bar\"},{\"hoverinfo\":\"none\",\"marker\":{\"color\":\"cornflowerblue\"},\"name\":\"cornflowerblue\",\"orientation\":\"h\",\"text\":[0.006,0.009,0.098,0.144,0.209,0.216,0.217],\"textfont\":{\"color\":\"#444444\",\"size\":12},\"textposition\":\"auto\",\"x\":[0.0061383616334208255,0.009244189881266546,0.09820002495449158,0.14393853410286858,0.20861642882363574,0.21627186104222812,0.21747251894310005],\"y\":[\" Hacker News\",\" Twitter\",\" KDnuggets Blog\",\" ArXiv & Preprints\",\" O'Reilly Data Newsletter\",\" FiveThirtyEight.com\",\" r/machinelearning\"],\"type\":\"bar\"}],                        {\"height\":600,\"margin\":{\"l\":300},\"showlegend\":false,\"template\":{\"data\":{\"scatter\":[{\"type\":\"scatter\"}]}},\"title\":{\"text\":\"<b> Q38. Who/what are your favorite media sources<br>that report on data science topics?</b>\"},\"width\":800,\"xaxis\":{\"color\":\"#AAAAAA\",\"showgrid\":false,\"title\":{\"font\":{\"color\":\"#AAAAAA\"},\"text\":\"Model Coefficient\"}},\"yaxis\":{\"color\":\"#AAAAAA\",\"showgrid\":false,\"tickfont\":{\"color\":\"#444444\",\"size\":12},\"title\":{\"font\":{\"color\":\"#AAAAAA\"},\"text\":\"\"}}},                        {\"responsive\": true}                    ).then(function(){\n",
       "                            \n",
       "var gd = document.getElementById('31b521a9-c710-4a53-b4d6-2fd23893aeb2');\n",
       "var x = new MutationObserver(function (mutations, observer) {{\n",
       "        var display = window.getComputedStyle(gd).display;\n",
       "        if (!display || display === 'none') {{\n",
       "            console.log([gd, 'removed!']);\n",
       "            Plotly.purge(gd);\n",
       "            observer.disconnect();\n",
       "        }}\n",
       "}});\n",
       "\n",
       "// Listen for the removal of the full notebook cells\n",
       "var notebookContainer = gd.closest('#notebook-container');\n",
       "if (notebookContainer) {{\n",
       "    x.observe(notebookContainer, {childList: true});\n",
       "}}\n",
       "\n",
       "// Listen for the clearing of the current output cell\n",
       "var outputEl = gd.closest('.output');\n",
       "if (outputEl) {{\n",
       "    x.observe(outputEl, {childList: true});\n",
       "}}\n",
       "\n",
       "                        })                };                });            </script>        </div>"
      ]
     },
     "metadata": {},
     "output_type": "display_data"
    }
   ],
   "source": [
    "plot_result('Q38')"
   ]
  },
  {
   "cell_type": "markdown",
   "metadata": {
    "_uuid": "fd9b1a5c680a36fd944616b6788f8d2307a1ee98"
   },
   "source": [
    "Get informed on Reddit,  FiveThirtyEight.com or O'Reilly Data Newsletter.  Read machine learning scientific papers on ArXiv.\n",
    "\n",
    "---"
   ]
  },
  {
   "cell_type": "code",
   "execution_count": 69,
   "metadata": {
    "_kg_hide-input": true,
    "_uuid": "84c98670b02a958098d6c174e2b65d8d52b6554b"
   },
   "outputs": [
    {
     "data": {
      "application/vnd.plotly.v1+json": {
       "config": {
        "linkText": "Export to plot.ly",
        "plotlyServerURL": "https://plot.ly",
        "showLink": false
       },
       "data": [
        {
         "hoverinfo": "none",
         "marker": {
          "color": "lightgray"
         },
         "name": "lightgray",
         "orientation": "h",
         "text": [
          -0.134,
          -0.027
         ],
         "textfont": {
          "color": "#444444",
          "size": 12
         },
         "textposition": "auto",
         "type": "bar",
         "x": [
          -0.13431089526381332,
          -0.027468560397553268
         ],
         "y": [
          " Independent projects are equally<br>important as academic achievements",
          " Independent projects are much<br>more important than academic achievements"
         ]
        },
        {
         "hoverinfo": "none",
         "marker": {
          "color": "cornflowerblue"
         },
         "name": "cornflowerblue",
         "orientation": "h",
         "text": [
          0.001
         ],
         "textfont": {
          "color": "#444444",
          "size": 12
         },
         "textposition": "auto",
         "type": "bar",
         "x": [
          0.0010408887947696717
         ],
         "y": [
          " Independent projects are slightly<br>more important than academic achievements"
         ]
        }
       ],
       "layout": {
        "height": 600,
        "margin": {
         "l": 300
        },
        "showlegend": false,
        "template": {
         "data": {
          "scatter": [
           {
            "type": "scatter"
           }
          ]
         }
        },
        "title": {
         "text": "<b> Q40. Which better demonstrates expertise in data<br>science: academic achievements or independent projects? </b>"
        },
        "width": 800,
        "xaxis": {
         "color": "#AAAAAA",
         "showgrid": false,
         "title": {
          "font": {
           "color": "#AAAAAA"
          },
          "text": "Model Coefficient"
         }
        },
        "yaxis": {
         "color": "#AAAAAA",
         "showgrid": false,
         "tickfont": {
          "color": "#444444",
          "size": 12
         },
         "title": {
          "font": {
           "color": "#AAAAAA"
          },
          "text": ""
         }
        }
       }
      },
      "text/html": [
       "<div>                            <div id=\"b7b69d4e-cadb-4522-b440-124626e379d3\" class=\"plotly-graph-div\" style=\"height:600px; width:800px;\"></div>            <script type=\"text/javascript\">                require([\"plotly\"], function(Plotly) {                    window.PLOTLYENV=window.PLOTLYENV || {};                                    if (document.getElementById(\"b7b69d4e-cadb-4522-b440-124626e379d3\")) {                    Plotly.newPlot(                        \"b7b69d4e-cadb-4522-b440-124626e379d3\",                        [{\"hoverinfo\":\"none\",\"marker\":{\"color\":\"lightgray\"},\"name\":\"lightgray\",\"orientation\":\"h\",\"text\":[-0.134,-0.027],\"textfont\":{\"color\":\"#444444\",\"size\":12},\"textposition\":\"auto\",\"x\":[-0.13431089526381332,-0.027468560397553268],\"y\":[\" Independent projects are equally<br>important as academic achievements\",\" Independent projects are much<br>more important than academic achievements\"],\"type\":\"bar\"},{\"hoverinfo\":\"none\",\"marker\":{\"color\":\"cornflowerblue\"},\"name\":\"cornflowerblue\",\"orientation\":\"h\",\"text\":[0.001],\"textfont\":{\"color\":\"#444444\",\"size\":12},\"textposition\":\"auto\",\"x\":[0.0010408887947696717],\"y\":[\" Independent projects are slightly<br>more important than academic achievements\"],\"type\":\"bar\"}],                        {\"height\":600,\"margin\":{\"l\":300},\"showlegend\":false,\"template\":{\"data\":{\"scatter\":[{\"type\":\"scatter\"}]}},\"title\":{\"text\":\"<b> Q40. Which better demonstrates expertise in data<br>science: academic achievements or independent projects? </b>\"},\"width\":800,\"xaxis\":{\"color\":\"#AAAAAA\",\"showgrid\":false,\"title\":{\"font\":{\"color\":\"#AAAAAA\"},\"text\":\"Model Coefficient\"}},\"yaxis\":{\"color\":\"#AAAAAA\",\"showgrid\":false,\"tickfont\":{\"color\":\"#444444\",\"size\":12},\"title\":{\"font\":{\"color\":\"#AAAAAA\"},\"text\":\"\"}}},                        {\"responsive\": true}                    ).then(function(){\n",
       "                            \n",
       "var gd = document.getElementById('b7b69d4e-cadb-4522-b440-124626e379d3');\n",
       "var x = new MutationObserver(function (mutations, observer) {{\n",
       "        var display = window.getComputedStyle(gd).display;\n",
       "        if (!display || display === 'none') {{\n",
       "            console.log([gd, 'removed!']);\n",
       "            Plotly.purge(gd);\n",
       "            observer.disconnect();\n",
       "        }}\n",
       "}});\n",
       "\n",
       "// Listen for the removal of the full notebook cells\n",
       "var notebookContainer = gd.closest('#notebook-container');\n",
       "if (notebookContainer) {{\n",
       "    x.observe(notebookContainer, {childList: true});\n",
       "}}\n",
       "\n",
       "// Listen for the clearing of the current output cell\n",
       "var outputEl = gd.closest('.output');\n",
       "if (outputEl) {{\n",
       "    x.observe(outputEl, {childList: true});\n",
       "}}\n",
       "\n",
       "                        })                };                });            </script>        </div>"
      ]
     },
     "metadata": {},
     "output_type": "display_data"
    }
   ],
   "source": [
    "plot_result('Q40')"
   ]
  },
  {
   "cell_type": "markdown",
   "metadata": {
    "_uuid": "deae751e59bab9feb44bd7e0b4243841f522676d"
   },
   "source": [
    "The top 20% don't think that independent projects are equally important as academic achievements.\n",
    "\n",
    "---"
   ]
  },
  {
   "cell_type": "code",
   "execution_count": 70,
   "metadata": {
    "_kg_hide-input": true,
    "_uuid": "f258811e4105c18c76002a159eba04feb1fd133a"
   },
   "outputs": [
    {
     "data": {
      "application/vnd.plotly.v1+json": {
       "config": {
        "linkText": "Export to plot.ly",
        "plotlyServerURL": "https://plot.ly",
        "showLink": false
       },
       "data": [
        {
         "hoverinfo": "none",
         "marker": {
          "color": "lightgray"
         },
         "name": "lightgray",
         "orientation": "h",
         "text": [
          -0.144
         ],
         "textfont": {
          "color": "#444444",
          "size": 12
         },
         "textposition": "auto",
         "type": "bar",
         "x": [
          -0.144293190520295
         ],
         "y": [
          " Metrics that consider accuracy"
         ]
        },
        {
         "hoverinfo": "none",
         "marker": {
          "color": "cornflowerblue"
         },
         "name": "cornflowerblue",
         "orientation": "h",
         "text": [
          0.101,
          0.423,
          0.475
         ],
         "textfont": {
          "color": "#444444",
          "size": 12
         },
         "textposition": "auto",
         "type": "bar",
         "x": [
          0.10147733558357057,
          0.4226106192323594,
          0.4754348999400067
         ],
         "y": [
          " Metrics that consider unfair<br>bias",
          " Revenue and/or business goals",
          " Not applicable (I am<br>not involved with an organization<br>that builds ML models)"
         ]
        }
       ],
       "layout": {
        "height": 600,
        "margin": {
         "l": 300
        },
        "showlegend": false,
        "template": {
         "data": {
          "scatter": [
           {
            "type": "scatter"
           }
          ]
         }
        },
        "title": {
         "text": "<b> Q42. What metrics do you or your<br>organization use to determine whether or not your<br>models were successful?</b>"
        },
        "width": 800,
        "xaxis": {
         "color": "#AAAAAA",
         "showgrid": false,
         "title": {
          "font": {
           "color": "#AAAAAA"
          },
          "text": "Model Coefficient"
         }
        },
        "yaxis": {
         "color": "#AAAAAA",
         "showgrid": false,
         "tickfont": {
          "color": "#444444",
          "size": 12
         },
         "title": {
          "font": {
           "color": "#AAAAAA"
          },
          "text": ""
         }
        }
       }
      },
      "text/html": [
       "<div>                            <div id=\"08728b98-4b30-499a-8bf4-378aa3334155\" class=\"plotly-graph-div\" style=\"height:600px; width:800px;\"></div>            <script type=\"text/javascript\">                require([\"plotly\"], function(Plotly) {                    window.PLOTLYENV=window.PLOTLYENV || {};                                    if (document.getElementById(\"08728b98-4b30-499a-8bf4-378aa3334155\")) {                    Plotly.newPlot(                        \"08728b98-4b30-499a-8bf4-378aa3334155\",                        [{\"hoverinfo\":\"none\",\"marker\":{\"color\":\"lightgray\"},\"name\":\"lightgray\",\"orientation\":\"h\",\"text\":[-0.144],\"textfont\":{\"color\":\"#444444\",\"size\":12},\"textposition\":\"auto\",\"x\":[-0.144293190520295],\"y\":[\" Metrics that consider accuracy\"],\"type\":\"bar\"},{\"hoverinfo\":\"none\",\"marker\":{\"color\":\"cornflowerblue\"},\"name\":\"cornflowerblue\",\"orientation\":\"h\",\"text\":[0.101,0.423,0.475],\"textfont\":{\"color\":\"#444444\",\"size\":12},\"textposition\":\"auto\",\"x\":[0.10147733558357057,0.4226106192323594,0.4754348999400067],\"y\":[\" Metrics that consider unfair<br>bias\",\" Revenue and/or business goals\",\" Not applicable (I am<br>not involved with an organization<br>that builds ML models)\"],\"type\":\"bar\"}],                        {\"height\":600,\"margin\":{\"l\":300},\"showlegend\":false,\"template\":{\"data\":{\"scatter\":[{\"type\":\"scatter\"}]}},\"title\":{\"text\":\"<b> Q42. What metrics do you or your<br>organization use to determine whether or not your<br>models were successful?</b>\"},\"width\":800,\"xaxis\":{\"color\":\"#AAAAAA\",\"showgrid\":false,\"title\":{\"font\":{\"color\":\"#AAAAAA\"},\"text\":\"Model Coefficient\"}},\"yaxis\":{\"color\":\"#AAAAAA\",\"showgrid\":false,\"tickfont\":{\"color\":\"#444444\",\"size\":12},\"title\":{\"font\":{\"color\":\"#AAAAAA\"},\"text\":\"\"}}},                        {\"responsive\": true}                    ).then(function(){\n",
       "                            \n",
       "var gd = document.getElementById('08728b98-4b30-499a-8bf4-378aa3334155');\n",
       "var x = new MutationObserver(function (mutations, observer) {{\n",
       "        var display = window.getComputedStyle(gd).display;\n",
       "        if (!display || display === 'none') {{\n",
       "            console.log([gd, 'removed!']);\n",
       "            Plotly.purge(gd);\n",
       "            observer.disconnect();\n",
       "        }}\n",
       "}});\n",
       "\n",
       "// Listen for the removal of the full notebook cells\n",
       "var notebookContainer = gd.closest('#notebook-container');\n",
       "if (notebookContainer) {{\n",
       "    x.observe(notebookContainer, {childList: true});\n",
       "}}\n",
       "\n",
       "// Listen for the clearing of the current output cell\n",
       "var outputEl = gd.closest('.output');\n",
       "if (outputEl) {{\n",
       "    x.observe(outputEl, {childList: true});\n",
       "}}\n",
       "\n",
       "                        })                };                });            </script>        </div>"
      ]
     },
     "metadata": {},
     "output_type": "display_data"
    }
   ],
   "source": [
    "plot_result('Q42')"
   ]
  },
  {
   "cell_type": "markdown",
   "metadata": {
    "_uuid": "72b27835c926cb5462088554e833035672dcba0e"
   },
   "source": [
    "Some of the richiest Kagglers are not involved with an organization that builds ML models. But if you are, set the metrics on revenue and business goals.\n",
    "\n",
    "---"
   ]
  },
  {
   "cell_type": "code",
   "execution_count": 71,
   "metadata": {
    "_kg_hide-input": true,
    "_uuid": "c5b49953f7cdb4c64076cd5de4618118da19bdd5"
   },
   "outputs": [
    {
     "data": {
      "application/vnd.plotly.v1+json": {
       "config": {
        "linkText": "Export to plot.ly",
        "plotlyServerURL": "https://plot.ly",
        "showLink": false
       },
       "data": [
        {
         "hoverinfo": "none",
         "marker": {
          "color": "lightgray"
         },
         "name": "lightgray",
         "orientation": "h",
         "text": [
          -0.311,
          -0.257,
          -0.209,
          -0.107,
          -0.037
         ],
         "textfont": {
          "color": "#444444",
          "size": 12
         },
         "textposition": "auto",
         "type": "bar",
         "x": [
          -0.31087691328284334,
          -0.2573676754866568,
          -0.2091776860413266,
          -0.10710617872739736,
          -0.03749333816275193
         ],
         "y": [
          " Plot predicted vs. actual<br>results",
          " None/I do not use<br>these model explanation techniques",
          " Plot decision boundaries",
          " Examine feature correlations",
          " Attention mapping/saliency mapping"
         ]
        },
        {
         "hoverinfo": "none",
         "marker": {
          "color": "cornflowerblue"
         },
         "name": "cornflowerblue",
         "orientation": "h",
         "text": [
          0.019,
          0.079,
          0.079,
          0.108,
          0.227,
          0.402
         ],
         "textfont": {
          "color": "#444444",
          "size": 12
         },
         "textposition": "auto",
         "type": "bar",
         "x": [
          0.019099030207406695,
          0.07863227665689293,
          0.07894919557315336,
          0.10802305329752086,
          0.22686264779521753,
          0.402343753256947
         ],
         "y": [
          " Dimensionality reduction techniques",
          " Create partial dependence plots",
          " LIME functions",
          " Print out a decision<br>tree",
          " Examine individual model coefficients",
          " Sensitivity analysis/perturbation importance"
         ]
        }
       ],
       "layout": {
        "height": 600,
        "margin": {
         "l": 300
        },
        "showlegend": false,
        "template": {
         "data": {
          "scatter": [
           {
            "type": "scatter"
           }
          ]
         }
        },
        "title": {
         "text": "<b> Q47. What methods do you prefer for<br>explaining and/or interpreting decisions that are made by<br>ML models?</b>"
        },
        "width": 800,
        "xaxis": {
         "color": "#AAAAAA",
         "showgrid": false,
         "title": {
          "font": {
           "color": "#AAAAAA"
          },
          "text": "Model Coefficient"
         }
        },
        "yaxis": {
         "color": "#AAAAAA",
         "showgrid": false,
         "tickfont": {
          "color": "#444444",
          "size": 12
         },
         "title": {
          "font": {
           "color": "#AAAAAA"
          },
          "text": ""
         }
        }
       }
      },
      "text/html": [
       "<div>                            <div id=\"312a2608-ac3c-4ce0-94dd-8d440aa9f99d\" class=\"plotly-graph-div\" style=\"height:600px; width:800px;\"></div>            <script type=\"text/javascript\">                require([\"plotly\"], function(Plotly) {                    window.PLOTLYENV=window.PLOTLYENV || {};                                    if (document.getElementById(\"312a2608-ac3c-4ce0-94dd-8d440aa9f99d\")) {                    Plotly.newPlot(                        \"312a2608-ac3c-4ce0-94dd-8d440aa9f99d\",                        [{\"hoverinfo\":\"none\",\"marker\":{\"color\":\"lightgray\"},\"name\":\"lightgray\",\"orientation\":\"h\",\"text\":[-0.311,-0.257,-0.209,-0.107,-0.037],\"textfont\":{\"color\":\"#444444\",\"size\":12},\"textposition\":\"auto\",\"x\":[-0.31087691328284334,-0.2573676754866568,-0.2091776860413266,-0.10710617872739736,-0.03749333816275193],\"y\":[\" Plot predicted vs. actual<br>results\",\" None/I do not use<br>these model explanation techniques\",\" Plot decision boundaries\",\" Examine feature correlations\",\" Attention mapping/saliency mapping\"],\"type\":\"bar\"},{\"hoverinfo\":\"none\",\"marker\":{\"color\":\"cornflowerblue\"},\"name\":\"cornflowerblue\",\"orientation\":\"h\",\"text\":[0.019,0.079,0.079,0.108,0.227,0.402],\"textfont\":{\"color\":\"#444444\",\"size\":12},\"textposition\":\"auto\",\"x\":[0.019099030207406695,0.07863227665689293,0.07894919557315336,0.10802305329752086,0.22686264779521753,0.402343753256947],\"y\":[\" Dimensionality reduction techniques\",\" Create partial dependence plots\",\" LIME functions\",\" Print out a decision<br>tree\",\" Examine individual model coefficients\",\" Sensitivity analysis/perturbation importance\"],\"type\":\"bar\"}],                        {\"height\":600,\"margin\":{\"l\":300},\"showlegend\":false,\"template\":{\"data\":{\"scatter\":[{\"type\":\"scatter\"}]}},\"title\":{\"text\":\"<b> Q47. What methods do you prefer for<br>explaining and/or interpreting decisions that are made by<br>ML models?</b>\"},\"width\":800,\"xaxis\":{\"color\":\"#AAAAAA\",\"showgrid\":false,\"title\":{\"font\":{\"color\":\"#AAAAAA\"},\"text\":\"Model Coefficient\"}},\"yaxis\":{\"color\":\"#AAAAAA\",\"showgrid\":false,\"tickfont\":{\"color\":\"#444444\",\"size\":12},\"title\":{\"font\":{\"color\":\"#AAAAAA\"},\"text\":\"\"}}},                        {\"responsive\": true}                    ).then(function(){\n",
       "                            \n",
       "var gd = document.getElementById('312a2608-ac3c-4ce0-94dd-8d440aa9f99d');\n",
       "var x = new MutationObserver(function (mutations, observer) {{\n",
       "        var display = window.getComputedStyle(gd).display;\n",
       "        if (!display || display === 'none') {{\n",
       "            console.log([gd, 'removed!']);\n",
       "            Plotly.purge(gd);\n",
       "            observer.disconnect();\n",
       "        }}\n",
       "}});\n",
       "\n",
       "// Listen for the removal of the full notebook cells\n",
       "var notebookContainer = gd.closest('#notebook-container');\n",
       "if (notebookContainer) {{\n",
       "    x.observe(notebookContainer, {childList: true});\n",
       "}}\n",
       "\n",
       "// Listen for the clearing of the current output cell\n",
       "var outputEl = gd.closest('.output');\n",
       "if (outputEl) {{\n",
       "    x.observe(outputEl, {childList: true});\n",
       "}}\n",
       "\n",
       "                        })                };                });            </script>        </div>"
      ]
     },
     "metadata": {},
     "output_type": "display_data"
    }
   ],
   "source": [
    "plot_result('Q47')"
   ]
  },
  {
   "cell_type": "markdown",
   "metadata": {
    "_uuid": "ec1259fee63d61db4517359c45414e6d1bde1985"
   },
   "source": [
    "Do you know how to do perturbation importance or sensitivity analysis? If you don't, then it is time to learn. *I hope this article is giving you some hints on examination of model coeficients.*\n",
    "\n",
    "---"
   ]
  },
  {
   "cell_type": "code",
   "execution_count": 72,
   "metadata": {
    "_kg_hide-input": true,
    "_uuid": "359e7a2119f87832de7f4469ce9821c564a8071b"
   },
   "outputs": [
    {
     "data": {
      "application/vnd.plotly.v1+json": {
       "config": {
        "linkText": "Export to plot.ly",
        "plotlyServerURL": "https://plot.ly",
        "showLink": false
       },
       "data": [
        {
         "hoverinfo": "none",
         "marker": {
          "color": "lightgray"
         },
         "name": "lightgray",
         "orientation": "h",
         "text": [
          -0.083
         ],
         "textfont": {
          "color": "#444444",
          "size": 12
         },
         "textposition": "auto",
         "type": "bar",
         "x": [
          -0.08308610965938577
         ],
         "y": [
          " I am confident that<br>I can explain the outputs<br>of most if not all<br>ML models"
         ]
        },
        {
         "hoverinfo": "none",
         "marker": {
          "color": "cornflowerblue"
         },
         "name": "cornflowerblue",
         "orientation": "h",
         "text": [
          0.002,
          0.079,
          0.115,
          0.294
         ],
         "textfont": {
          "color": "#444444",
          "size": 12
         },
         "textposition": "auto",
         "type": "bar",
         "x": [
          0.0018195823231750648,
          0.07876147766516432,
          0.1153767324441614,
          0.2936701974987464
         ],
         "y": [
          " I do not know;<br>I have no opinion on<br>the matter",
          " I view ML models<br>as \"black boxes\" but I<br>am confident that experts are<br>able to explain model outputs",
          " I am confident that<br>I can understand and explain<br>the outputs of many but<br>not all ML models",
          " Yes, most ML models<br>are \"black boxes\""
         ]
        }
       ],
       "layout": {
        "height": 600,
        "margin": {
         "l": 300
        },
        "showlegend": false,
        "template": {
         "data": {
          "scatter": [
           {
            "type": "scatter"
           }
          ]
         }
        },
        "title": {
         "text": "<b> Q48. Do you consider ML models to<br>be \"black boxes\" with outputs that are difficult<br>or impossible to explain?</b>"
        },
        "width": 800,
        "xaxis": {
         "color": "#AAAAAA",
         "showgrid": false,
         "title": {
          "font": {
           "color": "#AAAAAA"
          },
          "text": "Model Coefficient"
         }
        },
        "yaxis": {
         "color": "#AAAAAA",
         "showgrid": false,
         "tickfont": {
          "color": "#444444",
          "size": 12
         },
         "title": {
          "font": {
           "color": "#AAAAAA"
          },
          "text": ""
         }
        }
       }
      },
      "text/html": [
       "<div>                            <div id=\"c45dc480-66b2-4356-b900-09ba48618f50\" class=\"plotly-graph-div\" style=\"height:600px; width:800px;\"></div>            <script type=\"text/javascript\">                require([\"plotly\"], function(Plotly) {                    window.PLOTLYENV=window.PLOTLYENV || {};                                    if (document.getElementById(\"c45dc480-66b2-4356-b900-09ba48618f50\")) {                    Plotly.newPlot(                        \"c45dc480-66b2-4356-b900-09ba48618f50\",                        [{\"hoverinfo\":\"none\",\"marker\":{\"color\":\"lightgray\"},\"name\":\"lightgray\",\"orientation\":\"h\",\"text\":[-0.083],\"textfont\":{\"color\":\"#444444\",\"size\":12},\"textposition\":\"auto\",\"x\":[-0.08308610965938577],\"y\":[\" I am confident that<br>I can explain the outputs<br>of most if not all<br>ML models\"],\"type\":\"bar\"},{\"hoverinfo\":\"none\",\"marker\":{\"color\":\"cornflowerblue\"},\"name\":\"cornflowerblue\",\"orientation\":\"h\",\"text\":[0.002,0.079,0.115,0.294],\"textfont\":{\"color\":\"#444444\",\"size\":12},\"textposition\":\"auto\",\"x\":[0.0018195823231750648,0.07876147766516432,0.1153767324441614,0.2936701974987464],\"y\":[\" I do not know;<br>I have no opinion on<br>the matter\",\" I view ML models<br>as \\\"black boxes\\\" but I<br>am confident that experts are<br>able to explain model outputs\",\" I am confident that<br>I can understand and explain<br>the outputs of many but<br>not all ML models\",\" Yes, most ML models<br>are \\\"black boxes\\\"\"],\"type\":\"bar\"}],                        {\"height\":600,\"margin\":{\"l\":300},\"showlegend\":false,\"template\":{\"data\":{\"scatter\":[{\"type\":\"scatter\"}]}},\"title\":{\"text\":\"<b> Q48. Do you consider ML models to<br>be \\\"black boxes\\\" with outputs that are difficult<br>or impossible to explain?</b>\"},\"width\":800,\"xaxis\":{\"color\":\"#AAAAAA\",\"showgrid\":false,\"title\":{\"font\":{\"color\":\"#AAAAAA\"},\"text\":\"Model Coefficient\"}},\"yaxis\":{\"color\":\"#AAAAAA\",\"showgrid\":false,\"tickfont\":{\"color\":\"#444444\",\"size\":12},\"title\":{\"font\":{\"color\":\"#AAAAAA\"},\"text\":\"\"}}},                        {\"responsive\": true}                    ).then(function(){\n",
       "                            \n",
       "var gd = document.getElementById('c45dc480-66b2-4356-b900-09ba48618f50');\n",
       "var x = new MutationObserver(function (mutations, observer) {{\n",
       "        var display = window.getComputedStyle(gd).display;\n",
       "        if (!display || display === 'none') {{\n",
       "            console.log([gd, 'removed!']);\n",
       "            Plotly.purge(gd);\n",
       "            observer.disconnect();\n",
       "        }}\n",
       "}});\n",
       "\n",
       "// Listen for the removal of the full notebook cells\n",
       "var notebookContainer = gd.closest('#notebook-container');\n",
       "if (notebookContainer) {{\n",
       "    x.observe(notebookContainer, {childList: true});\n",
       "}}\n",
       "\n",
       "// Listen for the clearing of the current output cell\n",
       "var outputEl = gd.closest('.output');\n",
       "if (outputEl) {{\n",
       "    x.observe(outputEl, {childList: true});\n",
       "}}\n",
       "\n",
       "                        })                };                });            </script>        </div>"
      ]
     },
     "metadata": {},
     "output_type": "display_data"
    }
   ],
   "source": [
    "plot_result('Q48')"
   ]
  },
  {
   "cell_type": "markdown",
   "metadata": {
    "_uuid": "ebb9fa8bcfd50d86be3df4b87a95e52e1ee78c09"
   },
   "source": [
    "It seems like the Top20iers are so involved with managerial decisions that they consider ML models as black boxes, and delegate the task of explaining outputs to experts.\n",
    "\n",
    "---"
   ]
  },
  {
   "cell_type": "code",
   "execution_count": 73,
   "metadata": {
    "_kg_hide-input": true,
    "_uuid": "d8081292692e48e045cab72e3b9e9f71d85aca42"
   },
   "outputs": [
    {
     "data": {
      "application/vnd.plotly.v1+json": {
       "config": {
        "linkText": "Export to plot.ly",
        "plotlyServerURL": "https://plot.ly",
        "showLink": false
       },
       "data": [
        {
         "hoverinfo": "none",
         "marker": {
          "color": "lightgray"
         },
         "name": "lightgray",
         "orientation": "h",
         "text": [
          -0.133,
          -0.13,
          -0.05,
          -0.016
         ],
         "textfont": {
          "color": "#444444",
          "size": 12
         },
         "textposition": "auto",
         "type": "bar",
         "x": [
          -0.13335000741626377,
          -0.13036006262936753,
          -0.05010501046384823,
          -0.015816232853672885
         ],
         "y": [
          " Define relative rather than<br>absolute file paths",
          " Share both data and<br>code on Github or a<br>similar code-sharing repository",
          " Share data, code, and<br>environment using a hosted service<br>(Kaggle Kernels, Google Colaboratory, Amazon<br>SageMaker, etc.)",
          " Share code on Github<br>or a similar code-sharing repository"
         ]
        },
        {
         "hoverinfo": "none",
         "marker": {
          "color": "cornflowerblue"
         },
         "name": "cornflowerblue",
         "orientation": "h",
         "text": [
          0.024,
          0.051,
          0.069,
          0.069,
          0.069
         ],
         "textfont": {
          "color": "#444444",
          "size": 12
         },
         "textposition": "auto",
         "type": "bar",
         "x": [
          0.023528084903805396,
          0.0508081111266746,
          0.06886352615488524,
          0.06916754068446652,
          0.06921853879145999
         ],
         "y": [
          " Include a text file<br>describing all dependencies",
          " Make sure the code<br>is well documented",
          " Share data, code, and<br>environment using containers (Docker, etc.)",
          " Share code, data, and<br>environment using virtual machines (VirtualBox,<br>etc.)",
          " Define all random seeds"
         ]
        }
       ],
       "layout": {
        "height": 600,
        "margin": {
         "l": 300
        },
        "showlegend": false,
        "template": {
         "data": {
          "scatter": [
           {
            "type": "scatter"
           }
          ]
         }
        },
        "title": {
         "text": "<b> Q49. What tools and methods do you<br>use to make your work easy to reproduce?</b>"
        },
        "width": 800,
        "xaxis": {
         "color": "#AAAAAA",
         "showgrid": false,
         "title": {
          "font": {
           "color": "#AAAAAA"
          },
          "text": "Model Coefficient"
         }
        },
        "yaxis": {
         "color": "#AAAAAA",
         "showgrid": false,
         "tickfont": {
          "color": "#444444",
          "size": 12
         },
         "title": {
          "font": {
           "color": "#AAAAAA"
          },
          "text": ""
         }
        }
       }
      },
      "text/html": [
       "<div>                            <div id=\"7c8356d7-2b8d-4328-8a7c-9641d48bfff1\" class=\"plotly-graph-div\" style=\"height:600px; width:800px;\"></div>            <script type=\"text/javascript\">                require([\"plotly\"], function(Plotly) {                    window.PLOTLYENV=window.PLOTLYENV || {};                                    if (document.getElementById(\"7c8356d7-2b8d-4328-8a7c-9641d48bfff1\")) {                    Plotly.newPlot(                        \"7c8356d7-2b8d-4328-8a7c-9641d48bfff1\",                        [{\"hoverinfo\":\"none\",\"marker\":{\"color\":\"lightgray\"},\"name\":\"lightgray\",\"orientation\":\"h\",\"text\":[-0.133,-0.13,-0.05,-0.016],\"textfont\":{\"color\":\"#444444\",\"size\":12},\"textposition\":\"auto\",\"x\":[-0.13335000741626377,-0.13036006262936753,-0.05010501046384823,-0.015816232853672885],\"y\":[\" Define relative rather than<br>absolute file paths\",\" Share both data and<br>code on Github or a<br>similar code-sharing repository\",\" Share data, code, and<br>environment using a hosted service<br>(Kaggle Kernels, Google Colaboratory, Amazon<br>SageMaker, etc.)\",\" Share code on Github<br>or a similar code-sharing repository\"],\"type\":\"bar\"},{\"hoverinfo\":\"none\",\"marker\":{\"color\":\"cornflowerblue\"},\"name\":\"cornflowerblue\",\"orientation\":\"h\",\"text\":[0.024,0.051,0.069,0.069,0.069],\"textfont\":{\"color\":\"#444444\",\"size\":12},\"textposition\":\"auto\",\"x\":[0.023528084903805396,0.0508081111266746,0.06886352615488524,0.06916754068446652,0.06921853879145999],\"y\":[\" Include a text file<br>describing all dependencies\",\" Make sure the code<br>is well documented\",\" Share data, code, and<br>environment using containers (Docker, etc.)\",\" Share code, data, and<br>environment using virtual machines (VirtualBox,<br>etc.)\",\" Define all random seeds\"],\"type\":\"bar\"}],                        {\"height\":600,\"margin\":{\"l\":300},\"showlegend\":false,\"template\":{\"data\":{\"scatter\":[{\"type\":\"scatter\"}]}},\"title\":{\"text\":\"<b> Q49. What tools and methods do you<br>use to make your work easy to reproduce?</b>\"},\"width\":800,\"xaxis\":{\"color\":\"#AAAAAA\",\"showgrid\":false,\"title\":{\"font\":{\"color\":\"#AAAAAA\"},\"text\":\"Model Coefficient\"}},\"yaxis\":{\"color\":\"#AAAAAA\",\"showgrid\":false,\"tickfont\":{\"color\":\"#444444\",\"size\":12},\"title\":{\"font\":{\"color\":\"#AAAAAA\"},\"text\":\"\"}}},                        {\"responsive\": true}                    ).then(function(){\n",
       "                            \n",
       "var gd = document.getElementById('7c8356d7-2b8d-4328-8a7c-9641d48bfff1');\n",
       "var x = new MutationObserver(function (mutations, observer) {{\n",
       "        var display = window.getComputedStyle(gd).display;\n",
       "        if (!display || display === 'none') {{\n",
       "            console.log([gd, 'removed!']);\n",
       "            Plotly.purge(gd);\n",
       "            observer.disconnect();\n",
       "        }}\n",
       "}});\n",
       "\n",
       "// Listen for the removal of the full notebook cells\n",
       "var notebookContainer = gd.closest('#notebook-container');\n",
       "if (notebookContainer) {{\n",
       "    x.observe(notebookContainer, {childList: true});\n",
       "}}\n",
       "\n",
       "// Listen for the clearing of the current output cell\n",
       "var outputEl = gd.closest('.output');\n",
       "if (outputEl) {{\n",
       "    x.observe(outputEl, {childList: true});\n",
       "}}\n",
       "\n",
       "                        })                };                });            </script>        </div>"
      ]
     },
     "metadata": {},
     "output_type": "display_data"
    }
   ],
   "source": [
    "plot_result('Q49')"
   ]
  },
  {
   "cell_type": "markdown",
   "metadata": {
    "_uuid": "b259b9567388b9d3118116a2cb1ec884d27c0df4"
   },
   "source": [
    "Defining random seeds, usage of virtual machines and containers and making sure the code is well documented are all good practices that will probably increase your earnings.\n",
    "\n",
    "---"
   ]
  },
  {
   "cell_type": "markdown",
   "metadata": {
    "_uuid": "dfb3b8298238c76277c2b3e87e8afaa987ebc26a"
   },
   "source": [
    "### By following those ideas, maybe one day we might find ourselves laying down on a pile of money. But unlike Mr. Babineaux, it will be our money. And it will be legal.\n",
    "![](https://media.giphy.com/media/3oKIPm3BynUpUysTHW/giphy.gif)\n"
   ]
  },
  {
   "cell_type": "markdown",
   "metadata": {
    "_uuid": "179a61ecc99e28d17b6e9ac04dff849901f85a01"
   },
   "source": [
    "---\n",
    "# Creating an Online Model to Deploy as a Service at AWS Lambda\n",
    "\n",
    "Next we will create an API that can calculate your score (i.e. your chance of earning more than U$ 100k per year). To do that we are using AWS Lambda and API Gateway. Check out the development below:\n",
    "\n",
    "![Lambda](https://i.imgur.com/pkYNCkm.png)"
   ]
  },
  {
   "cell_type": "markdown",
   "metadata": {
    "_uuid": "9e161c118f84e4232a9651634447f57f73bda7e0"
   },
   "source": [
    "First we will train the model again with fewer questions. We don't want ask to much questions and consequently discourage people to answer the survey."
   ]
  },
  {
   "cell_type": "code",
   "execution_count": null,
   "metadata": {
    "_kg_hide-input": true,
    "_uuid": "34cdb94cee4ea8e0396042a5d871d85b921e880a"
   },
   "outputs": [],
   "source": [
    "### Training the model again with fewer questions\n",
    "# Selecting just the questions we are putting in production\n",
    "selected_questions = [1, 2, 3, 4, 6, 7, 8, 10, 11, 15, 16, 23, 31, 42]\n",
    "treated_data = {}\n",
    "\n",
    "# Let's select answers that had more than 5% of answers\n",
    "for sq in selected_questions:\n",
    "    treated_data['Q{}'.format(sq)] = treat_data(answers['Q{}'.format(sq)], sq, 0.05)\n",
    "    \n",
    "# Done! Now we are able to rebuild a much cleaner dataset!\n",
    "\n",
    "# Define target variable\n",
    "compensation = mcA.Q9.str.replace(',', '').str.replace('500000\\+', '500-500000').str.split('-')\n",
    "mcA['yearly_compensation_numerical'] = compensation.apply(lambda x: (int(x[0]) * 1000 + int(x[1]))/ 2) / 1000 # it is calculated in thousand dollars\n",
    "clean_dataset = (mcA.yearly_compensation_numerical > 100).reset_index().astype(int)\n",
    "clean_dataset.columns = ['index', 'top20']\n",
    "\n",
    "# Join wit treated questions\n",
    "for key, value in treated_data.items():\n",
    "    value = value.reset_index(drop=True)\n",
    "    clean_dataset = clean_dataset.join(value, how='left')\n",
    "\n",
    "clean_dataset = clean_dataset.drop('index', axis=1)\n",
    "# saving back to csv so others may use it\n",
    "clean_dataset.to_csv('production_clean_dataset.csv')"
   ]
  },
  {
   "cell_type": "code",
   "execution_count": null,
   "metadata": {
    "_kg_hide-input": true,
    "_uuid": "94cb289fe60d679c7addf1c7ad1d00d8b971708b"
   },
   "outputs": [],
   "source": [
    "# Create correlation matrix\n",
    "correl = clean_dataset.corr().abs()\n",
    "\n",
    "# Select upper triangle of correlation matrix\n",
    "upper = correl.where(np.triu(np.ones(correl.shape), k=1).astype(np.bool))\n",
    "\n",
    "# Find index of feature columns with correlation greater than 0.5\n",
    "to_drop = [column for column in upper.columns if any(upper[column] > 0.5)]\n",
    "\n",
    "# Drop features \n",
    "clean_dataset_dropped = clean_dataset.drop(to_drop, axis=1)"
   ]
  },
  {
   "cell_type": "code",
   "execution_count": null,
   "metadata": {
    "_kg_hide-input": true,
    "_uuid": "9624946cfc0efb348a9be286e8efdeb86dd18ff3"
   },
   "outputs": [],
   "source": [
    "# splitting train and test data\n",
    "train, test = train_test_split(clean_dataset_dropped, test_size=0.2, random_state=42)\n",
    "ytrain = train['top20'].copy()\n",
    "Xtrain = train.drop(['top20'], axis=1).copy() # removing both target variables from features\n",
    "\n",
    "ytest = test['top20'].copy()\n",
    "Xtest = test.drop(['top20'], axis=1).copy() # removing both target variables from features\n",
    "\n",
    "# undersampling\n",
    "X_resampled, y_resampled = rus.fit_resample(Xtrain, ytrain)"
   ]
  },
  {
   "cell_type": "code",
   "execution_count": null,
   "metadata": {
    "_kg_hide-input": true,
    "_kg_hide-output": true,
    "_uuid": "b14580ef93488367f4cc6021dafcbbb4fb31dedc"
   },
   "outputs": [],
   "source": [
    "# fitting the model\n",
    "lreg = LogisticRegression(solver='liblinear', random_state=42)\n",
    "lreg.fit(X_resampled, y_resampled)\n",
    "\n",
    "# validating on test data\n",
    "display_scores(lreg, Xtest, ytest)"
   ]
  },
  {
   "cell_type": "code",
   "execution_count": null,
   "metadata": {
    "_kg_hide-input": false,
    "_kg_hide-output": false,
    "_uuid": "d828bb2ac77556ce44c54beb5514fcf83e60f9e2"
   },
   "outputs": [],
   "source": [
    "# Calculates the probabilities of belonging to Top20% per range of score based on test data\n",
    "calc_proba(lreg).to_frame()"
   ]
  },
  {
   "cell_type": "markdown",
   "metadata": {
    "_uuid": "a3893667ffa86d1f93c843a69e3615f23edd3225"
   },
   "source": [
    "### How input data will look like\n",
    "We will deploy a web page to collect some answers and send it to our model. We expect it to send us the content by QueryString parameters, after decoding that on AWS API Gateway we have a simple json that looks like this:"
   ]
  },
  {
   "cell_type": "code",
   "execution_count": null,
   "metadata": {
    "_uuid": "e9b290e968041af565e9047fdcb69f2870f38e81"
   },
   "outputs": [],
   "source": [
    "input_json = {\n",
    "    \"Q1\": \"q1_other\",\n",
    "    \"Q2\": \"q2_25_29\",\n",
    "    \"Q3\": \"q3_united_\",\n",
    "    \"Q4\": \"q4_other\",\n",
    "    \"Q6\": \"q6_student\",\n",
    "    \"Q7\": \"q7_other2\",\n",
    "    \"Q8\": \"q8_2_3\",\n",
    "    \"Q10\": \"q10_we_rec\",\n",
    "    \"q11_analyz\": \"on\",\n",
    "    \"q11_run_a_\": \"on\",\n",
    "    \"q11_build_\": \"on\",\n",
    "    \"q15_amazon\": \"on\",\n",
    "    \"other\": \"on\",\n",
    "    \"q16_python\": \"on\",\n",
    "    \"q16_sql\": \"on\",\n",
    "    \"Q23\": \"q23_25_to_\",\n",
    "    \"q31_catego\": \"on\",\n",
    "    \"q31_geospa\": \"on\",\n",
    "    \"q31_numeri\": \"on\",\n",
    "    \"q31_tabula\": \"on\",\n",
    "    \"q31_text_d\": \"on\",\n",
    "    \"q31_time_s\": \"on\",\n",
    "    \"q42_revenu\": \"on\"\n",
    "}"
   ]
  },
  {
   "cell_type": "markdown",
   "metadata": {
    "_uuid": "ccfe4f6de1116ff6ebea3af1afff7dd36cb66a03"
   },
   "source": [
    "To deploy this model we had basically two options:\n",
    "1. Export the model as as serialized object, load into AWS lambda and start making predictions.\n",
    "2. [Parametrize](https://en.wikipedia.org/wiki/Parametrization) the model and load all coefficients and intercept manually to Lambda.\n",
    "\n",
    "I'm choosing the second option because I want the model to be transparent to anyone. It should be clear what the coefficients are and how the score is calculated. A serialized model wouldn't let us see that in detail.\n",
    "\n",
    "#### Parametrization: What the hell is that?\n",
    "A Logistic Regression model can be written like this:\n",
    "\n",
    "```log-odds = b0 + b1x1 + b2x2 + ... + bnxn``` \n",
    "\n",
    "**Where:**\n",
    "* ```b0``` is the intercept\n",
    "* ```b1, b2, bn``` are the coefficients\n",
    "* ```x1, x2, xn``` are the variables\n",
    "\n",
    "We trained our model and got all coefficient's values. So it's just a matter of writing that equation manually. Then to get scores between 0 and 1 we do:\n",
    "\n",
    "```scores = 1 / (1 + exp(-(b0 + b1x1 + b2x2 + ... + bnxn)))```\n",
    "\n",
    "### Treating all model's coefficients to have a single naming convention"
   ]
  },
  {
   "cell_type": "code",
   "execution_count": null,
   "metadata": {
    "_kg_hide-input": true,
    "_uuid": "33591be0a5bd458a9c038599ebce8fa888221eb4"
   },
   "outputs": [],
   "source": [
    "import re\n",
    "# treating the questions to match the input json\n",
    "features = pd.DataFrame([Xtrain.columns, lreg.coef_[0]]).transpose()\n",
    "features.columns = ['feature', 'coefficient']\n",
    "features['answer'] = features.feature\n",
    "features['answer'] = features['answer'].apply(lambda x: re.sub(r\"[^a-zA-Z0-9]+\", ' ', x))\n",
    "features['answer'] = features['answer'].str.replace(' ', '_')\n",
    "features['answer'] = features['answer'].str.lower()\n",
    "features['answer'] = features['answer'].str.replace('_build_and_or_', '_')\n",
    "features['answer'] = features['answer'].str.replace('_metrics_that_consider_', '_')\n",
    "features['answer'] = features['answer'].str[:10]\n",
    "\n",
    "features['question_number'] = features['answer'].str.split('_').str[0]\n",
    "features = features[['question_number', 'answer', 'coefficient']]\n",
    "features.head(3)"
   ]
  },
  {
   "cell_type": "markdown",
   "metadata": {
    "_kg_hide-input": true,
    "_uuid": "9253a595e5ce44864da4f8568850edd471723a37"
   },
   "source": [
    "Then we treat the input json to keep it at the same naming convention."
   ]
  },
  {
   "cell_type": "code",
   "execution_count": null,
   "metadata": {
    "_kg_hide-input": true,
    "_uuid": "2608acf1d338e3d5c385e1fb789446952fa4252e"
   },
   "outputs": [],
   "source": [
    "# treating the input json to keep it in the same format as the coeficcients\n",
    "def treat_input(input_json):\n",
    "    treated = dict()\n",
    "    for key, value in input_json.items():\n",
    "        if key[0] == 'Q':\n",
    "            treated[value] = 1\n",
    "        else:\n",
    "            treated[key] = 1\n",
    "    return treated\n",
    "\n",
    "treated_input_json = treat_input(input_json)\n",
    "print('First 8 elements of the treated input:', dict(list(treated_input_json.items())[0:8]))"
   ]
  },
  {
   "cell_type": "markdown",
   "metadata": {
    "_uuid": "521dabaf11940312b79142cf60db43d9eb6e32f9"
   },
   "source": [
    "### Mapping input to coefficients and calculating the score"
   ]
  },
  {
   "cell_type": "markdown",
   "metadata": {
    "_uuid": "0c4183c87d89b00af3e23a6ead008be18b185416"
   },
   "source": [
    "Now we can map the input json to the coefficients to calculate the points."
   ]
  },
  {
   "cell_type": "code",
   "execution_count": null,
   "metadata": {
    "_kg_hide-input": true,
    "_uuid": "3f2b0d00884bbdb3995ec329112162e4a864d5a2"
   },
   "outputs": [],
   "source": [
    "features['positive'] = features['answer'].map(treated_input_json)\n",
    "features.fillna(0, inplace=True)\n",
    "features['points'] = features.positive * features.coefficient\n",
    "features.head(5)"
   ]
  },
  {
   "cell_type": "markdown",
   "metadata": {
    "_uuid": "c553669af41514fcd901c8c992c95d13c24b0b2f"
   },
   "source": [
    "To get the final score we sum all points, them sum it with the intercept and them normalize to get values between 0 and 1000."
   ]
  },
  {
   "cell_type": "code",
   "execution_count": null,
   "metadata": {
    "_kg_hide-input": true,
    "_uuid": "26ce5af9c5382b0974496c8b918f67ccb5470bca"
   },
   "outputs": [],
   "source": [
    "from math import exp\n",
    "# Creating a function to normalize the scores between 0 and 1000\n",
    "\n",
    "def normalize(points):\n",
    "    \"\"\"\n",
    "    Normalize to get values between 0 and 1000\n",
    "    \"\"\"\n",
    "    return int(1 / (1 + exp(-points)) * 1000)\n",
    "\n",
    "# suming all points + intercept then normalizing between 0 and 1\n",
    "score = features['points'].sum() + lreg.intercept_[0]\n",
    "print('Calculated score is:', normalize(score))"
   ]
  },
  {
   "cell_type": "markdown",
   "metadata": {
    "_uuid": "150eded8ec6e1a74837a1db8e6dbe633fcf728a3"
   },
   "source": [
    "## Implementing the parametrized model as a AWS Lambda Function.\n",
    "To get this model into production, we are creating a Lambda function that receives the input json through an API Gateway Integration, calculates the score and then returns it to the API. You can access the API by doing a simple POST with the input json at the body.\n",
    "\n",
    "[**All code for Lambda are available at this git.**](https://github.com/andresionek91/kaggle-top20-predictor)\n",
    "\n",
    "Instructions on how to deploy a model to AWS lambda were found on this [Towards Data Science post, by Ben Weber](https://towardsdatascience.com/data-science-for-startups-model-services-2facf2dde81d).\n",
    "\n",
    "### Below we test the API using requests\n",
    "Notice that the usage is limited to 1 request/second at this moment.\n"
   ]
  },
  {
   "cell_type": "code",
   "execution_count": null,
   "metadata": {
    "_uuid": "40f11d63c0b34e31589779b5661d8c6a5a5902c6"
   },
   "outputs": [],
   "source": [
    "import requests\n",
    "import json\n",
    "\n",
    "input_json = {\n",
    "    \"Q1\": \"q1_other\",\n",
    "    \"Q2\": \"q2_25_29\",\n",
    "    \"Q3\": \"q3_united_\",\n",
    "    \"Q4\": \"q4_other\",\n",
    "    \"Q6\": \"q6_student\",\n",
    "    \"Q7\": \"q7_other2\",\n",
    "    \"Q8\": \"q8_2_3\",\n",
    "    \"Q10\": \"q10_we_rec\",\n",
    "    \"q11_analyz\": \"on\",\n",
    "    \"q11_run_a_\": \"on\",\n",
    "    \"q11_build_\": \"on\",\n",
    "    \"q15_amazon\": \"on\",\n",
    "    \"other\": \"on\",\n",
    "    \"q16_python\": \"on\",\n",
    "    \"q16_sql\": \"on\",\n",
    "    \"Q23\": \"q23_25_to_\",\n",
    "    \"q31_catego\": \"on\",\n",
    "    \"q31_geospa\": \"on\",\n",
    "    \"q31_numeri\": \"on\",\n",
    "    \"q31_tabula\": \"on\",\n",
    "    \"q31_text_d\": \"on\",\n",
    "    \"q31_time_s\": \"on\",\n",
    "    \"q42_revenu\": \"on\"\n",
    "}\n",
    "\n",
    "treated_input_json = treat_input(input_json)\n",
    "header = {'Content-Type': 'application/x-www-form-urlencoded'}\n",
    "\n",
    "url = 'https://tk9k0fkvyj.execute-api.us-east-2.amazonaws.com/default/top20-predictor'\n",
    "\n",
    "requests.post(url, params=treated_input_json, headers=header).json()"
   ]
  },
  {
   "cell_type": "markdown",
   "metadata": {
    "_uuid": "4f76b1142d4e20e370d8f73081e9273fdfc4ce9c"
   },
   "source": [
    "## Getting the Number of Requests Made to the API\n",
    "Our Lambda function is also saving each input and the resulting score as a json object inside a S3 Bucket. We wrote another lambda function, and an API, to count the number of objects in a bucket."
   ]
  },
  {
   "cell_type": "code",
   "execution_count": null,
   "metadata": {
    "_uuid": "a795bf574159618b004dcfeb0f05cf2f53f8fdc8"
   },
   "outputs": [],
   "source": [
    "# Making a get to our API. It triggers a lambda function that counts the number of objects inside our bucket.\n",
    "url = 'https://wucg3iz2r4.execute-api.us-east-2.amazonaws.com/default/count-kaggle-top20-objects'\n",
    "requests.get(url).json()"
   ]
  },
  {
   "cell_type": "markdown",
   "metadata": {
    "_uuid": "50e0c948f93274433bf75223f2c1b75ae61b3edd"
   },
   "source": [
    "## Creating a Flask App\n",
    "Next we created a Flask App to run our html and collect answers from a form, send it to lambda and show the result to the user. It was deployed using AWS Beanstalk.\n",
    "\n",
    "[More detailed instructions on app deployment are available here](https://medium.com/p/2ece8e66d98c/)\n",
    "\n",
    "[You can access the working app here.](http://www.data-scientist-value.com/)\n",
    "\n",
    "[Or see the git with code to create the Flask App here.](https://github.com/andresionek91/data-scientist-value)"
   ]
  },
  {
   "cell_type": "markdown",
   "metadata": {
    "_uuid": "a99c923ef66e0151fb572bb3d68ba74d53606f62"
   },
   "source": [
    "# Have any question or idea?\n",
    "Please feel free to ask anything and criticize the work. Hope that you find it useful to define your career path."
   ]
  }
 ],
 "metadata": {
  "kernelspec": {
   "display_name": "Python 3 (ipykernel)",
   "language": "python",
   "name": "python3"
  },
  "language_info": {
   "codemirror_mode": {
    "name": "ipython",
    "version": 3
   },
   "file_extension": ".py",
   "mimetype": "text/x-python",
   "name": "python",
   "nbconvert_exporter": "python",
   "pygments_lexer": "ipython3",
   "version": "3.9.7"
  }
 },
 "nbformat": 4,
 "nbformat_minor": 1
}
